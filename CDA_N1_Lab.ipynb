{
  "nbformat": 4,
  "nbformat_minor": 0,
  "metadata": {
    "colab": {
      "name": "CDA_N1_Lab.ipynb",
      "provenance": [],
      "collapsed_sections": [],
      "authorship_tag": "ABX9TyMj1dDeuaPQH72ryeVYT6m3",
      "include_colab_link": true
    },
    "kernelspec": {
      "name": "ir",
      "display_name": "R"
    },
    "language_info": {
      "name": "R"
    }
  },
  "cells": [
    {
      "cell_type": "markdown",
      "metadata": {
        "id": "view-in-github",
        "colab_type": "text"
      },
      "source": [
        "<a href=\"https://colab.research.google.com/github/Rogerio-mack/CDA_2021_2S/blob/main/CDA_N1_Lab.ipynb\" target=\"_parent\"><img src=\"https://colab.research.google.com/assets/colab-badge.svg\" alt=\"Open In Colab\"/></a>"
      ]
    },
    {
      "cell_type": "markdown",
      "metadata": {
        "id": "pqEhMdFQO3A-"
      },
      "source": [
        "<head>\n",
        "  <meta name=\"author\" content=\"Rogério de Oliveira\">\n",
        "  <meta institution=\"author\" content=\"Universidade Presbiteriana Mackenzie\">\n",
        "</head>\n",
        "\n",
        "<img src=\"http://meusite.mackenzie.br/rogerio/mackenzie_logo/UPM.2_horizontal_vermelho.jpg\" width=300, align=\"right\"> \n",
        "<!-- <h1 align=left><font size = 6, style=\"color:rgb(200,0,0)\"> optional title </font></h1> -->\n",
        "\n",
        "<br>\n",
        "<br>\n",
        "<br>\n",
        "<br>\n",
        "<br>\n",
        "\n",
        "# A1 Lab Caso: **Controle de Qualidade de Peças de uma Indústria** \n",
        "---"
      ]
    },
    {
      "cell_type": "markdown",
      "metadata": {
        "id": "ZOkn7SvMHTOp"
      },
      "source": [
        "**pieces** é um data set para o controle de qualidade de peças produzidas por uma indústria. São empregadas quatro medidas (A, B, C e D) para o controle da qualidade das peças. As peças são então *Accept, Refurbish* ou *Reject* segundo o controle de qualidade (atributo `Quality`). A indústria ainda conta com 3 unidades para a produção dessas peças (atributo `Unit`). \n",
        "\n",
        "Seu trabalho é criar modelos supervisionados de classificação para predição da qualidade das peças e empregar o melhor modelo obtido (maior acuracidade) na predição da qualidade de novos casos. Em seguida você empregará um modelo de regressão linear para predição de medidas das peças.\n",
        "\n",
        "**Execute o exercício no Google Colab!**\n",
        "\n",
        "<br>\n",
        "\n",
        "***\n",
        "\n",
        "<br>\n",
        "\n",
        "Empregue os arquivos conforme o final do seu TIA:\n",
        "\n",
        "* TIA final ímpar: Arquivo [\\*] = **1**\n",
        "* TIA final par: Arquivo [\\*] = **2** \n",
        "\n",
        "> Arquivo de Exemplos: http://meusite.mackenzie.br/rogerio/TIC/pieces[*].csv\n",
        "\n",
        "> Arquivo de Novos Casos: http://meusite.mackenzie.br/rogerio/TIC/pieces[*]_new.csv\n",
        "\n",
        "Nos modelos não empregue nenhum parâmetro além dos informados.\n",
        "\n",
        "\n",
        "<br>\n",
        "\n",
        "***\n"
      ]
    },
    {
      "cell_type": "markdown",
      "metadata": {
        "id": "DhqXMyulSJnh"
      },
      "source": [
        "# Q0. Aquisição dos Dados e Imports"
      ]
    },
    {
      "cell_type": "code",
      "metadata": {
        "id": "AHMaS-3meS_W"
      },
      "source": [
        "install.packages('dummies') # hot encode\n",
        "library(dummies)\n",
        "install.packages('class') # knn\n",
        "library(class)\n",
        "install.packages('rpart') # rpart (Árvore de Decisão)\n",
        "library(rpart)"
      ],
      "execution_count": null,
      "outputs": []
    },
    {
      "cell_type": "code",
      "metadata": {
        "colab": {
          "base_uri": "https://localhost:8080/",
          "height": 283
        },
        "id": "74PfZl65lgVo",
        "outputId": "ff9d524f-e9cc-43d9-b042-4bf6eec27763"
      },
      "source": [
        "# seu código\n",
        "\n",
        "df = read.csv('http://meusite.mackenzie.br/rogerio/TIC/pieces ... .csv') # altere o nome conforme seu TIA\n",
        "head(df)"
      ],
      "execution_count": 3,
      "outputs": [
        {
          "output_type": "display_data",
          "data": {
            "text/plain": [
              "  id  A   B   C   D   Quality   Unit\n",
              "1 559 4.9 3.1 1.5 0.1 Reject    SP  \n",
              "2 629 4.8 3.4 1.6 0.2 Reject    SP  \n",
              "3 192 6.7 2.5 5.8 1.8 Refurbish RJ  \n",
              "4 359 7.6 3.0 6.6 2.1 Refurbish RJ  \n",
              "5   9 4.9 3.1 1.5 0.1 Reject    RJ  \n",
              "6 277 7.2 3.6 6.1 2.5 Refurbish SP  "
            ],
            "text/latex": "A data.frame: 6 × 7\n\\begin{tabular}{r|lllllll}\n  & id & A & B & C & D & Quality & Unit\\\\\n  & <int> & <dbl> & <dbl> & <dbl> & <dbl> & <chr> & <chr>\\\\\n\\hline\n\t1 & 559 & 4.9 & 3.1 & 1.5 & 0.1 & Reject    & SP\\\\\n\t2 & 629 & 4.8 & 3.4 & 1.6 & 0.2 & Reject    & SP\\\\\n\t3 & 192 & 6.7 & 2.5 & 5.8 & 1.8 & Refurbish & RJ\\\\\n\t4 & 359 & 7.6 & 3.0 & 6.6 & 2.1 & Refurbish & RJ\\\\\n\t5 &   9 & 4.9 & 3.1 & 1.5 & 0.1 & Reject    & RJ\\\\\n\t6 & 277 & 7.2 & 3.6 & 6.1 & 2.5 & Refurbish & SP\\\\\n\\end{tabular}\n",
            "text/markdown": "\nA data.frame: 6 × 7\n\n| <!--/--> | id &lt;int&gt; | A &lt;dbl&gt; | B &lt;dbl&gt; | C &lt;dbl&gt; | D &lt;dbl&gt; | Quality &lt;chr&gt; | Unit &lt;chr&gt; |\n|---|---|---|---|---|---|---|---|\n| 1 | 559 | 4.9 | 3.1 | 1.5 | 0.1 | Reject    | SP |\n| 2 | 629 | 4.8 | 3.4 | 1.6 | 0.2 | Reject    | SP |\n| 3 | 192 | 6.7 | 2.5 | 5.8 | 1.8 | Refurbish | RJ |\n| 4 | 359 | 7.6 | 3.0 | 6.6 | 2.1 | Refurbish | RJ |\n| 5 |   9 | 4.9 | 3.1 | 1.5 | 0.1 | Reject    | RJ |\n| 6 | 277 | 7.2 | 3.6 | 6.1 | 2.5 | Refurbish | SP |\n\n",
            "text/html": [
              "<table class=\"dataframe\">\n",
              "<caption>A data.frame: 6 × 7</caption>\n",
              "<thead>\n",
              "\t<tr><th></th><th scope=col>id</th><th scope=col>A</th><th scope=col>B</th><th scope=col>C</th><th scope=col>D</th><th scope=col>Quality</th><th scope=col>Unit</th></tr>\n",
              "\t<tr><th></th><th scope=col>&lt;int&gt;</th><th scope=col>&lt;dbl&gt;</th><th scope=col>&lt;dbl&gt;</th><th scope=col>&lt;dbl&gt;</th><th scope=col>&lt;dbl&gt;</th><th scope=col>&lt;chr&gt;</th><th scope=col>&lt;chr&gt;</th></tr>\n",
              "</thead>\n",
              "<tbody>\n",
              "\t<tr><th scope=row>1</th><td>559</td><td>4.9</td><td>3.1</td><td>1.5</td><td>0.1</td><td>Reject   </td><td>SP</td></tr>\n",
              "\t<tr><th scope=row>2</th><td>629</td><td>4.8</td><td>3.4</td><td>1.6</td><td>0.2</td><td>Reject   </td><td>SP</td></tr>\n",
              "\t<tr><th scope=row>3</th><td>192</td><td>6.7</td><td>2.5</td><td>5.8</td><td>1.8</td><td>Refurbish</td><td>RJ</td></tr>\n",
              "\t<tr><th scope=row>4</th><td>359</td><td>7.6</td><td>3.0</td><td>6.6</td><td>2.1</td><td>Refurbish</td><td>RJ</td></tr>\n",
              "\t<tr><th scope=row>5</th><td>  9</td><td>4.9</td><td>3.1</td><td>1.5</td><td>0.1</td><td>Reject   </td><td>RJ</td></tr>\n",
              "\t<tr><th scope=row>6</th><td>277</td><td>7.2</td><td>3.6</td><td>6.1</td><td>2.5</td><td>Refurbish</td><td>SP</td></tr>\n",
              "</tbody>\n",
              "</table>\n"
            ]
          },
          "metadata": {}
        }
      ]
    },
    {
      "cell_type": "markdown",
      "metadata": {
        "id": "GdCBuPmJRnbJ"
      },
      "source": [
        "# Q1. Exploração e Preparação dos Dados\n",
        "\n",
        "1. Explore seu data set.\n",
        "2. Se houverem, elimine atributos que não devem fazer parte do modelo (treinamento).\n",
        "3. Se existirem valores nulos elimine as linhas desses casos.\n",
        "4. Faça o hot encode do atributo categórico `Unit` para o uso nos modelos. Em seguida exclua o atributo `Unit` original. \n",
        "5. NÃO NORMALIZE os dados ou faça outras transformações não solicitadas (troca da ordem de atributos por exemplo).\n",
        "\n",
        "\n",
        "\n"
      ]
    },
    {
      "cell_type": "code",
      "metadata": {
        "id": "KAPoPGk7mRIf"
      },
      "source": [
        "# Seu código"
      ],
      "execution_count": 4,
      "outputs": []
    },
    {
      "cell_type": "markdown",
      "metadata": {
        "id": "RT6oxI5KIp8q"
      },
      "source": [
        "# Q2-Q3. Crie e Avalie os diferentes Modelos de Classificação\n",
        "\n",
        "Crie dois modelos de Classificação, um **Knn, com K=3** e uma **Árvore de Decisão**. Empregue o modelo de maior acurácia para predição dos novos casos. Em todos casos:\n",
        "\n",
        "1. Empregue o `set.seed(1984)` para a geração dos dados de treinamento e teste.\n",
        "2. Crie os conjuntos de treinamento e teste com 1/3 para teste.\n",
        "3. Não empregue outros parâmetros não solicitados nos modelos.\n",
        "4. Empregue em ambos os modelos os mesmos conjuntos de treinamento/teste (não recrie)\n",
        "\n",
        "\n"
      ]
    },
    {
      "cell_type": "markdown",
      "metadata": {
        "id": "kZthZDWCeFc-"
      },
      "source": [
        "## Criação dos Conjuntos de Treinamento e Teste"
      ]
    },
    {
      "cell_type": "code",
      "metadata": {
        "id": "4bPrOL8RUTrc"
      },
      "source": [
        "set.seed(1984)\n",
        "\n",
        "# Seu código"
      ],
      "execution_count": null,
      "outputs": []
    },
    {
      "cell_type": "markdown",
      "metadata": {
        "id": "PvxcV-GnmcrA"
      },
      "source": [
        "## Modelo Knn, k=3"
      ]
    },
    {
      "cell_type": "code",
      "metadata": {
        "id": "AvBeB0a0mcrA"
      },
      "source": [
        "# Seu código"
      ],
      "execution_count": null,
      "outputs": []
    },
    {
      "cell_type": "markdown",
      "metadata": {
        "id": "DIjFRbDWmcrB"
      },
      "source": [
        "## Modelo Árvore de Decisão"
      ]
    },
    {
      "cell_type": "code",
      "metadata": {
        "id": "p1VTlJnnmcrB"
      },
      "source": [
        "# Seu código"
      ],
      "execution_count": null,
      "outputs": []
    },
    {
      "cell_type": "markdown",
      "metadata": {
        "id": "v3qVUWsGmcrB"
      },
      "source": [
        "# Q4. Predição com o Melhor Modelo (Acurácia Geral)"
      ]
    },
    {
      "cell_type": "markdown",
      "metadata": {
        "id": "2cSOYXW1mcrB"
      },
      "source": [
        "## Preparação dos Dados\n",
        "\n",
        "Dica: Hot encode dos dados? Cuidado para se não houver todos os valores nos novos casos."
      ]
    },
    {
      "cell_type": "code",
      "metadata": {
        "id": "pxnRO6HKmcrB"
      },
      "source": [
        "# Seu código"
      ],
      "execution_count": null,
      "outputs": []
    },
    {
      "cell_type": "markdown",
      "metadata": {
        "id": "GO6Tqnw6mcrD"
      },
      "source": [
        "## Predição"
      ]
    },
    {
      "cell_type": "code",
      "metadata": {
        "id": "noMf0vBXmcrD"
      },
      "source": [
        "# Seu código"
      ],
      "execution_count": null,
      "outputs": []
    },
    {
      "cell_type": "markdown",
      "metadata": {
        "id": "v_ccBRDrmcrD"
      },
      "source": [
        "# Q5. Regressão Linear\n",
        "\n",
        "Crie um modelo de Regressão Linear para o Cálculo da medida C das peças com base nas demais medidas. Empregue o modelo para estimar a medida dos C das novas peças."
      ]
    },
    {
      "cell_type": "code",
      "metadata": {
        "id": "fOEHZHSdmcrD"
      },
      "source": [
        "# Seu código\n"
      ],
      "execution_count": null,
      "outputs": []
    },
    {
      "cell_type": "code",
      "metadata": {
        "id": "ZC75XzqumcrE"
      },
      "source": [
        "# Em Python... ?\n",
        "\n"
      ],
      "execution_count": null,
      "outputs": []
    }
  ]
}