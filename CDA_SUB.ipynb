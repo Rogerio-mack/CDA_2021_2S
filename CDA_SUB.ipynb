{
  "nbformat": 4,
  "nbformat_minor": 0,
  "metadata": {
    "colab": {
      "name": "CDA_SUB.ipynb",
      "provenance": [],
      "authorship_tag": "ABX9TyNMd4Uj7JGOHgmuGIXy2d3Q",
      "include_colab_link": true
    },
    "kernelspec": {
      "name": "ir",
      "display_name": "R"
    },
    "language_info": {
      "name": "R"
    }
  },
  "cells": [
    {
      "cell_type": "markdown",
      "metadata": {
        "id": "view-in-github",
        "colab_type": "text"
      },
      "source": [
        "<a href=\"https://colab.research.google.com/github/Rogerio-mack/CDA_2021_2S/blob/main/CDA_SUB.ipynb\" target=\"_parent\"><img src=\"https://colab.research.google.com/assets/colab-badge.svg\" alt=\"Open In Colab\"/></a>"
      ]
    },
    {
      "cell_type": "markdown",
      "metadata": {
        "id": "J3LMBfpeHTwb"
      },
      "source": [
        "<head>\n",
        "  <meta name=\"author\" content=\"Rogério de Oliveira\">\n",
        "  <meta institution=\"author\" content=\"Universidade Presbiteriana Mackenzie\">\n",
        "</head>\n",
        "\n",
        "<img src=\"http://meusite.mackenzie.br/rogerio/mackenzie_logo/UPM.2_horizontal_vermelho.jpg\" width=300, align=\"right\">\n",
        "<!-- <h1 align=left><font size = 6, style=\"color:rgb(200,0,0)\"> optional title </font></h1> -->\n"
      ]
    },
    {
      "cell_type": "markdown",
      "metadata": {
        "id": "Ue2YcVySWe_i"
      },
      "source": [
        "# Avaliação SUB\n",
        "***\n",
        "*Boa prova!*"
      ]
    },
    {
      "cell_type": "markdown",
      "metadata": {
        "id": "TURtr7Ry2eXO"
      },
      "source": [
        "Esta avaliação é composta por 2 exercícios. No primeiro você vai trabalhar modelos de Classificação, no segundo modelos de Clusterização. \n",
        "\n",
        "Entrega:\n",
        "\n",
        "1. Poste um único arquivo  seu código em formato .ipynb e adicione nos comentários da tarefa o link do seu Colab compartilhado (não esqueça de liberar o compartilhamento). **Não há questionário no Moodle para estes exercícios, você deverá postar o seu código!**\n",
        "\n",
        "2. O seu código deve ser completamente executável (não serão avaliados códigos que não executem completamente).\n",
        "\n",
        "3. Seu código deve ser minimamente claro e organizado. **Adicione texto justificando suas escolhas e suas conclusões**. Isso faz parte e será avaliado na atividade.\n",
        "\n",
        "Os **trabalhos são individuais**. Trabalhos semelhantes entre alunos terão a nota dividida pelo número de alunos com trabalhos semelhantes."
      ]
    },
    {
      "cell_type": "markdown",
      "metadata": {
        "id": "m85vjcNl3-TP"
      },
      "source": [
        "# Exercício 1. Case: Risk Classification\n",
        "\n",
        "O objetivo aqui é fazer a classificação do risco dos clientes.\n",
        "\n",
        "1. Empregue ao menos 2 modelos de classificação\n",
        "2. Avalie o melhor, justificando sua escolha\n",
        "3. Empregue o melhor modelo para a predição do risco da cliente Adriana. Ela tem 37 anos, solteira, profissão 1, com casa própria com Checking e Saving Account *little*, buscando um crédito de 5000 para educacao.\n",
        "\n",
        "Lembre-se de verificar a qualidade dos dados (valores ausentes por exemplo), a necessidade de normalizações e encodes, remoção de atributos etc. justificando, nos casos que julgar necessário, as tranformações que você optar por fazer.\n",
        "\n",
        "Ao final não esqueça de escrever um parágrafo com as suas conclusões."
      ]
    },
    {
      "cell_type": "code",
      "metadata": {
        "colab": {
          "base_uri": "https://localhost:8080/",
          "height": 286
        },
        "id": "q1ihqp0RuBRJ",
        "outputId": "dee30913-d5ed-4126-8e80-1cf305e4fbef"
      },
      "source": [
        "df = read.csv('http://meusite.mackenzie.br/rogerio/data_load/credit_data.csv',sep=',')\n",
        "df = df[,-1] # clean index\n",
        "head(df)"
      ],
      "execution_count": 5,
      "outputs": [
        {
          "output_type": "display_data",
          "data": {
            "text/plain": [
              "  Age Sex    Job Housing Saving.accounts Checking.account Credit.amount\n",
              "1 67  male   2   own     NA              little           1169         \n",
              "2 22  female 2   own     little          moderate         5951         \n",
              "3 49  male   1   own     little          NA               2096         \n",
              "4 45  male   2   free    little          little           7882         \n",
              "5 53  male   2   free    little          little           4870         \n",
              "6 35  male   1   free    NA              NA               9055         \n",
              "  Duration Purpose             Risk\n",
              "1  6       radio/TV            good\n",
              "2 48       radio/TV            bad \n",
              "3 12       education           good\n",
              "4 42       furniture/equipment good\n",
              "5 24       car                 bad \n",
              "6 36       education           good"
            ],
            "text/latex": "A data.frame: 6 × 10\n\\begin{tabular}{r|llllllllll}\n  & Age & Sex & Job & Housing & Saving.accounts & Checking.account & Credit.amount & Duration & Purpose & Risk\\\\\n  & <int> & <chr> & <int> & <chr> & <chr> & <chr> & <int> & <int> & <chr> & <chr>\\\\\n\\hline\n\t1 & 67 & male   & 2 & own  & NA     & little   & 1169 &  6 & radio/TV            & good\\\\\n\t2 & 22 & female & 2 & own  & little & moderate & 5951 & 48 & radio/TV            & bad \\\\\n\t3 & 49 & male   & 1 & own  & little & NA       & 2096 & 12 & education           & good\\\\\n\t4 & 45 & male   & 2 & free & little & little   & 7882 & 42 & furniture/equipment & good\\\\\n\t5 & 53 & male   & 2 & free & little & little   & 4870 & 24 & car                 & bad \\\\\n\t6 & 35 & male   & 1 & free & NA     & NA       & 9055 & 36 & education           & good\\\\\n\\end{tabular}\n",
            "text/markdown": "\nA data.frame: 6 × 10\n\n| <!--/--> | Age &lt;int&gt; | Sex &lt;chr&gt; | Job &lt;int&gt; | Housing &lt;chr&gt; | Saving.accounts &lt;chr&gt; | Checking.account &lt;chr&gt; | Credit.amount &lt;int&gt; | Duration &lt;int&gt; | Purpose &lt;chr&gt; | Risk &lt;chr&gt; |\n|---|---|---|---|---|---|---|---|---|---|---|\n| 1 | 67 | male   | 2 | own  | NA     | little   | 1169 |  6 | radio/TV            | good |\n| 2 | 22 | female | 2 | own  | little | moderate | 5951 | 48 | radio/TV            | bad  |\n| 3 | 49 | male   | 1 | own  | little | NA       | 2096 | 12 | education           | good |\n| 4 | 45 | male   | 2 | free | little | little   | 7882 | 42 | furniture/equipment | good |\n| 5 | 53 | male   | 2 | free | little | little   | 4870 | 24 | car                 | bad  |\n| 6 | 35 | male   | 1 | free | NA     | NA       | 9055 | 36 | education           | good |\n\n",
            "text/html": [
              "<table class=\"dataframe\">\n",
              "<caption>A data.frame: 6 × 10</caption>\n",
              "<thead>\n",
              "\t<tr><th></th><th scope=col>Age</th><th scope=col>Sex</th><th scope=col>Job</th><th scope=col>Housing</th><th scope=col>Saving.accounts</th><th scope=col>Checking.account</th><th scope=col>Credit.amount</th><th scope=col>Duration</th><th scope=col>Purpose</th><th scope=col>Risk</th></tr>\n",
              "\t<tr><th></th><th scope=col>&lt;int&gt;</th><th scope=col>&lt;chr&gt;</th><th scope=col>&lt;int&gt;</th><th scope=col>&lt;chr&gt;</th><th scope=col>&lt;chr&gt;</th><th scope=col>&lt;chr&gt;</th><th scope=col>&lt;int&gt;</th><th scope=col>&lt;int&gt;</th><th scope=col>&lt;chr&gt;</th><th scope=col>&lt;chr&gt;</th></tr>\n",
              "</thead>\n",
              "<tbody>\n",
              "\t<tr><th scope=row>1</th><td>67</td><td>male  </td><td>2</td><td>own </td><td>NA    </td><td>little  </td><td>1169</td><td> 6</td><td>radio/TV           </td><td>good</td></tr>\n",
              "\t<tr><th scope=row>2</th><td>22</td><td>female</td><td>2</td><td>own </td><td>little</td><td>moderate</td><td>5951</td><td>48</td><td>radio/TV           </td><td>bad </td></tr>\n",
              "\t<tr><th scope=row>3</th><td>49</td><td>male  </td><td>1</td><td>own </td><td>little</td><td>NA      </td><td>2096</td><td>12</td><td>education          </td><td>good</td></tr>\n",
              "\t<tr><th scope=row>4</th><td>45</td><td>male  </td><td>2</td><td>free</td><td>little</td><td>little  </td><td>7882</td><td>42</td><td>furniture/equipment</td><td>good</td></tr>\n",
              "\t<tr><th scope=row>5</th><td>53</td><td>male  </td><td>2</td><td>free</td><td>little</td><td>little  </td><td>4870</td><td>24</td><td>car                </td><td>bad </td></tr>\n",
              "\t<tr><th scope=row>6</th><td>35</td><td>male  </td><td>1</td><td>free</td><td>NA    </td><td>NA      </td><td>9055</td><td>36</td><td>education          </td><td>good</td></tr>\n",
              "</tbody>\n",
              "</table>\n"
            ]
          },
          "metadata": {}
        }
      ]
    },
    {
      "cell_type": "markdown",
      "metadata": {
        "id": "bolTGKtW5lGG"
      },
      "source": [
        "# Exercício 2. Case: Friends Segmentation\n",
        "\n",
        "O objetivo aqui é fazer a clusterização de usuários de uma rede social.\n",
        "\n",
        "1. Verifique o número de clusters ideal segundo o critério da regra do cotovelo (kmédias) e da regra de silhueta (kmédias e clusterização hierárquica)\n",
        "2. Selecione com base nesses critérios a melhor clusterização (lembre-se de verificar se não existe nenhum grupo muito pequeno, por exemplo, obtendo dois clusters com 29988 e 12 elementos, é preferível buscar uma clusterização do tipo 22000, 8990, 10, em que o 10 é como um *outlier*, mas temos dois grupos úteis)\n",
        "3. Justifique a sua escolha e analise (caracterize) os grupos formados (no que eles se diferenciam?).\n",
        "\n",
        "Lembre-se de verificar a qualidade dos dados (valores ausentes por exemplo), a necessidade de normalizações e encodes, remoção de atributos etc. justificando, nos casos que julgar necessário, as tranformações que você optar por fazer.\n",
        "\n",
        "Ao final não esqueça de escrever um parágrafo com as suas conclusões."
      ]
    },
    {
      "cell_type": "code",
      "metadata": {
        "colab": {
          "base_uri": "https://localhost:8080/",
          "height": 306
        },
        "id": "yaA6s6ddx7nt",
        "outputId": "fcc087f0-e9a8-4928-98cb-8225100864a3"
      },
      "source": [
        "df = read.csv('http://meusite.mackenzie.br/rogerio/data_load/social.csv')\n",
        "head(df)"
      ],
      "execution_count": 6,
      "outputs": [
        {
          "output_type": "display_data",
          "data": {
            "text/plain": [
              "  name                          gradyear gender age    friends basketball\n",
              "1 Q0bcT0yVsaupy2DJ3P8m2owDPIwNL 2006     M      18.982   7     0         \n",
              "2 eeQvCDZZbJPoXTL13FaVgx        2006     F      18.801   0     0         \n",
              "3 oK3Mpwj7SfPnGLHG1V5yQBEOgn    2006     M      18.335  69     0         \n",
              "4 Z76KbVabKtfN2tLGthyk          2006     F      18.875   0     0         \n",
              "5 4Pmrj8MGAOODv4Wmot6htP1       2006            18.995  10     0         \n",
              "6 rR2PUmc8uLtBprg               2006     F          NA 142     0         \n",
              "  football soccer softball volleyball ⋯ blonde mall shopping clothes hollister\n",
              "1 0        0      0        0          ⋯ 0      0    0        0       0        \n",
              "2 1        0      0        0          ⋯ 0      1    0        0       0        \n",
              "3 1        0      0        0          ⋯ 0      0    0        0       0        \n",
              "4 0        0      0        0          ⋯ 0      0    0        0       0        \n",
              "5 0        0      0        0          ⋯ 0      0    2        0       0        \n",
              "6 0        0      0        0          ⋯ 0      0    1        0       0        \n",
              "  abercrombie die death drunk drugs\n",
              "1 0           0   0     0     0    \n",
              "2 0           0   0     0     0    \n",
              "3 0           0   1     0     0    \n",
              "4 0           0   0     0     0    \n",
              "5 0           0   0     1     1    \n",
              "6 0           0   0     1     0    "
            ],
            "text/latex": "A data.frame: 6 × 41\n\\begin{tabular}{r|lllllllllllllllllllll}\n  & name & gradyear & gender & age & friends & basketball & football & soccer & softball & volleyball & ⋯ & blonde & mall & shopping & clothes & hollister & abercrombie & die & death & drunk & drugs\\\\\n  & <chr> & <int> & <chr> & <dbl> & <int> & <int> & <int> & <int> & <int> & <int> & ⋯ & <int> & <int> & <int> & <int> & <int> & <int> & <int> & <int> & <int> & <int>\\\\\n\\hline\n\t1 & Q0bcT0yVsaupy2DJ3P8m2owDPIwNL & 2006 & M & 18.982 &   7 & 0 & 0 & 0 & 0 & 0 & ⋯ & 0 & 0 & 0 & 0 & 0 & 0 & 0 & 0 & 0 & 0\\\\\n\t2 & eeQvCDZZbJPoXTL13FaVgx        & 2006 & F & 18.801 &   0 & 0 & 1 & 0 & 0 & 0 & ⋯ & 0 & 1 & 0 & 0 & 0 & 0 & 0 & 0 & 0 & 0\\\\\n\t3 & oK3Mpwj7SfPnGLHG1V5yQBEOgn    & 2006 & M & 18.335 &  69 & 0 & 1 & 0 & 0 & 0 & ⋯ & 0 & 0 & 0 & 0 & 0 & 0 & 0 & 1 & 0 & 0\\\\\n\t4 & Z76KbVabKtfN2tLGthyk          & 2006 & F & 18.875 &   0 & 0 & 0 & 0 & 0 & 0 & ⋯ & 0 & 0 & 0 & 0 & 0 & 0 & 0 & 0 & 0 & 0\\\\\n\t5 & 4Pmrj8MGAOODv4Wmot6htP1       & 2006 &   & 18.995 &  10 & 0 & 0 & 0 & 0 & 0 & ⋯ & 0 & 0 & 2 & 0 & 0 & 0 & 0 & 0 & 1 & 1\\\\\n\t6 & rR2PUmc8uLtBprg               & 2006 & F &     NA & 142 & 0 & 0 & 0 & 0 & 0 & ⋯ & 0 & 0 & 1 & 0 & 0 & 0 & 0 & 0 & 1 & 0\\\\\n\\end{tabular}\n",
            "text/markdown": "\nA data.frame: 6 × 41\n\n| <!--/--> | name &lt;chr&gt; | gradyear &lt;int&gt; | gender &lt;chr&gt; | age &lt;dbl&gt; | friends &lt;int&gt; | basketball &lt;int&gt; | football &lt;int&gt; | soccer &lt;int&gt; | softball &lt;int&gt; | volleyball &lt;int&gt; | ⋯ ⋯ | blonde &lt;int&gt; | mall &lt;int&gt; | shopping &lt;int&gt; | clothes &lt;int&gt; | hollister &lt;int&gt; | abercrombie &lt;int&gt; | die &lt;int&gt; | death &lt;int&gt; | drunk &lt;int&gt; | drugs &lt;int&gt; |\n|---|---|---|---|---|---|---|---|---|---|---|---|---|---|---|---|---|---|---|---|---|---|\n| 1 | Q0bcT0yVsaupy2DJ3P8m2owDPIwNL | 2006 | M | 18.982 |   7 | 0 | 0 | 0 | 0 | 0 | ⋯ | 0 | 0 | 0 | 0 | 0 | 0 | 0 | 0 | 0 | 0 |\n| 2 | eeQvCDZZbJPoXTL13FaVgx        | 2006 | F | 18.801 |   0 | 0 | 1 | 0 | 0 | 0 | ⋯ | 0 | 1 | 0 | 0 | 0 | 0 | 0 | 0 | 0 | 0 |\n| 3 | oK3Mpwj7SfPnGLHG1V5yQBEOgn    | 2006 | M | 18.335 |  69 | 0 | 1 | 0 | 0 | 0 | ⋯ | 0 | 0 | 0 | 0 | 0 | 0 | 0 | 1 | 0 | 0 |\n| 4 | Z76KbVabKtfN2tLGthyk          | 2006 | F | 18.875 |   0 | 0 | 0 | 0 | 0 | 0 | ⋯ | 0 | 0 | 0 | 0 | 0 | 0 | 0 | 0 | 0 | 0 |\n| 5 | 4Pmrj8MGAOODv4Wmot6htP1       | 2006 | <!----> | 18.995 |  10 | 0 | 0 | 0 | 0 | 0 | ⋯ | 0 | 0 | 2 | 0 | 0 | 0 | 0 | 0 | 1 | 1 |\n| 6 | rR2PUmc8uLtBprg               | 2006 | F |     NA | 142 | 0 | 0 | 0 | 0 | 0 | ⋯ | 0 | 0 | 1 | 0 | 0 | 0 | 0 | 0 | 1 | 0 |\n\n",
            "text/html": [
              "<table class=\"dataframe\">\n",
              "<caption>A data.frame: 6 × 41</caption>\n",
              "<thead>\n",
              "\t<tr><th></th><th scope=col>name</th><th scope=col>gradyear</th><th scope=col>gender</th><th scope=col>age</th><th scope=col>friends</th><th scope=col>basketball</th><th scope=col>football</th><th scope=col>soccer</th><th scope=col>softball</th><th scope=col>volleyball</th><th scope=col>⋯</th><th scope=col>blonde</th><th scope=col>mall</th><th scope=col>shopping</th><th scope=col>clothes</th><th scope=col>hollister</th><th scope=col>abercrombie</th><th scope=col>die</th><th scope=col>death</th><th scope=col>drunk</th><th scope=col>drugs</th></tr>\n",
              "\t<tr><th></th><th scope=col>&lt;chr&gt;</th><th scope=col>&lt;int&gt;</th><th scope=col>&lt;chr&gt;</th><th scope=col>&lt;dbl&gt;</th><th scope=col>&lt;int&gt;</th><th scope=col>&lt;int&gt;</th><th scope=col>&lt;int&gt;</th><th scope=col>&lt;int&gt;</th><th scope=col>&lt;int&gt;</th><th scope=col>&lt;int&gt;</th><th scope=col>⋯</th><th scope=col>&lt;int&gt;</th><th scope=col>&lt;int&gt;</th><th scope=col>&lt;int&gt;</th><th scope=col>&lt;int&gt;</th><th scope=col>&lt;int&gt;</th><th scope=col>&lt;int&gt;</th><th scope=col>&lt;int&gt;</th><th scope=col>&lt;int&gt;</th><th scope=col>&lt;int&gt;</th><th scope=col>&lt;int&gt;</th></tr>\n",
              "</thead>\n",
              "<tbody>\n",
              "\t<tr><th scope=row>1</th><td>Q0bcT0yVsaupy2DJ3P8m2owDPIwNL</td><td>2006</td><td>M</td><td>18.982</td><td>  7</td><td>0</td><td>0</td><td>0</td><td>0</td><td>0</td><td>⋯</td><td>0</td><td>0</td><td>0</td><td>0</td><td>0</td><td>0</td><td>0</td><td>0</td><td>0</td><td>0</td></tr>\n",
              "\t<tr><th scope=row>2</th><td>eeQvCDZZbJPoXTL13FaVgx       </td><td>2006</td><td>F</td><td>18.801</td><td>  0</td><td>0</td><td>1</td><td>0</td><td>0</td><td>0</td><td>⋯</td><td>0</td><td>1</td><td>0</td><td>0</td><td>0</td><td>0</td><td>0</td><td>0</td><td>0</td><td>0</td></tr>\n",
              "\t<tr><th scope=row>3</th><td>oK3Mpwj7SfPnGLHG1V5yQBEOgn   </td><td>2006</td><td>M</td><td>18.335</td><td> 69</td><td>0</td><td>1</td><td>0</td><td>0</td><td>0</td><td>⋯</td><td>0</td><td>0</td><td>0</td><td>0</td><td>0</td><td>0</td><td>0</td><td>1</td><td>0</td><td>0</td></tr>\n",
              "\t<tr><th scope=row>4</th><td>Z76KbVabKtfN2tLGthyk         </td><td>2006</td><td>F</td><td>18.875</td><td>  0</td><td>0</td><td>0</td><td>0</td><td>0</td><td>0</td><td>⋯</td><td>0</td><td>0</td><td>0</td><td>0</td><td>0</td><td>0</td><td>0</td><td>0</td><td>0</td><td>0</td></tr>\n",
              "\t<tr><th scope=row>5</th><td>4Pmrj8MGAOODv4Wmot6htP1      </td><td>2006</td><td> </td><td>18.995</td><td> 10</td><td>0</td><td>0</td><td>0</td><td>0</td><td>0</td><td>⋯</td><td>0</td><td>0</td><td>2</td><td>0</td><td>0</td><td>0</td><td>0</td><td>0</td><td>1</td><td>1</td></tr>\n",
              "\t<tr><th scope=row>6</th><td>rR2PUmc8uLtBprg              </td><td>2006</td><td>F</td><td>    NA</td><td>142</td><td>0</td><td>0</td><td>0</td><td>0</td><td>0</td><td>⋯</td><td>0</td><td>0</td><td>1</td><td>0</td><td>0</td><td>0</td><td>0</td><td>0</td><td>1</td><td>0</td></tr>\n",
              "</tbody>\n",
              "</table>\n"
            ]
          },
          "metadata": {}
        }
      ]
    }
  ]
}