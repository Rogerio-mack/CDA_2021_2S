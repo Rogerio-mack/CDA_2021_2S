{
  "nbformat": 4,
  "nbformat_minor": 0,
  "metadata": {
    "colab": {
      "name": "CDA_knn_kyphosis_exercicio.ipynb",
      "provenance": [],
      "authorship_tag": "ABX9TyOjpYiSpn+i91JEB3c0glKM",
      "include_colab_link": true
    },
    "kernelspec": {
      "name": "ir",
      "display_name": "R"
    },
    "language_info": {
      "name": "R"
    }
  },
  "cells": [
    {
      "cell_type": "markdown",
      "metadata": {
        "id": "view-in-github",
        "colab_type": "text"
      },
      "source": [
        "<a href=\"https://colab.research.google.com/github/Rogerio-mack/CDA_2021_2S/blob/main/CDA_knn_kyphosis_exercicio.ipynb\" target=\"_parent\"><img src=\"https://colab.research.google.com/assets/colab-badge.svg\" alt=\"Open In Colab\"/></a>"
      ]
    },
    {
      "cell_type": "markdown",
      "metadata": {
        "id": "gglUriLmo1sR"
      },
      "source": [
        "<head>\n",
        "  <meta name=\"author\" content=\"Rogério de Oliveira\">\n",
        "  <meta institution=\"author\" content=\"Universidade Presbiteriana Mackenzie\">\n",
        "</head>\n",
        "\n",
        "<img src=\"http://meusite.mackenzie.br/rogerio/mackenzie_logo/UPM.2_horizontal_vermelho.jpg\" width=300, align=\"right\"></a>\n",
        "<!-- <h1 align=left><font size = 6, style=\"color:rgb(200,0,0)\"> optional title </font></h1> -->"
      ]
    },
    {
      "cell_type": "markdown",
      "metadata": {
        "id": "x3RSAcU_o1sU"
      },
      "source": [
        "# Ciência de Dados: Aprendizado Supervisionado, Knn\n",
        "***"
      ]
    },
    {
      "cell_type": "markdown",
      "metadata": {
        "id": "iVV3HNi4yJ9p"
      },
      "source": [
        "## Exemplo: `iris`"
      ]
    },
    {
      "cell_type": "code",
      "metadata": {
        "colab": {
          "base_uri": "https://localhost:8080/"
        },
        "id": "6PXI_Y58wjJX",
        "outputId": "d13e3ad2-27d6-430b-df5c-22c98e2c8703"
      },
      "source": [
        "library(class)\n",
        "set.seed(1984)\n",
        "L = sample(1:nrow(iris),round(nrow(iris)/3))\n",
        "\n",
        "xtrain = iris[-L,1:4]\n",
        "ytrain = iris[-L,5] # Species\n",
        "xtest = iris[L,1:4]\n",
        "\n",
        "# Treinamento e Predição, no Knn ambos juntos\n",
        "fit = knn(xtrain, xtest, ytrain, k = 3, prob=TRUE)\n",
        "# fit = knn(xtrain, xtest, as.factor(ytrain), k = 3, prob=TRUE) # mesmo resultado, mas caso queira forçar factor\n",
        "\n",
        "# Matriz de Confusão\n",
        "c_matrix = table(iris[L,5],fit) # linhas X colunas, ver table(iris[L,5])\n",
        "print(c_matrix)\n",
        "\n",
        "cat(\"Acuracidade: \", sum(diag((c_matrix))/sum(c_matrix))*100,' %') # % Accuracy\n",
        "\n"
      ],
      "execution_count": 54,
      "outputs": [
        {
          "output_type": "stream",
          "name": "stdout",
          "text": [
            "            fit\n",
            "             setosa versicolor virginica\n",
            "  setosa         18          0         0\n",
            "  versicolor      0         16         2\n",
            "  virginica       0          0        14\n",
            "Acuracidade:  96  %"
          ]
        }
      ]
    },
    {
      "cell_type": "markdown",
      "metadata": {
        "id": "i7QNvOslxwBB"
      },
      "source": [
        "# Exercício 1.\n",
        "\n",
        "Empregue o modelo acima para classificar (prever) o conjunto de teste (1/3 dos dados) com o modelo knn, k=3, dos casos de kyphosis. Construa a matriz de confusão e determine a acuracidade total. Empregue o `seed 1984`.\n",
        "\n",
        "Para info sobre o conjunto de dados acesse [aqui](https://www.rdocumentation.org/packages/rpart/versions/4.1-15/topics/kyphosis)"
      ]
    },
    {
      "cell_type": "code",
      "metadata": {
        "colab": {
          "base_uri": "https://localhost:8080/",
          "height": 283
        },
        "id": "SJE-P33uxiIK",
        "outputId": "aaf8e024-300a-4a21-cd5a-09f409f3ca3a"
      },
      "source": [
        "library(rpart)\n",
        "head(kyphosis)"
      ],
      "execution_count": 49,
      "outputs": [
        {
          "output_type": "display_data",
          "data": {
            "text/plain": [
              "  Kyphosis Age Number Start\n",
              "1 absent    71 3       5   \n",
              "2 absent   158 3      14   \n",
              "3 present  128 4       5   \n",
              "4 absent     2 5       1   \n",
              "5 absent     1 4      15   \n",
              "6 absent     1 2      16   "
            ],
            "text/latex": "A data.frame: 6 × 4\n\\begin{tabular}{r|llll}\n  & Kyphosis & Age & Number & Start\\\\\n  & <fct> & <int> & <int> & <int>\\\\\n\\hline\n\t1 & absent  &  71 & 3 &  5\\\\\n\t2 & absent  & 158 & 3 & 14\\\\\n\t3 & present & 128 & 4 &  5\\\\\n\t4 & absent  &   2 & 5 &  1\\\\\n\t5 & absent  &   1 & 4 & 15\\\\\n\t6 & absent  &   1 & 2 & 16\\\\\n\\end{tabular}\n",
            "text/markdown": "\nA data.frame: 6 × 4\n\n| <!--/--> | Kyphosis &lt;fct&gt; | Age &lt;int&gt; | Number &lt;int&gt; | Start &lt;int&gt; |\n|---|---|---|---|---|\n| 1 | absent  |  71 | 3 |  5 |\n| 2 | absent  | 158 | 3 | 14 |\n| 3 | present | 128 | 4 |  5 |\n| 4 | absent  |   2 | 5 |  1 |\n| 5 | absent  |   1 | 4 | 15 |\n| 6 | absent  |   1 | 2 | 16 |\n\n",
            "text/html": [
              "<table class=\"dataframe\">\n",
              "<caption>A data.frame: 6 × 4</caption>\n",
              "<thead>\n",
              "\t<tr><th></th><th scope=col>Kyphosis</th><th scope=col>Age</th><th scope=col>Number</th><th scope=col>Start</th></tr>\n",
              "\t<tr><th></th><th scope=col>&lt;fct&gt;</th><th scope=col>&lt;int&gt;</th><th scope=col>&lt;int&gt;</th><th scope=col>&lt;int&gt;</th></tr>\n",
              "</thead>\n",
              "<tbody>\n",
              "\t<tr><th scope=row>1</th><td>absent </td><td> 71</td><td>3</td><td> 5</td></tr>\n",
              "\t<tr><th scope=row>2</th><td>absent </td><td>158</td><td>3</td><td>14</td></tr>\n",
              "\t<tr><th scope=row>3</th><td>present</td><td>128</td><td>4</td><td> 5</td></tr>\n",
              "\t<tr><th scope=row>4</th><td>absent </td><td>  2</td><td>5</td><td> 1</td></tr>\n",
              "\t<tr><th scope=row>5</th><td>absent </td><td>  1</td><td>4</td><td>15</td></tr>\n",
              "\t<tr><th scope=row>6</th><td>absent </td><td>  1</td><td>2</td><td>16</td></tr>\n",
              "</tbody>\n",
              "</table>\n"
            ]
          },
          "metadata": {}
        }
      ]
    },
    {
      "cell_type": "code",
      "metadata": {
        "id": "1d9eAaVWynyn"
      },
      "source": [
        "set.seed(1984)\n",
        "# Seu código"
      ],
      "execution_count": null,
      "outputs": []
    },
    {
      "cell_type": "markdown",
      "metadata": {
        "id": "vw2uOsoZzl0E"
      },
      "source": [
        "# Exercício 2.\n",
        "\n",
        "Empregue o modelo o código acima para determinar o melhor k para o mesmo conjunto de treinamento e teste. Empregue o `seed 1984`."
      ]
    },
    {
      "cell_type": "code",
      "metadata": {
        "id": "BobkBhI7z2IC"
      },
      "source": [
        "set.seed(1984)\n",
        "# Seu código"
      ],
      "execution_count": null,
      "outputs": []
    },
    {
      "cell_type": "markdown",
      "metadata": {
        "id": "4C0LmZ800vIq"
      },
      "source": [
        "# Exercício 3.\n",
        "\n",
        "Empregue k=3 para obter uma predição de Kyphosis para dois bebês com 128 semanas de idade, um com 5 vertebras envolvidas iniciando pela 5a vértebra, e outro com 1 vértebra envolvidas iniciando pela 8a vértebra. Empregue o `seed 1984`."
      ]
    },
    {
      "cell_type": "code",
      "metadata": {
        "id": "zEJFxMlb4CVi"
      },
      "source": [
        "set.seed(1984)\n",
        "# Seu código"
      ],
      "execution_count": null,
      "outputs": []
    },
    {
      "cell_type": "markdown",
      "metadata": {
        "id": "VBEwgFJA7gV7"
      },
      "source": [
        "# Exercício 4.\n",
        "\n",
        "Para cada k do exercício 2, obtenha uma média da acuracidade para 100 conjuntos de treinamento e teste diferentes. Neste caso não empregue o `seed`. Qual o melhor resultado e sua média? "
      ]
    },
    {
      "cell_type": "code",
      "metadata": {
        "id": "x5lsRMnQ7gWF"
      },
      "source": [
        "set.seed(1984)\n",
        "# Seu código"
      ],
      "execution_count": null,
      "outputs": []
    }
  ]
}