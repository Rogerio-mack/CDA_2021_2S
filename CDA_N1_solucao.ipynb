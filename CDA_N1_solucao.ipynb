{
  "nbformat": 4,
  "nbformat_minor": 0,
  "metadata": {
    "colab": {
      "name": "CDA_N1_solucao.ipynb",
      "provenance": [],
      "collapsed_sections": [],
      "authorship_tag": "ABX9TyPILV5Z1+GtW3/6m0zzLzPg",
      "include_colab_link": true
    },
    "kernelspec": {
      "name": "ir",
      "display_name": "R"
    },
    "language_info": {
      "name": "R"
    }
  },
  "cells": [
    {
      "cell_type": "markdown",
      "metadata": {
        "id": "view-in-github",
        "colab_type": "text"
      },
      "source": [
        "<a href=\"https://colab.research.google.com/github/Rogerio-mack/CDA_2021_2S/blob/main/CDA_N1_solucao.ipynb\" target=\"_parent\"><img src=\"https://colab.research.google.com/assets/colab-badge.svg\" alt=\"Open In Colab\"/></a>"
      ]
    },
    {
      "cell_type": "markdown",
      "metadata": {
        "id": "pqEhMdFQO3A-"
      },
      "source": [
        "<head>\n",
        "  <meta name=\"author\" content=\"Rogério de Oliveira\">\n",
        "  <meta institution=\"author\" content=\"Universidade Presbiteriana Mackenzie\">\n",
        "</head>\n",
        "\n",
        "<img src=\"http://meusite.mackenzie.br/rogerio/mackenzie_logo/UPM.2_horizontal_vermelho.jpg\" width=300, align=\"right\"> \n",
        "<!-- <h1 align=left><font size = 6, style=\"color:rgb(200,0,0)\"> optional title </font></h1> -->\n",
        "\n",
        "<br>\n",
        "<br>\n",
        "<br>\n",
        "<br>\n",
        "<br>\n",
        "\n",
        "# A1 Lab Caso: **Controle de Qualidade de Peças de uma Indústria** \n",
        "---"
      ]
    },
    {
      "cell_type": "markdown",
      "metadata": {
        "id": "ZOkn7SvMHTOp"
      },
      "source": [
        "**pieces** é um data set para o controle de qualidade de peças produzidas por uma indústria. São empregadas quatro medidas (A, B, C e D) para o controle da qualidade das peças. As peças são então *Accept, Refurbish* ou *Reject* segundo o controle de qualidade (atributo `Quality`). A indústria ainda conta com 3 unidades para a produção dessas peças (atributo `Unit`). \n",
        "\n",
        "Seu trabalho é criar modelos supervisionados de classificação para predição da qualidade das peças e empregar o melhor modelo obtido (maior acuracidade) na predição da qualidade de novos casos. Em seguida você empregará um modelo de regressão linear para predição de medidas das peças.\n",
        "\n",
        "**Execute o exercício no Google Colab!**\n",
        "\n",
        "<br>\n",
        "\n",
        "***\n",
        "\n",
        "<br>\n",
        "\n",
        "Empregue os arquivos conforme o final do seu TIA:\n",
        "\n",
        "* TIA final ímpar: Arquivo [\\*] = **1**\n",
        "* TIA final par: Arquivo [\\*] = **2** \n",
        "\n",
        "> Arquivo de Exemplos: http://meusite.mackenzie.br/rogerio/TIC/pieces[*].csv\n",
        "\n",
        "> Arquivo de Novos Casos: http://meusite.mackenzie.br/rogerio/TIC/pieces[*]_new.csv\n",
        "\n",
        "Nos modelos não empregue nenhum parâmetro além dos informados.\n",
        "\n",
        "\n",
        "<br>\n",
        "\n",
        "***\n"
      ]
    },
    {
      "cell_type": "markdown",
      "metadata": {
        "id": "DhqXMyulSJnh"
      },
      "source": [
        "# Q0. Aquisição dos Dados e Imports"
      ]
    },
    {
      "cell_type": "code",
      "metadata": {
        "colab": {
          "base_uri": "https://localhost:8080/"
        },
        "id": "AHMaS-3meS_W",
        "outputId": "ce866ae3-ea43-43bf-fbcf-e8a4cf70346e"
      },
      "source": [
        "install.packages('dummies') # hot encode\n",
        "library(dummies)\n",
        "install.packages('class') # knn\n",
        "library(class)\n",
        "install.packages('rpart') # rpart (Árvore de Decisão)\n",
        "library(rpart)"
      ],
      "execution_count": null,
      "outputs": [
        {
          "output_type": "stream",
          "name": "stderr",
          "text": [
            "Installing package into ‘/usr/local/lib/R/site-library’\n",
            "(as ‘lib’ is unspecified)\n",
            "\n",
            "Installing package into ‘/usr/local/lib/R/site-library’\n",
            "(as ‘lib’ is unspecified)\n",
            "\n",
            "Installing package into ‘/usr/local/lib/R/site-library’\n",
            "(as ‘lib’ is unspecified)\n",
            "\n"
          ]
        }
      ]
    },
    {
      "cell_type": "code",
      "metadata": {
        "id": "9ViawkW2UJoi",
        "colab": {
          "base_uri": "https://localhost:8080/"
        },
        "outputId": "83030bdb-7b12-46a9-8761-0ef0836a0544"
      },
      "source": [
        "f = readline('Entre com o file number (1,2,3,4 ou 5): ')"
      ],
      "execution_count": null,
      "outputs": [
        {
          "name": "stdout",
          "output_type": "stream",
          "text": [
            "Entre com o file number (1,2,3,4 ou 5): 1\n"
          ]
        }
      ]
    },
    {
      "cell_type": "code",
      "metadata": {
        "id": "iY3TLR1KyRz8",
        "colab": {
          "base_uri": "https://localhost:8080/",
          "height": 283
        },
        "outputId": "ae1b1253-9001-49a1-9347-7cc29262f16a"
      },
      "source": [
        "arquivo = paste0('http://meusite.mackenzie.br/rogerio/TIC/pieces',f,'.csv')\n",
        "df = read.csv(arquivo)\n",
        "head(df)"
      ],
      "execution_count": null,
      "outputs": [
        {
          "output_type": "display_data",
          "data": {
            "text/plain": [
              "  id  A   B   C   D   Quality   Unit\n",
              "1 559 4.9 3.1 1.5 0.1 Reject    SP  \n",
              "2 629 4.8 3.4 1.6 0.2 Reject    SP  \n",
              "3 192 6.7 2.5 5.8 1.8 Refurbish RJ  \n",
              "4 359 7.6 3.0 6.6 2.1 Refurbish RJ  \n",
              "5   9 4.9 3.1 1.5 0.1 Reject    RJ  \n",
              "6 277 7.2 3.6 6.1 2.5 Refurbish SP  "
            ],
            "text/latex": "A data.frame: 6 × 7\n\\begin{tabular}{r|lllllll}\n  & id & A & B & C & D & Quality & Unit\\\\\n  & <int> & <dbl> & <dbl> & <dbl> & <dbl> & <chr> & <chr>\\\\\n\\hline\n\t1 & 559 & 4.9 & 3.1 & 1.5 & 0.1 & Reject    & SP\\\\\n\t2 & 629 & 4.8 & 3.4 & 1.6 & 0.2 & Reject    & SP\\\\\n\t3 & 192 & 6.7 & 2.5 & 5.8 & 1.8 & Refurbish & RJ\\\\\n\t4 & 359 & 7.6 & 3.0 & 6.6 & 2.1 & Refurbish & RJ\\\\\n\t5 &   9 & 4.9 & 3.1 & 1.5 & 0.1 & Reject    & RJ\\\\\n\t6 & 277 & 7.2 & 3.6 & 6.1 & 2.5 & Refurbish & SP\\\\\n\\end{tabular}\n",
            "text/markdown": "\nA data.frame: 6 × 7\n\n| <!--/--> | id &lt;int&gt; | A &lt;dbl&gt; | B &lt;dbl&gt; | C &lt;dbl&gt; | D &lt;dbl&gt; | Quality &lt;chr&gt; | Unit &lt;chr&gt; |\n|---|---|---|---|---|---|---|---|\n| 1 | 559 | 4.9 | 3.1 | 1.5 | 0.1 | Reject    | SP |\n| 2 | 629 | 4.8 | 3.4 | 1.6 | 0.2 | Reject    | SP |\n| 3 | 192 | 6.7 | 2.5 | 5.8 | 1.8 | Refurbish | RJ |\n| 4 | 359 | 7.6 | 3.0 | 6.6 | 2.1 | Refurbish | RJ |\n| 5 |   9 | 4.9 | 3.1 | 1.5 | 0.1 | Reject    | RJ |\n| 6 | 277 | 7.2 | 3.6 | 6.1 | 2.5 | Refurbish | SP |\n\n",
            "text/html": [
              "<table class=\"dataframe\">\n",
              "<caption>A data.frame: 6 × 7</caption>\n",
              "<thead>\n",
              "\t<tr><th></th><th scope=col>id</th><th scope=col>A</th><th scope=col>B</th><th scope=col>C</th><th scope=col>D</th><th scope=col>Quality</th><th scope=col>Unit</th></tr>\n",
              "\t<tr><th></th><th scope=col>&lt;int&gt;</th><th scope=col>&lt;dbl&gt;</th><th scope=col>&lt;dbl&gt;</th><th scope=col>&lt;dbl&gt;</th><th scope=col>&lt;dbl&gt;</th><th scope=col>&lt;chr&gt;</th><th scope=col>&lt;chr&gt;</th></tr>\n",
              "</thead>\n",
              "<tbody>\n",
              "\t<tr><th scope=row>1</th><td>559</td><td>4.9</td><td>3.1</td><td>1.5</td><td>0.1</td><td>Reject   </td><td>SP</td></tr>\n",
              "\t<tr><th scope=row>2</th><td>629</td><td>4.8</td><td>3.4</td><td>1.6</td><td>0.2</td><td>Reject   </td><td>SP</td></tr>\n",
              "\t<tr><th scope=row>3</th><td>192</td><td>6.7</td><td>2.5</td><td>5.8</td><td>1.8</td><td>Refurbish</td><td>RJ</td></tr>\n",
              "\t<tr><th scope=row>4</th><td>359</td><td>7.6</td><td>3.0</td><td>6.6</td><td>2.1</td><td>Refurbish</td><td>RJ</td></tr>\n",
              "\t<tr><th scope=row>5</th><td>  9</td><td>4.9</td><td>3.1</td><td>1.5</td><td>0.1</td><td>Reject   </td><td>RJ</td></tr>\n",
              "\t<tr><th scope=row>6</th><td>277</td><td>7.2</td><td>3.6</td><td>6.1</td><td>2.5</td><td>Refurbish</td><td>SP</td></tr>\n",
              "</tbody>\n",
              "</table>\n"
            ]
          },
          "metadata": {}
        }
      ]
    },
    {
      "cell_type": "markdown",
      "metadata": {
        "id": "GdCBuPmJRnbJ"
      },
      "source": [
        "# Q1. Exploração e Preparação dos Dados\n",
        "\n",
        "1. Explore seu data set.\n",
        "2. Se houverem, elimine atributos que não devem fazer parte do modelo (treinamento).\n",
        "3. Se existirem valores nulos elimine as linhas desses casos.\n",
        "4. Faça o hot encode do atributo categórico `Unit` para o uso nos modelos. Em seguida exclua o atributo `Unit` original. \n",
        "5. NÃO NORMALIZE os dados ou faça outras transformações não solicitadas (troca da ordem de atributos por exemplo).\n",
        "\n",
        "\n",
        "\n"
      ]
    },
    {
      "cell_type": "code",
      "metadata": {
        "id": "iYEySGnKIJNI",
        "colab": {
          "base_uri": "https://localhost:8080/",
          "height": 283
        },
        "outputId": "8bfb1896-af6b-4551-e688-5983ba3f8dca"
      },
      "source": [
        "df = df[ , -1 ]\n",
        "head(df)"
      ],
      "execution_count": null,
      "outputs": [
        {
          "output_type": "display_data",
          "data": {
            "text/plain": [
              "  A   B   C   D   Quality   Unit\n",
              "1 4.9 3.1 1.5 0.1 Reject    SP  \n",
              "2 4.8 3.4 1.6 0.2 Reject    SP  \n",
              "3 6.7 2.5 5.8 1.8 Refurbish RJ  \n",
              "4 7.6 3.0 6.6 2.1 Refurbish RJ  \n",
              "5 4.9 3.1 1.5 0.1 Reject    RJ  \n",
              "6 7.2 3.6 6.1 2.5 Refurbish SP  "
            ],
            "text/latex": "A data.frame: 6 × 6\n\\begin{tabular}{r|llllll}\n  & A & B & C & D & Quality & Unit\\\\\n  & <dbl> & <dbl> & <dbl> & <dbl> & <chr> & <chr>\\\\\n\\hline\n\t1 & 4.9 & 3.1 & 1.5 & 0.1 & Reject    & SP\\\\\n\t2 & 4.8 & 3.4 & 1.6 & 0.2 & Reject    & SP\\\\\n\t3 & 6.7 & 2.5 & 5.8 & 1.8 & Refurbish & RJ\\\\\n\t4 & 7.6 & 3.0 & 6.6 & 2.1 & Refurbish & RJ\\\\\n\t5 & 4.9 & 3.1 & 1.5 & 0.1 & Reject    & RJ\\\\\n\t6 & 7.2 & 3.6 & 6.1 & 2.5 & Refurbish & SP\\\\\n\\end{tabular}\n",
            "text/markdown": "\nA data.frame: 6 × 6\n\n| <!--/--> | A &lt;dbl&gt; | B &lt;dbl&gt; | C &lt;dbl&gt; | D &lt;dbl&gt; | Quality &lt;chr&gt; | Unit &lt;chr&gt; |\n|---|---|---|---|---|---|---|\n| 1 | 4.9 | 3.1 | 1.5 | 0.1 | Reject    | SP |\n| 2 | 4.8 | 3.4 | 1.6 | 0.2 | Reject    | SP |\n| 3 | 6.7 | 2.5 | 5.8 | 1.8 | Refurbish | RJ |\n| 4 | 7.6 | 3.0 | 6.6 | 2.1 | Refurbish | RJ |\n| 5 | 4.9 | 3.1 | 1.5 | 0.1 | Reject    | RJ |\n| 6 | 7.2 | 3.6 | 6.1 | 2.5 | Refurbish | SP |\n\n",
            "text/html": [
              "<table class=\"dataframe\">\n",
              "<caption>A data.frame: 6 × 6</caption>\n",
              "<thead>\n",
              "\t<tr><th></th><th scope=col>A</th><th scope=col>B</th><th scope=col>C</th><th scope=col>D</th><th scope=col>Quality</th><th scope=col>Unit</th></tr>\n",
              "\t<tr><th></th><th scope=col>&lt;dbl&gt;</th><th scope=col>&lt;dbl&gt;</th><th scope=col>&lt;dbl&gt;</th><th scope=col>&lt;dbl&gt;</th><th scope=col>&lt;chr&gt;</th><th scope=col>&lt;chr&gt;</th></tr>\n",
              "</thead>\n",
              "<tbody>\n",
              "\t<tr><th scope=row>1</th><td>4.9</td><td>3.1</td><td>1.5</td><td>0.1</td><td>Reject   </td><td>SP</td></tr>\n",
              "\t<tr><th scope=row>2</th><td>4.8</td><td>3.4</td><td>1.6</td><td>0.2</td><td>Reject   </td><td>SP</td></tr>\n",
              "\t<tr><th scope=row>3</th><td>6.7</td><td>2.5</td><td>5.8</td><td>1.8</td><td>Refurbish</td><td>RJ</td></tr>\n",
              "\t<tr><th scope=row>4</th><td>7.6</td><td>3.0</td><td>6.6</td><td>2.1</td><td>Refurbish</td><td>RJ</td></tr>\n",
              "\t<tr><th scope=row>5</th><td>4.9</td><td>3.1</td><td>1.5</td><td>0.1</td><td>Reject   </td><td>RJ</td></tr>\n",
              "\t<tr><th scope=row>6</th><td>7.2</td><td>3.6</td><td>6.1</td><td>2.5</td><td>Refurbish</td><td>SP</td></tr>\n",
              "</tbody>\n",
              "</table>\n"
            ]
          },
          "metadata": {}
        }
      ]
    },
    {
      "cell_type": "code",
      "metadata": {
        "id": "Ve1-6f4uM3bg",
        "colab": {
          "base_uri": "https://localhost:8080/",
          "height": 34
        },
        "outputId": "6d659727-7edd-40d8-cc2b-62c675ea9b1e"
      },
      "source": [
        "sum(is.na(df))"
      ],
      "execution_count": null,
      "outputs": [
        {
          "output_type": "display_data",
          "data": {
            "text/plain": [
              "[1] 19"
            ],
            "text/latex": "19",
            "text/markdown": "19",
            "text/html": [
              "19"
            ]
          },
          "metadata": {}
        }
      ]
    },
    {
      "cell_type": "code",
      "metadata": {
        "id": "VNZoIDzbXc2C"
      },
      "source": [
        "df = na.omit(df)"
      ],
      "execution_count": null,
      "outputs": []
    },
    {
      "cell_type": "code",
      "metadata": {
        "id": "eF278_gtW0-C",
        "colab": {
          "base_uri": "https://localhost:8080/",
          "height": 252
        },
        "outputId": "714ea87c-be18-499a-f3b1-8ffb4f2e08d8"
      },
      "source": [
        "arquivo = paste0('http://meusite.mackenzie.br/rogerio/TIC/pieces',f,'_new.csv')\n",
        "X_new = read.csv(arquivo)\n",
        "X_new\n"
      ],
      "execution_count": null,
      "outputs": [
        {
          "output_type": "display_data",
          "data": {
            "text/plain": [
              "  A   B   C   D   Unit\n",
              "1 6.3 3.4 5.6 2.4 SP  \n",
              "2 6.7 2.5 5.8 1.8 RJ  \n",
              "3 5.2 4.1 1.5 0.1 BH  \n",
              "4 6.1 2.9 4.7 1.4 SP  \n",
              "5 4.8 3.4 1.9 0.2 BH  "
            ],
            "text/latex": "A data.frame: 5 × 5\n\\begin{tabular}{lllll}\n A & B & C & D & Unit\\\\\n <dbl> & <dbl> & <dbl> & <dbl> & <chr>\\\\\n\\hline\n\t 6.3 & 3.4 & 5.6 & 2.4 & SP\\\\\n\t 6.7 & 2.5 & 5.8 & 1.8 & RJ\\\\\n\t 5.2 & 4.1 & 1.5 & 0.1 & BH\\\\\n\t 6.1 & 2.9 & 4.7 & 1.4 & SP\\\\\n\t 4.8 & 3.4 & 1.9 & 0.2 & BH\\\\\n\\end{tabular}\n",
            "text/markdown": "\nA data.frame: 5 × 5\n\n| A &lt;dbl&gt; | B &lt;dbl&gt; | C &lt;dbl&gt; | D &lt;dbl&gt; | Unit &lt;chr&gt; |\n|---|---|---|---|---|\n| 6.3 | 3.4 | 5.6 | 2.4 | SP |\n| 6.7 | 2.5 | 5.8 | 1.8 | RJ |\n| 5.2 | 4.1 | 1.5 | 0.1 | BH |\n| 6.1 | 2.9 | 4.7 | 1.4 | SP |\n| 4.8 | 3.4 | 1.9 | 0.2 | BH |\n\n",
            "text/html": [
              "<table class=\"dataframe\">\n",
              "<caption>A data.frame: 5 × 5</caption>\n",
              "<thead>\n",
              "\t<tr><th scope=col>A</th><th scope=col>B</th><th scope=col>C</th><th scope=col>D</th><th scope=col>Unit</th></tr>\n",
              "\t<tr><th scope=col>&lt;dbl&gt;</th><th scope=col>&lt;dbl&gt;</th><th scope=col>&lt;dbl&gt;</th><th scope=col>&lt;dbl&gt;</th><th scope=col>&lt;chr&gt;</th></tr>\n",
              "</thead>\n",
              "<tbody>\n",
              "\t<tr><td>6.3</td><td>3.4</td><td>5.6</td><td>2.4</td><td>SP</td></tr>\n",
              "\t<tr><td>6.7</td><td>2.5</td><td>5.8</td><td>1.8</td><td>RJ</td></tr>\n",
              "\t<tr><td>5.2</td><td>4.1</td><td>1.5</td><td>0.1</td><td>BH</td></tr>\n",
              "\t<tr><td>6.1</td><td>2.9</td><td>4.7</td><td>1.4</td><td>SP</td></tr>\n",
              "\t<tr><td>4.8</td><td>3.4</td><td>1.9</td><td>0.2</td><td>BH</td></tr>\n",
              "</tbody>\n",
              "</table>\n"
            ]
          },
          "metadata": {}
        }
      ]
    },
    {
      "cell_type": "code",
      "metadata": {
        "colab": {
          "base_uri": "https://localhost:8080/",
          "height": 317
        },
        "id": "yXfgRyl2TOc6",
        "outputId": "aea04a19-7b23-47b7-a36c-34ea1cf5812f"
      },
      "source": [
        "df = dummy.data.frame('Unit',data=df,sep='_',drop=TRUE)\n",
        "head(df)"
      ],
      "execution_count": null,
      "outputs": [
        {
          "output_type": "stream",
          "name": "stderr",
          "text": [
            "Warning message in model.matrix.default(~x - 1, model.frame(~x - 1), contrasts = FALSE):\n",
            "“non-list contrasts argument ignored”\n"
          ]
        },
        {
          "output_type": "display_data",
          "data": {
            "text/plain": [
              "  A   B   C   D   Quality   Unit_BH Unit_RJ Unit_SP\n",
              "1 4.9 3.1 1.5 0.1 Reject    0       0       1      \n",
              "2 4.8 3.4 1.6 0.2 Reject    0       0       1      \n",
              "3 6.7 2.5 5.8 1.8 Refurbish 0       1       0      \n",
              "4 7.6 3.0 6.6 2.1 Refurbish 0       1       0      \n",
              "5 4.9 3.1 1.5 0.1 Reject    0       1       0      \n",
              "6 7.2 3.6 6.1 2.5 Refurbish 0       0       1      "
            ],
            "text/latex": "A data.frame: 6 × 8\n\\begin{tabular}{r|llllllll}\n  & A & B & C & D & Quality & Unit\\_BH & Unit\\_RJ & Unit\\_SP\\\\\n  & <dbl> & <dbl> & <dbl> & <dbl> & <chr> & <int> & <int> & <int>\\\\\n\\hline\n\t1 & 4.9 & 3.1 & 1.5 & 0.1 & Reject    & 0 & 0 & 1\\\\\n\t2 & 4.8 & 3.4 & 1.6 & 0.2 & Reject    & 0 & 0 & 1\\\\\n\t3 & 6.7 & 2.5 & 5.8 & 1.8 & Refurbish & 0 & 1 & 0\\\\\n\t4 & 7.6 & 3.0 & 6.6 & 2.1 & Refurbish & 0 & 1 & 0\\\\\n\t5 & 4.9 & 3.1 & 1.5 & 0.1 & Reject    & 0 & 1 & 0\\\\\n\t6 & 7.2 & 3.6 & 6.1 & 2.5 & Refurbish & 0 & 0 & 1\\\\\n\\end{tabular}\n",
            "text/markdown": "\nA data.frame: 6 × 8\n\n| <!--/--> | A &lt;dbl&gt; | B &lt;dbl&gt; | C &lt;dbl&gt; | D &lt;dbl&gt; | Quality &lt;chr&gt; | Unit_BH &lt;int&gt; | Unit_RJ &lt;int&gt; | Unit_SP &lt;int&gt; |\n|---|---|---|---|---|---|---|---|---|\n| 1 | 4.9 | 3.1 | 1.5 | 0.1 | Reject    | 0 | 0 | 1 |\n| 2 | 4.8 | 3.4 | 1.6 | 0.2 | Reject    | 0 | 0 | 1 |\n| 3 | 6.7 | 2.5 | 5.8 | 1.8 | Refurbish | 0 | 1 | 0 |\n| 4 | 7.6 | 3.0 | 6.6 | 2.1 | Refurbish | 0 | 1 | 0 |\n| 5 | 4.9 | 3.1 | 1.5 | 0.1 | Reject    | 0 | 1 | 0 |\n| 6 | 7.2 | 3.6 | 6.1 | 2.5 | Refurbish | 0 | 0 | 1 |\n\n",
            "text/html": [
              "<table class=\"dataframe\">\n",
              "<caption>A data.frame: 6 × 8</caption>\n",
              "<thead>\n",
              "\t<tr><th></th><th scope=col>A</th><th scope=col>B</th><th scope=col>C</th><th scope=col>D</th><th scope=col>Quality</th><th scope=col>Unit_BH</th><th scope=col>Unit_RJ</th><th scope=col>Unit_SP</th></tr>\n",
              "\t<tr><th></th><th scope=col>&lt;dbl&gt;</th><th scope=col>&lt;dbl&gt;</th><th scope=col>&lt;dbl&gt;</th><th scope=col>&lt;dbl&gt;</th><th scope=col>&lt;chr&gt;</th><th scope=col>&lt;int&gt;</th><th scope=col>&lt;int&gt;</th><th scope=col>&lt;int&gt;</th></tr>\n",
              "</thead>\n",
              "<tbody>\n",
              "\t<tr><th scope=row>1</th><td>4.9</td><td>3.1</td><td>1.5</td><td>0.1</td><td>Reject   </td><td>0</td><td>0</td><td>1</td></tr>\n",
              "\t<tr><th scope=row>2</th><td>4.8</td><td>3.4</td><td>1.6</td><td>0.2</td><td>Reject   </td><td>0</td><td>0</td><td>1</td></tr>\n",
              "\t<tr><th scope=row>3</th><td>6.7</td><td>2.5</td><td>5.8</td><td>1.8</td><td>Refurbish</td><td>0</td><td>1</td><td>0</td></tr>\n",
              "\t<tr><th scope=row>4</th><td>7.6</td><td>3.0</td><td>6.6</td><td>2.1</td><td>Refurbish</td><td>0</td><td>1</td><td>0</td></tr>\n",
              "\t<tr><th scope=row>5</th><td>4.9</td><td>3.1</td><td>1.5</td><td>0.1</td><td>Reject   </td><td>0</td><td>1</td><td>0</td></tr>\n",
              "\t<tr><th scope=row>6</th><td>7.2</td><td>3.6</td><td>6.1</td><td>2.5</td><td>Refurbish</td><td>0</td><td>0</td><td>1</td></tr>\n",
              "</tbody>\n",
              "</table>\n"
            ]
          },
          "metadata": {}
        }
      ]
    },
    {
      "cell_type": "code",
      "metadata": {
        "id": "kufV8m77TT_5",
        "colab": {
          "base_uri": "https://localhost:8080/"
        },
        "outputId": "94ba20e2-a386-455f-bbd8-26752410be0a"
      },
      "source": [
        "cat('Nr de linhas e colunas após as transformações: ', nrow(df), ncol(df))"
      ],
      "execution_count": null,
      "outputs": [
        {
          "output_type": "stream",
          "name": "stdout",
          "text": [
            "Nr de linhas e colunas após as transformações:  481 8"
          ]
        }
      ]
    },
    {
      "cell_type": "code",
      "metadata": {
        "id": "2G8YonR7YYn6",
        "colab": {
          "base_uri": "https://localhost:8080/",
          "height": 85
        },
        "outputId": "2b246086-4609-4e30-ac0b-8727c782b7a4"
      },
      "source": [
        "cat('Frequencias do atributo Quality:\\n')\n",
        "table(df$Quality)"
      ],
      "execution_count": null,
      "outputs": [
        {
          "output_type": "stream",
          "name": "stdout",
          "text": [
            "Frequencias do atributo Quality:\n"
          ]
        },
        {
          "output_type": "display_data",
          "data": {
            "text/plain": [
              "\n",
              "   Accept Refurbish    Reject \n",
              "      149       176       156 "
            ]
          },
          "metadata": {}
        }
      ]
    },
    {
      "cell_type": "markdown",
      "metadata": {
        "id": "RT6oxI5KIp8q"
      },
      "source": [
        "# Q2-Q3. Crie e Avalie os diferentes Modelos de Classificação\n",
        "\n",
        "Crie dois modelos de Classificação, um **Knn, com K=3** e uma **Árvore de Decisão**. Empregue o modelo de maior acurácia para predição dos novos casos. Em todos casos:\n",
        "\n",
        "1. Empregue o `set.seed(1984)` para a geração dos dados de treinamento e teste.\n",
        "2. Crie os conjuntos de treinamento e teste com 1/3 para teste.\n",
        "3. Não empregue outros parâmetros não solicitados nos modelos.\n",
        "4. Empregue em ambos os modelos os mesmos conjuntos de treinamento/teste (não recrie)\n",
        "\n",
        "\n"
      ]
    },
    {
      "cell_type": "markdown",
      "metadata": {
        "id": "kZthZDWCeFc-"
      },
      "source": [
        "## Criação dos Conjuntos de Treinamento e Teste"
      ]
    },
    {
      "cell_type": "code",
      "metadata": {
        "colab": {
          "base_uri": "https://localhost:8080/"
        },
        "id": "4bPrOL8RUTrc",
        "outputId": "f97340b6-bd70-482e-edfd-4513602de2f8"
      },
      "source": [
        "set.seed(1984)\n",
        "\n",
        "L = sample( 1: nrow(df), round(nrow(df)/3) )\n",
        "X_test = df[ L , -c(5) ]\n",
        "y_test = df[ L , c('Quality') ]\n",
        "X_train = df[ -L , -c(5) ]\n",
        "y_train = df[ -L , c('Quality') ]\n",
        "\n",
        "print(head(X_train))\n",
        "print(head(y_train))"
      ],
      "execution_count": null,
      "outputs": [
        {
          "output_type": "stream",
          "name": "stdout",
          "text": [
            "    A   B   C   D Unit_BH Unit_RJ Unit_SP\n",
            "1 4.9 3.1 1.5 0.1       0       0       1\n",
            "2 4.8 3.4 1.6 0.2       0       0       1\n",
            "3 6.7 2.5 5.8 1.8       0       1       0\n",
            "4 7.6 3.0 6.6 2.1       0       1       0\n",
            "6 7.2 3.6 6.1 2.5       0       0       1\n",
            "7 6.6 2.9 4.6 1.3       0       0       1\n",
            "[1] \"Reject\"    \"Reject\"    \"Refurbish\" \"Refurbish\" \"Refurbish\" \"Accept\"   \n"
          ]
        }
      ]
    },
    {
      "cell_type": "markdown",
      "metadata": {
        "id": "I0YzRte6ep7W"
      },
      "source": [
        "## Modelo Knn, k=3"
      ]
    },
    {
      "cell_type": "code",
      "metadata": {
        "colab": {
          "base_uri": "https://localhost:8080/"
        },
        "id": "quUd1jpjNreE",
        "outputId": "e455e292-5a19-4a96-e2b5-f5810a823125"
      },
      "source": [
        "y_pred = knn(X_train, X_test, y_train, k = 3)\n",
        "cm = table(y_test, y_pred)\n",
        "print(cm)\n",
        "cat( \"Acuracidade do modelo knn (k=3): \", sum(diag(cm))/sum(cm))"
      ],
      "execution_count": null,
      "outputs": [
        {
          "output_type": "stream",
          "name": "stdout",
          "text": [
            "           y_pred\n",
            "y_test      Accept Refurbish Reject\n",
            "  Accept        43         7      0\n",
            "  Refurbish      1        58      0\n",
            "  Reject         0         0     51\n",
            "Acuracidade do modelo knn (k=3):  0.95"
          ]
        }
      ]
    },
    {
      "cell_type": "markdown",
      "metadata": {
        "id": "EkVuaMQbewju"
      },
      "source": [
        "## Modelo Árvore de Decisão"
      ]
    },
    {
      "cell_type": "code",
      "metadata": {
        "colab": {
          "base_uri": "https://localhost:8080/"
        },
        "id": "aUA6CsWHWFAO",
        "outputId": "7f38204a-b08c-463b-d083-fec5ce746761"
      },
      "source": [
        "Train = cbind(X_train,y_train)\n",
        "names(Train)[8] = 'Quality'\n",
        "\n",
        "fit = rpart(Quality ~ ., data=Train)\n",
        "y_pred = predict(fit,X_test,type = \"class\")\n",
        "cm = table(y_test, y_pred)\n",
        "print(cm)\n",
        "cat( \"Acuracidade do modelo Decision Tree: \", sum(diag(cm))/sum(cm))"
      ],
      "execution_count": null,
      "outputs": [
        {
          "output_type": "stream",
          "name": "stdout",
          "text": [
            "           y_pred\n",
            "y_test      Accept Refurbish Reject\n",
            "  Accept        43         7      0\n",
            "  Refurbish      0        59      0\n",
            "  Reject         0         0     51\n",
            "Acuracidade do modelo Decision Tree:  0.95625"
          ]
        }
      ]
    },
    {
      "cell_type": "markdown",
      "metadata": {
        "id": "O5QSZQjaQT-t"
      },
      "source": [
        "# Q4. Predição com o Melhor Modelo (Acurácia Geral)"
      ]
    },
    {
      "cell_type": "markdown",
      "metadata": {
        "id": "tE3jF6DRVqMJ"
      },
      "source": [
        "## Preparação dos Dados\n",
        "\n",
        "Dica: Hot encode dos dados? Cuidado para se não houver todos os valores nos novos casos."
      ]
    },
    {
      "cell_type": "code",
      "metadata": {
        "id": "dnjG8Z5YVczB",
        "colab": {
          "base_uri": "https://localhost:8080/",
          "height": 286
        },
        "outputId": "7749172e-c5f1-4e41-ca8b-9bf191c9f9d7"
      },
      "source": [
        "X_new = dummy.data.frame('Unit',data=X_new,sep='_',drop=TRUE)\n",
        "head(X_new)"
      ],
      "execution_count": null,
      "outputs": [
        {
          "output_type": "stream",
          "name": "stderr",
          "text": [
            "Warning message in model.matrix.default(~x - 1, model.frame(~x - 1), contrasts = FALSE):\n",
            "“non-list contrasts argument ignored”\n"
          ]
        },
        {
          "output_type": "display_data",
          "data": {
            "text/plain": [
              "  A   B   C   D   Unit_BH Unit_RJ Unit_SP\n",
              "1 6.3 3.4 5.6 2.4 0       0       1      \n",
              "2 6.7 2.5 5.8 1.8 0       1       0      \n",
              "3 5.2 4.1 1.5 0.1 1       0       0      \n",
              "4 6.1 2.9 4.7 1.4 0       0       1      \n",
              "5 4.8 3.4 1.9 0.2 1       0       0      "
            ],
            "text/latex": "A data.frame: 5 × 7\n\\begin{tabular}{r|lllllll}\n  & A & B & C & D & Unit\\_BH & Unit\\_RJ & Unit\\_SP\\\\\n  & <dbl> & <dbl> & <dbl> & <dbl> & <int> & <int> & <int>\\\\\n\\hline\n\t1 & 6.3 & 3.4 & 5.6 & 2.4 & 0 & 0 & 1\\\\\n\t2 & 6.7 & 2.5 & 5.8 & 1.8 & 0 & 1 & 0\\\\\n\t3 & 5.2 & 4.1 & 1.5 & 0.1 & 1 & 0 & 0\\\\\n\t4 & 6.1 & 2.9 & 4.7 & 1.4 & 0 & 0 & 1\\\\\n\t5 & 4.8 & 3.4 & 1.9 & 0.2 & 1 & 0 & 0\\\\\n\\end{tabular}\n",
            "text/markdown": "\nA data.frame: 5 × 7\n\n| <!--/--> | A &lt;dbl&gt; | B &lt;dbl&gt; | C &lt;dbl&gt; | D &lt;dbl&gt; | Unit_BH &lt;int&gt; | Unit_RJ &lt;int&gt; | Unit_SP &lt;int&gt; |\n|---|---|---|---|---|---|---|---|\n| 1 | 6.3 | 3.4 | 5.6 | 2.4 | 0 | 0 | 1 |\n| 2 | 6.7 | 2.5 | 5.8 | 1.8 | 0 | 1 | 0 |\n| 3 | 5.2 | 4.1 | 1.5 | 0.1 | 1 | 0 | 0 |\n| 4 | 6.1 | 2.9 | 4.7 | 1.4 | 0 | 0 | 1 |\n| 5 | 4.8 | 3.4 | 1.9 | 0.2 | 1 | 0 | 0 |\n\n",
            "text/html": [
              "<table class=\"dataframe\">\n",
              "<caption>A data.frame: 5 × 7</caption>\n",
              "<thead>\n",
              "\t<tr><th></th><th scope=col>A</th><th scope=col>B</th><th scope=col>C</th><th scope=col>D</th><th scope=col>Unit_BH</th><th scope=col>Unit_RJ</th><th scope=col>Unit_SP</th></tr>\n",
              "\t<tr><th></th><th scope=col>&lt;dbl&gt;</th><th scope=col>&lt;dbl&gt;</th><th scope=col>&lt;dbl&gt;</th><th scope=col>&lt;dbl&gt;</th><th scope=col>&lt;int&gt;</th><th scope=col>&lt;int&gt;</th><th scope=col>&lt;int&gt;</th></tr>\n",
              "</thead>\n",
              "<tbody>\n",
              "\t<tr><th scope=row>1</th><td>6.3</td><td>3.4</td><td>5.6</td><td>2.4</td><td>0</td><td>0</td><td>1</td></tr>\n",
              "\t<tr><th scope=row>2</th><td>6.7</td><td>2.5</td><td>5.8</td><td>1.8</td><td>0</td><td>1</td><td>0</td></tr>\n",
              "\t<tr><th scope=row>3</th><td>5.2</td><td>4.1</td><td>1.5</td><td>0.1</td><td>1</td><td>0</td><td>0</td></tr>\n",
              "\t<tr><th scope=row>4</th><td>6.1</td><td>2.9</td><td>4.7</td><td>1.4</td><td>0</td><td>0</td><td>1</td></tr>\n",
              "\t<tr><th scope=row>5</th><td>4.8</td><td>3.4</td><td>1.9</td><td>0.2</td><td>1</td><td>0</td><td>0</td></tr>\n",
              "</tbody>\n",
              "</table>\n"
            ]
          },
          "metadata": {}
        }
      ]
    },
    {
      "cell_type": "code",
      "metadata": {
        "id": "PkwnMPfXjRyN"
      },
      "source": [
        "for (c in c('Unit_BH','Unit_RJ','Unit_SP')){\n",
        "  if (match(c,names(X_new)) == 0) {\n",
        "    X_new[c] = 0\n",
        "  }\n",
        "}  \n"
      ],
      "execution_count": null,
      "outputs": []
    },
    {
      "cell_type": "markdown",
      "metadata": {
        "id": "UCniX4O5kIRV"
      },
      "source": [
        "## Predição"
      ]
    },
    {
      "cell_type": "code",
      "metadata": {
        "colab": {
          "base_uri": "https://localhost:8080/"
        },
        "id": "W2NmSJKLaOVf",
        "outputId": "71c765f9-1c76-4c8b-90d4-e34697c38a6e"
      },
      "source": [
        "if (f == '1'){\n",
        "  print('Árvore de Decisão')\n",
        "  y_pred = predict(fit,X_new,type = \"class\")\n",
        "}\n",
        "\n",
        "if (f == '2'){\n",
        "  print('knn')\n",
        "  y_pred = knn(X_train, X_new, y_train, k = 3)\n",
        "}\n",
        "\n",
        "print(y_pred)"
      ],
      "execution_count": null,
      "outputs": [
        {
          "output_type": "stream",
          "name": "stdout",
          "text": [
            "[1] \"Árvore de Decisão\"\n",
            "        1         2         3         4         5 \n",
            "Refurbish Refurbish    Reject    Accept    Reject \n",
            "Levels: Accept Refurbish Reject\n"
          ]
        }
      ]
    },
    {
      "cell_type": "markdown",
      "metadata": {
        "id": "MrawHk_dicHl"
      },
      "source": [
        "# Q5. Regressão Linear\n",
        "\n",
        "Crie um modelo de Regressão Linear para o Cálculo da medida C das peças com base nas demais medidas. Empregue o modelo para estimar a medida dos C das novas peças."
      ]
    },
    {
      "cell_type": "code",
      "metadata": {
        "colab": {
          "base_uri": "https://localhost:8080/",
          "height": 357
        },
        "id": "eXgwWCrHciPf",
        "outputId": "0c2dc461-63c4-42bd-eef1-f5f9ca43ca35"
      },
      "source": [
        "fit = lm(C ~ A + B + D, data=df)\n",
        "summary(fit)\n",
        "\n"
      ],
      "execution_count": null,
      "outputs": [
        {
          "output_type": "display_data",
          "data": {
            "text/plain": [
              "\n",
              "Call:\n",
              "lm(formula = C ~ A + B + D, data = df)\n",
              "\n",
              "Residuals:\n",
              "     Min       1Q   Median       3Q      Max \n",
              "-1.02066 -0.22294 -0.02886  0.22819  1.08015 \n",
              "\n",
              "Coefficients:\n",
              "            Estimate Std. Error t value Pr(>|t|)    \n",
              "(Intercept) -0.34291    0.16714  -2.052   0.0407 *  \n",
              "A            0.70183    0.03220  21.798   <2e-16 ***\n",
              "B           -0.56808    0.03712 -15.305   <2e-16 ***\n",
              "D            1.47043    0.03607  40.763   <2e-16 ***\n",
              "---\n",
              "Signif. codes:  0 ‘***’ 0.001 ‘**’ 0.01 ‘*’ 0.05 ‘.’ 0.1 ‘ ’ 1\n",
              "\n",
              "Residual standard error: 0.3146 on 477 degrees of freedom\n",
              "Multiple R-squared:  0.9683,\tAdjusted R-squared:  0.9681 \n",
              "F-statistic:  4858 on 3 and 477 DF,  p-value: < 2.2e-16\n"
            ]
          },
          "metadata": {}
        }
      ]
    },
    {
      "cell_type": "code",
      "metadata": {
        "colab": {
          "base_uri": "https://localhost:8080/"
        },
        "id": "WDqUni_wc35G",
        "outputId": "c0edfa03-7344-4361-c3db-59f2db74e863"
      },
      "source": [
        "y_pred = predict(fit,X_new)\n",
        "print(y_pred)"
      ],
      "execution_count": null,
      "outputs": [
        {
          "output_type": "stream",
          "name": "stdout",
          "text": [
            "       1        2        3        4        5 \n",
            "5.676182 5.585929 1.124526 4.349427 1.388492 \n"
          ]
        }
      ]
    },
    {
      "cell_type": "code",
      "metadata": {
        "id": "gqnwjpdpifeN"
      },
      "source": [
        "# Em Python... \n",
        "\n",
        "# import statsmodels.formula.api as sm\n",
        "\n",
        "# model = sm.ols(formula='C ~ A + B + D', data=df)\n",
        "# result = model.fit()\n",
        "\n",
        "# y_pred = result.predict(X_new[['A','B','D']])\n",
        "\n",
        "# print(result.summary())\n",
        "# print(y_pred)\n"
      ],
      "execution_count": null,
      "outputs": []
    }
  ]
}