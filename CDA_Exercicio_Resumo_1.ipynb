{
  "nbformat": 4,
  "nbformat_minor": 0,
  "metadata": {
    "colab": {
      "name": "CDA_Exercicio_Resumo_1.ipynb",
      "provenance": [],
      "authorship_tag": "ABX9TyOnPKmdtVj4aAmBSpWE5rSE",
      "include_colab_link": true
    },
    "kernelspec": {
      "name": "ir",
      "display_name": "R"
    },
    "language_info": {
      "name": "R"
    }
  },
  "cells": [
    {
      "cell_type": "markdown",
      "metadata": {
        "id": "view-in-github",
        "colab_type": "text"
      },
      "source": [
        "<a href=\"https://colab.research.google.com/github/Rogerio-mack/CDA_2021_2S/blob/main/CDA_Exercicio_Resumo_1.ipynb\" target=\"_parent\"><img src=\"https://colab.research.google.com/assets/colab-badge.svg\" alt=\"Open In Colab\"/></a>"
      ]
    },
    {
      "cell_type": "markdown",
      "metadata": {
        "id": "gglUriLmo1sR"
      },
      "source": [
        "<head>\n",
        "  <meta name=\"author\" content=\"Rogério de Oliveira\">\n",
        "  <meta institution=\"author\" content=\"Universidade Presbiteriana Mackenzie\">\n",
        "</head>\n",
        "\n",
        "<img src=\"http://meusite.mackenzie.br/rogerio/mackenzie_logo/UPM.2_horizontal_vermelho.jpg\" width=300, align=\"right\">\n",
        "<!-- <h1 align=left><font size = 6, style=\"color:rgb(200,0,0)\"> optional title </font></h1> -->"
      ]
    },
    {
      "cell_type": "markdown",
      "metadata": {
        "id": "x3RSAcU_o1sU"
      },
      "source": [
        "# Exercício de Revisão\n",
        "***"
      ]
    },
    {
      "cell_type": "markdown",
      "metadata": {
        "id": "lymZ-cgrD859"
      },
      "source": [
        "## Aluno: *\\<coloque aqui seu nome completo\\>*"
      ]
    },
    {
      "cell_type": "markdown",
      "metadata": {
        "id": "P_iyHJL5CNOO"
      },
      "source": [
        "Entregue em um único notebook R (http://colab.to/r) os códigos abaixo baseados no conjunto de dados mtcars. Crie uma célula do notebook para cada pergunta.\n",
        "\n",
        "# Análise dos Dados\n",
        "\n",
        "1. Selecione somente os veículos com potência do motor (hp) acima da média de todos os veículos. \n",
        "\n"
      ]
    },
    {
      "cell_type": "code",
      "metadata": {
        "id": "cYOZJ0nlDsy8"
      },
      "source": [
        "# Seu Código"
      ],
      "execution_count": null,
      "outputs": []
    },
    {
      "cell_type": "markdown",
      "metadata": {
        "id": "iuNi_1SODsy9"
      },
      "source": [
        "*Sua resposta aqui.*"
      ]
    },
    {
      "cell_type": "markdown",
      "metadata": {
        "id": "-6lBfybmCYas"
      },
      "source": [
        "2. Qual a média de consumo de combustível dos veículos (mpg) da questão 1?\n",
        "\n"
      ]
    },
    {
      "cell_type": "code",
      "metadata": {
        "id": "e8jilsqBDsO-"
      },
      "source": [
        "# Seu Código"
      ],
      "execution_count": null,
      "outputs": []
    },
    {
      "cell_type": "markdown",
      "metadata": {
        "id": "UuWuj9mEDsO-"
      },
      "source": [
        "*Sua resposta aqui.*"
      ]
    },
    {
      "cell_type": "markdown",
      "metadata": {
        "id": "XoYTmJ03CcyM"
      },
      "source": [
        "3. Qual o percentual de veículos com potência do motor (hp) acima da média de todos os veículos (questão 1)?\n",
        "\n"
      ]
    },
    {
      "cell_type": "code",
      "metadata": {
        "id": "wQFdEPyGDrxi"
      },
      "source": [
        "# Seu Código"
      ],
      "execution_count": null,
      "outputs": []
    },
    {
      "cell_type": "markdown",
      "metadata": {
        "id": "Op8C_U-4Drxj"
      },
      "source": [
        "*Sua resposta aqui.*"
      ]
    },
    {
      "cell_type": "markdown",
      "metadata": {
        "id": "teLwUXi0Cf78"
      },
      "source": [
        "# Regressão Linear\n",
        "\n",
        "4. Determine um modelo de regressão linear para determinar o consumo (mpg) a partir dos dados de potência (hp) e número de cilindros (cyl). Quais os coeficientes da regressão e o R2? \n",
        "\n"
      ]
    },
    {
      "cell_type": "code",
      "metadata": {
        "id": "TVM9_OZYDpQN"
      },
      "source": [
        "# Seu Código"
      ],
      "execution_count": null,
      "outputs": []
    },
    {
      "cell_type": "markdown",
      "metadata": {
        "id": "tU_TtxD3DpQO"
      },
      "source": [
        "*Sua resposta aqui.*"
      ]
    },
    {
      "cell_type": "markdown",
      "metadata": {
        "id": "qrzLIJfeCjNU"
      },
      "source": [
        "5. Faça a predição do consumo para um veículo com potência de 140 hp e 6 cyl.\n",
        "\n"
      ]
    },
    {
      "cell_type": "code",
      "metadata": {
        "id": "SJmPwPr1Do4S"
      },
      "source": [
        "# Seu Código"
      ],
      "execution_count": null,
      "outputs": []
    },
    {
      "cell_type": "markdown",
      "metadata": {
        "id": "AUApjlOZDo4S"
      },
      "source": [
        "*Sua resposta aqui.*"
      ]
    },
    {
      "cell_type": "markdown",
      "metadata": {
        "id": "56VNrkCBCpbj"
      },
      "source": [
        "# Classificação\n",
        "\n",
        "6. Escolha 2 modelos de classificação dentre os modelos abaixo:\n",
        "\n",
        "> a. Knn, k=3\n",
        "\n",
        "> b. Knn, k=5\n",
        "\n",
        "> c. Regressão Logística\n",
        "\n",
        "> d. Árvore de Decisão\n",
        "\n",
        "Empregue os dois modelos para estimar se os veículos são ou não de transmissão automática (atributo `am`) com base nos atributos \n",
        "\n",
        "`mpg\tcyl\tdisp\thp\tdrat\twt`\n",
        "\n",
        "Empregue 1/3 de dados de teste e responda as perguntas a seguir para os dois modelos escolhidos:\n",
        "\n",
        "\n"
      ]
    },
    {
      "cell_type": "markdown",
      "metadata": {
        "id": "p0dnVWiVC4Vk"
      },
      "source": [
        "6.1. Qual o percentual de acerto dos modelos sobre o conjunto de teste (acuracidade)?\n",
        "\n"
      ]
    },
    {
      "cell_type": "code",
      "metadata": {
        "id": "SLGG-kAQDS51"
      },
      "source": [
        "# Seu código MODELO ESCOLHIDO 1"
      ],
      "execution_count": null,
      "outputs": []
    },
    {
      "cell_type": "code",
      "metadata": {
        "id": "7qZrqVe5DYar"
      },
      "source": [
        "# Seu código MODELO ESCOLHIDO 2"
      ],
      "execution_count": null,
      "outputs": []
    },
    {
      "cell_type": "markdown",
      "metadata": {
        "id": "ORWxLOA7DSRQ"
      },
      "source": [
        "*Sua resposta aqui.*"
      ]
    },
    {
      "cell_type": "markdown",
      "metadata": {
        "id": "V_NdbzzGC6ls"
      },
      "source": [
        "6.2. Qual o melhor modelo dentre os dois modelos escolhidos?\n",
        "\n"
      ]
    },
    {
      "cell_type": "markdown",
      "metadata": {
        "id": "r_2srEOrDGks"
      },
      "source": [
        "*Sua resposta aqui.*"
      ]
    },
    {
      "cell_type": "markdown",
      "metadata": {
        "id": "34b2PsZEC8Lc"
      },
      "source": [
        "6.3. Aplicando o melhor modelo qual a predição para um veículo com as características abaixo?\n",
        "\n",
        "```\n",
        "mpg\tcyl\tdisp\thp\tdrat\twt\n",
        "22\t4\t100\t92\t4\t2.5\n",
        "```"
      ]
    },
    {
      "cell_type": "code",
      "metadata": {
        "id": "hRv-3cFoDAod"
      },
      "source": [
        "# Seu Código"
      ],
      "execution_count": null,
      "outputs": []
    },
    {
      "cell_type": "markdown",
      "metadata": {
        "id": "5ziHCs4QDdjq"
      },
      "source": [
        "*Sua resposta aqui.*"
      ]
    }
  ]
}