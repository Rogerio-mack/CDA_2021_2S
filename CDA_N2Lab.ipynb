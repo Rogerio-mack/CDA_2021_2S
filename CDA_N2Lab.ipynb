{
  "nbformat": 4,
  "nbformat_minor": 0,
  "metadata": {
    "colab": {
      "name": "CDA_N2Lab.ipynb",
      "provenance": [],
      "authorship_tag": "ABX9TyNEa2q5j6H8tLeGPTVVFN8p",
      "include_colab_link": true
    },
    "kernelspec": {
      "name": "ir",
      "display_name": "R"
    },
    "language_info": {
      "name": "R"
    }
  },
  "cells": [
    {
      "cell_type": "markdown",
      "metadata": {
        "id": "view-in-github",
        "colab_type": "text"
      },
      "source": [
        "<a href=\"https://colab.research.google.com/github/Rogerio-mack/CDA_2021_2S/blob/main/CDA_N2Lab.ipynb\" target=\"_parent\"><img src=\"https://colab.research.google.com/assets/colab-badge.svg\" alt=\"Open In Colab\"/></a>"
      ]
    },
    {
      "cell_type": "markdown",
      "metadata": {
        "id": "J3LMBfpeHTwb"
      },
      "source": [
        "<head>\n",
        "  <meta name=\"author\" content=\"Rogério de Oliveira\">\n",
        "  <meta institution=\"author\" content=\"Universidade Presbiteriana Mackenzie\">\n",
        "</head>\n",
        "\n",
        "<img src=\"http://meusite.mackenzie.br/rogerio/mackenzie_logo/UPM.2_horizontal_vermelho.jpg\" width=300, align=\"right\">\n",
        "<!-- <h1 align=left><font size = 6, style=\"color:rgb(200,0,0)\"> optional title </font></h1> -->\n"
      ]
    },
    {
      "cell_type": "markdown",
      "metadata": {
        "id": "Ue2YcVySWe_i"
      },
      "source": [
        "# Avaliação N2 \n",
        "***\n",
        "\n",
        "Faça os exercícios propostos e em seguida responda ao **questionário no Moodle**.\n",
        "\n",
        "*Boa prova!*"
      ]
    },
    {
      "cell_type": "markdown",
      "metadata": {
        "id": "wF7X-vnhW3OJ"
      },
      "source": [
        "# **Exercício 1.** Clustering, Segmentando Países pela Força de Trabalho \n",
        "\n"
      ]
    },
    {
      "cell_type": "markdown",
      "metadata": {
        "id": "pfByZcOTDFDL"
      },
      "source": [
        "Esta base de dados contém a percentagem da população empregada em diferentes indústrias em 26 países europeus em 1979. \n",
        "\n",
        "- Country - o nome do país (identificador)\n",
        "- Agr -% da força de trabalho empregada na agricultura\n",
        "- Min -% na mineração\n",
        "- Man -% na fabricação\n",
        "- PS -% nas indústrias de fornecimento de energia\n",
        "- Con - % em construção\n",
        "- SI -% nas indústrias de serviços\n",
        "- Fin -% em finanças\n",
        "- SPS -% em serviços sociais e pessoais\n",
        "- TC -% em transporte e comunicações\n",
        "\n",
        "Fonte: https://statsandr.com/ \n",
        "\n",
        "**Objetivo:** Segmentar os países em grupos para aplicação de diferentes políticas públicas empregando Clusterização."
      ]
    },
    {
      "cell_type": "code",
      "metadata": {
        "colab": {
          "base_uri": "https://localhost:8080/",
          "height": 286
        },
        "id": "P6IHT8bPSDS8",
        "outputId": "73501f99-e191-477e-c0ff-b9068cebe46f"
      },
      "source": [
        "df = read.csv('http://meusite.mackenzie.br/rogerio/data_load/Eurojobs.csv')\n",
        "head(df)"
      ],
      "execution_count": 17,
      "outputs": [
        {
          "output_type": "display_data",
          "data": {
            "text/plain": [
              "  Country    Agr  Min Man  PS  Con  SI   Fin SPS  TC \n",
              "1 Belgium     3.3 0.9 27.6 0.9  8.2 19.1 6.2 26.6 7.2\n",
              "2 Denmark     9.2 0.1 21.8 0.6  8.3 14.6 6.5 32.2 7.1\n",
              "3 France     10.8 0.8 27.5 0.9  8.9 16.8 6.0 22.6 5.7\n",
              "4 W. Germany  6.7 1.3 35.8 0.9  7.3 14.4 5.0 22.3 6.1\n",
              "5 Ireland    23.2 1.0 20.7 1.3  7.5 16.8 2.8 20.8 6.1\n",
              "6 Italy      15.9 0.6 27.6 0.5 10.0 18.1 1.6 20.1 5.7"
            ],
            "text/latex": "A data.frame: 6 × 10\n\\begin{tabular}{r|llllllllll}\n  & Country & Agr & Min & Man & PS & Con & SI & Fin & SPS & TC\\\\\n  & <chr> & <dbl> & <dbl> & <dbl> & <dbl> & <dbl> & <dbl> & <dbl> & <dbl> & <dbl>\\\\\n\\hline\n\t1 & Belgium    &  3.3 & 0.9 & 27.6 & 0.9 &  8.2 & 19.1 & 6.2 & 26.6 & 7.2\\\\\n\t2 & Denmark    &  9.2 & 0.1 & 21.8 & 0.6 &  8.3 & 14.6 & 6.5 & 32.2 & 7.1\\\\\n\t3 & France     & 10.8 & 0.8 & 27.5 & 0.9 &  8.9 & 16.8 & 6.0 & 22.6 & 5.7\\\\\n\t4 & W. Germany &  6.7 & 1.3 & 35.8 & 0.9 &  7.3 & 14.4 & 5.0 & 22.3 & 6.1\\\\\n\t5 & Ireland    & 23.2 & 1.0 & 20.7 & 1.3 &  7.5 & 16.8 & 2.8 & 20.8 & 6.1\\\\\n\t6 & Italy      & 15.9 & 0.6 & 27.6 & 0.5 & 10.0 & 18.1 & 1.6 & 20.1 & 5.7\\\\\n\\end{tabular}\n",
            "text/markdown": "\nA data.frame: 6 × 10\n\n| <!--/--> | Country &lt;chr&gt; | Agr &lt;dbl&gt; | Min &lt;dbl&gt; | Man &lt;dbl&gt; | PS &lt;dbl&gt; | Con &lt;dbl&gt; | SI &lt;dbl&gt; | Fin &lt;dbl&gt; | SPS &lt;dbl&gt; | TC &lt;dbl&gt; |\n|---|---|---|---|---|---|---|---|---|---|---|\n| 1 | Belgium    |  3.3 | 0.9 | 27.6 | 0.9 |  8.2 | 19.1 | 6.2 | 26.6 | 7.2 |\n| 2 | Denmark    |  9.2 | 0.1 | 21.8 | 0.6 |  8.3 | 14.6 | 6.5 | 32.2 | 7.1 |\n| 3 | France     | 10.8 | 0.8 | 27.5 | 0.9 |  8.9 | 16.8 | 6.0 | 22.6 | 5.7 |\n| 4 | W. Germany |  6.7 | 1.3 | 35.8 | 0.9 |  7.3 | 14.4 | 5.0 | 22.3 | 6.1 |\n| 5 | Ireland    | 23.2 | 1.0 | 20.7 | 1.3 |  7.5 | 16.8 | 2.8 | 20.8 | 6.1 |\n| 6 | Italy      | 15.9 | 0.6 | 27.6 | 0.5 | 10.0 | 18.1 | 1.6 | 20.1 | 5.7 |\n\n",
            "text/html": [
              "<table class=\"dataframe\">\n",
              "<caption>A data.frame: 6 × 10</caption>\n",
              "<thead>\n",
              "\t<tr><th></th><th scope=col>Country</th><th scope=col>Agr</th><th scope=col>Min</th><th scope=col>Man</th><th scope=col>PS</th><th scope=col>Con</th><th scope=col>SI</th><th scope=col>Fin</th><th scope=col>SPS</th><th scope=col>TC</th></tr>\n",
              "\t<tr><th></th><th scope=col>&lt;chr&gt;</th><th scope=col>&lt;dbl&gt;</th><th scope=col>&lt;dbl&gt;</th><th scope=col>&lt;dbl&gt;</th><th scope=col>&lt;dbl&gt;</th><th scope=col>&lt;dbl&gt;</th><th scope=col>&lt;dbl&gt;</th><th scope=col>&lt;dbl&gt;</th><th scope=col>&lt;dbl&gt;</th><th scope=col>&lt;dbl&gt;</th></tr>\n",
              "</thead>\n",
              "<tbody>\n",
              "\t<tr><th scope=row>1</th><td>Belgium   </td><td> 3.3</td><td>0.9</td><td>27.6</td><td>0.9</td><td> 8.2</td><td>19.1</td><td>6.2</td><td>26.6</td><td>7.2</td></tr>\n",
              "\t<tr><th scope=row>2</th><td>Denmark   </td><td> 9.2</td><td>0.1</td><td>21.8</td><td>0.6</td><td> 8.3</td><td>14.6</td><td>6.5</td><td>32.2</td><td>7.1</td></tr>\n",
              "\t<tr><th scope=row>3</th><td>France    </td><td>10.8</td><td>0.8</td><td>27.5</td><td>0.9</td><td> 8.9</td><td>16.8</td><td>6.0</td><td>22.6</td><td>5.7</td></tr>\n",
              "\t<tr><th scope=row>4</th><td>W. Germany</td><td> 6.7</td><td>1.3</td><td>35.8</td><td>0.9</td><td> 7.3</td><td>14.4</td><td>5.0</td><td>22.3</td><td>6.1</td></tr>\n",
              "\t<tr><th scope=row>5</th><td>Ireland   </td><td>23.2</td><td>1.0</td><td>20.7</td><td>1.3</td><td> 7.5</td><td>16.8</td><td>2.8</td><td>20.8</td><td>6.1</td></tr>\n",
              "\t<tr><th scope=row>6</th><td>Italy     </td><td>15.9</td><td>0.6</td><td>27.6</td><td>0.5</td><td>10.0</td><td>18.1</td><td>1.6</td><td>20.1</td><td>5.7</td></tr>\n",
              "</tbody>\n",
              "</table>\n"
            ]
          },
          "metadata": {}
        }
      ]
    },
    {
      "cell_type": "markdown",
      "metadata": {
        "id": "1f8-sl3PYF3i"
      },
      "source": [
        "## Inspecione os dados"
      ]
    },
    {
      "cell_type": "code",
      "metadata": {
        "id": "b9pggocxSZUD"
      },
      "source": [
        "# seu código"
      ],
      "execution_count": null,
      "outputs": []
    },
    {
      "cell_type": "markdown",
      "metadata": {
        "id": "qJUllMOaXMHp"
      },
      "source": [
        "## Preparação dos dados\n",
        "\n",
        "Normalize os dados a função `scale`. \n",
        "\n",
        "$$ z_i = \\frac{x_i - \\bar{x}}{\\sigma(x)}$$\n",
        "\n",
        "E não esqueça de excluir dados não úteis ao treinamento. Depois de normalizar os dados os valores devem apresentar média próxima de 0 e desvio padrão próximo de 1."
      ]
    },
    {
      "cell_type": "code",
      "metadata": {
        "id": "Vl2mpSUUTgwS"
      },
      "source": [
        "# seu código"
      ],
      "execution_count": null,
      "outputs": []
    },
    {
      "cell_type": "markdown",
      "metadata": {
        "id": "379oIRQiYY2C"
      },
      "source": [
        "## Número de Clusters\n",
        "\n",
        "**Q1**. Qual ao valor médio de silhueta para o melhor número de clusters `kmedias`? (verifique de 2 a 10 clusters)\n",
        "\n",
        "> Empregue `nstart=25` no kmédias. Não empregue outros parâmetros não solicitados. \n",
        "\n",
        "**Q2**. Qual ao valor médio de silhueta para o melhor número de clusters na clusterização hierárquica (aglomerativa) para os esquemas de ligação (*linkage*) `complete` e `single`? (verifique de 2 a 10 clusters)\n",
        "\n",
        "> Empregue a distância `euclidean`. Não empregue outros parâmetros não solicitados. \n"
      ]
    },
    {
      "cell_type": "code",
      "metadata": {
        "id": "eMaTPiZbUjVW"
      },
      "source": [
        "set.seed(1984) \n",
        "# seu código"
      ],
      "execution_count": null,
      "outputs": []
    },
    {
      "cell_type": "code",
      "metadata": {
        "id": "cxJuvG8aduOK"
      },
      "source": [
        "library('cluster')\n",
        "set.seed(1984) "
      ],
      "execution_count": null,
      "outputs": []
    },
    {
      "cell_type": "code",
      "metadata": {
        "id": "A1EFUY7kf2Mj"
      },
      "source": [
        "library('cluster')\n",
        "set.seed(1984) "
      ],
      "execution_count": null,
      "outputs": []
    },
    {
      "cell_type": "markdown",
      "metadata": {
        "id": "IseBYJx1aCxl"
      },
      "source": [
        "## Clusterização, 3 Clusters\n",
        "\n",
        "O número de clusters não segue um único critério e normalmente é feita uma análise conjunta de várias métricas. Sabemos que esse conjunto, independente do valor que você obteve no item anterior é 3. Faça assim a clusterizção para 3 clusters com o método Kmédias e o a clusterização hierárquica para os esquemas de ligação (*linkage*) `complete` e `single`. \n",
        "\n",
        "**Q3**. Qual o método apresenta melhor *distribuição* da quantidade de elementos e qual é essa distribuição?\n",
        "\n",
        "> Por exemplo, 10, 4, 2 é uma distribuição melhor que 10, 5, 1.\n",
        "\n",
        "> Empregue `nstart=25` no kmédias. Não empregue outros parâmetros não solicitados. \n",
        "\n",
        "> Empregue a distância `euclidean` na clusterização hierárquica. Não empregue outros parâmetros não solicitados. \n",
        "\n"
      ]
    },
    {
      "cell_type": "code",
      "metadata": {
        "id": "ZKGNrmteVt8g"
      },
      "source": [
        "# seu código\n",
        "set.seed(1984) "
      ],
      "execution_count": null,
      "outputs": []
    },
    {
      "cell_type": "code",
      "metadata": {
        "id": "W21MrpnRIaZP"
      },
      "source": [
        "# seu código\n",
        "set.seed(1984) "
      ],
      "execution_count": null,
      "outputs": []
    },
    {
      "cell_type": "code",
      "metadata": {
        "id": "p1QGgkEdIaho"
      },
      "source": [
        "# seu código\n",
        "set.seed(1984) "
      ],
      "execution_count": null,
      "outputs": []
    },
    {
      "cell_type": "code",
      "metadata": {
        "id": "6KkjGxXtISkA"
      },
      "source": [
        "# o melhor dos 3 modelos anteriores aqui\n",
        "\n",
        "# seu código\n",
        "set.seed(1984) "
      ],
      "execution_count": null,
      "outputs": []
    },
    {
      "cell_type": "markdown",
      "metadata": {
        "id": "XvGKJ80Sa8g6"
      },
      "source": [
        "## Analisando os Grupos\n",
        "\n",
        "Analise os valores médios dos grupos e os países pertencentes a cada grupo **empregando o método que apresentou a melhor distribuição da quantidade de elementos**.\n",
        "\n",
        "**Q4**. Há um grupo que se caracteriza por um % médio maior da força de trabalho empregada na agricultura. Qual esse percentual e que países fazem parte dele? \n",
        "\n",
        "**Q5**. Excetuando o grupo o com % médio maior da força de trabalho empregada na agricultura e esse indicador, o que mais diferencia os outros dois grupos?\n",
        "\n"
      ]
    },
    {
      "cell_type": "code",
      "metadata": {
        "id": "gCCKi1aPEwJ6"
      },
      "source": [
        "# seu código\n",
        "set.seed(1984) "
      ],
      "execution_count": null,
      "outputs": []
    }
  ]
}