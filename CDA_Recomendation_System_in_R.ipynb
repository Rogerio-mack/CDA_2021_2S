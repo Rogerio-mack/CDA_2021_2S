{
  "nbformat": 4,
  "nbformat_minor": 0,
  "metadata": {
    "colab": {
      "name": "CDA_Recomendation_System_in_R.ipynb",
      "provenance": [],
      "authorship_tag": "ABX9TyNmqXV4dEf/kVnk+MH9qtYx",
      "include_colab_link": true
    },
    "kernelspec": {
      "name": "ir",
      "display_name": "R"
    },
    "language_info": {
      "name": "R"
    }
  },
  "cells": [
    {
      "cell_type": "markdown",
      "metadata": {
        "id": "view-in-github",
        "colab_type": "text"
      },
      "source": [
        "<a href=\"https://colab.research.google.com/github/Rogerio-mack/CDA_2021_2S/blob/main/CDA_Recomendation_System_in_R.ipynb\" target=\"_parent\"><img src=\"https://colab.research.google.com/assets/colab-badge.svg\" alt=\"Open In Colab\"/></a>"
      ]
    },
    {
      "cell_type": "markdown",
      "metadata": {
        "id": "J3LMBfpeHTwb"
      },
      "source": [
        "<head>\n",
        "  <meta name=\"author\" content=\"Rogério de Oliveira\">\n",
        "  <meta institution=\"author\" content=\"Universidade Presbiteriana Mackenzie\">\n",
        "</head>\n",
        "\n",
        "<img src=\"http://meusite.mackenzie.br/rogerio/mackenzie_logo/UPM.2_horizontal_vermelho.jpg\" width=300, align=\"right\">\n",
        "<!-- <h1 align=left><font size = 6, style=\"color:rgb(200,0,0)\"> optional title </font></h1> -->\n"
      ]
    },
    {
      "cell_type": "markdown",
      "metadata": {
        "id": "Ue2YcVySWe_i"
      },
      "source": [
        "# Sistema de Recomendação em R, Recomendando Contatos de uma Rede Social: Filtro de Conteúdo por Item!\n",
        "***\n"
      ]
    },
    {
      "cell_type": "markdown",
      "metadata": {
        "id": "ueTym8XFc0Sy"
      },
      "source": [
        "Esta base de dados contém atributos de 30000 usuários de uma rede social com suas preferências. Seus nomes foram devidamente ofuscados. Mas vamos trabalhar apenas com 1000 casos.\n",
        "\n",
        "**Objetivo:** Dado um usuário, queremos recomendar novos contatos de amigos que mais se assemelhem ao usuário. Vamos dar um passo a passo aqui para você.\n",
        "\n"
      ]
    },
    {
      "cell_type": "code",
      "metadata": {
        "colab": {
          "base_uri": "https://localhost:8080/",
          "height": 306
        },
        "id": "vCCllh44Jd6I",
        "outputId": "8af6ffbf-7651-49e1-8759-51987fe300b5"
      },
      "source": [
        "df = read.csv('http://meusite.mackenzie.br/rogerio/data_load/social.csv',nrows=1000)\n",
        "head(df)"
      ],
      "execution_count": null,
      "outputs": [
        {
          "output_type": "display_data",
          "data": {
            "text/plain": [
              "  name                          gradyear gender age    friends basketball\n",
              "1 Q0bcT0yVsaupy2DJ3P8m2owDPIwNL 2006     M      18.982   7     0         \n",
              "2 eeQvCDZZbJPoXTL13FaVgx        2006     F      18.801   0     0         \n",
              "3 oK3Mpwj7SfPnGLHG1V5yQBEOgn    2006     M      18.335  69     0         \n",
              "4 Z76KbVabKtfN2tLGthyk          2006     F      18.875   0     0         \n",
              "5 4Pmrj8MGAOODv4Wmot6htP1       2006            18.995  10     0         \n",
              "6 rR2PUmc8uLtBprg               2006     F          NA 142     0         \n",
              "  football soccer softball volleyball ⋯ blonde mall shopping clothes hollister\n",
              "1 0        0      0        0          ⋯ 0      0    0        0       0        \n",
              "2 1        0      0        0          ⋯ 0      1    0        0       0        \n",
              "3 1        0      0        0          ⋯ 0      0    0        0       0        \n",
              "4 0        0      0        0          ⋯ 0      0    0        0       0        \n",
              "5 0        0      0        0          ⋯ 0      0    2        0       0        \n",
              "6 0        0      0        0          ⋯ 0      0    1        0       0        \n",
              "  abercrombie die death drunk drugs\n",
              "1 0           0   0     0     0    \n",
              "2 0           0   0     0     0    \n",
              "3 0           0   1     0     0    \n",
              "4 0           0   0     0     0    \n",
              "5 0           0   0     1     1    \n",
              "6 0           0   0     1     0    "
            ],
            "text/latex": "A data.frame: 6 × 41\n\\begin{tabular}{r|lllllllllllllllllllll}\n  & name & gradyear & gender & age & friends & basketball & football & soccer & softball & volleyball & ⋯ & blonde & mall & shopping & clothes & hollister & abercrombie & die & death & drunk & drugs\\\\\n  & <chr> & <int> & <chr> & <dbl> & <int> & <int> & <int> & <int> & <int> & <int> & ⋯ & <int> & <int> & <int> & <int> & <int> & <int> & <int> & <int> & <int> & <int>\\\\\n\\hline\n\t1 & Q0bcT0yVsaupy2DJ3P8m2owDPIwNL & 2006 & M & 18.982 &   7 & 0 & 0 & 0 & 0 & 0 & ⋯ & 0 & 0 & 0 & 0 & 0 & 0 & 0 & 0 & 0 & 0\\\\\n\t2 & eeQvCDZZbJPoXTL13FaVgx        & 2006 & F & 18.801 &   0 & 0 & 1 & 0 & 0 & 0 & ⋯ & 0 & 1 & 0 & 0 & 0 & 0 & 0 & 0 & 0 & 0\\\\\n\t3 & oK3Mpwj7SfPnGLHG1V5yQBEOgn    & 2006 & M & 18.335 &  69 & 0 & 1 & 0 & 0 & 0 & ⋯ & 0 & 0 & 0 & 0 & 0 & 0 & 0 & 1 & 0 & 0\\\\\n\t4 & Z76KbVabKtfN2tLGthyk          & 2006 & F & 18.875 &   0 & 0 & 0 & 0 & 0 & 0 & ⋯ & 0 & 0 & 0 & 0 & 0 & 0 & 0 & 0 & 0 & 0\\\\\n\t5 & 4Pmrj8MGAOODv4Wmot6htP1       & 2006 &   & 18.995 &  10 & 0 & 0 & 0 & 0 & 0 & ⋯ & 0 & 0 & 2 & 0 & 0 & 0 & 0 & 0 & 1 & 1\\\\\n\t6 & rR2PUmc8uLtBprg               & 2006 & F &     NA & 142 & 0 & 0 & 0 & 0 & 0 & ⋯ & 0 & 0 & 1 & 0 & 0 & 0 & 0 & 0 & 1 & 0\\\\\n\\end{tabular}\n",
            "text/markdown": "\nA data.frame: 6 × 41\n\n| <!--/--> | name &lt;chr&gt; | gradyear &lt;int&gt; | gender &lt;chr&gt; | age &lt;dbl&gt; | friends &lt;int&gt; | basketball &lt;int&gt; | football &lt;int&gt; | soccer &lt;int&gt; | softball &lt;int&gt; | volleyball &lt;int&gt; | ⋯ ⋯ | blonde &lt;int&gt; | mall &lt;int&gt; | shopping &lt;int&gt; | clothes &lt;int&gt; | hollister &lt;int&gt; | abercrombie &lt;int&gt; | die &lt;int&gt; | death &lt;int&gt; | drunk &lt;int&gt; | drugs &lt;int&gt; |\n|---|---|---|---|---|---|---|---|---|---|---|---|---|---|---|---|---|---|---|---|---|---|\n| 1 | Q0bcT0yVsaupy2DJ3P8m2owDPIwNL | 2006 | M | 18.982 |   7 | 0 | 0 | 0 | 0 | 0 | ⋯ | 0 | 0 | 0 | 0 | 0 | 0 | 0 | 0 | 0 | 0 |\n| 2 | eeQvCDZZbJPoXTL13FaVgx        | 2006 | F | 18.801 |   0 | 0 | 1 | 0 | 0 | 0 | ⋯ | 0 | 1 | 0 | 0 | 0 | 0 | 0 | 0 | 0 | 0 |\n| 3 | oK3Mpwj7SfPnGLHG1V5yQBEOgn    | 2006 | M | 18.335 |  69 | 0 | 1 | 0 | 0 | 0 | ⋯ | 0 | 0 | 0 | 0 | 0 | 0 | 0 | 1 | 0 | 0 |\n| 4 | Z76KbVabKtfN2tLGthyk          | 2006 | F | 18.875 |   0 | 0 | 0 | 0 | 0 | 0 | ⋯ | 0 | 0 | 0 | 0 | 0 | 0 | 0 | 0 | 0 | 0 |\n| 5 | 4Pmrj8MGAOODv4Wmot6htP1       | 2006 | <!----> | 18.995 |  10 | 0 | 0 | 0 | 0 | 0 | ⋯ | 0 | 0 | 2 | 0 | 0 | 0 | 0 | 0 | 1 | 1 |\n| 6 | rR2PUmc8uLtBprg               | 2006 | F |     NA | 142 | 0 | 0 | 0 | 0 | 0 | ⋯ | 0 | 0 | 1 | 0 | 0 | 0 | 0 | 0 | 1 | 0 |\n\n",
            "text/html": [
              "<table class=\"dataframe\">\n",
              "<caption>A data.frame: 6 × 41</caption>\n",
              "<thead>\n",
              "\t<tr><th></th><th scope=col>name</th><th scope=col>gradyear</th><th scope=col>gender</th><th scope=col>age</th><th scope=col>friends</th><th scope=col>basketball</th><th scope=col>football</th><th scope=col>soccer</th><th scope=col>softball</th><th scope=col>volleyball</th><th scope=col>⋯</th><th scope=col>blonde</th><th scope=col>mall</th><th scope=col>shopping</th><th scope=col>clothes</th><th scope=col>hollister</th><th scope=col>abercrombie</th><th scope=col>die</th><th scope=col>death</th><th scope=col>drunk</th><th scope=col>drugs</th></tr>\n",
              "\t<tr><th></th><th scope=col>&lt;chr&gt;</th><th scope=col>&lt;int&gt;</th><th scope=col>&lt;chr&gt;</th><th scope=col>&lt;dbl&gt;</th><th scope=col>&lt;int&gt;</th><th scope=col>&lt;int&gt;</th><th scope=col>&lt;int&gt;</th><th scope=col>&lt;int&gt;</th><th scope=col>&lt;int&gt;</th><th scope=col>&lt;int&gt;</th><th scope=col>⋯</th><th scope=col>&lt;int&gt;</th><th scope=col>&lt;int&gt;</th><th scope=col>&lt;int&gt;</th><th scope=col>&lt;int&gt;</th><th scope=col>&lt;int&gt;</th><th scope=col>&lt;int&gt;</th><th scope=col>&lt;int&gt;</th><th scope=col>&lt;int&gt;</th><th scope=col>&lt;int&gt;</th><th scope=col>&lt;int&gt;</th></tr>\n",
              "</thead>\n",
              "<tbody>\n",
              "\t<tr><th scope=row>1</th><td>Q0bcT0yVsaupy2DJ3P8m2owDPIwNL</td><td>2006</td><td>M</td><td>18.982</td><td>  7</td><td>0</td><td>0</td><td>0</td><td>0</td><td>0</td><td>⋯</td><td>0</td><td>0</td><td>0</td><td>0</td><td>0</td><td>0</td><td>0</td><td>0</td><td>0</td><td>0</td></tr>\n",
              "\t<tr><th scope=row>2</th><td>eeQvCDZZbJPoXTL13FaVgx       </td><td>2006</td><td>F</td><td>18.801</td><td>  0</td><td>0</td><td>1</td><td>0</td><td>0</td><td>0</td><td>⋯</td><td>0</td><td>1</td><td>0</td><td>0</td><td>0</td><td>0</td><td>0</td><td>0</td><td>0</td><td>0</td></tr>\n",
              "\t<tr><th scope=row>3</th><td>oK3Mpwj7SfPnGLHG1V5yQBEOgn   </td><td>2006</td><td>M</td><td>18.335</td><td> 69</td><td>0</td><td>1</td><td>0</td><td>0</td><td>0</td><td>⋯</td><td>0</td><td>0</td><td>0</td><td>0</td><td>0</td><td>0</td><td>0</td><td>1</td><td>0</td><td>0</td></tr>\n",
              "\t<tr><th scope=row>4</th><td>Z76KbVabKtfN2tLGthyk         </td><td>2006</td><td>F</td><td>18.875</td><td>  0</td><td>0</td><td>0</td><td>0</td><td>0</td><td>0</td><td>⋯</td><td>0</td><td>0</td><td>0</td><td>0</td><td>0</td><td>0</td><td>0</td><td>0</td><td>0</td><td>0</td></tr>\n",
              "\t<tr><th scope=row>5</th><td>4Pmrj8MGAOODv4Wmot6htP1      </td><td>2006</td><td> </td><td>18.995</td><td> 10</td><td>0</td><td>0</td><td>0</td><td>0</td><td>0</td><td>⋯</td><td>0</td><td>0</td><td>2</td><td>0</td><td>0</td><td>0</td><td>0</td><td>0</td><td>1</td><td>1</td></tr>\n",
              "\t<tr><th scope=row>6</th><td>rR2PUmc8uLtBprg              </td><td>2006</td><td>F</td><td>    NA</td><td>142</td><td>0</td><td>0</td><td>0</td><td>0</td><td>0</td><td>⋯</td><td>0</td><td>0</td><td>1</td><td>0</td><td>0</td><td>0</td><td>0</td><td>0</td><td>1</td><td>0</td></tr>\n",
              "</tbody>\n",
              "</table>\n"
            ]
          },
          "metadata": {}
        }
      ]
    },
    {
      "cell_type": "markdown",
      "metadata": {
        "id": "KFTspgEKeZT_"
      },
      "source": [
        "## Preparação dos dados\n",
        "\n",
        "\n",
        "\n"
      ]
    },
    {
      "cell_type": "markdown",
      "metadata": {
        "id": "VNMrWJ-ZehEj"
      },
      "source": [
        "### Tratamento de Nulos\n",
        "\n",
        "1. `age`, tem valores nulos. Input o valor médio de `age` nos valores nulos de idade.\n",
        "2. `gender`, possui valores '' (não nulos, mas ''). Altere esses valores para  \"not_informed\".\n",
        "\n"
      ]
    },
    {
      "cell_type": "code",
      "metadata": {
        "colab": {
          "base_uri": "https://localhost:8080/",
          "height": 86
        },
        "id": "ESBgpUZ_sAzd",
        "outputId": "8150c5cf-bbf8-4b5d-fd61-91b3b0c9df15"
      },
      "source": [
        "colSums(is.na(df))"
      ],
      "execution_count": null,
      "outputs": [
        {
          "output_type": "display_data",
          "data": {
            "text/plain": [
              "        name     gradyear       gender          age      friends   basketball \n",
              "           0            0            0          131            0            0 \n",
              "    football       soccer     softball   volleyball     swimming cheerleading \n",
              "           0            0            0            0            0            0 \n",
              "    baseball       tennis       sports         cute          sex         sexy \n",
              "           0            0            0            0            0            0 \n",
              "         hot       kissed        dance         band     marching        music \n",
              "           0            0            0            0            0            0 \n",
              "        rock          god       church        jesus        bible         hair \n",
              "           0            0            0            0            0            0 \n",
              "       dress       blonde         mall     shopping      clothes    hollister \n",
              "           0            0            0            0            0            0 \n",
              " abercrombie          die        death        drunk        drugs \n",
              "           0            0            0            0            0 "
            ],
            "text/latex": "\\begin{description*}\n\\item[name] 0\n\\item[gradyear] 0\n\\item[gender] 0\n\\item[age] 131\n\\item[friends] 0\n\\item[basketball] 0\n\\item[football] 0\n\\item[soccer] 0\n\\item[softball] 0\n\\item[volleyball] 0\n\\item[swimming] 0\n\\item[cheerleading] 0\n\\item[baseball] 0\n\\item[tennis] 0\n\\item[sports] 0\n\\item[cute] 0\n\\item[sex] 0\n\\item[sexy] 0\n\\item[hot] 0\n\\item[kissed] 0\n\\item[dance] 0\n\\item[band] 0\n\\item[marching] 0\n\\item[music] 0\n\\item[rock] 0\n\\item[god] 0\n\\item[church] 0\n\\item[jesus] 0\n\\item[bible] 0\n\\item[hair] 0\n\\item[dress] 0\n\\item[blonde] 0\n\\item[mall] 0\n\\item[shopping] 0\n\\item[clothes] 0\n\\item[hollister] 0\n\\item[abercrombie] 0\n\\item[die] 0\n\\item[death] 0\n\\item[drunk] 0\n\\item[drugs] 0\n\\end{description*}\n",
            "text/markdown": "name\n:   0gradyear\n:   0gender\n:   0age\n:   131friends\n:   0basketball\n:   0football\n:   0soccer\n:   0softball\n:   0volleyball\n:   0swimming\n:   0cheerleading\n:   0baseball\n:   0tennis\n:   0sports\n:   0cute\n:   0sex\n:   0sexy\n:   0hot\n:   0kissed\n:   0dance\n:   0band\n:   0marching\n:   0music\n:   0rock\n:   0god\n:   0church\n:   0jesus\n:   0bible\n:   0hair\n:   0dress\n:   0blonde\n:   0mall\n:   0shopping\n:   0clothes\n:   0hollister\n:   0abercrombie\n:   0die\n:   0death\n:   0drunk\n:   0drugs\n:   0\n\n",
            "text/html": [
              "<style>\n",
              ".dl-inline {width: auto; margin:0; padding: 0}\n",
              ".dl-inline>dt, .dl-inline>dd {float: none; width: auto; display: inline-block}\n",
              ".dl-inline>dt::after {content: \":\\0020\"; padding-right: .5ex}\n",
              ".dl-inline>dt:not(:first-of-type) {padding-left: .5ex}\n",
              "</style><dl class=dl-inline><dt>name</dt><dd>0</dd><dt>gradyear</dt><dd>0</dd><dt>gender</dt><dd>0</dd><dt>age</dt><dd>131</dd><dt>friends</dt><dd>0</dd><dt>basketball</dt><dd>0</dd><dt>football</dt><dd>0</dd><dt>soccer</dt><dd>0</dd><dt>softball</dt><dd>0</dd><dt>volleyball</dt><dd>0</dd><dt>swimming</dt><dd>0</dd><dt>cheerleading</dt><dd>0</dd><dt>baseball</dt><dd>0</dd><dt>tennis</dt><dd>0</dd><dt>sports</dt><dd>0</dd><dt>cute</dt><dd>0</dd><dt>sex</dt><dd>0</dd><dt>sexy</dt><dd>0</dd><dt>hot</dt><dd>0</dd><dt>kissed</dt><dd>0</dd><dt>dance</dt><dd>0</dd><dt>band</dt><dd>0</dd><dt>marching</dt><dd>0</dd><dt>music</dt><dd>0</dd><dt>rock</dt><dd>0</dd><dt>god</dt><dd>0</dd><dt>church</dt><dd>0</dd><dt>jesus</dt><dd>0</dd><dt>bible</dt><dd>0</dd><dt>hair</dt><dd>0</dd><dt>dress</dt><dd>0</dd><dt>blonde</dt><dd>0</dd><dt>mall</dt><dd>0</dd><dt>shopping</dt><dd>0</dd><dt>clothes</dt><dd>0</dd><dt>hollister</dt><dd>0</dd><dt>abercrombie</dt><dd>0</dd><dt>die</dt><dd>0</dd><dt>death</dt><dd>0</dd><dt>drunk</dt><dd>0</dd><dt>drugs</dt><dd>0</dd></dl>\n"
            ]
          },
          "metadata": {}
        }
      ]
    },
    {
      "cell_type": "code",
      "metadata": {
        "colab": {
          "base_uri": "https://localhost:8080/",
          "height": 86
        },
        "id": "Y3tH_MKOsJFF",
        "outputId": "cbd98b96-9a19-4400-fbc0-4ebddda6a2a3"
      },
      "source": [
        "df[is.na(df$age),]$age = mean(df$age, na.rm = TRUE)\n",
        "colSums(is.na(df))"
      ],
      "execution_count": null,
      "outputs": [
        {
          "output_type": "display_data",
          "data": {
            "text/plain": [
              "        name     gradyear       gender          age      friends   basketball \n",
              "           0            0            0            0            0            0 \n",
              "    football       soccer     softball   volleyball     swimming cheerleading \n",
              "           0            0            0            0            0            0 \n",
              "    baseball       tennis       sports         cute          sex         sexy \n",
              "           0            0            0            0            0            0 \n",
              "         hot       kissed        dance         band     marching        music \n",
              "           0            0            0            0            0            0 \n",
              "        rock          god       church        jesus        bible         hair \n",
              "           0            0            0            0            0            0 \n",
              "       dress       blonde         mall     shopping      clothes    hollister \n",
              "           0            0            0            0            0            0 \n",
              " abercrombie          die        death        drunk        drugs \n",
              "           0            0            0            0            0 "
            ],
            "text/latex": "\\begin{description*}\n\\item[name] 0\n\\item[gradyear] 0\n\\item[gender] 0\n\\item[age] 0\n\\item[friends] 0\n\\item[basketball] 0\n\\item[football] 0\n\\item[soccer] 0\n\\item[softball] 0\n\\item[volleyball] 0\n\\item[swimming] 0\n\\item[cheerleading] 0\n\\item[baseball] 0\n\\item[tennis] 0\n\\item[sports] 0\n\\item[cute] 0\n\\item[sex] 0\n\\item[sexy] 0\n\\item[hot] 0\n\\item[kissed] 0\n\\item[dance] 0\n\\item[band] 0\n\\item[marching] 0\n\\item[music] 0\n\\item[rock] 0\n\\item[god] 0\n\\item[church] 0\n\\item[jesus] 0\n\\item[bible] 0\n\\item[hair] 0\n\\item[dress] 0\n\\item[blonde] 0\n\\item[mall] 0\n\\item[shopping] 0\n\\item[clothes] 0\n\\item[hollister] 0\n\\item[abercrombie] 0\n\\item[die] 0\n\\item[death] 0\n\\item[drunk] 0\n\\item[drugs] 0\n\\end{description*}\n",
            "text/markdown": "name\n:   0gradyear\n:   0gender\n:   0age\n:   0friends\n:   0basketball\n:   0football\n:   0soccer\n:   0softball\n:   0volleyball\n:   0swimming\n:   0cheerleading\n:   0baseball\n:   0tennis\n:   0sports\n:   0cute\n:   0sex\n:   0sexy\n:   0hot\n:   0kissed\n:   0dance\n:   0band\n:   0marching\n:   0music\n:   0rock\n:   0god\n:   0church\n:   0jesus\n:   0bible\n:   0hair\n:   0dress\n:   0blonde\n:   0mall\n:   0shopping\n:   0clothes\n:   0hollister\n:   0abercrombie\n:   0die\n:   0death\n:   0drunk\n:   0drugs\n:   0\n\n",
            "text/html": [
              "<style>\n",
              ".dl-inline {width: auto; margin:0; padding: 0}\n",
              ".dl-inline>dt, .dl-inline>dd {float: none; width: auto; display: inline-block}\n",
              ".dl-inline>dt::after {content: \":\\0020\"; padding-right: .5ex}\n",
              ".dl-inline>dt:not(:first-of-type) {padding-left: .5ex}\n",
              "</style><dl class=dl-inline><dt>name</dt><dd>0</dd><dt>gradyear</dt><dd>0</dd><dt>gender</dt><dd>0</dd><dt>age</dt><dd>0</dd><dt>friends</dt><dd>0</dd><dt>basketball</dt><dd>0</dd><dt>football</dt><dd>0</dd><dt>soccer</dt><dd>0</dd><dt>softball</dt><dd>0</dd><dt>volleyball</dt><dd>0</dd><dt>swimming</dt><dd>0</dd><dt>cheerleading</dt><dd>0</dd><dt>baseball</dt><dd>0</dd><dt>tennis</dt><dd>0</dd><dt>sports</dt><dd>0</dd><dt>cute</dt><dd>0</dd><dt>sex</dt><dd>0</dd><dt>sexy</dt><dd>0</dd><dt>hot</dt><dd>0</dd><dt>kissed</dt><dd>0</dd><dt>dance</dt><dd>0</dd><dt>band</dt><dd>0</dd><dt>marching</dt><dd>0</dd><dt>music</dt><dd>0</dd><dt>rock</dt><dd>0</dd><dt>god</dt><dd>0</dd><dt>church</dt><dd>0</dd><dt>jesus</dt><dd>0</dd><dt>bible</dt><dd>0</dd><dt>hair</dt><dd>0</dd><dt>dress</dt><dd>0</dd><dt>blonde</dt><dd>0</dd><dt>mall</dt><dd>0</dd><dt>shopping</dt><dd>0</dd><dt>clothes</dt><dd>0</dd><dt>hollister</dt><dd>0</dd><dt>abercrombie</dt><dd>0</dd><dt>die</dt><dd>0</dd><dt>death</dt><dd>0</dd><dt>drunk</dt><dd>0</dd><dt>drugs</dt><dd>0</dd></dl>\n"
            ]
          },
          "metadata": {}
        }
      ]
    },
    {
      "cell_type": "code",
      "metadata": {
        "colab": {
          "base_uri": "https://localhost:8080/",
          "height": 34
        },
        "id": "8hxuXMwVqJxQ",
        "outputId": "57dc6fa0-e366-4faa-f905-41de762c788d"
      },
      "source": [
        "mean(df$age)"
      ],
      "execution_count": null,
      "outputs": [
        {
          "output_type": "display_data",
          "data": {
            "text/plain": [
              "[1] 17.41003"
            ],
            "text/latex": "17.4100304372842",
            "text/markdown": "17.4100304372842",
            "text/html": [
              "17.4100304372842"
            ]
          },
          "metadata": {}
        }
      ]
    },
    {
      "cell_type": "code",
      "metadata": {
        "colab": {
          "base_uri": "https://localhost:8080/",
          "height": 69
        },
        "id": "UvK_AfEhp_5c",
        "outputId": "dfe3c61c-0500-44c1-b549-c1cba0b3ba9c"
      },
      "source": [
        "table(df$gender)"
      ],
      "execution_count": null,
      "outputs": [
        {
          "output_type": "display_data",
          "data": {
            "text/plain": [
              "\n",
              "      F   M \n",
              " 85 707 208 "
            ]
          },
          "metadata": {}
        }
      ]
    },
    {
      "cell_type": "code",
      "metadata": {
        "colab": {
          "base_uri": "https://localhost:8080/",
          "height": 34
        },
        "id": "bxWfPGo7s6Ut",
        "outputId": "d2ddb719-316c-46ae-eb33-2fbd7cd28676"
      },
      "source": [
        "nrow( df[ df$gender == '' , ] )"
      ],
      "execution_count": null,
      "outputs": [
        {
          "output_type": "display_data",
          "data": {
            "text/plain": [
              "[1] 85"
            ],
            "text/latex": "85",
            "text/markdown": "85",
            "text/html": [
              "85"
            ]
          },
          "metadata": {}
        }
      ]
    },
    {
      "cell_type": "code",
      "metadata": {
        "id": "8iQFJc0_qJKW"
      },
      "source": [
        "df$gender = ifelse(df$gender == '', 'not informed' , df$gender )"
      ],
      "execution_count": null,
      "outputs": []
    },
    {
      "cell_type": "code",
      "metadata": {
        "colab": {
          "base_uri": "https://localhost:8080/",
          "height": 69
        },
        "id": "A_IJBCQ8rYxF",
        "outputId": "5abf0942-0735-469e-c195-ca5309337bf9"
      },
      "source": [
        "table(df$gender)"
      ],
      "execution_count": null,
      "outputs": [
        {
          "output_type": "display_data",
          "data": {
            "text/plain": [
              "\n",
              "           F            M not informed \n",
              "         707          208           85 "
            ]
          },
          "metadata": {}
        }
      ]
    },
    {
      "cell_type": "markdown",
      "metadata": {
        "id": "VOowKalGfIwU"
      },
      "source": [
        "### Encode \n",
        "\n",
        "Faça o *hot encode* do atributo `gender`, único não numérico que será empregado. Crie um novo atributo para cada um dos valores de `gender` (*).\n",
        "\n",
        "<br>\n",
        "<br>\n",
        "<small>\n",
        "Por simplicidade, não consideraremos aqui a exclusão de um valor por multicolinearidade.\n",
        "\n"
      ]
    },
    {
      "cell_type": "code",
      "metadata": {
        "colab": {
          "base_uri": "https://localhost:8080/"
        },
        "id": "iwjEAq7Uud3P",
        "outputId": "dcb926ae-6504-4f7b-e0e3-e199029cd5af"
      },
      "source": [
        "install.packages('dummies')"
      ],
      "execution_count": null,
      "outputs": [
        {
          "output_type": "stream",
          "name": "stderr",
          "text": [
            "Installing package into ‘/usr/local/lib/R/site-library’\n",
            "(as ‘lib’ is unspecified)\n",
            "\n"
          ]
        }
      ]
    },
    {
      "cell_type": "code",
      "metadata": {
        "id": "iMKtkEzmOFjy"
      },
      "source": [
        "library(dummies)"
      ],
      "execution_count": null,
      "outputs": []
    },
    {
      "cell_type": "code",
      "metadata": {
        "colab": {
          "base_uri": "https://localhost:8080/",
          "height": 104
        },
        "id": "K1z5z-d5ujum",
        "outputId": "15883e8b-3454-4d9c-8535-ccfb45ad3bc4"
      },
      "source": [
        "df = dummy.data.frame('gender',data=df,sep='_',drop=FALSE)\n",
        "colnames(df)"
      ],
      "execution_count": null,
      "outputs": [
        {
          "output_type": "stream",
          "name": "stderr",
          "text": [
            "Warning message in model.matrix.default(~x - 1, model.frame(~x - 1), contrasts = FALSE):\n",
            "“non-list contrasts argument ignored”\n"
          ]
        },
        {
          "output_type": "display_data",
          "data": {
            "text/plain": [
              " [1] \"name\"                \"gradyear\"            \"gender_F\"           \n",
              " [4] \"gender_M\"            \"gender_not informed\" \"age\"                \n",
              " [7] \"friends\"             \"basketball\"          \"football\"           \n",
              "[10] \"soccer\"              \"softball\"            \"volleyball\"         \n",
              "[13] \"swimming\"            \"cheerleading\"        \"baseball\"           \n",
              "[16] \"tennis\"              \"sports\"              \"cute\"               \n",
              "[19] \"sex\"                 \"sexy\"                \"hot\"                \n",
              "[22] \"kissed\"              \"dance\"               \"band\"               \n",
              "[25] \"marching\"            \"music\"               \"rock\"               \n",
              "[28] \"god\"                 \"church\"              \"jesus\"              \n",
              "[31] \"bible\"               \"hair\"                \"dress\"              \n",
              "[34] \"blonde\"              \"mall\"                \"shopping\"           \n",
              "[37] \"clothes\"             \"hollister\"           \"abercrombie\"        \n",
              "[40] \"die\"                 \"death\"               \"drunk\"              \n",
              "[43] \"drugs\"              "
            ],
            "text/latex": "\\begin{enumerate*}\n\\item 'name'\n\\item 'gradyear'\n\\item 'gender\\_F'\n\\item 'gender\\_M'\n\\item 'gender\\_not informed'\n\\item 'age'\n\\item 'friends'\n\\item 'basketball'\n\\item 'football'\n\\item 'soccer'\n\\item 'softball'\n\\item 'volleyball'\n\\item 'swimming'\n\\item 'cheerleading'\n\\item 'baseball'\n\\item 'tennis'\n\\item 'sports'\n\\item 'cute'\n\\item 'sex'\n\\item 'sexy'\n\\item 'hot'\n\\item 'kissed'\n\\item 'dance'\n\\item 'band'\n\\item 'marching'\n\\item 'music'\n\\item 'rock'\n\\item 'god'\n\\item 'church'\n\\item 'jesus'\n\\item 'bible'\n\\item 'hair'\n\\item 'dress'\n\\item 'blonde'\n\\item 'mall'\n\\item 'shopping'\n\\item 'clothes'\n\\item 'hollister'\n\\item 'abercrombie'\n\\item 'die'\n\\item 'death'\n\\item 'drunk'\n\\item 'drugs'\n\\end{enumerate*}\n",
            "text/markdown": "1. 'name'\n2. 'gradyear'\n3. 'gender_F'\n4. 'gender_M'\n5. 'gender_not informed'\n6. 'age'\n7. 'friends'\n8. 'basketball'\n9. 'football'\n10. 'soccer'\n11. 'softball'\n12. 'volleyball'\n13. 'swimming'\n14. 'cheerleading'\n15. 'baseball'\n16. 'tennis'\n17. 'sports'\n18. 'cute'\n19. 'sex'\n20. 'sexy'\n21. 'hot'\n22. 'kissed'\n23. 'dance'\n24. 'band'\n25. 'marching'\n26. 'music'\n27. 'rock'\n28. 'god'\n29. 'church'\n30. 'jesus'\n31. 'bible'\n32. 'hair'\n33. 'dress'\n34. 'blonde'\n35. 'mall'\n36. 'shopping'\n37. 'clothes'\n38. 'hollister'\n39. 'abercrombie'\n40. 'die'\n41. 'death'\n42. 'drunk'\n43. 'drugs'\n\n\n",
            "text/html": [
              "<style>\n",
              ".list-inline {list-style: none; margin:0; padding: 0}\n",
              ".list-inline>li {display: inline-block}\n",
              ".list-inline>li:not(:last-child)::after {content: \"\\00b7\"; padding: 0 .5ex}\n",
              "</style>\n",
              "<ol class=list-inline><li>'name'</li><li>'gradyear'</li><li>'gender_F'</li><li>'gender_M'</li><li>'gender_not informed'</li><li>'age'</li><li>'friends'</li><li>'basketball'</li><li>'football'</li><li>'soccer'</li><li>'softball'</li><li>'volleyball'</li><li>'swimming'</li><li>'cheerleading'</li><li>'baseball'</li><li>'tennis'</li><li>'sports'</li><li>'cute'</li><li>'sex'</li><li>'sexy'</li><li>'hot'</li><li>'kissed'</li><li>'dance'</li><li>'band'</li><li>'marching'</li><li>'music'</li><li>'rock'</li><li>'god'</li><li>'church'</li><li>'jesus'</li><li>'bible'</li><li>'hair'</li><li>'dress'</li><li>'blonde'</li><li>'mall'</li><li>'shopping'</li><li>'clothes'</li><li>'hollister'</li><li>'abercrombie'</li><li>'die'</li><li>'death'</li><li>'drunk'</li><li>'drugs'</li></ol>\n"
            ]
          },
          "metadata": {}
        }
      ]
    },
    {
      "cell_type": "code",
      "metadata": {
        "colab": {
          "base_uri": "https://localhost:8080/",
          "height": 324
        },
        "id": "jTZa-VNUvx1e",
        "outputId": "a46b4ca2-beb3-46b2-9d1d-d7b709803de6"
      },
      "source": [
        "head(df)"
      ],
      "execution_count": null,
      "outputs": [
        {
          "output_type": "display_data",
          "data": {
            "text/plain": [
              "  name                          gradyear gender_F gender_M gender_not informed\n",
              "1 Q0bcT0yVsaupy2DJ3P8m2owDPIwNL 2006     0        1        0                  \n",
              "2 eeQvCDZZbJPoXTL13FaVgx        2006     1        0        0                  \n",
              "3 oK3Mpwj7SfPnGLHG1V5yQBEOgn    2006     0        1        0                  \n",
              "4 Z76KbVabKtfN2tLGthyk          2006     1        0        0                  \n",
              "5 4Pmrj8MGAOODv4Wmot6htP1       2006     0        0        1                  \n",
              "6 rR2PUmc8uLtBprg               2006     1        0        0                  \n",
              "  age      friends basketball football soccer ⋯ blonde mall shopping clothes\n",
              "1 18.98200   7     0          0        0      ⋯ 0      0    0        0      \n",
              "2 18.80100   0     0          1        0      ⋯ 0      1    0        0      \n",
              "3 18.33500  69     0          1        0      ⋯ 0      0    0        0      \n",
              "4 18.87500   0     0          0        0      ⋯ 0      0    0        0      \n",
              "5 18.99500  10     0          0        0      ⋯ 0      0    2        0      \n",
              "6 17.41003 142     0          0        0      ⋯ 0      0    1        0      \n",
              "  hollister abercrombie die death drunk drugs\n",
              "1 0         0           0   0     0     0    \n",
              "2 0         0           0   0     0     0    \n",
              "3 0         0           0   1     0     0    \n",
              "4 0         0           0   0     0     0    \n",
              "5 0         0           0   0     1     1    \n",
              "6 0         0           0   0     1     0    "
            ],
            "text/latex": "A data.frame: 6 × 43\n\\begin{tabular}{r|lllllllllllllllllllll}\n  & name & gradyear & gender\\_F & gender\\_M & gender\\_not informed & age & friends & basketball & football & soccer & ⋯ & blonde & mall & shopping & clothes & hollister & abercrombie & die & death & drunk & drugs\\\\\n  & <chr> & <int> & <int> & <int> & <int> & <dbl> & <int> & <int> & <int> & <int> & ⋯ & <int> & <int> & <int> & <int> & <int> & <int> & <int> & <int> & <int> & <int>\\\\\n\\hline\n\t1 & Q0bcT0yVsaupy2DJ3P8m2owDPIwNL & 2006 & 0 & 1 & 0 & 18.98200 &   7 & 0 & 0 & 0 & ⋯ & 0 & 0 & 0 & 0 & 0 & 0 & 0 & 0 & 0 & 0\\\\\n\t2 & eeQvCDZZbJPoXTL13FaVgx        & 2006 & 1 & 0 & 0 & 18.80100 &   0 & 0 & 1 & 0 & ⋯ & 0 & 1 & 0 & 0 & 0 & 0 & 0 & 0 & 0 & 0\\\\\n\t3 & oK3Mpwj7SfPnGLHG1V5yQBEOgn    & 2006 & 0 & 1 & 0 & 18.33500 &  69 & 0 & 1 & 0 & ⋯ & 0 & 0 & 0 & 0 & 0 & 0 & 0 & 1 & 0 & 0\\\\\n\t4 & Z76KbVabKtfN2tLGthyk          & 2006 & 1 & 0 & 0 & 18.87500 &   0 & 0 & 0 & 0 & ⋯ & 0 & 0 & 0 & 0 & 0 & 0 & 0 & 0 & 0 & 0\\\\\n\t5 & 4Pmrj8MGAOODv4Wmot6htP1       & 2006 & 0 & 0 & 1 & 18.99500 &  10 & 0 & 0 & 0 & ⋯ & 0 & 0 & 2 & 0 & 0 & 0 & 0 & 0 & 1 & 1\\\\\n\t6 & rR2PUmc8uLtBprg               & 2006 & 1 & 0 & 0 & 17.41003 & 142 & 0 & 0 & 0 & ⋯ & 0 & 0 & 1 & 0 & 0 & 0 & 0 & 0 & 1 & 0\\\\\n\\end{tabular}\n",
            "text/markdown": "\nA data.frame: 6 × 43\n\n| <!--/--> | name &lt;chr&gt; | gradyear &lt;int&gt; | gender_F &lt;int&gt; | gender_M &lt;int&gt; | gender_not informed &lt;int&gt; | age &lt;dbl&gt; | friends &lt;int&gt; | basketball &lt;int&gt; | football &lt;int&gt; | soccer &lt;int&gt; | ⋯ ⋯ | blonde &lt;int&gt; | mall &lt;int&gt; | shopping &lt;int&gt; | clothes &lt;int&gt; | hollister &lt;int&gt; | abercrombie &lt;int&gt; | die &lt;int&gt; | death &lt;int&gt; | drunk &lt;int&gt; | drugs &lt;int&gt; |\n|---|---|---|---|---|---|---|---|---|---|---|---|---|---|---|---|---|---|---|---|---|---|\n| 1 | Q0bcT0yVsaupy2DJ3P8m2owDPIwNL | 2006 | 0 | 1 | 0 | 18.98200 |   7 | 0 | 0 | 0 | ⋯ | 0 | 0 | 0 | 0 | 0 | 0 | 0 | 0 | 0 | 0 |\n| 2 | eeQvCDZZbJPoXTL13FaVgx        | 2006 | 1 | 0 | 0 | 18.80100 |   0 | 0 | 1 | 0 | ⋯ | 0 | 1 | 0 | 0 | 0 | 0 | 0 | 0 | 0 | 0 |\n| 3 | oK3Mpwj7SfPnGLHG1V5yQBEOgn    | 2006 | 0 | 1 | 0 | 18.33500 |  69 | 0 | 1 | 0 | ⋯ | 0 | 0 | 0 | 0 | 0 | 0 | 0 | 1 | 0 | 0 |\n| 4 | Z76KbVabKtfN2tLGthyk          | 2006 | 1 | 0 | 0 | 18.87500 |   0 | 0 | 0 | 0 | ⋯ | 0 | 0 | 0 | 0 | 0 | 0 | 0 | 0 | 0 | 0 |\n| 5 | 4Pmrj8MGAOODv4Wmot6htP1       | 2006 | 0 | 0 | 1 | 18.99500 |  10 | 0 | 0 | 0 | ⋯ | 0 | 0 | 2 | 0 | 0 | 0 | 0 | 0 | 1 | 1 |\n| 6 | rR2PUmc8uLtBprg               | 2006 | 1 | 0 | 0 | 17.41003 | 142 | 0 | 0 | 0 | ⋯ | 0 | 0 | 1 | 0 | 0 | 0 | 0 | 0 | 1 | 0 |\n\n",
            "text/html": [
              "<table class=\"dataframe\">\n",
              "<caption>A data.frame: 6 × 43</caption>\n",
              "<thead>\n",
              "\t<tr><th></th><th scope=col>name</th><th scope=col>gradyear</th><th scope=col>gender_F</th><th scope=col>gender_M</th><th scope=col>gender_not informed</th><th scope=col>age</th><th scope=col>friends</th><th scope=col>basketball</th><th scope=col>football</th><th scope=col>soccer</th><th scope=col>⋯</th><th scope=col>blonde</th><th scope=col>mall</th><th scope=col>shopping</th><th scope=col>clothes</th><th scope=col>hollister</th><th scope=col>abercrombie</th><th scope=col>die</th><th scope=col>death</th><th scope=col>drunk</th><th scope=col>drugs</th></tr>\n",
              "\t<tr><th></th><th scope=col>&lt;chr&gt;</th><th scope=col>&lt;int&gt;</th><th scope=col>&lt;int&gt;</th><th scope=col>&lt;int&gt;</th><th scope=col>&lt;int&gt;</th><th scope=col>&lt;dbl&gt;</th><th scope=col>&lt;int&gt;</th><th scope=col>&lt;int&gt;</th><th scope=col>&lt;int&gt;</th><th scope=col>&lt;int&gt;</th><th scope=col>⋯</th><th scope=col>&lt;int&gt;</th><th scope=col>&lt;int&gt;</th><th scope=col>&lt;int&gt;</th><th scope=col>&lt;int&gt;</th><th scope=col>&lt;int&gt;</th><th scope=col>&lt;int&gt;</th><th scope=col>&lt;int&gt;</th><th scope=col>&lt;int&gt;</th><th scope=col>&lt;int&gt;</th><th scope=col>&lt;int&gt;</th></tr>\n",
              "</thead>\n",
              "<tbody>\n",
              "\t<tr><th scope=row>1</th><td>Q0bcT0yVsaupy2DJ3P8m2owDPIwNL</td><td>2006</td><td>0</td><td>1</td><td>0</td><td>18.98200</td><td>  7</td><td>0</td><td>0</td><td>0</td><td>⋯</td><td>0</td><td>0</td><td>0</td><td>0</td><td>0</td><td>0</td><td>0</td><td>0</td><td>0</td><td>0</td></tr>\n",
              "\t<tr><th scope=row>2</th><td>eeQvCDZZbJPoXTL13FaVgx       </td><td>2006</td><td>1</td><td>0</td><td>0</td><td>18.80100</td><td>  0</td><td>0</td><td>1</td><td>0</td><td>⋯</td><td>0</td><td>1</td><td>0</td><td>0</td><td>0</td><td>0</td><td>0</td><td>0</td><td>0</td><td>0</td></tr>\n",
              "\t<tr><th scope=row>3</th><td>oK3Mpwj7SfPnGLHG1V5yQBEOgn   </td><td>2006</td><td>0</td><td>1</td><td>0</td><td>18.33500</td><td> 69</td><td>0</td><td>1</td><td>0</td><td>⋯</td><td>0</td><td>0</td><td>0</td><td>0</td><td>0</td><td>0</td><td>0</td><td>1</td><td>0</td><td>0</td></tr>\n",
              "\t<tr><th scope=row>4</th><td>Z76KbVabKtfN2tLGthyk         </td><td>2006</td><td>1</td><td>0</td><td>0</td><td>18.87500</td><td>  0</td><td>0</td><td>0</td><td>0</td><td>⋯</td><td>0</td><td>0</td><td>0</td><td>0</td><td>0</td><td>0</td><td>0</td><td>0</td><td>0</td><td>0</td></tr>\n",
              "\t<tr><th scope=row>5</th><td>4Pmrj8MGAOODv4Wmot6htP1      </td><td>2006</td><td>0</td><td>0</td><td>1</td><td>18.99500</td><td> 10</td><td>0</td><td>0</td><td>0</td><td>⋯</td><td>0</td><td>0</td><td>2</td><td>0</td><td>0</td><td>0</td><td>0</td><td>0</td><td>1</td><td>1</td></tr>\n",
              "\t<tr><th scope=row>6</th><td>rR2PUmc8uLtBprg              </td><td>2006</td><td>1</td><td>0</td><td>0</td><td>17.41003</td><td>142</td><td>0</td><td>0</td><td>0</td><td>⋯</td><td>0</td><td>0</td><td>1</td><td>0</td><td>0</td><td>0</td><td>0</td><td>0</td><td>1</td><td>0</td></tr>\n",
              "</tbody>\n",
              "</table>\n"
            ]
          },
          "metadata": {}
        }
      ]
    },
    {
      "cell_type": "markdown",
      "metadata": {
        "id": "ZuCBs8leee7D"
      },
      "source": [
        "### Normalização\n",
        "\n",
        "Normalize os dados empregando a função `scale`.\n",
        "\n",
        "$$ z_i = \\frac{x_i - \\bar{x}}{\\sigma(x)}$$\n",
        "\n",
        "Não esqueça de excluir dados não úteis ao modelo, com nome e o ano `gradyear` (todos aqui 2006)."
      ]
    },
    {
      "cell_type": "code",
      "metadata": {
        "id": "35Bl0BdNQpnC"
      },
      "source": [
        "X = scale(df[,-c(1,2)]) # excluindo nome e gradyear, todos 2006"
      ],
      "execution_count": null,
      "outputs": []
    },
    {
      "cell_type": "code",
      "metadata": {
        "colab": {
          "base_uri": "https://localhost:8080/",
          "height": 292
        },
        "id": "9VsM8QFDwC9m",
        "outputId": "7d929749-3dda-4fb9-92a0-b206f378e687"
      },
      "source": [
        "head(X)"
      ],
      "execution_count": null,
      "outputs": [
        {
          "output_type": "display_data",
          "data": {
            "text/plain": [
              "  gender_F   gender_M   gender_not informed age       friends    basketball\n",
              "1 -1.5525966  1.9503550 -0.3046363          0.1784111 -0.5963135 -0.2488646\n",
              "2  0.6434382 -0.5122144 -0.3046363          0.1578684 -0.8076117 -0.2488646\n",
              "3 -1.5525966  1.9503550 -0.3046363          0.1049797  1.2751843 -0.2488646\n",
              "4  0.6434382 -0.5122144 -0.3046363          0.1662671 -0.8076117 -0.2488646\n",
              "5 -1.5525966 -0.5122144  3.2793202          0.1798865 -0.5057572 -0.2488646\n",
              "6  0.6434382 -0.5122144 -0.3046363          0.0000000  3.4787221 -0.2488646\n",
              "  football   soccer     softball   volleyball ⋯ blonde    mall       shopping  \n",
              "1 -0.3694544 -0.2294894 -0.2115709 -0.1779684 ⋯ -0.174448 -0.3218736 -0.4972035\n",
              "2  0.9133734 -0.2294894 -0.2115709 -0.1779684 ⋯ -0.174448  1.4763029 -0.4972035\n",
              "3  0.9133734 -0.2294894 -0.2115709 -0.1779684 ⋯ -0.174448 -0.3218736 -0.4972035\n",
              "4 -0.3694544 -0.2294894 -0.2115709 -0.1779684 ⋯ -0.174448 -0.3218736 -0.4972035\n",
              "5 -0.3694544 -0.2294894 -0.2115709 -0.1779684 ⋯ -0.174448 -0.3218736  2.4890037\n",
              "6 -0.3694544 -0.2294894 -0.2115709 -0.1779684 ⋯ -0.174448 -0.3218736  0.9959001\n",
              "  clothes    hollister  abercrombie die        death      drunk      drugs     \n",
              "1 -0.2929542 -0.1717734 -0.1620071  -0.2853395 -0.2574593 -0.2420192 -0.1554235\n",
              "2 -0.2929542 -0.1717734 -0.1620071  -0.2853395 -0.2574593 -0.2420192 -0.1554235\n",
              "3 -0.2929542 -0.1717734 -0.1620071  -0.2853395  2.5109198 -0.2420192 -0.1554235\n",
              "4 -0.2929542 -0.1717734 -0.1620071  -0.2853395 -0.2574593 -0.2420192 -0.1554235\n",
              "5 -0.2929542 -0.1717734 -0.1620071  -0.2853395 -0.2574593  1.7748074  3.3769295\n",
              "6 -0.2929542 -0.1717734 -0.1620071  -0.2853395 -0.2574593  1.7748074 -0.1554235"
            ],
            "text/latex": "A matrix: 6 × 41 of type dbl\n\\begin{tabular}{r|lllllllllllllllllllll}\n  & gender\\_F & gender\\_M & gender\\_not informed & age & friends & basketball & football & soccer & softball & volleyball & ⋯ & blonde & mall & shopping & clothes & hollister & abercrombie & die & death & drunk & drugs\\\\\n\\hline\n\t1 & -1.5525966 &  1.9503550 & -0.3046363 & 0.1784111 & -0.5963135 & -0.2488646 & -0.3694544 & -0.2294894 & -0.2115709 & -0.1779684 & ⋯ & -0.174448 & -0.3218736 & -0.4972035 & -0.2929542 & -0.1717734 & -0.1620071 & -0.2853395 & -0.2574593 & -0.2420192 & -0.1554235\\\\\n\t2 &  0.6434382 & -0.5122144 & -0.3046363 & 0.1578684 & -0.8076117 & -0.2488646 &  0.9133734 & -0.2294894 & -0.2115709 & -0.1779684 & ⋯ & -0.174448 &  1.4763029 & -0.4972035 & -0.2929542 & -0.1717734 & -0.1620071 & -0.2853395 & -0.2574593 & -0.2420192 & -0.1554235\\\\\n\t3 & -1.5525966 &  1.9503550 & -0.3046363 & 0.1049797 &  1.2751843 & -0.2488646 &  0.9133734 & -0.2294894 & -0.2115709 & -0.1779684 & ⋯ & -0.174448 & -0.3218736 & -0.4972035 & -0.2929542 & -0.1717734 & -0.1620071 & -0.2853395 &  2.5109198 & -0.2420192 & -0.1554235\\\\\n\t4 &  0.6434382 & -0.5122144 & -0.3046363 & 0.1662671 & -0.8076117 & -0.2488646 & -0.3694544 & -0.2294894 & -0.2115709 & -0.1779684 & ⋯ & -0.174448 & -0.3218736 & -0.4972035 & -0.2929542 & -0.1717734 & -0.1620071 & -0.2853395 & -0.2574593 & -0.2420192 & -0.1554235\\\\\n\t5 & -1.5525966 & -0.5122144 &  3.2793202 & 0.1798865 & -0.5057572 & -0.2488646 & -0.3694544 & -0.2294894 & -0.2115709 & -0.1779684 & ⋯ & -0.174448 & -0.3218736 &  2.4890037 & -0.2929542 & -0.1717734 & -0.1620071 & -0.2853395 & -0.2574593 &  1.7748074 &  3.3769295\\\\\n\t6 &  0.6434382 & -0.5122144 & -0.3046363 & 0.0000000 &  3.4787221 & -0.2488646 & -0.3694544 & -0.2294894 & -0.2115709 & -0.1779684 & ⋯ & -0.174448 & -0.3218736 &  0.9959001 & -0.2929542 & -0.1717734 & -0.1620071 & -0.2853395 & -0.2574593 &  1.7748074 & -0.1554235\\\\\n\\end{tabular}\n",
            "text/markdown": "\nA matrix: 6 × 41 of type dbl\n\n| <!--/--> | gender_F | gender_M | gender_not informed | age | friends | basketball | football | soccer | softball | volleyball | ⋯ | blonde | mall | shopping | clothes | hollister | abercrombie | die | death | drunk | drugs |\n|---|---|---|---|---|---|---|---|---|---|---|---|---|---|---|---|---|---|---|---|---|---|\n| 1 | -1.5525966 |  1.9503550 | -0.3046363 | 0.1784111 | -0.5963135 | -0.2488646 | -0.3694544 | -0.2294894 | -0.2115709 | -0.1779684 | ⋯ | -0.174448 | -0.3218736 | -0.4972035 | -0.2929542 | -0.1717734 | -0.1620071 | -0.2853395 | -0.2574593 | -0.2420192 | -0.1554235 |\n| 2 |  0.6434382 | -0.5122144 | -0.3046363 | 0.1578684 | -0.8076117 | -0.2488646 |  0.9133734 | -0.2294894 | -0.2115709 | -0.1779684 | ⋯ | -0.174448 |  1.4763029 | -0.4972035 | -0.2929542 | -0.1717734 | -0.1620071 | -0.2853395 | -0.2574593 | -0.2420192 | -0.1554235 |\n| 3 | -1.5525966 |  1.9503550 | -0.3046363 | 0.1049797 |  1.2751843 | -0.2488646 |  0.9133734 | -0.2294894 | -0.2115709 | -0.1779684 | ⋯ | -0.174448 | -0.3218736 | -0.4972035 | -0.2929542 | -0.1717734 | -0.1620071 | -0.2853395 |  2.5109198 | -0.2420192 | -0.1554235 |\n| 4 |  0.6434382 | -0.5122144 | -0.3046363 | 0.1662671 | -0.8076117 | -0.2488646 | -0.3694544 | -0.2294894 | -0.2115709 | -0.1779684 | ⋯ | -0.174448 | -0.3218736 | -0.4972035 | -0.2929542 | -0.1717734 | -0.1620071 | -0.2853395 | -0.2574593 | -0.2420192 | -0.1554235 |\n| 5 | -1.5525966 | -0.5122144 |  3.2793202 | 0.1798865 | -0.5057572 | -0.2488646 | -0.3694544 | -0.2294894 | -0.2115709 | -0.1779684 | ⋯ | -0.174448 | -0.3218736 |  2.4890037 | -0.2929542 | -0.1717734 | -0.1620071 | -0.2853395 | -0.2574593 |  1.7748074 |  3.3769295 |\n| 6 |  0.6434382 | -0.5122144 | -0.3046363 | 0.0000000 |  3.4787221 | -0.2488646 | -0.3694544 | -0.2294894 | -0.2115709 | -0.1779684 | ⋯ | -0.174448 | -0.3218736 |  0.9959001 | -0.2929542 | -0.1717734 | -0.1620071 | -0.2853395 | -0.2574593 |  1.7748074 | -0.1554235 |\n\n",
            "text/html": [
              "<table class=\"dataframe\">\n",
              "<caption>A matrix: 6 × 41 of type dbl</caption>\n",
              "<thead>\n",
              "\t<tr><th></th><th scope=col>gender_F</th><th scope=col>gender_M</th><th scope=col>gender_not informed</th><th scope=col>age</th><th scope=col>friends</th><th scope=col>basketball</th><th scope=col>football</th><th scope=col>soccer</th><th scope=col>softball</th><th scope=col>volleyball</th><th scope=col>⋯</th><th scope=col>blonde</th><th scope=col>mall</th><th scope=col>shopping</th><th scope=col>clothes</th><th scope=col>hollister</th><th scope=col>abercrombie</th><th scope=col>die</th><th scope=col>death</th><th scope=col>drunk</th><th scope=col>drugs</th></tr>\n",
              "</thead>\n",
              "<tbody>\n",
              "\t<tr><th scope=row>1</th><td>-1.5525966</td><td> 1.9503550</td><td>-0.3046363</td><td>0.1784111</td><td>-0.5963135</td><td>-0.2488646</td><td>-0.3694544</td><td>-0.2294894</td><td>-0.2115709</td><td>-0.1779684</td><td>⋯</td><td>-0.174448</td><td>-0.3218736</td><td>-0.4972035</td><td>-0.2929542</td><td>-0.1717734</td><td>-0.1620071</td><td>-0.2853395</td><td>-0.2574593</td><td>-0.2420192</td><td>-0.1554235</td></tr>\n",
              "\t<tr><th scope=row>2</th><td> 0.6434382</td><td>-0.5122144</td><td>-0.3046363</td><td>0.1578684</td><td>-0.8076117</td><td>-0.2488646</td><td> 0.9133734</td><td>-0.2294894</td><td>-0.2115709</td><td>-0.1779684</td><td>⋯</td><td>-0.174448</td><td> 1.4763029</td><td>-0.4972035</td><td>-0.2929542</td><td>-0.1717734</td><td>-0.1620071</td><td>-0.2853395</td><td>-0.2574593</td><td>-0.2420192</td><td>-0.1554235</td></tr>\n",
              "\t<tr><th scope=row>3</th><td>-1.5525966</td><td> 1.9503550</td><td>-0.3046363</td><td>0.1049797</td><td> 1.2751843</td><td>-0.2488646</td><td> 0.9133734</td><td>-0.2294894</td><td>-0.2115709</td><td>-0.1779684</td><td>⋯</td><td>-0.174448</td><td>-0.3218736</td><td>-0.4972035</td><td>-0.2929542</td><td>-0.1717734</td><td>-0.1620071</td><td>-0.2853395</td><td> 2.5109198</td><td>-0.2420192</td><td>-0.1554235</td></tr>\n",
              "\t<tr><th scope=row>4</th><td> 0.6434382</td><td>-0.5122144</td><td>-0.3046363</td><td>0.1662671</td><td>-0.8076117</td><td>-0.2488646</td><td>-0.3694544</td><td>-0.2294894</td><td>-0.2115709</td><td>-0.1779684</td><td>⋯</td><td>-0.174448</td><td>-0.3218736</td><td>-0.4972035</td><td>-0.2929542</td><td>-0.1717734</td><td>-0.1620071</td><td>-0.2853395</td><td>-0.2574593</td><td>-0.2420192</td><td>-0.1554235</td></tr>\n",
              "\t<tr><th scope=row>5</th><td>-1.5525966</td><td>-0.5122144</td><td> 3.2793202</td><td>0.1798865</td><td>-0.5057572</td><td>-0.2488646</td><td>-0.3694544</td><td>-0.2294894</td><td>-0.2115709</td><td>-0.1779684</td><td>⋯</td><td>-0.174448</td><td>-0.3218736</td><td> 2.4890037</td><td>-0.2929542</td><td>-0.1717734</td><td>-0.1620071</td><td>-0.2853395</td><td>-0.2574593</td><td> 1.7748074</td><td> 3.3769295</td></tr>\n",
              "\t<tr><th scope=row>6</th><td> 0.6434382</td><td>-0.5122144</td><td>-0.3046363</td><td>0.0000000</td><td> 3.4787221</td><td>-0.2488646</td><td>-0.3694544</td><td>-0.2294894</td><td>-0.2115709</td><td>-0.1779684</td><td>⋯</td><td>-0.174448</td><td>-0.3218736</td><td> 0.9959001</td><td>-0.2929542</td><td>-0.1717734</td><td>-0.1620071</td><td>-0.2853395</td><td>-0.2574593</td><td> 1.7748074</td><td>-0.1554235</td></tr>\n",
              "</tbody>\n",
              "</table>\n"
            ]
          },
          "metadata": {}
        }
      ]
    },
    {
      "cell_type": "markdown",
      "metadata": {
        "id": "7vdDMhWYgS00"
      },
      "source": [
        "## Selecione o Usuário \n",
        "\n",
        "Selecione o Usuário que deseja fazer a recomendação de novos amigos.\n",
        "\n",
        "> Selecione usuário de nome: `'eeQvCDZZbJPoXTL13FaVgx'`\n",
        "\n",
        "> Para facilitar é o segundo usuário dos dados!\n"
      ]
    },
    {
      "cell_type": "code",
      "metadata": {
        "colab": {
          "base_uri": "https://localhost:8080/",
          "height": 100
        },
        "id": "fGk9SvGtwIYG",
        "outputId": "ece15b70-effa-4b70-a8db-c34a94e1c546"
      },
      "source": [
        "df[ df$name == 'eeQvCDZZbJPoXTL13FaVgx', ][0]"
      ],
      "execution_count": null,
      "outputs": [
        {
          "output_type": "display_data",
          "data": {
            "text/plain": [
              " \n",
              "2"
            ],
            "text/latex": "A data.frame: 1 × 0\n\\begin{tabular}{r|}\n\t2\\\\\n\\end{tabular}\n",
            "text/markdown": "\nA data.frame: 1 × 0\n\n| 2 |\n\n",
            "text/html": [
              "<table class=\"dataframe\">\n",
              "<caption>A data.frame: 1 × 0</caption>\n",
              "<tbody>\n",
              "\t<tr><th scope=row>2</th></tr>\n",
              "</tbody>\n",
              "</table>\n"
            ]
          },
          "metadata": {}
        }
      ]
    },
    {
      "cell_type": "code",
      "metadata": {
        "colab": {
          "base_uri": "https://localhost:8080/",
          "height": 52
        },
        "id": "taBL0icEwcU2",
        "outputId": "8c65af94-ab4f-45f9-9611-c8274c9a1a4c"
      },
      "source": [
        "head( X[ 2, ] )"
      ],
      "execution_count": null,
      "outputs": [
        {
          "output_type": "display_data",
          "data": {
            "text/plain": [
              "           gender_F            gender_M gender_not informed                 age \n",
              "          0.6434382          -0.5122144          -0.3046363           0.1578684 \n",
              "            friends          basketball \n",
              "         -0.8076117          -0.2488646 "
            ],
            "text/latex": "\\begin{description*}\n\\item[gender\\textbackslash{}\\_F] 0.643438209810712\n\\item[gender\\textbackslash{}\\_M] -0.512214443728051\n\\item[gender\\textbackslash{}\\_not informed] -0.304636305598208\n\\item[age] 0.157868442458602\n\\item[friends] -0.807611690267902\n\\item[basketball] -0.248864626549782\n\\end{description*}\n",
            "text/markdown": "gender_F\n:   0.643438209810712gender_M\n:   -0.512214443728051gender_not informed\n:   -0.304636305598208age\n:   0.157868442458602friends\n:   -0.807611690267902basketball\n:   -0.248864626549782\n\n",
            "text/html": [
              "<style>\n",
              ".dl-inline {width: auto; margin:0; padding: 0}\n",
              ".dl-inline>dt, .dl-inline>dd {float: none; width: auto; display: inline-block}\n",
              ".dl-inline>dt::after {content: \":\\0020\"; padding-right: .5ex}\n",
              ".dl-inline>dt:not(:first-of-type) {padding-left: .5ex}\n",
              "</style><dl class=dl-inline><dt>gender_F</dt><dd>0.643438209810712</dd><dt>gender_M</dt><dd>-0.512214443728051</dd><dt>gender_not informed</dt><dd>-0.304636305598208</dd><dt>age</dt><dd>0.157868442458602</dd><dt>friends</dt><dd>-0.807611690267902</dd><dt>basketball</dt><dd>-0.248864626549782</dd></dl>\n"
            ]
          },
          "metadata": {}
        }
      ]
    },
    {
      "cell_type": "markdown",
      "metadata": {
        "id": "6zwYKRWZhI_k"
      },
      "source": [
        "## Encontre os 3-Vizinhos mais próximos, métrica cosseno\n",
        "\n"
      ]
    },
    {
      "cell_type": "code",
      "metadata": {
        "colab": {
          "base_uri": "https://localhost:8080/",
          "height": 229
        },
        "id": "bf8lkpjPxJNF",
        "outputId": "0bee885b-0ea7-482f-9be5-6b8d8212e49a"
      },
      "source": [
        "A = matrix( \n",
        "  c(2, 4, 3, 1, 5, 7, 5, 9), # the data elements \n",
        "  nrow=4,             # number of rows \n",
        "  ncol=2,              # number of columns \n",
        "  byrow = TRUE)\n",
        "\n",
        "A"
      ],
      "execution_count": null,
      "outputs": [
        {
          "output_type": "display_data",
          "data": {
            "text/plain": [
              "     [,1] [,2]\n",
              "[1,] 2    4   \n",
              "[2,] 3    1   \n",
              "[3,] 5    7   \n",
              "[4,] 5    9   "
            ],
            "text/latex": "A matrix: 4 × 2 of type dbl\n\\begin{tabular}{ll}\n\t 2 & 4\\\\\n\t 3 & 1\\\\\n\t 5 & 7\\\\\n\t 5 & 9\\\\\n\\end{tabular}\n",
            "text/markdown": "\nA matrix: 4 × 2 of type dbl\n\n| 2 | 4 |\n| 3 | 1 |\n| 5 | 7 |\n| 5 | 9 |\n\n",
            "text/html": [
              "<table class=\"dataframe\">\n",
              "<caption>A matrix: 4 × 2 of type dbl</caption>\n",
              "<tbody>\n",
              "\t<tr><td>2</td><td>4</td></tr>\n",
              "\t<tr><td>3</td><td>1</td></tr>\n",
              "\t<tr><td>5</td><td>7</td></tr>\n",
              "\t<tr><td>5</td><td>9</td></tr>\n",
              "</tbody>\n",
              "</table>\n"
            ]
          },
          "metadata": {}
        }
      ]
    },
    {
      "cell_type": "code",
      "metadata": {
        "colab": {
          "base_uri": "https://localhost:8080/"
        },
        "id": "zT082PPW05m3",
        "outputId": "b576b1d6-feb2-4792-d12c-8eee76d98563"
      },
      "source": [
        "install.packages('lsa')"
      ],
      "execution_count": null,
      "outputs": [
        {
          "output_type": "stream",
          "name": "stderr",
          "text": [
            "Installing package into ‘/usr/local/lib/R/site-library’\n",
            "(as ‘lib’ is unspecified)\n",
            "\n"
          ]
        }
      ]
    },
    {
      "cell_type": "code",
      "metadata": {
        "colab": {
          "base_uri": "https://localhost:8080/",
          "height": 160
        },
        "id": "8HuRyTL7zO-3",
        "outputId": "6dc1daab-71e8-4046-de1c-bcd225fa798e"
      },
      "source": [
        "library(lsa)\n",
        "\n",
        "user_sim = cosine(t(A))\n",
        "user_sim"
      ],
      "execution_count": null,
      "outputs": [
        {
          "output_type": "display_data",
          "data": {
            "text/plain": [
              "     [,1]      [,2]      [,3]      [,4]     \n",
              "[1,] 1.0000000 0.7071068 0.9877630 0.9990562\n",
              "[2,] 0.7071068 1.0000000 0.8087361 0.7371541\n",
              "[3,] 0.9877630 0.8087361 1.0000000 0.9936053\n",
              "[4,] 0.9990562 0.7371541 0.9936053 1.0000000"
            ],
            "text/latex": "A matrix: 4 × 4 of type dbl\n\\begin{tabular}{llll}\n\t 1.0000000 & 0.7071068 & 0.9877630 & 0.9990562\\\\\n\t 0.7071068 & 1.0000000 & 0.8087361 & 0.7371541\\\\\n\t 0.9877630 & 0.8087361 & 1.0000000 & 0.9936053\\\\\n\t 0.9990562 & 0.7371541 & 0.9936053 & 1.0000000\\\\\n\\end{tabular}\n",
            "text/markdown": "\nA matrix: 4 × 4 of type dbl\n\n| 1.0000000 | 0.7071068 | 0.9877630 | 0.9990562 |\n| 0.7071068 | 1.0000000 | 0.8087361 | 0.7371541 |\n| 0.9877630 | 0.8087361 | 1.0000000 | 0.9936053 |\n| 0.9990562 | 0.7371541 | 0.9936053 | 1.0000000 |\n\n",
            "text/html": [
              "<table class=\"dataframe\">\n",
              "<caption>A matrix: 4 × 4 of type dbl</caption>\n",
              "<tbody>\n",
              "\t<tr><td>1.0000000</td><td>0.7071068</td><td>0.9877630</td><td>0.9990562</td></tr>\n",
              "\t<tr><td>0.7071068</td><td>1.0000000</td><td>0.8087361</td><td>0.7371541</td></tr>\n",
              "\t<tr><td>0.9877630</td><td>0.8087361</td><td>1.0000000</td><td>0.9936053</td></tr>\n",
              "\t<tr><td>0.9990562</td><td>0.7371541</td><td>0.9936053</td><td>1.0000000</td></tr>\n",
              "</tbody>\n",
              "</table>\n"
            ]
          },
          "metadata": {}
        }
      ]
    },
    {
      "cell_type": "code",
      "metadata": {
        "colab": {
          "base_uri": "https://localhost:8080/",
          "height": 34
        },
        "id": "PpTVVsCl5GnX",
        "outputId": "bebb4dbf-f127-4a5d-b842-d9e12e0790e9"
      },
      "source": [
        "user_sim[,2]"
      ],
      "execution_count": null,
      "outputs": [
        {
          "output_type": "display_data",
          "data": {
            "text/plain": [
              "[1] 0.7071068 1.0000000 0.8087361 0.7371541"
            ],
            "text/latex": "\\begin{enumerate*}\n\\item 0.707106781186547\n\\item 1\n\\item 0.808736084303188\n\\item 0.737154140200741\n\\end{enumerate*}\n",
            "text/markdown": "1. 0.707106781186547\n2. 1\n3. 0.808736084303188\n4. 0.737154140200741\n\n\n",
            "text/html": [
              "<style>\n",
              ".list-inline {list-style: none; margin:0; padding: 0}\n",
              ".list-inline>li {display: inline-block}\n",
              ".list-inline>li:not(:last-child)::after {content: \"\\00b7\"; padding: 0 .5ex}\n",
              "</style>\n",
              "<ol class=list-inline><li>0.707106781186547</li><li>1</li><li>0.808736084303188</li><li>0.737154140200741</li></ol>\n"
            ]
          },
          "metadata": {}
        }
      ]
    },
    {
      "cell_type": "code",
      "metadata": {
        "colab": {
          "base_uri": "https://localhost:8080/",
          "height": 34
        },
        "id": "WTJ-hoMO5Zmg",
        "outputId": "96884e25-d0ac-45c0-c0a6-2901bff1121c"
      },
      "source": [
        "order(user_sim[,2],decreasing=T)[2:4] # Exceto o primeiro que é o próprio"
      ],
      "execution_count": null,
      "outputs": [
        {
          "output_type": "display_data",
          "data": {
            "text/plain": [
              "[1] 3 4 1"
            ],
            "text/latex": "\\begin{enumerate*}\n\\item 3\n\\item 4\n\\item 1\n\\end{enumerate*}\n",
            "text/markdown": "1. 3\n2. 4\n3. 1\n\n\n",
            "text/html": [
              "<style>\n",
              ".list-inline {list-style: none; margin:0; padding: 0}\n",
              ".list-inline>li {display: inline-block}\n",
              ".list-inline>li:not(:last-child)::after {content: \"\\00b7\"; padding: 0 .5ex}\n",
              "</style>\n",
              "<ol class=list-inline><li>3</li><li>4</li><li>1</li></ol>\n"
            ]
          },
          "metadata": {}
        }
      ]
    },
    {
      "cell_type": "code",
      "metadata": {
        "id": "LNhHAxRi6rKn"
      },
      "source": [
        "user_sim = cosine(t(X))\n"
      ],
      "execution_count": null,
      "outputs": []
    },
    {
      "cell_type": "code",
      "metadata": {
        "colab": {
          "base_uri": "https://localhost:8080/",
          "height": 34
        },
        "id": "fe2In9sa6--x",
        "outputId": "163ba057-d501-487a-c200-ca2dbeda5b3d"
      },
      "source": [
        "order(user_sim[,2],decreasing=T)[2:4] "
      ],
      "execution_count": null,
      "outputs": [
        {
          "output_type": "display_data",
          "data": {
            "text/plain": [
              "[1] 760 446 993"
            ],
            "text/latex": "\\begin{enumerate*}\n\\item 760\n\\item 446\n\\item 993\n\\end{enumerate*}\n",
            "text/markdown": "1. 760\n2. 446\n3. 993\n\n\n",
            "text/html": [
              "<style>\n",
              ".list-inline {list-style: none; margin:0; padding: 0}\n",
              ".list-inline>li {display: inline-block}\n",
              ".list-inline>li:not(:last-child)::after {content: \"\\00b7\"; padding: 0 .5ex}\n",
              "</style>\n",
              "<ol class=list-inline><li>760</li><li>446</li><li>993</li></ol>\n"
            ]
          },
          "metadata": {}
        }
      ]
    },
    {
      "cell_type": "code",
      "metadata": {
        "colab": {
          "base_uri": "https://localhost:8080/",
          "height": 261
        },
        "id": "mH3OW1pc83Qo",
        "outputId": "2fbe19cc-99fe-42f9-b426-fc44c24305a2"
      },
      "source": [
        "df_friends = df[c(2,760,446,993), ]\n",
        "df_friends"
      ],
      "execution_count": null,
      "outputs": [
        {
          "output_type": "display_data",
          "data": {
            "text/plain": [
              "    name                      gradyear gender_F gender_M gender_not informed\n",
              "2   eeQvCDZZbJPoXTL13FaVgx    2006     1        0        0                  \n",
              "760 Lu0y0jJgzgQNW             2006     1        0        0                  \n",
              "446 sXKovZvI0tM02             2006     1        0        0                  \n",
              "993 j3hn3jVkSlekQmAYpfZvKW7st 2006     1        0        0                  \n",
              "    age      friends basketball football soccer ⋯ blonde mall shopping clothes\n",
              "2   18.80100  0      0          1        0      ⋯ 0      1    0        0      \n",
              "760 19.24400 46      0          0        0      ⋯ 0      0    0        0      \n",
              "446  0.01848  4      2          0        0      ⋯ 0      1    2        0      \n",
              "993 18.43400 46      0          0        0      ⋯ 0      0    0        0      \n",
              "    hollister abercrombie die death drunk drugs\n",
              "2   0         0           0   0     0     0    \n",
              "760 0         0           0   0     0     0    \n",
              "446 0         0           0   0     0     0    \n",
              "993 0         0           0   0     0     0    "
            ],
            "text/latex": "A data.frame: 4 × 43\n\\begin{tabular}{r|lllllllllllllllllllll}\n  & name & gradyear & gender\\_F & gender\\_M & gender\\_not informed & age & friends & basketball & football & soccer & ⋯ & blonde & mall & shopping & clothes & hollister & abercrombie & die & death & drunk & drugs\\\\\n  & <chr> & <int> & <int> & <int> & <int> & <dbl> & <int> & <int> & <int> & <int> & ⋯ & <int> & <int> & <int> & <int> & <int> & <int> & <int> & <int> & <int> & <int>\\\\\n\\hline\n\t2 & eeQvCDZZbJPoXTL13FaVgx    & 2006 & 1 & 0 & 0 & 18.80100 &  0 & 0 & 1 & 0 & ⋯ & 0 & 1 & 0 & 0 & 0 & 0 & 0 & 0 & 0 & 0\\\\\n\t760 & Lu0y0jJgzgQNW             & 2006 & 1 & 0 & 0 & 19.24400 & 46 & 0 & 0 & 0 & ⋯ & 0 & 0 & 0 & 0 & 0 & 0 & 0 & 0 & 0 & 0\\\\\n\t446 & sXKovZvI0tM02             & 2006 & 1 & 0 & 0 &  0.01848 &  4 & 2 & 0 & 0 & ⋯ & 0 & 1 & 2 & 0 & 0 & 0 & 0 & 0 & 0 & 0\\\\\n\t993 & j3hn3jVkSlekQmAYpfZvKW7st & 2006 & 1 & 0 & 0 & 18.43400 & 46 & 0 & 0 & 0 & ⋯ & 0 & 0 & 0 & 0 & 0 & 0 & 0 & 0 & 0 & 0\\\\\n\\end{tabular}\n",
            "text/markdown": "\nA data.frame: 4 × 43\n\n| <!--/--> | name &lt;chr&gt; | gradyear &lt;int&gt; | gender_F &lt;int&gt; | gender_M &lt;int&gt; | gender_not informed &lt;int&gt; | age &lt;dbl&gt; | friends &lt;int&gt; | basketball &lt;int&gt; | football &lt;int&gt; | soccer &lt;int&gt; | ⋯ ⋯ | blonde &lt;int&gt; | mall &lt;int&gt; | shopping &lt;int&gt; | clothes &lt;int&gt; | hollister &lt;int&gt; | abercrombie &lt;int&gt; | die &lt;int&gt; | death &lt;int&gt; | drunk &lt;int&gt; | drugs &lt;int&gt; |\n|---|---|---|---|---|---|---|---|---|---|---|---|---|---|---|---|---|---|---|---|---|---|\n| 2 | eeQvCDZZbJPoXTL13FaVgx    | 2006 | 1 | 0 | 0 | 18.80100 |  0 | 0 | 1 | 0 | ⋯ | 0 | 1 | 0 | 0 | 0 | 0 | 0 | 0 | 0 | 0 |\n| 760 | Lu0y0jJgzgQNW             | 2006 | 1 | 0 | 0 | 19.24400 | 46 | 0 | 0 | 0 | ⋯ | 0 | 0 | 0 | 0 | 0 | 0 | 0 | 0 | 0 | 0 |\n| 446 | sXKovZvI0tM02             | 2006 | 1 | 0 | 0 |  0.01848 |  4 | 2 | 0 | 0 | ⋯ | 0 | 1 | 2 | 0 | 0 | 0 | 0 | 0 | 0 | 0 |\n| 993 | j3hn3jVkSlekQmAYpfZvKW7st | 2006 | 1 | 0 | 0 | 18.43400 | 46 | 0 | 0 | 0 | ⋯ | 0 | 0 | 0 | 0 | 0 | 0 | 0 | 0 | 0 | 0 |\n\n",
            "text/html": [
              "<table class=\"dataframe\">\n",
              "<caption>A data.frame: 4 × 43</caption>\n",
              "<thead>\n",
              "\t<tr><th></th><th scope=col>name</th><th scope=col>gradyear</th><th scope=col>gender_F</th><th scope=col>gender_M</th><th scope=col>gender_not informed</th><th scope=col>age</th><th scope=col>friends</th><th scope=col>basketball</th><th scope=col>football</th><th scope=col>soccer</th><th scope=col>⋯</th><th scope=col>blonde</th><th scope=col>mall</th><th scope=col>shopping</th><th scope=col>clothes</th><th scope=col>hollister</th><th scope=col>abercrombie</th><th scope=col>die</th><th scope=col>death</th><th scope=col>drunk</th><th scope=col>drugs</th></tr>\n",
              "\t<tr><th></th><th scope=col>&lt;chr&gt;</th><th scope=col>&lt;int&gt;</th><th scope=col>&lt;int&gt;</th><th scope=col>&lt;int&gt;</th><th scope=col>&lt;int&gt;</th><th scope=col>&lt;dbl&gt;</th><th scope=col>&lt;int&gt;</th><th scope=col>&lt;int&gt;</th><th scope=col>&lt;int&gt;</th><th scope=col>&lt;int&gt;</th><th scope=col>⋯</th><th scope=col>&lt;int&gt;</th><th scope=col>&lt;int&gt;</th><th scope=col>&lt;int&gt;</th><th scope=col>&lt;int&gt;</th><th scope=col>&lt;int&gt;</th><th scope=col>&lt;int&gt;</th><th scope=col>&lt;int&gt;</th><th scope=col>&lt;int&gt;</th><th scope=col>&lt;int&gt;</th><th scope=col>&lt;int&gt;</th></tr>\n",
              "</thead>\n",
              "<tbody>\n",
              "\t<tr><th scope=row>2</th><td>eeQvCDZZbJPoXTL13FaVgx   </td><td>2006</td><td>1</td><td>0</td><td>0</td><td>18.80100</td><td> 0</td><td>0</td><td>1</td><td>0</td><td>⋯</td><td>0</td><td>1</td><td>0</td><td>0</td><td>0</td><td>0</td><td>0</td><td>0</td><td>0</td><td>0</td></tr>\n",
              "\t<tr><th scope=row>760</th><td>Lu0y0jJgzgQNW            </td><td>2006</td><td>1</td><td>0</td><td>0</td><td>19.24400</td><td>46</td><td>0</td><td>0</td><td>0</td><td>⋯</td><td>0</td><td>0</td><td>0</td><td>0</td><td>0</td><td>0</td><td>0</td><td>0</td><td>0</td><td>0</td></tr>\n",
              "\t<tr><th scope=row>446</th><td>sXKovZvI0tM02            </td><td>2006</td><td>1</td><td>0</td><td>0</td><td> 0.01848</td><td> 4</td><td>2</td><td>0</td><td>0</td><td>⋯</td><td>0</td><td>1</td><td>2</td><td>0</td><td>0</td><td>0</td><td>0</td><td>0</td><td>0</td><td>0</td></tr>\n",
              "\t<tr><th scope=row>993</th><td>j3hn3jVkSlekQmAYpfZvKW7st</td><td>2006</td><td>1</td><td>0</td><td>0</td><td>18.43400</td><td>46</td><td>0</td><td>0</td><td>0</td><td>⋯</td><td>0</td><td>0</td><td>0</td><td>0</td><td>0</td><td>0</td><td>0</td><td>0</td><td>0</td><td>0</td></tr>\n",
              "</tbody>\n",
              "</table>\n"
            ]
          },
          "metadata": {}
        }
      ]
    },
    {
      "cell_type": "code",
      "metadata": {
        "colab": {
          "base_uri": "https://localhost:8080/"
        },
        "id": "jHoQRfsU9Q3I",
        "outputId": "cff55ea2-7de6-40e7-ae74-d522b6e6f554"
      },
      "source": [
        "df_preferences = df[c(2,760,446,993), -c(1:7)]\n",
        "print( df_preferences )"
      ],
      "execution_count": null,
      "outputs": [
        {
          "output_type": "stream",
          "name": "stdout",
          "text": [
            "    basketball football soccer softball volleyball swimming cheerleading\n",
            "2            0        1      0        0          0        0            0\n",
            "760          0        0      0        0          0        0            0\n",
            "446          2        0      0        0          0        0            0\n",
            "993          0        0      0        0          0        0            0\n",
            "    baseball tennis sports cute sex sexy hot kissed dance band marching music\n",
            "2          0      0      0    1   0    0   0      0     0    0        0     2\n",
            "760        0      0      0    0   0    0   0      0     0    0        0     0\n",
            "446        0      0      0    1   0    0   0      0     0    0        0     0\n",
            "993        0      0      0    0   0    0   0      0     0    0        0     0\n",
            "    rock god church jesus bible hair dress blonde mall shopping clothes\n",
            "2      2   1      0     0     0    6     4      0    1        0       0\n",
            "760    0   0      0     0     0    3     2      0    0        0       0\n",
            "446    0   0      0     0     0    4     4      0    1        2       0\n",
            "993    0   0      0     0     0    1     6      0    0        0       0\n",
            "    hollister abercrombie die death drunk drugs\n",
            "2           0           0   0     0     0     0\n",
            "760         0           0   0     0     0     0\n",
            "446         0           0   0     0     0     0\n",
            "993         0           0   0     0     0     0\n"
          ]
        }
      ]
    }
  ]
}