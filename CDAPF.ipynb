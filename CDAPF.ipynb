{
  "nbformat": 4,
  "nbformat_minor": 0,
  "metadata": {
    "colab": {
      "name": "CDAPF.ipynb",
      "provenance": [],
      "authorship_tag": "ABX9TyPU8ce5Iun0sSrIAmt12Txe",
      "include_colab_link": true
    },
    "kernelspec": {
      "name": "ir",
      "display_name": "R"
    },
    "language_info": {
      "name": "R"
    }
  },
  "cells": [
    {
      "cell_type": "markdown",
      "metadata": {
        "id": "view-in-github",
        "colab_type": "text"
      },
      "source": [
        "<a href=\"https://colab.research.google.com/github/Rogerio-mack/CDA_2021_2S/blob/main/CDAPF.ipynb\" target=\"_parent\"><img src=\"https://colab.research.google.com/assets/colab-badge.svg\" alt=\"Open In Colab\"/></a>"
      ]
    },
    {
      "cell_type": "markdown",
      "metadata": {
        "id": "J3LMBfpeHTwb"
      },
      "source": [
        "<head>\n",
        "  <meta name=\"author\" content=\"Rogério de Oliveira\">\n",
        "  <meta institution=\"author\" content=\"Universidade Presbiteriana Mackenzie\">\n",
        "</head>\n",
        "\n",
        "<img src=\"http://meusite.mackenzie.br/rogerio/mackenzie_logo/UPM.2_horizontal_vermelho.jpg\" width=300, align=\"right\">\n",
        "<!-- <h1 align=left><font size = 6, style=\"color:rgb(200,0,0)\"> optional title </font></h1> -->\n"
      ]
    },
    {
      "cell_type": "markdown",
      "metadata": {
        "id": "Ue2YcVySWe_i"
      },
      "source": [
        "# Avaliação PF\n",
        "***\n",
        "*Boa prova!*"
      ]
    },
    {
      "cell_type": "markdown",
      "metadata": {
        "id": "TURtr7Ry2eXO"
      },
      "source": [
        "Esta avaliação é composta por 2 exercícios. No primeiro você vai trabalhar modelos de Classificação, no segundo modelos de Clusterização. \n",
        "\n",
        "Entrega:\n",
        "\n",
        "1. Poste um único arquivo  seu código em formato .ipynb e adicione nos comentários da tarefa o link do seu Colab compartilhado (não esqueça de liberar o compartilhamento). **Não há questionário no Moodle para estes exercícios, você deverá postar o seu código!**\n",
        "\n",
        "2. O seu código deve ser completamente executável (não serão avaliados códigos que não executem completamente).\n",
        "\n",
        "3. Seu código deve ser minimamente claro e organizado. **Adicione texto justificando suas escolhas e suas conclusões**. Isso faz parte e será avaliado na atividade.\n",
        "\n",
        "Os **trabalhos são individuais**. Trabalhos semelhantes entre alunos terão a nota dividida pelo número de alunos com trabalhos semelhantes."
      ]
    },
    {
      "cell_type": "markdown",
      "metadata": {
        "id": "m85vjcNl3-TP"
      },
      "source": [
        "# Exercício 1. Case: Predict Wine Quality\n",
        "\n",
        "O conjunto de dados de qualidade do vinho envolve a previsão da qualidade dos vinhos brancos e tinto em uma escala, dadas propriedades químicas de cada vinho. Seu objetivo é prever a qualidade dos vinhos.\n",
        "\n",
        "1. Empregue ao menos 3 modelos de classificação\n",
        "2. Avalie o melhor, justificando sua escolha\n",
        "3. Empregue o melhor modelo para a predição da qualidade de um vinho tinto cujos valores sejam a média e o terceiro quartil dos valores de todos os vinhos tintos. \n",
        "\n",
        "Lembre-se de verificar a qualidade dos dados (valores ausentes por exemplo), a necessidade de normalizações e encodes, remoção de atributos etc. justificando, nos casos que julgar necessário, as tranformações que você optar por fazer.\n",
        "\n",
        "Ao final não esqueça de escrever um parágrafo com as suas conclusões."
      ]
    },
    {
      "cell_type": "markdown",
      "source": [
        "### Avaliação\n",
        "\n",
        "* (1,0) Preparação dos dados  \n",
        "* (2,0) Seleção do Modelo\n",
        "* (2,0) Predição\n",
        "* (1,0) Conclusão"
      ],
      "metadata": {
        "id": "ZC1PvUVYaRTc"
      }
    },
    {
      "cell_type": "code",
      "metadata": {
        "colab": {
          "base_uri": "https://localhost:8080/",
          "height": 306
        },
        "id": "q1ihqp0RuBRJ",
        "outputId": "0839cc17-a01b-4ed7-a533-e366336daaaa"
      },
      "source": [
        "#Carregando o dataset\n",
        "\n",
        "dfred = read.csv('https://archive.ics.uci.edu/ml/machine-learning-databases/wine-quality/winequality-red.csv',sep=';')\n",
        "dfred['tipo'] = 0\n",
        "\n",
        "dfwhite = read.csv('https://archive.ics.uci.edu/ml/machine-learning-databases/wine-quality/winequality-white.csv',sep=';')\n",
        "dfwhite['tipo'] = 1\n",
        "\n",
        "df = rbind.data.frame(dfred,dfwhite)\n",
        "\n",
        "head(df)"
      ],
      "execution_count": 3,
      "outputs": [
        {
          "output_type": "display_data",
          "data": {
            "text/plain": [
              "  fixed.acidity volatile.acidity citric.acid residual.sugar chlorides\n",
              "1  7.4          0.70             0.00        1.9            0.076    \n",
              "2  7.8          0.88             0.00        2.6            0.098    \n",
              "3  7.8          0.76             0.04        2.3            0.092    \n",
              "4 11.2          0.28             0.56        1.9            0.075    \n",
              "5  7.4          0.70             0.00        1.9            0.076    \n",
              "6  7.4          0.66             0.00        1.8            0.075    \n",
              "  free.sulfur.dioxide total.sulfur.dioxide density pH   sulphates alcohol\n",
              "1 11                  34                   0.9978  3.51 0.56      9.4    \n",
              "2 25                  67                   0.9968  3.20 0.68      9.8    \n",
              "3 15                  54                   0.9970  3.26 0.65      9.8    \n",
              "4 17                  60                   0.9980  3.16 0.58      9.8    \n",
              "5 11                  34                   0.9978  3.51 0.56      9.4    \n",
              "6 13                  40                   0.9978  3.51 0.56      9.4    \n",
              "  quality tipo\n",
              "1 5       0   \n",
              "2 5       0   \n",
              "3 5       0   \n",
              "4 6       0   \n",
              "5 5       0   \n",
              "6 5       0   "
            ],
            "text/latex": "A data.frame: 6 × 13\n\\begin{tabular}{r|lllllllllllll}\n  & fixed.acidity & volatile.acidity & citric.acid & residual.sugar & chlorides & free.sulfur.dioxide & total.sulfur.dioxide & density & pH & sulphates & alcohol & quality & tipo\\\\\n  & <dbl> & <dbl> & <dbl> & <dbl> & <dbl> & <dbl> & <dbl> & <dbl> & <dbl> & <dbl> & <dbl> & <int> & <dbl>\\\\\n\\hline\n\t1 &  7.4 & 0.70 & 0.00 & 1.9 & 0.076 & 11 & 34 & 0.9978 & 3.51 & 0.56 & 9.4 & 5 & 0\\\\\n\t2 &  7.8 & 0.88 & 0.00 & 2.6 & 0.098 & 25 & 67 & 0.9968 & 3.20 & 0.68 & 9.8 & 5 & 0\\\\\n\t3 &  7.8 & 0.76 & 0.04 & 2.3 & 0.092 & 15 & 54 & 0.9970 & 3.26 & 0.65 & 9.8 & 5 & 0\\\\\n\t4 & 11.2 & 0.28 & 0.56 & 1.9 & 0.075 & 17 & 60 & 0.9980 & 3.16 & 0.58 & 9.8 & 6 & 0\\\\\n\t5 &  7.4 & 0.70 & 0.00 & 1.9 & 0.076 & 11 & 34 & 0.9978 & 3.51 & 0.56 & 9.4 & 5 & 0\\\\\n\t6 &  7.4 & 0.66 & 0.00 & 1.8 & 0.075 & 13 & 40 & 0.9978 & 3.51 & 0.56 & 9.4 & 5 & 0\\\\\n\\end{tabular}\n",
            "text/markdown": "\nA data.frame: 6 × 13\n\n| <!--/--> | fixed.acidity &lt;dbl&gt; | volatile.acidity &lt;dbl&gt; | citric.acid &lt;dbl&gt; | residual.sugar &lt;dbl&gt; | chlorides &lt;dbl&gt; | free.sulfur.dioxide &lt;dbl&gt; | total.sulfur.dioxide &lt;dbl&gt; | density &lt;dbl&gt; | pH &lt;dbl&gt; | sulphates &lt;dbl&gt; | alcohol &lt;dbl&gt; | quality &lt;int&gt; | tipo &lt;dbl&gt; |\n|---|---|---|---|---|---|---|---|---|---|---|---|---|---|\n| 1 |  7.4 | 0.70 | 0.00 | 1.9 | 0.076 | 11 | 34 | 0.9978 | 3.51 | 0.56 | 9.4 | 5 | 0 |\n| 2 |  7.8 | 0.88 | 0.00 | 2.6 | 0.098 | 25 | 67 | 0.9968 | 3.20 | 0.68 | 9.8 | 5 | 0 |\n| 3 |  7.8 | 0.76 | 0.04 | 2.3 | 0.092 | 15 | 54 | 0.9970 | 3.26 | 0.65 | 9.8 | 5 | 0 |\n| 4 | 11.2 | 0.28 | 0.56 | 1.9 | 0.075 | 17 | 60 | 0.9980 | 3.16 | 0.58 | 9.8 | 6 | 0 |\n| 5 |  7.4 | 0.70 | 0.00 | 1.9 | 0.076 | 11 | 34 | 0.9978 | 3.51 | 0.56 | 9.4 | 5 | 0 |\n| 6 |  7.4 | 0.66 | 0.00 | 1.8 | 0.075 | 13 | 40 | 0.9978 | 3.51 | 0.56 | 9.4 | 5 | 0 |\n\n",
            "text/html": [
              "<table class=\"dataframe\">\n",
              "<caption>A data.frame: 6 × 13</caption>\n",
              "<thead>\n",
              "\t<tr><th></th><th scope=col>fixed.acidity</th><th scope=col>volatile.acidity</th><th scope=col>citric.acid</th><th scope=col>residual.sugar</th><th scope=col>chlorides</th><th scope=col>free.sulfur.dioxide</th><th scope=col>total.sulfur.dioxide</th><th scope=col>density</th><th scope=col>pH</th><th scope=col>sulphates</th><th scope=col>alcohol</th><th scope=col>quality</th><th scope=col>tipo</th></tr>\n",
              "\t<tr><th></th><th scope=col>&lt;dbl&gt;</th><th scope=col>&lt;dbl&gt;</th><th scope=col>&lt;dbl&gt;</th><th scope=col>&lt;dbl&gt;</th><th scope=col>&lt;dbl&gt;</th><th scope=col>&lt;dbl&gt;</th><th scope=col>&lt;dbl&gt;</th><th scope=col>&lt;dbl&gt;</th><th scope=col>&lt;dbl&gt;</th><th scope=col>&lt;dbl&gt;</th><th scope=col>&lt;dbl&gt;</th><th scope=col>&lt;int&gt;</th><th scope=col>&lt;dbl&gt;</th></tr>\n",
              "</thead>\n",
              "<tbody>\n",
              "\t<tr><th scope=row>1</th><td> 7.4</td><td>0.70</td><td>0.00</td><td>1.9</td><td>0.076</td><td>11</td><td>34</td><td>0.9978</td><td>3.51</td><td>0.56</td><td>9.4</td><td>5</td><td>0</td></tr>\n",
              "\t<tr><th scope=row>2</th><td> 7.8</td><td>0.88</td><td>0.00</td><td>2.6</td><td>0.098</td><td>25</td><td>67</td><td>0.9968</td><td>3.20</td><td>0.68</td><td>9.8</td><td>5</td><td>0</td></tr>\n",
              "\t<tr><th scope=row>3</th><td> 7.8</td><td>0.76</td><td>0.04</td><td>2.3</td><td>0.092</td><td>15</td><td>54</td><td>0.9970</td><td>3.26</td><td>0.65</td><td>9.8</td><td>5</td><td>0</td></tr>\n",
              "\t<tr><th scope=row>4</th><td>11.2</td><td>0.28</td><td>0.56</td><td>1.9</td><td>0.075</td><td>17</td><td>60</td><td>0.9980</td><td>3.16</td><td>0.58</td><td>9.8</td><td>6</td><td>0</td></tr>\n",
              "\t<tr><th scope=row>5</th><td> 7.4</td><td>0.70</td><td>0.00</td><td>1.9</td><td>0.076</td><td>11</td><td>34</td><td>0.9978</td><td>3.51</td><td>0.56</td><td>9.4</td><td>5</td><td>0</td></tr>\n",
              "\t<tr><th scope=row>6</th><td> 7.4</td><td>0.66</td><td>0.00</td><td>1.8</td><td>0.075</td><td>13</td><td>40</td><td>0.9978</td><td>3.51</td><td>0.56</td><td>9.4</td><td>5</td><td>0</td></tr>\n",
              "</tbody>\n",
              "</table>\n"
            ]
          },
          "metadata": {}
        }
      ]
    },
    {
      "cell_type": "markdown",
      "metadata": {
        "id": "bolTGKtW5lGG"
      },
      "source": [
        "# Exercício 2. Case: Wine Segmentation (opte por Kmeans ou a Clusterização Hieráquica)\n",
        "\n",
        "Você vai empregar aqui o mesmo conjunto de dados mas agora fará a segmentação (clusterização) dos vinhos no melhor número de clusters que você conseguir obter em um dos métodos, Kmeans ou Clusterização Hieráquica. **Não empregue nem o atributo `tipo` e nem o atributo `quality` para a clusterização!**\n",
        "\n",
        "1. Verifique o número de clusters ideal segundo quaisquer das técnicas estudadas (regra do cotovelo ou média de silhueta)\n",
        "2. Selecione com base nesses critérios a melhor clusterização\n",
        "3. Analise (caracterize) então os grupos formados observandos os valores médios de cada grupo e a presença maior ou menor de vinhos tintos e brancos em cada grupo (atributo que não participou da clusterização).\n",
        "\n",
        "Como no exercício anterior lembre-se de verificar a qualidade dos dados (valores ausentes por exemplo), a necessidade de normalizações e encodes, remoção de atributos etc. justificando, nos casos que julgar necessário, as tranformações que você optar por fazer.\n",
        "\n",
        "Ao final não esqueça de escrever um parágrafo com as suas conclusões."
      ]
    },
    {
      "cell_type": "markdown",
      "source": [
        "### Avaliação\n",
        "\n",
        "* (2,0) Seleção dos Clusters\n",
        "* (2,0) Conclusão e Análise dos Grupos"
      ],
      "metadata": {
        "id": "FT0yF0ciba7E"
      }
    }
  ]
}