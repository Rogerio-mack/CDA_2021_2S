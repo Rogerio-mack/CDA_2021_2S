{
  "nbformat": 4,
  "nbformat_minor": 0,
  "metadata": {
    "colab": {
      "name": "HCluster_Exemplo_em_R.ipynb",
      "provenance": [],
      "authorship_tag": "ABX9TyN9p65ovMiUEiQ1kP1tNchA",
      "include_colab_link": true
    },
    "kernelspec": {
      "name": "ir",
      "display_name": "R"
    },
    "language_info": {
      "name": "R"
    }
  },
  "cells": [
    {
      "cell_type": "markdown",
      "metadata": {
        "id": "view-in-github",
        "colab_type": "text"
      },
      "source": [
        "<a href=\"https://colab.research.google.com/github/Rogerio-mack/CDA_2021_2S/blob/main/HCluster_Exemplo_em_R.ipynb\" target=\"_parent\"><img src=\"https://colab.research.google.com/assets/colab-badge.svg\" alt=\"Open In Colab\"/></a>"
      ]
    },
    {
      "cell_type": "code",
      "metadata": {
        "colab": {
          "base_uri": "https://localhost:8080/"
        },
        "id": "bs_wwAMACIvb",
        "outputId": "02a04733-d336-4559-f23d-bcea2b39add7"
      },
      "source": [
        "install.packages('cluster')"
      ],
      "execution_count": null,
      "outputs": [
        {
          "output_type": "stream",
          "name": "stderr",
          "text": [
            "Installing package into ‘/usr/local/lib/R/site-library’\n",
            "(as ‘lib’ is unspecified)\n",
            "\n"
          ]
        }
      ]
    },
    {
      "cell_type": "code",
      "metadata": {
        "colab": {
          "base_uri": "https://localhost:8080/"
        },
        "id": "74MvtUE8CVMn",
        "outputId": "014117dc-08cc-435c-b0c5-27f9da0bd208"
      },
      "source": [
        "install.packages('fpc')"
      ],
      "execution_count": null,
      "outputs": [
        {
          "output_type": "stream",
          "name": "stderr",
          "text": [
            "Installing package into ‘/usr/local/lib/R/site-library’\n",
            "(as ‘lib’ is unspecified)\n",
            "\n",
            "also installing the dependencies ‘modeltools’, ‘DEoptimR’, ‘mclust’, ‘flexmix’, ‘prabclus’, ‘diptest’, ‘robustbase’, ‘kernlab’\n",
            "\n",
            "\n"
          ]
        }
      ]
    },
    {
      "cell_type": "code",
      "metadata": {
        "id": "YPT6J4hUCGFB"
      },
      "source": [
        "library('cluster')\n",
        "library('fpc')"
      ],
      "execution_count": null,
      "outputs": []
    },
    {
      "cell_type": "markdown",
      "metadata": {
        "id": "y9tFeG61DVZL"
      },
      "source": [
        "# Dados"
      ]
    },
    {
      "cell_type": "code",
      "metadata": {
        "colab": {
          "base_uri": "https://localhost:8080/",
          "height": 283
        },
        "id": "gPnn0QxIChav",
        "outputId": "2d8f3bba-3911-4204-dc57-9a6675c519cc"
      },
      "source": [
        "my_data = USArrests\n",
        "head(my_data)"
      ],
      "execution_count": null,
      "outputs": [
        {
          "output_type": "display_data",
          "data": {
            "text/plain": [
              "           Murder Assault UrbanPop Rape\n",
              "Alabama    13.2   236     58       21.2\n",
              "Alaska     10.0   263     48       44.5\n",
              "Arizona     8.1   294     80       31.0\n",
              "Arkansas    8.8   190     50       19.5\n",
              "California  9.0   276     91       40.6\n",
              "Colorado    7.9   204     78       38.7"
            ],
            "text/latex": "A data.frame: 6 × 4\n\\begin{tabular}{r|llll}\n  & Murder & Assault & UrbanPop & Rape\\\\\n  & <dbl> & <int> & <int> & <dbl>\\\\\n\\hline\n\tAlabama & 13.2 & 236 & 58 & 21.2\\\\\n\tAlaska & 10.0 & 263 & 48 & 44.5\\\\\n\tArizona &  8.1 & 294 & 80 & 31.0\\\\\n\tArkansas &  8.8 & 190 & 50 & 19.5\\\\\n\tCalifornia &  9.0 & 276 & 91 & 40.6\\\\\n\tColorado &  7.9 & 204 & 78 & 38.7\\\\\n\\end{tabular}\n",
            "text/markdown": "\nA data.frame: 6 × 4\n\n| <!--/--> | Murder &lt;dbl&gt; | Assault &lt;int&gt; | UrbanPop &lt;int&gt; | Rape &lt;dbl&gt; |\n|---|---|---|---|---|\n| Alabama | 13.2 | 236 | 58 | 21.2 |\n| Alaska | 10.0 | 263 | 48 | 44.5 |\n| Arizona |  8.1 | 294 | 80 | 31.0 |\n| Arkansas |  8.8 | 190 | 50 | 19.5 |\n| California |  9.0 | 276 | 91 | 40.6 |\n| Colorado |  7.9 | 204 | 78 | 38.7 |\n\n",
            "text/html": [
              "<table class=\"dataframe\">\n",
              "<caption>A data.frame: 6 × 4</caption>\n",
              "<thead>\n",
              "\t<tr><th></th><th scope=col>Murder</th><th scope=col>Assault</th><th scope=col>UrbanPop</th><th scope=col>Rape</th></tr>\n",
              "\t<tr><th></th><th scope=col>&lt;dbl&gt;</th><th scope=col>&lt;int&gt;</th><th scope=col>&lt;int&gt;</th><th scope=col>&lt;dbl&gt;</th></tr>\n",
              "</thead>\n",
              "<tbody>\n",
              "\t<tr><th scope=row>Alabama</th><td>13.2</td><td>236</td><td>58</td><td>21.2</td></tr>\n",
              "\t<tr><th scope=row>Alaska</th><td>10.0</td><td>263</td><td>48</td><td>44.5</td></tr>\n",
              "\t<tr><th scope=row>Arizona</th><td> 8.1</td><td>294</td><td>80</td><td>31.0</td></tr>\n",
              "\t<tr><th scope=row>Arkansas</th><td> 8.8</td><td>190</td><td>50</td><td>19.5</td></tr>\n",
              "\t<tr><th scope=row>California</th><td> 9.0</td><td>276</td><td>91</td><td>40.6</td></tr>\n",
              "\t<tr><th scope=row>Colorado</th><td> 7.9</td><td>204</td><td>78</td><td>38.7</td></tr>\n",
              "</tbody>\n",
              "</table>\n"
            ]
          },
          "metadata": {}
        }
      ]
    },
    {
      "cell_type": "code",
      "metadata": {
        "colab": {
          "base_uri": "https://localhost:8080/",
          "height": 34
        },
        "id": "EaFMg3h4C9Gs",
        "outputId": "dec37beb-41e9-46dc-c5f7-828fb54ce9a1"
      },
      "source": [
        "nrow(my_data)"
      ],
      "execution_count": null,
      "outputs": [
        {
          "output_type": "display_data",
          "data": {
            "text/plain": [
              "[1] 50"
            ],
            "text/latex": "50",
            "text/markdown": "50",
            "text/html": [
              "50"
            ]
          },
          "metadata": {}
        }
      ]
    },
    {
      "cell_type": "markdown",
      "metadata": {
        "id": "lntjGduQDTbZ"
      },
      "source": [
        "# Preparação dos dados"
      ]
    },
    {
      "cell_type": "code",
      "metadata": {
        "colab": {
          "base_uri": "https://localhost:8080/",
          "height": 283
        },
        "id": "ZZ-KvlvKCnBB",
        "outputId": "02ba41a4-6118-4004-9e7c-1f5b04b42aab"
      },
      "source": [
        "my_data = na.omit(my_data)\n",
        "my_data = data.frame(scale(USArrests))\n",
        "head(my_data)"
      ],
      "execution_count": null,
      "outputs": [
        {
          "output_type": "display_data",
          "data": {
            "text/plain": [
              "           Murder     Assault   UrbanPop   Rape        \n",
              "Alabama    1.24256408 0.7828393 -0.5209066 -0.003416473\n",
              "Alaska     0.50786248 1.1068225 -1.2117642  2.484202941\n",
              "Arizona    0.07163341 1.4788032  0.9989801  1.042878388\n",
              "Arkansas   0.23234938 0.2308680 -1.0735927 -0.184916602\n",
              "California 0.27826823 1.2628144  1.7589234  2.067820292\n",
              "Colorado   0.02571456 0.3988593  0.8608085  1.864967207"
            ],
            "text/latex": "A data.frame: 6 × 4\n\\begin{tabular}{r|llll}\n  & Murder & Assault & UrbanPop & Rape\\\\\n  & <dbl> & <dbl> & <dbl> & <dbl>\\\\\n\\hline\n\tAlabama & 1.24256408 & 0.7828393 & -0.5209066 & -0.003416473\\\\\n\tAlaska & 0.50786248 & 1.1068225 & -1.2117642 &  2.484202941\\\\\n\tArizona & 0.07163341 & 1.4788032 &  0.9989801 &  1.042878388\\\\\n\tArkansas & 0.23234938 & 0.2308680 & -1.0735927 & -0.184916602\\\\\n\tCalifornia & 0.27826823 & 1.2628144 &  1.7589234 &  2.067820292\\\\\n\tColorado & 0.02571456 & 0.3988593 &  0.8608085 &  1.864967207\\\\\n\\end{tabular}\n",
            "text/markdown": "\nA data.frame: 6 × 4\n\n| <!--/--> | Murder &lt;dbl&gt; | Assault &lt;dbl&gt; | UrbanPop &lt;dbl&gt; | Rape &lt;dbl&gt; |\n|---|---|---|---|---|\n| Alabama | 1.24256408 | 0.7828393 | -0.5209066 | -0.003416473 |\n| Alaska | 0.50786248 | 1.1068225 | -1.2117642 |  2.484202941 |\n| Arizona | 0.07163341 | 1.4788032 |  0.9989801 |  1.042878388 |\n| Arkansas | 0.23234938 | 0.2308680 | -1.0735927 | -0.184916602 |\n| California | 0.27826823 | 1.2628144 |  1.7589234 |  2.067820292 |\n| Colorado | 0.02571456 | 0.3988593 |  0.8608085 |  1.864967207 |\n\n",
            "text/html": [
              "<table class=\"dataframe\">\n",
              "<caption>A data.frame: 6 × 4</caption>\n",
              "<thead>\n",
              "\t<tr><th></th><th scope=col>Murder</th><th scope=col>Assault</th><th scope=col>UrbanPop</th><th scope=col>Rape</th></tr>\n",
              "\t<tr><th></th><th scope=col>&lt;dbl&gt;</th><th scope=col>&lt;dbl&gt;</th><th scope=col>&lt;dbl&gt;</th><th scope=col>&lt;dbl&gt;</th></tr>\n",
              "</thead>\n",
              "<tbody>\n",
              "\t<tr><th scope=row>Alabama</th><td>1.24256408</td><td>0.7828393</td><td>-0.5209066</td><td>-0.003416473</td></tr>\n",
              "\t<tr><th scope=row>Alaska</th><td>0.50786248</td><td>1.1068225</td><td>-1.2117642</td><td> 2.484202941</td></tr>\n",
              "\t<tr><th scope=row>Arizona</th><td>0.07163341</td><td>1.4788032</td><td> 0.9989801</td><td> 1.042878388</td></tr>\n",
              "\t<tr><th scope=row>Arkansas</th><td>0.23234938</td><td>0.2308680</td><td>-1.0735927</td><td>-0.184916602</td></tr>\n",
              "\t<tr><th scope=row>California</th><td>0.27826823</td><td>1.2628144</td><td> 1.7589234</td><td> 2.067820292</td></tr>\n",
              "\t<tr><th scope=row>Colorado</th><td>0.02571456</td><td>0.3988593</td><td> 0.8608085</td><td> 1.864967207</td></tr>\n",
              "</tbody>\n",
              "</table>\n"
            ]
          },
          "metadata": {}
        }
      ]
    },
    {
      "cell_type": "markdown",
      "metadata": {
        "id": "D-asHyW_DtlD"
      },
      "source": [
        "# 1. Matriz de Distâncias"
      ]
    },
    {
      "cell_type": "code",
      "metadata": {
        "id": "ZOwGJnalCrgu"
      },
      "source": [
        "d = dist(as.matrix(my_data),method = 'euclidean') "
      ],
      "execution_count": null,
      "outputs": []
    },
    {
      "cell_type": "code",
      "metadata": {
        "colab": {
          "base_uri": "https://localhost:8080/",
          "height": 1000
        },
        "id": "EBy758YwDxom",
        "outputId": "288e9913-ef2a-41ac-9dcd-42d5af00415e"
      },
      "source": [
        "d"
      ],
      "execution_count": null,
      "outputs": [
        {
          "output_type": "display_data",
          "data": {
            "text/plain": [
              "                 Alabama    Alaska   Arizona  Arkansas California  Colorado\n",
              "Alaska         2.7037541                                                   \n",
              "Arizona        2.2935197 2.7006429                                         \n",
              "Arkansas       1.2898102 2.8260386 2.7177583                               \n",
              "California     3.2631104 3.0125415 1.3104842 3.7636409                     \n",
              "Colorado       2.6510673 2.3265187 1.3650307 2.8310512  1.2876185          \n",
              "Connecticut    3.2152975 4.7399125 3.2628575 2.6076395  4.0663898 3.3279920\n",
              "Delaware       2.0192927 3.6213633 1.9093696 1.8003239  3.0737852 2.5547456\n",
              "Florida        2.2981353 2.9967642 1.7493928 3.3721968  2.0250039 2.4458600\n",
              "Georgia        1.1314351 2.8194388 2.7871963 2.2117614  3.3780585 2.8649105\n",
              "Hawaii         3.3885300 4.5301340 3.2621208 2.9723097  3.6589083 2.8233524\n",
              "Idaho          2.9146623 4.0580555 3.5210071 1.7687255  4.4879436 3.4767685\n",
              "Illinois       1.8734993 3.2670626 1.0825512 2.4626424  1.9117469 1.7898322\n",
              "Indiana        2.0761411 3.3655952 2.6407486 1.4450503  3.4061273 2.3655622\n",
              "Iowa           3.4878952 4.7251910 4.1157513 2.4252661  4.9708591 3.9406898\n",
              "Kansas         2.2941096 3.6808173 2.7762838 1.5718411  3.6071725 2.6272281\n",
              "Kentucky       1.8475879 3.5440903 3.3567681 1.0598104  4.2463809 3.2274013\n",
              "Louisiana      0.7722224 2.9631431 2.2178519 2.0254276  3.0176625 2.6546743\n",
              "Maine          3.4851115 4.8322605 4.2961903 2.3621893  5.2699843 4.2713441\n",
              "Maryland       1.2896460 2.2777590 1.2117356 2.0582244  2.2312581 1.9667562\n",
              "Massachusetts  2.9874810 4.3729925 2.5162281 2.6881270  3.2156499 2.6522793\n",
              "Michigan       1.8814771 2.1154937 1.1940906 2.5895050  1.5146739 1.2363108\n",
              "Minnesota      3.2314338 4.4266606 3.5388450 2.3300992  4.3123134 3.3283853\n",
              "Mississippi    1.2831907 3.2554326 3.4551406 1.9318631  4.4200736 3.8491042\n",
              "Missouri       1.6309686 2.5360573 1.5958731 1.6717500  2.2891751 1.3127406\n",
              "Montana        2.3317271 3.6575988 3.3270869 1.2290066  4.2494176 3.1845338\n",
              "Nebraska       2.6625170 3.9136902 3.1641791 1.7240495  4.0197242 3.0034613\n",
              "Nevada         3.1024305 2.3443182 1.9260292 3.7086787  1.1968261 1.3988595\n",
              "New Hampshire  3.5619825 4.8650686 4.2430411 2.4949861  5.1270892 4.1126287\n",
              "New Jersey     2.6980230 4.1791832 2.1755787 2.7398478  2.7463023 2.3229870\n",
              "New Mexico     1.5993970 2.0580889 1.0376848 2.3183196  1.8010201 1.5467439\n",
              "New York       2.0723680 3.2903769 1.0725219 2.7478626  1.6787069 1.7363385\n",
              "North Carolina 1.6043662 3.2403071 3.1478947 2.0717938  4.2802569 3.8649275\n",
              "North Dakota   4.0614988 5.2110254 4.9319844 2.8756492  5.8660699 4.8014019\n",
              "Ohio           2.2698519 3.5903348 2.3585705 1.9617104  3.0133425 2.1188236\n",
              "Oklahoma       1.9570874 3.3416664 2.2648377 1.4224574  3.1488712 2.2263966\n",
              "Oregon         2.3705678 2.6990696 2.0008664 1.8477626  2.6574019 1.5331980\n",
              "Pennsylvania   2.5161340 4.1239537 2.9188907 1.9739986  3.7144562 2.8541709\n",
              "Rhode Island   3.3951297 5.0629572 3.0570151 3.0883430  3.8883995 3.4810739\n",
              "South Carolina 0.9157968 2.5640542 2.7992041 1.7074195  3.7546959 3.2131137\n",
              "South Dakota   3.0835587 4.2467198 4.1020099 1.8724822  5.0529153 3.9667318\n",
              "Tennessee      0.8407489 2.3362541 2.2989846 1.4254486  3.0119267 2.1972111\n",
              "Texas          1.6463225 3.1527905 1.6448574 2.3505545  2.1698156 1.7947199\n",
              "Utah           3.0906007 3.9480881 2.5244431 2.6049855  3.0701663 2.2461228\n",
              "Vermont        3.9791527 4.8707876 5.1003665 2.7442984  6.0323504 4.8924735\n",
              "Virginia       1.4859733 3.0492081 2.3106550 0.9971035  3.2159723 2.2622539\n",
              "Washington     2.6481824 3.2715253 2.1399117 2.1313402  2.7746720 1.7897920\n",
              "West Virginia  3.1243471 4.5004558 4.4974190 1.9951691  5.4883565 4.4210375\n",
              "Wisconsin      3.5047330 4.8711543 3.9425867 2.6102451  4.7354960 3.7846917\n",
              "Wyoming        1.8291027 3.4993456 2.6923028 0.9912639  3.7242766 2.8211492\n",
              "               Connecticut  Delaware   Florida   Georgia    Hawaii     Idaho\n",
              "Alaska                                                                      \n",
              "Arizona                                                                     \n",
              "Arkansas                                                                    \n",
              "California                                                                  \n",
              "Colorado                                                                    \n",
              "Connecticut                                                                 \n",
              "Delaware         1.7568475                                                  \n",
              "Florida          4.4700701 3.0614170                                        \n",
              "Georgia          3.9738227 2.9838715 2.1812958                              \n",
              "Hawaii           1.3843291 2.4748807 4.3596338 3.8105218                    \n",
              "Idaho            1.6354214 2.0382540 4.6999827 3.8005715 2.3658101          \n",
              "Illinois         2.7400560 1.5584719 1.7711863 2.3135778 2.7329756 3.2728945\n",
              "Indiana          1.6147898 1.6973340 3.6150778 2.6924143 1.5460727 1.4923351\n",
              "Iowa             1.5470089 2.6068606 5.2682765 4.2517889 2.1564575 0.8584962\n",
              "Kansas           1.2280424 1.5510864 3.8424558 3.0071474 1.4648766 1.2103118\n",
              "Kentucky         2.3346386 2.2514939 3.9474983 2.4408198 2.5203345 1.6565236\n",
              "Louisiana        3.5329409 2.3266996 1.7529677 0.8592544 3.5687157 3.5283772\n",
              "Maine            1.8792141 2.6560808 5.3946798 4.3334217 2.7160558 0.8486112\n",
              "Maryland         3.4968269 1.9624834 1.4355204 1.8388691 3.6148670 3.4014584\n",
              "Massachusetts    0.9468199 1.4382527 3.7753087 3.6706708 1.3276676 2.2201020\n",
              "Michigan         3.7037870 2.5165292 1.3357020 1.9185489 3.4123472 3.7775301\n",
              "Minnesota        0.9843793 2.1652930 4.7635252 3.9621842 1.4673850 1.0124936\n",
              "Mississippi      4.1762631 3.0510628 3.0886673 1.5828594 4.4777223 3.6002946\n",
              "Missouri         2.4383227 1.6723281 2.5182466 2.1021909 2.1832480 2.4697182\n",
              "Montana          1.8584328 2.0306850 4.2696476 3.0967288 2.2488801 0.8286936\n",
              "Nebraska         1.2116949 1.8113430 4.3082894 3.4295510 1.6628657 0.7515014\n",
              "Nevada           4.5868149 3.5920897 1.9500388 2.9023041 4.0281974 4.7300228\n",
              "New Hampshire    1.6169000 2.6744233 5.3778074 4.3427351 2.3112009 0.9249563\n",
              "New Jersey       1.6108823 1.5808719 3.1900596 3.1989350 1.5050500 2.7425260\n",
              "New Mexico       3.6233659 2.2271650 1.2965798 1.9015384 3.5506088 3.5883476\n",
              "New York         3.0239174 1.8992106 1.5730970 2.3634498 2.9055803 3.5910319\n",
              "North Carolina   4.1894604 2.7475286 2.9994188 2.3351307 4.7330517 3.5929592\n",
              "North Dakota     2.5099838 3.3615239 6.0356613 4.8596758 3.1974906 1.4144557\n",
              "Ohio             1.4443671 1.5838515 3.3897305 2.8043208 1.1494313 1.9647327\n",
              "Oklahoma         1.4510623 1.1802929 3.3553471 2.7121515 1.6585736 1.5168111\n",
              "Oregon           2.1756954 1.7742778 3.3399718 2.9998878 2.0031861 1.9757247\n",
              "Pennsylvania     0.8721491 1.5894850 3.9389869 3.1817981 1.2119256 1.5171866\n",
              "Rhode Island     1.0756115 1.6230495 4.2314871 4.1832075 2.0590981 2.4592705\n",
              "South Carolina   4.0127954 2.7039667 2.5295912 1.3970074 4.2531214 3.4549959\n",
              "South Dakota     2.2397424 2.6722813 5.1015141 3.8729745 2.8044891 0.8070290\n",
              "Tennessee        3.2302375 2.3195070 2.3992285 1.0122252 3.0747375 2.9234395\n",
              "Texas            2.8734475 2.0031365 1.8537984 1.7575559 2.5901696 3.3172180\n",
              "Utah             1.2825907 1.8080931 3.9274528 3.7183994 1.0709720 2.0268663\n",
              "Vermont          3.2066152 3.7144653 6.0766416 4.7091538 3.7208347 1.7797462\n",
              "Virginia         1.9277004 1.4088230 3.1515587 2.2249559 2.0479238 1.6999289\n",
              "Washington       1.6963486 1.6350170 3.5570666 3.3016469 1.5452901 1.8861921\n",
              "West Virginia    2.7117590 3.0381601 5.3004067 3.8545331 3.2831874 1.4398440\n",
              "Wisconsin        1.0354597 2.4410507 5.1085370 4.2281611 1.6666970 1.2105401\n",
              "Wyoming          1.6218573 1.2586225 3.6325811 2.7329062 2.1883414 1.1687896\n",
              "                Illinois   Indiana      Iowa    Kansas  Kentucky Louisiana\n",
              "Alaska                                                                    \n",
              "Arizona                                                                   \n",
              "Arkansas                                                                  \n",
              "California                                                                \n",
              "Colorado                                                                  \n",
              "Connecticut                                                               \n",
              "Delaware                                                                  \n",
              "Florida                                                                   \n",
              "Georgia                                                                   \n",
              "Hawaii                                                                    \n",
              "Idaho                                                                     \n",
              "Illinois                                                                  \n",
              "Indiana        2.2027081                                                  \n",
              "Iowa           3.7380070 1.7786548                                        \n",
              "Kansas         2.3228505 0.4287712 1.4699265                              \n",
              "Kentucky       2.8478883 1.1790552 1.9426473 1.3020180                    \n",
              "Louisiana      1.6535178 2.4957547 4.0359614 2.7284126 2.4221964          \n",
              "Maine          3.9342034 2.1029158 0.6457158 1.7913753 1.9925855 4.0901924\n",
              "Maryland       1.3429997 2.5430878 4.0642448 2.7400943 2.8229479 1.2739137\n",
              "Massachusetts  2.0080982 1.6615695 2.3510287 1.4343401 2.6284451 3.1524549\n",
              "Michigan       1.3959090 2.6118471 4.3248636 2.9020920 3.1163494 1.6677999\n",
              "Minnesota      3.1558788 1.3184866 0.7644384 0.9745872 1.9333640 3.6905974\n",
              "Mississippi    3.0869477 3.0859068 4.1603272 3.2683740 2.3898884 1.6268879\n",
              "Missouri       1.3552973 1.2203931 2.9398546 1.5192717 1.9677184 1.8362172\n",
              "Montana        2.9659043 1.0033431 1.2403561 0.9170466 0.8523702 2.9444756\n",
              "Nebraska       2.7962196 0.8570429 0.9821819 0.5279092 1.4219429 3.1706333\n",
              "Nevada         2.3891753 3.5278633 5.2227312 3.8391728 4.1644286 2.8410670\n",
              "New Hampshire  3.8490624 1.9278736 0.2058539 1.6084091 2.0093558 4.1168122\n",
              "New Jersey     1.4562775 1.7638332 2.9122979 1.7071034 2.6914828 2.6826380\n",
              "New Mexico     1.3393276 2.5909993 4.2131394 2.8356373 3.0007332 1.4911656\n",
              "New York       0.3502188 2.4628527 4.0411586 2.6096016 3.1213366 1.7495096\n",
              "North Carolina 3.0124311 3.3437548 4.2973973 3.4387635 2.8798080 1.9868618\n",
              "North Dakota   4.6139615 2.6587932 1.0534375 2.3970805 2.4482563 4.6977846\n",
              "Ohio           1.8124981 0.6976320 2.1610242 0.7817000 1.7726720 2.4996969\n",
              "Oklahoma       1.8439860 0.5303259 1.9391446 0.5198728 1.4623483 2.3535566\n",
              "Oregon         2.0743434 1.1780815 2.4662295 1.3426890 2.1388677 2.7490592\n",
              "Pennsylvania   2.3134187 0.8412900 1.5708895 0.5456840 1.5944097 2.8440845\n",
              "Rhode Island   2.5057761 2.3335609 2.5453686 2.0087021 3.0457816 3.5648047\n",
              "South Carolina 2.6163680 2.8469842 4.1015324 3.0609333 2.4166385 1.3151908\n",
              "South Dakota   3.8004708 1.8411735 0.9886706 1.6701106 1.5114990 3.7457555\n",
              "Tennessee      1.9478353 1.8100316 3.4176329 2.1533060 1.7489942 1.1298534\n",
              "Texas          0.8241352 2.0035762 3.6962443 2.2378289 2.5297839 1.3325285\n",
              "Utah           2.2771632 1.4019666 2.1682069 1.2751603 2.5461745 3.3440990\n",
              "Vermont        4.8624402 2.8667983 1.7298425 2.7298377 2.3888326 4.6795933\n",
              "Virginia       1.8624960 0.6127246 2.1704984 0.8351949 1.0918624 1.9554079\n",
              "Washington     2.0612962 1.1405746 2.2502832 1.1579118 2.2630242 2.9705622\n",
              "West Virginia  4.1148082 2.2478563 1.5256890 2.1244674 1.5236299 3.7947215\n",
              "Wisconsin      3.4790637 1.6806129 0.6318069 1.3242947 2.0950212 3.9559184\n",
              "Wyoming        2.2643574 0.8898783 1.7194683 0.7588728 1.0694408 2.3837077\n",
              "                   Maine  Maryland Massachusetts  Michigan Minnesota\n",
              "Alaska                                                              \n",
              "Arizona                                                             \n",
              "Arkansas                                                            \n",
              "California                                                          \n",
              "Colorado                                                            \n",
              "Connecticut                                                         \n",
              "Delaware                                                            \n",
              "Florida                                                             \n",
              "Georgia                                                             \n",
              "Hawaii                                                              \n",
              "Idaho                                                               \n",
              "Illinois                                                            \n",
              "Indiana                                                             \n",
              "Iowa                                                                \n",
              "Kansas                                                              \n",
              "Kentucky                                                            \n",
              "Louisiana                                                           \n",
              "Maine                                                               \n",
              "Maryland       4.1259083                                            \n",
              "Massachusetts  2.6920282 2.9743193                                  \n",
              "Michigan       4.5333420 1.0800988     3.0576915                    \n",
              "Minnesota      1.2980362 3.6448929     1.6587245 3.7995101          \n",
              "Mississippi    4.0014591 2.2992240     4.1217248 2.9722824 4.1067600\n",
              "Missouri       3.2055955 1.5705755     1.9810531 1.4068840 2.4088795\n",
              "Montana        1.3271199 3.0249456     2.2919046 3.3348908 1.2662635\n",
              "Nebraska       1.3218907 3.1309065     1.6863806 3.3478988 0.6083415\n",
              "Nevada         5.5153139 2.2551337     3.8556049 1.2609417 4.6391114\n",
              "New Hampshire  0.4995971 4.1663744     2.4573524 4.4646172 0.9279247\n",
              "New Jersey     3.2532459 2.6263456     0.7977642 2.5678440 2.2254151\n",
              "New Mexico     4.3460538 0.5353893     3.0274701 0.5782474 3.7377675\n",
              "New York       4.2595904 1.4362170     2.2479437 1.2897453 3.4391596\n",
              "North Carolina 4.0631653 2.0542355     4.0773401 3.0232021 4.2219622\n",
              "North Dakota   0.7305609 4.7423030     3.3446903 5.1171939 1.8065731\n",
              "Ohio           2.5455752 2.5061694     1.1567960 2.4459855 1.5216293\n",
              "Oklahoma       2.1929825 2.2492942     1.3383233 2.4336743 1.4198434\n",
              "Oregon         2.7813372 2.2466329     1.8709252 2.1626274 1.9270100\n",
              "Pennsylvania   1.9197571 2.9585539     1.1337883 3.1048542 1.0106613\n",
              "Rhode Island   2.7331079 3.4379146     0.9440940 3.7320501 2.0310592\n",
              "South Carolina 4.0015575 1.6165582     3.8310425 2.3233363 3.9484630\n",
              "South Dakota   0.7812991 3.7991896     2.8925136 4.1744724 1.4990317\n",
              "Tennessee      3.5420469 1.5202431     2.9678843 1.5970196 3.1023238\n",
              "Texas          3.9386296 1.5431868     2.2593978 1.2888621 3.1438264\n",
              "Utah           2.6218087 3.0338001     0.9015809 2.9441421 1.4177147\n",
              "Vermont        1.4253680 4.7430576     3.9277625 5.1250778 2.4019924\n",
              "Virginia       2.3474650 2.0124420     1.8503795 2.2439957 1.7932233\n",
              "Washington     2.6292546 2.5434911     1.3472994 2.4715215 1.5955418\n",
              "West Virginia  1.1818120 4.0251562     3.3782752 4.4668346 2.0791705\n",
              "Wisconsin      1.1485830 4.0091486     1.8882704 4.2034334 0.4940832\n",
              "Wyoming        1.7665064 2.4041294     1.8201580 2.8324573 1.4845967\n",
              "               Mississippi  Missouri   Montana  Nebraska    Nevada\n",
              "Alaska                                                            \n",
              "Arizona                                                           \n",
              "Arkansas                                                          \n",
              "California                                                        \n",
              "Colorado                                                          \n",
              "Connecticut                                                       \n",
              "Delaware                                                          \n",
              "Florida                                                           \n",
              "Georgia                                                           \n",
              "Hawaii                                                            \n",
              "Idaho                                                             \n",
              "Illinois                                                          \n",
              "Indiana                                                           \n",
              "Iowa                                                              \n",
              "Kansas                                                            \n",
              "Kentucky                                                          \n",
              "Louisiana                                                         \n",
              "Maine                                                             \n",
              "Maryland                                                          \n",
              "Massachusetts                                                     \n",
              "Michigan                                                          \n",
              "Minnesota                                                         \n",
              "Mississippi                                                       \n",
              "Missouri         2.8692946                                        \n",
              "Montana          3.0015255 2.0313649                              \n",
              "Nebraska         3.5269565 1.9651798 0.7389936                    \n",
              "Nevada           4.1064793 2.3489003 4.3243112 4.2628916          \n",
              "New Hampshire    4.1895936 3.0885710 1.3329504 1.1300720 5.3871427\n",
              "New Jersey       3.8894324 1.7079555 2.5912431 2.1246377 3.3464214\n",
              "New Mexico       2.6557350 1.4579057 3.1915871 3.2494088 1.7234839\n",
              "New York         3.2655822 1.5284764 3.2662661 3.0925340 2.1674148\n",
              "North Carolina   1.1826891 3.0224849 3.2209267 3.6500186 4.1773437\n",
              "North Dakota     4.4753078 3.7811273 1.8291157 1.9038740 6.0519445\n",
              "Ohio             3.4148987 1.1327425 1.6436336 1.2654510 3.2930712\n",
              "Oklahoma         3.0466140 1.0927654 1.2225315 0.9674809 3.4108696\n",
              "Oregon           3.5033774 0.9974171 1.8044622 1.5727910 2.8581280\n",
              "Pennsylvania     3.4971746 1.7793568 1.3246445 0.8483058 4.0392694\n",
              "Rhode Island     4.3875001 2.7475003 2.6888576 2.1303973 4.6185330\n",
              "South Carolina   0.7865674 2.3846001 2.9024302 3.3517226 3.4427701\n",
              "South Dakota     3.5355186 2.8862448 0.8857149 1.2591419 5.1416772\n",
              "Tennessee        1.8269569 1.2413874 2.2494023 2.5526834 2.6666268\n",
              "Texas            2.8431727 1.1654171 2.8298991 2.7568751 2.2765693\n",
              "Utah             4.2571173 1.7478909 2.0956369 1.4573012 3.5868975\n",
              "Vermont          4.2046660 3.8803394 1.9261350 2.2952287 6.0437845\n",
              "Virginia         2.5383053 0.9787310 1.1556682 1.2472262 3.3001850\n",
              "Washington       3.8140404 1.2502752 1.8442691 1.3859985 3.1570805\n",
              "West Virginia    3.3281129 3.2538044 1.2758193 1.8117833 5.4963193\n",
              "Wisconsin        4.2987974 2.8171535 1.4916365 0.9719877 5.0751736\n",
              "Wyoming          2.6813279 1.6073860 0.8150071 0.9268202 3.9202716\n",
              "               New Hampshire New Jersey New Mexico  New York North Carolina\n",
              "Alaska                                                                     \n",
              "Arizona                                                                    \n",
              "Arkansas                                                                   \n",
              "California                                                                 \n",
              "Colorado                                                                   \n",
              "Connecticut                                                                \n",
              "Delaware                                                                   \n",
              "Florida                                                                    \n",
              "Georgia                                                                    \n",
              "Hawaii                                                                     \n",
              "Idaho                                                                      \n",
              "Illinois                                                                   \n",
              "Indiana                                                                    \n",
              "Iowa                                                                       \n",
              "Kansas                                                                     \n",
              "Kentucky                                                                   \n",
              "Louisiana                                                                  \n",
              "Maine                                                                      \n",
              "Maryland                                                                   \n",
              "Massachusetts                                                              \n",
              "Michigan                                                                   \n",
              "Minnesota                                                                  \n",
              "Mississippi                                                                \n",
              "Missouri                                                                   \n",
              "Montana                                                                    \n",
              "Nebraska                                                                   \n",
              "Nevada                                                                     \n",
              "New Hampshire                                                              \n",
              "New Jersey         3.0269198                                               \n",
              "New Mexico         4.3360809  2.6208087                                    \n",
              "New York           4.1586415  1.6344744  1.3324096                         \n",
              "North Carolina     4.3157112  3.9418824  2.5348334 3.2163998               \n",
              "North Dakota       0.9231894  3.9166205  4.9450519 4.9325292      4.5836787\n",
              "Ohio               2.3095495  1.1099823  2.4960904 2.0434995      3.6205693\n",
              "Oklahoma           2.0697098  1.4711183  2.3426252 2.1367108      3.1366639\n",
              "Oregon             2.6377191  1.9738854  2.1553130 2.2727718      3.5095191\n",
              "Pennsylvania       1.6822035  1.4216058  3.0619915 2.5949374      3.6803956\n",
              "Rhode Island       2.5813199  1.4668378  3.6032966 2.7682543      4.2185789\n",
              "South Carolina     4.1596914  3.5826726  1.9596343 2.7755634      1.0476313\n",
              "South Dakota       0.9874611  3.3318222  3.9969513 4.1124693      3.6955387\n",
              "Tennessee          3.5298430  2.6339707  1.5528304 2.0847931      2.3374653\n",
              "Texas              3.8178258  1.6226525  1.4418241 0.8457697      3.0857436\n",
              "Utah               2.3304873  1.3141843  2.9843796 2.4826984      4.2680823\n",
              "Vermont            1.6716127  4.4005416  4.9416825 5.1704762      4.3880034\n",
              "Virginia           2.2878085  1.8255601  2.1341562 2.1439207      2.7517523\n",
              "Washington         2.4214987  1.5759539  2.4796057 2.2747965      3.8055684\n",
              "West Virginia      1.4648924  3.7402121  4.2681325 4.4279608      3.5978058\n",
              "Wisconsin          0.7155628  2.4671212  4.1327758 3.7687073      4.4429456\n",
              "Wyoming            1.7950754  2.0372127  2.6286722 2.5890441      2.7501141\n",
              "               North Dakota      Ohio  Oklahoma    Oregon Pennsylvania\n",
              "Alaska                                                                \n",
              "Arizona                                                               \n",
              "Arkansas                                                              \n",
              "California                                                            \n",
              "Colorado                                                              \n",
              "Connecticut                                                           \n",
              "Delaware                                                              \n",
              "Florida                                                               \n",
              "Georgia                                                               \n",
              "Hawaii                                                                \n",
              "Idaho                                                                 \n",
              "Illinois                                                              \n",
              "Indiana                                                               \n",
              "Iowa                                                                  \n",
              "Kansas                                                                \n",
              "Kentucky                                                              \n",
              "Louisiana                                                             \n",
              "Maine                                                                 \n",
              "Maryland                                                              \n",
              "Massachusetts                                                         \n",
              "Michigan                                                              \n",
              "Minnesota                                                             \n",
              "Mississippi                                                           \n",
              "Missouri                                                              \n",
              "Montana                                                               \n",
              "Nebraska                                                              \n",
              "Nevada                                                                \n",
              "New Hampshire                                                         \n",
              "New Jersey                                                            \n",
              "New Mexico                                                            \n",
              "New York                                                              \n",
              "North Carolina                                                        \n",
              "North Dakota                                                          \n",
              "Ohio              3.1448279                                           \n",
              "Oklahoma          2.8246690 0.6483903                                 \n",
              "Oregon            3.2862071 1.2407607 1.0734082                       \n",
              "Pennsylvania      2.5555137 0.7781298 0.8180221 1.7293732             \n",
              "Rhode Island      3.4042300 1.9659747 1.9746699 2.6621371    1.6369255\n",
              "South Carolina    4.5104172 3.1289884 2.7470931 3.0134453    3.3429642\n",
              "South Dakota      1.0324944 2.4394250 2.0340486 2.4988870    1.9790714\n",
              "Tennessee         4.0623149 2.0167804 1.8500296 2.0306758    2.4343114\n",
              "Texas             4.5749422 1.6711510 1.8312655 2.1053000    2.2460705\n",
              "Utah              3.1738212 1.0154223 1.2372916 1.2825152    1.2529078\n",
              "Vermont           0.9824857 3.4825859 3.1010306 3.4262789    3.0270572\n",
              "Virginia          2.9443461 0.9774388 0.5646254 1.2664430    1.1769236\n",
              "Washington        3.1725909 0.9725013 0.9586525 0.5935343    1.3993323\n",
              "West Virginia     1.2716808 2.8650371 2.4631736 3.0349855    2.3799278\n",
              "Wisconsin         1.6216339 1.8649801 1.7916829 2.4088700    1.2204658\n",
              "Wyoming           2.4170757 1.3086480 0.7366465 1.6013015    1.0684605\n",
              "               Rhode Island South Carolina South Dakota Tennessee     Texas\n",
              "Alaska                                                                     \n",
              "Arizona                                                                    \n",
              "Arkansas                                                                   \n",
              "California                                                                 \n",
              "Colorado                                                                   \n",
              "Connecticut                                                                \n",
              "Delaware                                                                   \n",
              "Florida                                                                    \n",
              "Georgia                                                                    \n",
              "Hawaii                                                                     \n",
              "Idaho                                                                      \n",
              "Illinois                                                                   \n",
              "Indiana                                                                    \n",
              "Iowa                                                                       \n",
              "Kansas                                                                     \n",
              "Kentucky                                                                   \n",
              "Louisiana                                                                  \n",
              "Maine                                                                      \n",
              "Maryland                                                                   \n",
              "Massachusetts                                                              \n",
              "Michigan                                                                   \n",
              "Minnesota                                                                  \n",
              "Mississippi                                                                \n",
              "Missouri                                                                   \n",
              "Montana                                                                    \n",
              "Nebraska                                                                   \n",
              "Nevada                                                                     \n",
              "New Hampshire                                                              \n",
              "New Jersey                                                                 \n",
              "New Mexico                                                                 \n",
              "New York                                                                   \n",
              "North Carolina                                                             \n",
              "North Dakota                                                               \n",
              "Ohio                                                                       \n",
              "Oklahoma                                                                   \n",
              "Oregon                                                                     \n",
              "Pennsylvania                                                               \n",
              "Rhode Island                                                               \n",
              "South Carolina    4.1861320                                                \n",
              "South Dakota      3.1262712      3.5215978                                 \n",
              "Tennessee         3.5743861      1.4375120    3.0589938                    \n",
              "Texas             2.8757996      2.4532276    3.7101039 1.4712840          \n",
              "Utah              1.7565845      3.8912317    2.6823382 2.8678113 2.4039834\n",
              "Vermont           4.1104165      4.2668977    1.0856574 3.9356721 4.7444455\n",
              "Virginia          2.4330133      2.2636538    2.0316897 1.3514491 1.6921625\n",
              "Washington        2.1743525      3.3802314    2.5083824 2.3809584 2.1635337\n",
              "West Virginia     3.5400858      3.4651680    0.7108812 3.1707450 3.9586581\n",
              "Wisconsin         2.0779526      4.2190973    1.5437375 3.4257189 3.4539515\n",
              "Wyoming           2.1726807      2.5059056    1.5644785 1.9298669 2.2564704\n",
              "                    Utah   Vermont  Virginia Washington West Virginia Wisconsin\n",
              "Alaska                                                                         \n",
              "Arizona                                                                        \n",
              "Arkansas                                                                       \n",
              "California                                                                     \n",
              "Colorado                                                                       \n",
              "Connecticut                                                                    \n",
              "Delaware                                                                       \n",
              "Florida                                                                        \n",
              "Georgia                                                                        \n",
              "Hawaii                                                                         \n",
              "Idaho                                                                          \n",
              "Illinois                                                                       \n",
              "Indiana                                                                        \n",
              "Iowa                                                                           \n",
              "Kansas                                                                         \n",
              "Kentucky                                                                       \n",
              "Louisiana                                                                      \n",
              "Maine                                                                          \n",
              "Maryland                                                                       \n",
              "Massachusetts                                                                  \n",
              "Michigan                                                                       \n",
              "Minnesota                                                                      \n",
              "Mississippi                                                                    \n",
              "Missouri                                                                       \n",
              "Montana                                                                        \n",
              "Nebraska                                                                       \n",
              "Nevada                                                                         \n",
              "New Hampshire                                                                  \n",
              "New Jersey                                                                     \n",
              "New Mexico                                                                     \n",
              "New York                                                                       \n",
              "North Carolina                                                                 \n",
              "North Dakota                                                                   \n",
              "Ohio                                                                           \n",
              "Oklahoma                                                                       \n",
              "Oregon                                                                         \n",
              "Pennsylvania                                                                   \n",
              "Rhode Island                                                                   \n",
              "South Carolina                                                                 \n",
              "South Dakota                                                                   \n",
              "Tennessee                                                                      \n",
              "Texas                                                                          \n",
              "Utah                                                                           \n",
              "Vermont        3.6546040                                                       \n",
              "Virginia       1.7612066 3.0638337                                             \n",
              "Washington     0.6940667 3.4804319 1.3809295                                   \n",
              "West Virginia  3.2680139 1.0380554 2.3353210  3.0846553                        \n",
              "Wisconsin      1.8082282 2.3518637 2.1266497  2.0637823     2.0308890          \n",
              "Wyoming        1.8552036 2.6299335 0.7038309  1.5929546     1.8821600 1.7446366"
            ]
          },
          "metadata": {}
        }
      ]
    },
    {
      "cell_type": "markdown",
      "metadata": {
        "id": "f4DGWA5rEXLa"
      },
      "source": [
        "# 2. Dendograma"
      ]
    },
    {
      "cell_type": "code",
      "metadata": {
        "id": "XbC4oiKQCv7g"
      },
      "source": [
        "fit = hclust(d, method = \"complete\")                   \n",
        "# fit = hclust(d, method = \"single\") \n",
        "# fit = hclust(d, method = \"average\")"
      ],
      "execution_count": null,
      "outputs": []
    },
    {
      "cell_type": "code",
      "metadata": {
        "colab": {
          "base_uri": "https://localhost:8080/"
        },
        "id": "cuIyNLeGC1A0",
        "outputId": "a350461b-e109-48b7-a63e-2118639eb6b4"
      },
      "source": [
        "print(fit)"
      ],
      "execution_count": null,
      "outputs": [
        {
          "output_type": "stream",
          "name": "stdout",
          "text": [
            "\n",
            "Call:\n",
            "hclust(d = d, method = \"complete\")\n",
            "\n",
            "Cluster method   : complete \n",
            "Distance         : euclidean \n",
            "Number of objects: 50 \n",
            "\n"
          ]
        }
      ]
    },
    {
      "cell_type": "code",
      "metadata": {
        "colab": {
          "base_uri": "https://localhost:8080/",
          "height": 437
        },
        "id": "-gWxA4ItC4vn",
        "outputId": "dc6e1f71-36fd-47d4-816d-6ad81e33027c"
      },
      "source": [
        "par(mfrow=c(1, 1))\n",
        "plot(fit)\n"
      ],
      "execution_count": null,
      "outputs": [
        {
          "output_type": "display_data",
          "data": {
            "image/png": "[encoded data removed]",
            "text/plain": [
              "Plot with title “Cluster Dendrogram”"
            ]
          },
          "metadata": {
            "image/png": {
              "width": 420,
              "height": 420
            }
          }
        }
      ]
    },
    {
      "cell_type": "markdown",
      "metadata": {
        "id": "fqMaDq6lEe64"
      },
      "source": [
        "# 3. Clusters"
      ]
    },
    {
      "cell_type": "code",
      "metadata": {
        "colab": {
          "base_uri": "https://localhost:8080/",
          "height": 102
        },
        "id": "JpsNpY03EynD",
        "outputId": "bd0062ea-4141-4979-a345-c8cdf2493507"
      },
      "source": [
        "groups = cutree(fit, k=3)\n",
        "groups"
      ],
      "execution_count": null,
      "outputs": [
        {
          "output_type": "display_data",
          "data": {
            "text/plain": [
              "       Alabama         Alaska        Arizona       Arkansas     California \n",
              "             1              1              2              3              2 \n",
              "      Colorado    Connecticut       Delaware        Florida        Georgia \n",
              "             2              3              3              2              1 \n",
              "        Hawaii          Idaho       Illinois        Indiana           Iowa \n",
              "             3              3              2              3              3 \n",
              "        Kansas       Kentucky      Louisiana          Maine       Maryland \n",
              "             3              3              1              3              2 \n",
              " Massachusetts       Michigan      Minnesota    Mississippi       Missouri \n",
              "             3              2              3              1              3 \n",
              "       Montana       Nebraska         Nevada  New Hampshire     New Jersey \n",
              "             3              3              2              3              3 \n",
              "    New Mexico       New York North Carolina   North Dakota           Ohio \n",
              "             2              2              1              3              3 \n",
              "      Oklahoma         Oregon   Pennsylvania   Rhode Island South Carolina \n",
              "             3              3              3              3              1 \n",
              "  South Dakota      Tennessee          Texas           Utah        Vermont \n",
              "             3              1              2              3              3 \n",
              "      Virginia     Washington  West Virginia      Wisconsin        Wyoming \n",
              "             3              3              3              3              3 "
            ],
            "text/latex": "\\begin{description*}\n\\item[Alabama] 1\n\\item[Alaska] 1\n\\item[Arizona] 2\n\\item[Arkansas] 3\n\\item[California] 2\n\\item[Colorado] 2\n\\item[Connecticut] 3\n\\item[Delaware] 3\n\\item[Florida] 2\n\\item[Georgia] 1\n\\item[Hawaii] 3\n\\item[Idaho] 3\n\\item[Illinois] 2\n\\item[Indiana] 3\n\\item[Iowa] 3\n\\item[Kansas] 3\n\\item[Kentucky] 3\n\\item[Louisiana] 1\n\\item[Maine] 3\n\\item[Maryland] 2\n\\item[Massachusetts] 3\n\\item[Michigan] 2\n\\item[Minnesota] 3\n\\item[Mississippi] 1\n\\item[Missouri] 3\n\\item[Montana] 3\n\\item[Nebraska] 3\n\\item[Nevada] 2\n\\item[New Hampshire] 3\n\\item[New Jersey] 3\n\\item[New Mexico] 2\n\\item[New York] 2\n\\item[North Carolina] 1\n\\item[North Dakota] 3\n\\item[Ohio] 3\n\\item[Oklahoma] 3\n\\item[Oregon] 3\n\\item[Pennsylvania] 3\n\\item[Rhode Island] 3\n\\item[South Carolina] 1\n\\item[South Dakota] 3\n\\item[Tennessee] 1\n\\item[Texas] 2\n\\item[Utah] 3\n\\item[Vermont] 3\n\\item[Virginia] 3\n\\item[Washington] 3\n\\item[West Virginia] 3\n\\item[Wisconsin] 3\n\\item[Wyoming] 3\n\\end{description*}\n",
            "text/markdown": "Alabama\n:   1Alaska\n:   1Arizona\n:   2Arkansas\n:   3California\n:   2Colorado\n:   2Connecticut\n:   3Delaware\n:   3Florida\n:   2Georgia\n:   1Hawaii\n:   3Idaho\n:   3Illinois\n:   2Indiana\n:   3Iowa\n:   3Kansas\n:   3Kentucky\n:   3Louisiana\n:   1Maine\n:   3Maryland\n:   2Massachusetts\n:   3Michigan\n:   2Minnesota\n:   3Mississippi\n:   1Missouri\n:   3Montana\n:   3Nebraska\n:   3Nevada\n:   2New Hampshire\n:   3New Jersey\n:   3New Mexico\n:   2New York\n:   2North Carolina\n:   1North Dakota\n:   3Ohio\n:   3Oklahoma\n:   3Oregon\n:   3Pennsylvania\n:   3Rhode Island\n:   3South Carolina\n:   1South Dakota\n:   3Tennessee\n:   1Texas\n:   2Utah\n:   3Vermont\n:   3Virginia\n:   3Washington\n:   3West Virginia\n:   3Wisconsin\n:   3Wyoming\n:   3\n\n",
            "text/html": [
              "<style>\n",
              ".dl-inline {width: auto; margin:0; padding: 0}\n",
              ".dl-inline>dt, .dl-inline>dd {float: none; width: auto; display: inline-block}\n",
              ".dl-inline>dt::after {content: \":\\0020\"; padding-right: .5ex}\n",
              ".dl-inline>dt:not(:first-of-type) {padding-left: .5ex}\n",
              "</style><dl class=dl-inline><dt>Alabama</dt><dd>1</dd><dt>Alaska</dt><dd>1</dd><dt>Arizona</dt><dd>2</dd><dt>Arkansas</dt><dd>3</dd><dt>California</dt><dd>2</dd><dt>Colorado</dt><dd>2</dd><dt>Connecticut</dt><dd>3</dd><dt>Delaware</dt><dd>3</dd><dt>Florida</dt><dd>2</dd><dt>Georgia</dt><dd>1</dd><dt>Hawaii</dt><dd>3</dd><dt>Idaho</dt><dd>3</dd><dt>Illinois</dt><dd>2</dd><dt>Indiana</dt><dd>3</dd><dt>Iowa</dt><dd>3</dd><dt>Kansas</dt><dd>3</dd><dt>Kentucky</dt><dd>3</dd><dt>Louisiana</dt><dd>1</dd><dt>Maine</dt><dd>3</dd><dt>Maryland</dt><dd>2</dd><dt>Massachusetts</dt><dd>3</dd><dt>Michigan</dt><dd>2</dd><dt>Minnesota</dt><dd>3</dd><dt>Mississippi</dt><dd>1</dd><dt>Missouri</dt><dd>3</dd><dt>Montana</dt><dd>3</dd><dt>Nebraska</dt><dd>3</dd><dt>Nevada</dt><dd>2</dd><dt>New Hampshire</dt><dd>3</dd><dt>New Jersey</dt><dd>3</dd><dt>New Mexico</dt><dd>2</dd><dt>New York</dt><dd>2</dd><dt>North Carolina</dt><dd>1</dd><dt>North Dakota</dt><dd>3</dd><dt>Ohio</dt><dd>3</dd><dt>Oklahoma</dt><dd>3</dd><dt>Oregon</dt><dd>3</dd><dt>Pennsylvania</dt><dd>3</dd><dt>Rhode Island</dt><dd>3</dd><dt>South Carolina</dt><dd>1</dd><dt>South Dakota</dt><dd>3</dd><dt>Tennessee</dt><dd>1</dd><dt>Texas</dt><dd>2</dd><dt>Utah</dt><dd>3</dd><dt>Vermont</dt><dd>3</dd><dt>Virginia</dt><dd>3</dd><dt>Washington</dt><dd>3</dd><dt>West Virginia</dt><dd>3</dd><dt>Wisconsin</dt><dd>3</dd><dt>Wyoming</dt><dd>3</dd></dl>\n"
            ]
          },
          "metadata": {}
        }
      ]
    },
    {
      "cell_type": "code",
      "metadata": {
        "colab": {
          "base_uri": "https://localhost:8080/",
          "height": 437
        },
        "id": "iYP7vsn3EiBy",
        "outputId": "a0ae7af4-9a31-4ad3-e119-378512f3f885"
      },
      "source": [
        "par(mfrow=c(1, 1))\n",
        "plot(fit)\n",
        "rect.hclust(fit, k = 3, border = 'red')"
      ],
      "execution_count": null,
      "outputs": [
        {
          "output_type": "display_data",
          "data": {
            "image/png": "[encoded data removed]",
            "text/plain": [
              "Plot with title “Cluster Dendrogram”"
            ]
          },
          "metadata": {
            "image/png": {
              "width": 420,
              "height": 420
            }
          }
        }
      ]
    },
    {
      "cell_type": "markdown",
      "metadata": {
        "id": "SfkgmAQvFAoo"
      },
      "source": [
        "# Explorando os Clusters"
      ]
    },
    {
      "cell_type": "code",
      "metadata": {
        "colab": {
          "base_uri": "https://localhost:8080/"
        },
        "id": "tQ3dXQZGFFLp",
        "outputId": "c215f997-e40c-46c1-b908-3d22f77a1673"
      },
      "source": [
        "my_data = cbind(my_data,as.numeric(groups))\n",
        "colnames(my_data)[5] = 'cluster'\n",
        "print(my_data[my_data$cluster == 2,]) "
      ],
      "execution_count": null,
      "outputs": [
        {
          "output_type": "stream",
          "name": "stdout",
          "text": [
            "               Murder   Assault  UrbanPop      Rape cluster as.numeric(groups)\n",
            "Arizona    0.07163341 1.4788032 0.9989801 1.0428784       2                  2\n",
            "California 0.27826823 1.2628144 1.7589234 2.0678203       2                  2\n",
            "Colorado   0.02571456 0.3988593 0.8608085 1.8649672       2                  2\n",
            "Florida    1.74767144 1.9707777 0.9989801 1.1389667       2                  2\n",
            "Illinois   0.59970018 0.9388312 1.2062373 0.2955249       2                  2\n",
            "Maryland   0.80633501 1.5507995 0.1008652 0.7012311       2                  2\n",
            "Michigan   0.99001041 1.0108275 0.5844655 1.4806140       2                  2\n",
            "Nevada     1.01296983 0.9748294 1.0680658 2.6443501       2                  2\n",
            "New Mexico 0.82929443 1.3708088 0.3081225 1.1603196       2                  2\n",
            "New York   0.76041616 0.9988281 1.4134946 0.5197310       2                  2\n",
            "Texas      1.12776696 0.3628612 0.9989801 0.4556721       2                  2\n",
            "           as.numeric(groups)\n",
            "Arizona                     2\n",
            "California                  2\n",
            "Colorado                    2\n",
            "Florida                     2\n",
            "Illinois                    2\n",
            "Maryland                    2\n",
            "Michigan                    2\n",
            "Nevada                      2\n",
            "New Mexico                  2\n",
            "New York                    2\n",
            "Texas                       2\n"
          ]
        }
      ]
    },
    {
      "cell_type": "code",
      "metadata": {
        "colab": {
          "base_uri": "https://localhost:8080/",
          "height": 68
        },
        "id": "ELmPz-QrFSb7",
        "outputId": "e03ac8ee-7248-4168-d239-c114b104c537"
      },
      "source": [
        "table(my_data$cluster)"
      ],
      "execution_count": null,
      "outputs": [
        {
          "output_type": "display_data",
          "data": {
            "text/plain": [
              "\n",
              " 1  2  3 \n",
              " 8 11 31 "
            ]
          },
          "metadata": {}
        }
      ]
    },
    {
      "cell_type": "code",
      "metadata": {
        "colab": {
          "base_uri": "https://localhost:8080/",
          "height": 437
        },
        "id": "KZEt7phyF2vn",
        "outputId": "1d83100d-fbf5-4cd1-fd3c-cd0408d29383"
      },
      "source": [
        "par(mfrow=c(1, 3))\n",
        "for (i in 1:3){\n",
        "  main_ = paste(\"Group =\", i)\n",
        "  barplot(sapply(my_data[my_data$cluster==i,c(1:4)],mean),main=main_) \n",
        "}"
      ],
      "execution_count": null,
      "outputs": [
        {
          "output_type": "display_data",
          "data": {
            "image/png": "[encoded data removed]",
            "text/plain": [
              "Plot with title “Group = 3”"
            ]
          },
          "metadata": {
            "image/png": {
              "width": 420,
              "height": 420
            }
          }
        }
      ]
    },
    {
      "cell_type": "markdown",
      "metadata": {
        "id": "Ugwaw7qyGUVF"
      },
      "source": [
        "# Silhouette"
      ]
    },
    {
      "cell_type": "code",
      "metadata": {
        "colab": {
          "base_uri": "https://localhost:8080/"
        },
        "id": "mCPfXgl3GTB2",
        "outputId": "81714464-963e-476a-afe4-cc4bfe86d605"
      },
      "source": [
        "set.seed(1984) \n",
        "\n",
        "for (i in 2:10){\n",
        "  d = dist(as.matrix(my_data),method = 'euclidean')\n",
        "  fit = hclust(d, method = \"complete\")                   \n",
        "  groups = cutree(fit, k=i) \n",
        "  ss = silhouette(groups, d)\n",
        "  # plot(ss)\n",
        "  cat('Média de Silhouette para ', i , ' clusters = ', mean(ss[,3]) , '\\n')\n",
        "} "
      ],
      "execution_count": null,
      "outputs": [
        {
          "output_type": "stream",
          "name": "stdout",
          "text": [
            "Média de Silhouette para  2  clusters =  0.5130001 \n",
            "Média de Silhouette para  3  clusters =  0.4932419 \n",
            "Média de Silhouette para  4  clusters =  0.3778231 \n",
            "Média de Silhouette para  5  clusters =  0.3730169 \n",
            "Média de Silhouette para  6  clusters =  0.3147493 \n",
            "Média de Silhouette para  7  clusters =  0.3024482 \n",
            "Média de Silhouette para  8  clusters =  0.2671512 \n",
            "Média de Silhouette para  9  clusters =  0.2516229 \n",
            "Média de Silhouette para  10  clusters =  0.2161163 \n"
          ]
        }
      ]
    }
  ]
}