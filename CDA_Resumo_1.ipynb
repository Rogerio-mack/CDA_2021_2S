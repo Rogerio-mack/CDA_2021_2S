{
  "nbformat": 4,
  "nbformat_minor": 0,
  "metadata": {
    "colab": {
      "name": "CDA_Resumo_1.ipynb",
      "provenance": [],
      "authorship_tag": "ABX9TyPZQ8ntrX33UOkNHt8yJmPB",
      "include_colab_link": true
    },
    "kernelspec": {
      "name": "ir",
      "display_name": "R"
    },
    "language_info": {
      "name": "R"
    }
  },
  "cells": [
    {
      "cell_type": "markdown",
      "metadata": {
        "id": "view-in-github",
        "colab_type": "text"
      },
      "source": [
        "<a href=\"https://colab.research.google.com/github/Rogerio-mack/CDA_2021_2S/blob/main/CDA_Resumo_1.ipynb\" target=\"_parent\"><img src=\"https://colab.research.google.com/assets/colab-badge.svg\" alt=\"Open In Colab\"/></a>"
      ]
    },
    {
      "cell_type": "markdown",
      "metadata": {
        "id": "KvXJGFJQuDrH"
      },
      "source": [
        "# Exploração da Estrutura dos Dados"
      ]
    },
    {
      "cell_type": "code",
      "metadata": {
        "colab": {
          "base_uri": "https://localhost:8080/",
          "height": 283
        },
        "id": "81QGdxpyrMlj",
        "outputId": "87a96e02-8160-43db-fd61-8e188dee6b26"
      },
      "source": [
        "head(iris)"
      ],
      "execution_count": 1,
      "outputs": [
        {
          "output_type": "display_data",
          "data": {
            "text/plain": [
              "  Sepal.Length Sepal.Width Petal.Length Petal.Width Species\n",
              "1 5.1          3.5         1.4          0.2         setosa \n",
              "2 4.9          3.0         1.4          0.2         setosa \n",
              "3 4.7          3.2         1.3          0.2         setosa \n",
              "4 4.6          3.1         1.5          0.2         setosa \n",
              "5 5.0          3.6         1.4          0.2         setosa \n",
              "6 5.4          3.9         1.7          0.4         setosa "
            ],
            "text/latex": "A data.frame: 6 × 5\n\\begin{tabular}{r|lllll}\n  & Sepal.Length & Sepal.Width & Petal.Length & Petal.Width & Species\\\\\n  & <dbl> & <dbl> & <dbl> & <dbl> & <fct>\\\\\n\\hline\n\t1 & 5.1 & 3.5 & 1.4 & 0.2 & setosa\\\\\n\t2 & 4.9 & 3.0 & 1.4 & 0.2 & setosa\\\\\n\t3 & 4.7 & 3.2 & 1.3 & 0.2 & setosa\\\\\n\t4 & 4.6 & 3.1 & 1.5 & 0.2 & setosa\\\\\n\t5 & 5.0 & 3.6 & 1.4 & 0.2 & setosa\\\\\n\t6 & 5.4 & 3.9 & 1.7 & 0.4 & setosa\\\\\n\\end{tabular}\n",
            "text/markdown": "\nA data.frame: 6 × 5\n\n| <!--/--> | Sepal.Length &lt;dbl&gt; | Sepal.Width &lt;dbl&gt; | Petal.Length &lt;dbl&gt; | Petal.Width &lt;dbl&gt; | Species &lt;fct&gt; |\n|---|---|---|---|---|---|\n| 1 | 5.1 | 3.5 | 1.4 | 0.2 | setosa |\n| 2 | 4.9 | 3.0 | 1.4 | 0.2 | setosa |\n| 3 | 4.7 | 3.2 | 1.3 | 0.2 | setosa |\n| 4 | 4.6 | 3.1 | 1.5 | 0.2 | setosa |\n| 5 | 5.0 | 3.6 | 1.4 | 0.2 | setosa |\n| 6 | 5.4 | 3.9 | 1.7 | 0.4 | setosa |\n\n",
            "text/html": [
              "<table class=\"dataframe\">\n",
              "<caption>A data.frame: 6 × 5</caption>\n",
              "<thead>\n",
              "\t<tr><th></th><th scope=col>Sepal.Length</th><th scope=col>Sepal.Width</th><th scope=col>Petal.Length</th><th scope=col>Petal.Width</th><th scope=col>Species</th></tr>\n",
              "\t<tr><th></th><th scope=col>&lt;dbl&gt;</th><th scope=col>&lt;dbl&gt;</th><th scope=col>&lt;dbl&gt;</th><th scope=col>&lt;dbl&gt;</th><th scope=col>&lt;fct&gt;</th></tr>\n",
              "</thead>\n",
              "<tbody>\n",
              "\t<tr><th scope=row>1</th><td>5.1</td><td>3.5</td><td>1.4</td><td>0.2</td><td>setosa</td></tr>\n",
              "\t<tr><th scope=row>2</th><td>4.9</td><td>3.0</td><td>1.4</td><td>0.2</td><td>setosa</td></tr>\n",
              "\t<tr><th scope=row>3</th><td>4.7</td><td>3.2</td><td>1.3</td><td>0.2</td><td>setosa</td></tr>\n",
              "\t<tr><th scope=row>4</th><td>4.6</td><td>3.1</td><td>1.5</td><td>0.2</td><td>setosa</td></tr>\n",
              "\t<tr><th scope=row>5</th><td>5.0</td><td>3.6</td><td>1.4</td><td>0.2</td><td>setosa</td></tr>\n",
              "\t<tr><th scope=row>6</th><td>5.4</td><td>3.9</td><td>1.7</td><td>0.4</td><td>setosa</td></tr>\n",
              "</tbody>\n",
              "</table>\n"
            ]
          },
          "metadata": {}
        }
      ]
    },
    {
      "cell_type": "code",
      "metadata": {
        "colab": {
          "base_uri": "https://localhost:8080/",
          "height": 33
        },
        "id": "AioijRX7sZ5G",
        "outputId": "4f72d3d7-77eb-43be-b936-3646ab43064e"
      },
      "source": [
        "nrow(iris)"
      ],
      "execution_count": null,
      "outputs": [
        {
          "output_type": "display_data",
          "data": {
            "text/plain": [
              "[1] 150"
            ],
            "text/latex": "150",
            "text/markdown": "150",
            "text/html": [
              "150"
            ]
          },
          "metadata": {}
        }
      ]
    },
    {
      "cell_type": "code",
      "metadata": {
        "colab": {
          "base_uri": "https://localhost:8080/",
          "height": 34
        },
        "id": "8OKVB0CyseBl",
        "outputId": "6a3be470-08b8-4480-8ea2-4a31509b37ac"
      },
      "source": [
        "ncol(iris)"
      ],
      "execution_count": 2,
      "outputs": [
        {
          "output_type": "display_data",
          "data": {
            "text/plain": [
              "[1] 5"
            ],
            "text/latex": "5",
            "text/markdown": "5",
            "text/html": [
              "5"
            ]
          },
          "metadata": {}
        }
      ]
    },
    {
      "cell_type": "code",
      "metadata": {
        "colab": {
          "base_uri": "https://localhost:8080/",
          "height": 34
        },
        "id": "3AiCXnmQsjBP",
        "outputId": "d4b247c1-bdd6-431c-8988-e1f0c997d183"
      },
      "source": [
        "names(iris)"
      ],
      "execution_count": 3,
      "outputs": [
        {
          "output_type": "display_data",
          "data": {
            "text/plain": [
              "[1] \"Sepal.Length\" \"Sepal.Width\"  \"Petal.Length\" \"Petal.Width\"  \"Species\"     "
            ],
            "text/latex": "\\begin{enumerate*}\n\\item 'Sepal.Length'\n\\item 'Sepal.Width'\n\\item 'Petal.Length'\n\\item 'Petal.Width'\n\\item 'Species'\n\\end{enumerate*}\n",
            "text/markdown": "1. 'Sepal.Length'\n2. 'Sepal.Width'\n3. 'Petal.Length'\n4. 'Petal.Width'\n5. 'Species'\n\n\n",
            "text/html": [
              "<style>\n",
              ".list-inline {list-style: none; margin:0; padding: 0}\n",
              ".list-inline>li {display: inline-block}\n",
              ".list-inline>li:not(:last-child)::after {content: \"\\00b7\"; padding: 0 .5ex}\n",
              "</style>\n",
              "<ol class=list-inline><li>'Sepal.Length'</li><li>'Sepal.Width'</li><li>'Petal.Length'</li><li>'Petal.Width'</li><li>'Species'</li></ol>\n"
            ]
          },
          "metadata": {}
        }
      ]
    },
    {
      "cell_type": "code",
      "metadata": {
        "colab": {
          "base_uri": "https://localhost:8080/"
        },
        "id": "HRBC-BHkslXK",
        "outputId": "985b930e-fb7d-48f2-a003-2efa67171a2d"
      },
      "source": [
        "str(iris)"
      ],
      "execution_count": 4,
      "outputs": [
        {
          "output_type": "stream",
          "name": "stdout",
          "text": [
            "'data.frame':\t150 obs. of  5 variables:\n",
            " $ Sepal.Length: num  5.1 4.9 4.7 4.6 5 5.4 4.6 5 4.4 4.9 ...\n",
            " $ Sepal.Width : num  3.5 3 3.2 3.1 3.6 3.9 3.4 3.4 2.9 3.1 ...\n",
            " $ Petal.Length: num  1.4 1.4 1.3 1.5 1.4 1.7 1.4 1.5 1.4 1.5 ...\n",
            " $ Petal.Width : num  0.2 0.2 0.2 0.2 0.2 0.4 0.3 0.2 0.2 0.1 ...\n",
            " $ Species     : Factor w/ 3 levels \"setosa\",\"versicolor\",..: 1 1 1 1 1 1 1 1 1 1 ...\n"
          ]
        }
      ]
    },
    {
      "cell_type": "code",
      "metadata": {
        "colab": {
          "base_uri": "https://localhost:8080/",
          "height": 255
        },
        "id": "TcQiU3Yis_B0",
        "outputId": "44b48981-9a81-41f4-f20d-5088691bcc61"
      },
      "source": [
        "summary(iris)"
      ],
      "execution_count": 5,
      "outputs": [
        {
          "output_type": "display_data",
          "data": {
            "text/plain": [
              "  Sepal.Length    Sepal.Width     Petal.Length    Petal.Width   \n",
              " Min.   :4.300   Min.   :2.000   Min.   :1.000   Min.   :0.100  \n",
              " 1st Qu.:5.100   1st Qu.:2.800   1st Qu.:1.600   1st Qu.:0.300  \n",
              " Median :5.800   Median :3.000   Median :4.350   Median :1.300  \n",
              " Mean   :5.843   Mean   :3.057   Mean   :3.758   Mean   :1.199  \n",
              " 3rd Qu.:6.400   3rd Qu.:3.300   3rd Qu.:5.100   3rd Qu.:1.800  \n",
              " Max.   :7.900   Max.   :4.400   Max.   :6.900   Max.   :2.500  \n",
              "       Species  \n",
              " setosa    :50  \n",
              " versicolor:50  \n",
              " virginica :50  \n",
              "                \n",
              "                \n",
              "                "
            ]
          },
          "metadata": {}
        }
      ]
    },
    {
      "cell_type": "markdown",
      "metadata": {
        "id": "Os2JRf_KuOxS"
      },
      "source": [
        "# Explorando um Atributo\n",
        "\n",
        "## Selecionando uma coluna"
      ]
    },
    {
      "cell_type": "code",
      "metadata": {
        "colab": {
          "base_uri": "https://localhost:8080/",
          "height": 102
        },
        "id": "-N40EGxMuAKZ",
        "outputId": "5169f9a6-d467-4291-b1ce-0b150cf8adcf"
      },
      "source": [
        "iris$Petal.Length"
      ],
      "execution_count": 6,
      "outputs": [
        {
          "output_type": "display_data",
          "data": {
            "text/plain": [
              "  [1] 1.4 1.4 1.3 1.5 1.4 1.7 1.4 1.5 1.4 1.5 1.5 1.6 1.4 1.1 1.2 1.5 1.3 1.4\n",
              " [19] 1.7 1.5 1.7 1.5 1.0 1.7 1.9 1.6 1.6 1.5 1.4 1.6 1.6 1.5 1.5 1.4 1.5 1.2\n",
              " [37] 1.3 1.4 1.3 1.5 1.3 1.3 1.3 1.6 1.9 1.4 1.6 1.4 1.5 1.4 4.7 4.5 4.9 4.0\n",
              " [55] 4.6 4.5 4.7 3.3 4.6 3.9 3.5 4.2 4.0 4.7 3.6 4.4 4.5 4.1 4.5 3.9 4.8 4.0\n",
              " [73] 4.9 4.7 4.3 4.4 4.8 5.0 4.5 3.5 3.8 3.7 3.9 5.1 4.5 4.5 4.7 4.4 4.1 4.0\n",
              " [91] 4.4 4.6 4.0 3.3 4.2 4.2 4.2 4.3 3.0 4.1 6.0 5.1 5.9 5.6 5.8 6.6 4.5 6.3\n",
              "[109] 5.8 6.1 5.1 5.3 5.5 5.0 5.1 5.3 5.5 6.7 6.9 5.0 5.7 4.9 6.7 4.9 5.7 6.0\n",
              "[127] 4.8 4.9 5.6 5.8 6.1 6.4 5.6 5.1 5.6 6.1 5.6 5.5 4.8 5.4 5.6 5.1 5.1 5.9\n",
              "[145] 5.7 5.2 5.0 5.2 5.4 5.1"
            ],
            "text/latex": "\\begin{enumerate*}\n\\item 1.4\n\\item 1.4\n\\item 1.3\n\\item 1.5\n\\item 1.4\n\\item 1.7\n\\item 1.4\n\\item 1.5\n\\item 1.4\n\\item 1.5\n\\item 1.5\n\\item 1.6\n\\item 1.4\n\\item 1.1\n\\item 1.2\n\\item 1.5\n\\item 1.3\n\\item 1.4\n\\item 1.7\n\\item 1.5\n\\item 1.7\n\\item 1.5\n\\item 1\n\\item 1.7\n\\item 1.9\n\\item 1.6\n\\item 1.6\n\\item 1.5\n\\item 1.4\n\\item 1.6\n\\item 1.6\n\\item 1.5\n\\item 1.5\n\\item 1.4\n\\item 1.5\n\\item 1.2\n\\item 1.3\n\\item 1.4\n\\item 1.3\n\\item 1.5\n\\item 1.3\n\\item 1.3\n\\item 1.3\n\\item 1.6\n\\item 1.9\n\\item 1.4\n\\item 1.6\n\\item 1.4\n\\item 1.5\n\\item 1.4\n\\item 4.7\n\\item 4.5\n\\item 4.9\n\\item 4\n\\item 4.6\n\\item 4.5\n\\item 4.7\n\\item 3.3\n\\item 4.6\n\\item 3.9\n\\item 3.5\n\\item 4.2\n\\item 4\n\\item 4.7\n\\item 3.6\n\\item 4.4\n\\item 4.5\n\\item 4.1\n\\item 4.5\n\\item 3.9\n\\item 4.8\n\\item 4\n\\item 4.9\n\\item 4.7\n\\item 4.3\n\\item 4.4\n\\item 4.8\n\\item 5\n\\item 4.5\n\\item 3.5\n\\item 3.8\n\\item 3.7\n\\item 3.9\n\\item 5.1\n\\item 4.5\n\\item 4.5\n\\item 4.7\n\\item 4.4\n\\item 4.1\n\\item 4\n\\item 4.4\n\\item 4.6\n\\item 4\n\\item 3.3\n\\item 4.2\n\\item 4.2\n\\item 4.2\n\\item 4.3\n\\item 3\n\\item 4.1\n\\item 6\n\\item 5.1\n\\item 5.9\n\\item 5.6\n\\item 5.8\n\\item 6.6\n\\item 4.5\n\\item 6.3\n\\item 5.8\n\\item 6.1\n\\item 5.1\n\\item 5.3\n\\item 5.5\n\\item 5\n\\item 5.1\n\\item 5.3\n\\item 5.5\n\\item 6.7\n\\item 6.9\n\\item 5\n\\item 5.7\n\\item 4.9\n\\item 6.7\n\\item 4.9\n\\item 5.7\n\\item 6\n\\item 4.8\n\\item 4.9\n\\item 5.6\n\\item 5.8\n\\item 6.1\n\\item 6.4\n\\item 5.6\n\\item 5.1\n\\item 5.6\n\\item 6.1\n\\item 5.6\n\\item 5.5\n\\item 4.8\n\\item 5.4\n\\item 5.6\n\\item 5.1\n\\item 5.1\n\\item 5.9\n\\item 5.7\n\\item 5.2\n\\item 5\n\\item 5.2\n\\item 5.4\n\\item 5.1\n\\end{enumerate*}\n",
            "text/markdown": "1. 1.4\n2. 1.4\n3. 1.3\n4. 1.5\n5. 1.4\n6. 1.7\n7. 1.4\n8. 1.5\n9. 1.4\n10. 1.5\n11. 1.5\n12. 1.6\n13. 1.4\n14. 1.1\n15. 1.2\n16. 1.5\n17. 1.3\n18. 1.4\n19. 1.7\n20. 1.5\n21. 1.7\n22. 1.5\n23. 1\n24. 1.7\n25. 1.9\n26. 1.6\n27. 1.6\n28. 1.5\n29. 1.4\n30. 1.6\n31. 1.6\n32. 1.5\n33. 1.5\n34. 1.4\n35. 1.5\n36. 1.2\n37. 1.3\n38. 1.4\n39. 1.3\n40. 1.5\n41. 1.3\n42. 1.3\n43. 1.3\n44. 1.6\n45. 1.9\n46. 1.4\n47. 1.6\n48. 1.4\n49. 1.5\n50. 1.4\n51. 4.7\n52. 4.5\n53. 4.9\n54. 4\n55. 4.6\n56. 4.5\n57. 4.7\n58. 3.3\n59. 4.6\n60. 3.9\n61. 3.5\n62. 4.2\n63. 4\n64. 4.7\n65. 3.6\n66. 4.4\n67. 4.5\n68. 4.1\n69. 4.5\n70. 3.9\n71. 4.8\n72. 4\n73. 4.9\n74. 4.7\n75. 4.3\n76. 4.4\n77. 4.8\n78. 5\n79. 4.5\n80. 3.5\n81. 3.8\n82. 3.7\n83. 3.9\n84. 5.1\n85. 4.5\n86. 4.5\n87. 4.7\n88. 4.4\n89. 4.1\n90. 4\n91. 4.4\n92. 4.6\n93. 4\n94. 3.3\n95. 4.2\n96. 4.2\n97. 4.2\n98. 4.3\n99. 3\n100. 4.1\n101. 6\n102. 5.1\n103. 5.9\n104. 5.6\n105. 5.8\n106. 6.6\n107. 4.5\n108. 6.3\n109. 5.8\n110. 6.1\n111. 5.1\n112. 5.3\n113. 5.5\n114. 5\n115. 5.1\n116. 5.3\n117. 5.5\n118. 6.7\n119. 6.9\n120. 5\n121. 5.7\n122. 4.9\n123. 6.7\n124. 4.9\n125. 5.7\n126. 6\n127. 4.8\n128. 4.9\n129. 5.6\n130. 5.8\n131. 6.1\n132. 6.4\n133. 5.6\n134. 5.1\n135. 5.6\n136. 6.1\n137. 5.6\n138. 5.5\n139. 4.8\n140. 5.4\n141. 5.6\n142. 5.1\n143. 5.1\n144. 5.9\n145. 5.7\n146. 5.2\n147. 5\n148. 5.2\n149. 5.4\n150. 5.1\n\n\n",
            "text/html": [
              "<style>\n",
              ".list-inline {list-style: none; margin:0; padding: 0}\n",
              ".list-inline>li {display: inline-block}\n",
              ".list-inline>li:not(:last-child)::after {content: \"\\00b7\"; padding: 0 .5ex}\n",
              "</style>\n",
              "<ol class=list-inline><li>1.4</li><li>1.4</li><li>1.3</li><li>1.5</li><li>1.4</li><li>1.7</li><li>1.4</li><li>1.5</li><li>1.4</li><li>1.5</li><li>1.5</li><li>1.6</li><li>1.4</li><li>1.1</li><li>1.2</li><li>1.5</li><li>1.3</li><li>1.4</li><li>1.7</li><li>1.5</li><li>1.7</li><li>1.5</li><li>1</li><li>1.7</li><li>1.9</li><li>1.6</li><li>1.6</li><li>1.5</li><li>1.4</li><li>1.6</li><li>1.6</li><li>1.5</li><li>1.5</li><li>1.4</li><li>1.5</li><li>1.2</li><li>1.3</li><li>1.4</li><li>1.3</li><li>1.5</li><li>1.3</li><li>1.3</li><li>1.3</li><li>1.6</li><li>1.9</li><li>1.4</li><li>1.6</li><li>1.4</li><li>1.5</li><li>1.4</li><li>4.7</li><li>4.5</li><li>4.9</li><li>4</li><li>4.6</li><li>4.5</li><li>4.7</li><li>3.3</li><li>4.6</li><li>3.9</li><li>3.5</li><li>4.2</li><li>4</li><li>4.7</li><li>3.6</li><li>4.4</li><li>4.5</li><li>4.1</li><li>4.5</li><li>3.9</li><li>4.8</li><li>4</li><li>4.9</li><li>4.7</li><li>4.3</li><li>4.4</li><li>4.8</li><li>5</li><li>4.5</li><li>3.5</li><li>3.8</li><li>3.7</li><li>3.9</li><li>5.1</li><li>4.5</li><li>4.5</li><li>4.7</li><li>4.4</li><li>4.1</li><li>4</li><li>4.4</li><li>4.6</li><li>4</li><li>3.3</li><li>4.2</li><li>4.2</li><li>4.2</li><li>4.3</li><li>3</li><li>4.1</li><li>6</li><li>5.1</li><li>5.9</li><li>5.6</li><li>5.8</li><li>6.6</li><li>4.5</li><li>6.3</li><li>5.8</li><li>6.1</li><li>5.1</li><li>5.3</li><li>5.5</li><li>5</li><li>5.1</li><li>5.3</li><li>5.5</li><li>6.7</li><li>6.9</li><li>5</li><li>5.7</li><li>4.9</li><li>6.7</li><li>4.9</li><li>5.7</li><li>6</li><li>4.8</li><li>4.9</li><li>5.6</li><li>5.8</li><li>6.1</li><li>6.4</li><li>5.6</li><li>5.1</li><li>5.6</li><li>6.1</li><li>5.6</li><li>5.5</li><li>4.8</li><li>5.4</li><li>5.6</li><li>5.1</li><li>5.1</li><li>5.9</li><li>5.7</li><li>5.2</li><li>5</li><li>5.2</li><li>5.4</li><li>5.1</li></ol>\n"
            ]
          },
          "metadata": {}
        }
      ]
    },
    {
      "cell_type": "code",
      "metadata": {
        "colab": {
          "base_uri": "https://localhost:8080/",
          "height": 34
        },
        "id": "sDH1CrCKugP4",
        "outputId": "fb3b7e4b-0a0b-4199-ea23-5807ef1b06f2"
      },
      "source": [
        "mean( iris$Petal.Length )"
      ],
      "execution_count": 7,
      "outputs": [
        {
          "output_type": "display_data",
          "data": {
            "text/plain": [
              "[1] 3.758"
            ],
            "text/latex": "3.758",
            "text/markdown": "3.758",
            "text/html": [
              "3.758"
            ]
          },
          "metadata": {}
        }
      ]
    },
    {
      "cell_type": "code",
      "metadata": {
        "colab": {
          "base_uri": "https://localhost:8080/",
          "height": 34
        },
        "id": "JEl4nCaZunfA",
        "outputId": "8d2ea97e-7533-4a99-d816-30c4950141aa"
      },
      "source": [
        "sd( iris$Petal.Length ) "
      ],
      "execution_count": 11,
      "outputs": [
        {
          "output_type": "display_data",
          "data": {
            "text/plain": [
              "[1] 1.765298"
            ],
            "text/latex": "1.76529823325947",
            "text/markdown": "1.76529823325947",
            "text/html": [
              "1.76529823325947"
            ]
          },
          "metadata": {}
        }
      ]
    },
    {
      "cell_type": "code",
      "metadata": {
        "colab": {
          "base_uri": "https://localhost:8080/",
          "height": 221
        },
        "id": "Q7dtNr8-u1VF",
        "outputId": "bdf541da-8e31-4412-c1f6-600781498b49"
      },
      "source": [
        "iris$Species"
      ],
      "execution_count": 12,
      "outputs": [
        {
          "output_type": "display_data",
          "data": {
            "text/plain": [
              "  [1] setosa     setosa     setosa     setosa     setosa     setosa    \n",
              "  [7] setosa     setosa     setosa     setosa     setosa     setosa    \n",
              " [13] setosa     setosa     setosa     setosa     setosa     setosa    \n",
              " [19] setosa     setosa     setosa     setosa     setosa     setosa    \n",
              " [25] setosa     setosa     setosa     setosa     setosa     setosa    \n",
              " [31] setosa     setosa     setosa     setosa     setosa     setosa    \n",
              " [37] setosa     setosa     setosa     setosa     setosa     setosa    \n",
              " [43] setosa     setosa     setosa     setosa     setosa     setosa    \n",
              " [49] setosa     setosa     versicolor versicolor versicolor versicolor\n",
              " [55] versicolor versicolor versicolor versicolor versicolor versicolor\n",
              " [61] versicolor versicolor versicolor versicolor versicolor versicolor\n",
              " [67] versicolor versicolor versicolor versicolor versicolor versicolor\n",
              " [73] versicolor versicolor versicolor versicolor versicolor versicolor\n",
              " [79] versicolor versicolor versicolor versicolor versicolor versicolor\n",
              " [85] versicolor versicolor versicolor versicolor versicolor versicolor\n",
              " [91] versicolor versicolor versicolor versicolor versicolor versicolor\n",
              " [97] versicolor versicolor versicolor versicolor virginica  virginica \n",
              "[103] virginica  virginica  virginica  virginica  virginica  virginica \n",
              "[109] virginica  virginica  virginica  virginica  virginica  virginica \n",
              "[115] virginica  virginica  virginica  virginica  virginica  virginica \n",
              "[121] virginica  virginica  virginica  virginica  virginica  virginica \n",
              "[127] virginica  virginica  virginica  virginica  virginica  virginica \n",
              "[133] virginica  virginica  virginica  virginica  virginica  virginica \n",
              "[139] virginica  virginica  virginica  virginica  virginica  virginica \n",
              "[145] virginica  virginica  virginica  virginica  virginica  virginica \n",
              "Levels: setosa versicolor virginica"
            ],
            "text/latex": "\\begin{enumerate*}\n\\item setosa\n\\item setosa\n\\item setosa\n\\item setosa\n\\item setosa\n\\item setosa\n\\item setosa\n\\item setosa\n\\item setosa\n\\item setosa\n\\item setosa\n\\item setosa\n\\item setosa\n\\item setosa\n\\item setosa\n\\item setosa\n\\item setosa\n\\item setosa\n\\item setosa\n\\item setosa\n\\item setosa\n\\item setosa\n\\item setosa\n\\item setosa\n\\item setosa\n\\item setosa\n\\item setosa\n\\item setosa\n\\item setosa\n\\item setosa\n\\item setosa\n\\item setosa\n\\item setosa\n\\item setosa\n\\item setosa\n\\item setosa\n\\item setosa\n\\item setosa\n\\item setosa\n\\item setosa\n\\item setosa\n\\item setosa\n\\item setosa\n\\item setosa\n\\item setosa\n\\item setosa\n\\item setosa\n\\item setosa\n\\item setosa\n\\item setosa\n\\item versicolor\n\\item versicolor\n\\item versicolor\n\\item versicolor\n\\item versicolor\n\\item versicolor\n\\item versicolor\n\\item versicolor\n\\item versicolor\n\\item versicolor\n\\item versicolor\n\\item versicolor\n\\item versicolor\n\\item versicolor\n\\item versicolor\n\\item versicolor\n\\item versicolor\n\\item versicolor\n\\item versicolor\n\\item versicolor\n\\item versicolor\n\\item versicolor\n\\item versicolor\n\\item versicolor\n\\item versicolor\n\\item versicolor\n\\item versicolor\n\\item versicolor\n\\item versicolor\n\\item versicolor\n\\item versicolor\n\\item versicolor\n\\item versicolor\n\\item versicolor\n\\item versicolor\n\\item versicolor\n\\item versicolor\n\\item versicolor\n\\item versicolor\n\\item versicolor\n\\item versicolor\n\\item versicolor\n\\item versicolor\n\\item versicolor\n\\item versicolor\n\\item versicolor\n\\item versicolor\n\\item versicolor\n\\item versicolor\n\\item versicolor\n\\item virginica\n\\item virginica\n\\item virginica\n\\item virginica\n\\item virginica\n\\item virginica\n\\item virginica\n\\item virginica\n\\item virginica\n\\item virginica\n\\item virginica\n\\item virginica\n\\item virginica\n\\item virginica\n\\item virginica\n\\item virginica\n\\item virginica\n\\item virginica\n\\item virginica\n\\item virginica\n\\item virginica\n\\item virginica\n\\item virginica\n\\item virginica\n\\item virginica\n\\item virginica\n\\item virginica\n\\item virginica\n\\item virginica\n\\item virginica\n\\item virginica\n\\item virginica\n\\item virginica\n\\item virginica\n\\item virginica\n\\item virginica\n\\item virginica\n\\item virginica\n\\item virginica\n\\item virginica\n\\item virginica\n\\item virginica\n\\item virginica\n\\item virginica\n\\item virginica\n\\item virginica\n\\item virginica\n\\item virginica\n\\item virginica\n\\item virginica\n\\end{enumerate*}\n\n\\emph{Levels}: \\begin{enumerate*}\n\\item 'setosa'\n\\item 'versicolor'\n\\item 'virginica'\n\\end{enumerate*}\n",
            "text/markdown": "1. setosa\n2. setosa\n3. setosa\n4. setosa\n5. setosa\n6. setosa\n7. setosa\n8. setosa\n9. setosa\n10. setosa\n11. setosa\n12. setosa\n13. setosa\n14. setosa\n15. setosa\n16. setosa\n17. setosa\n18. setosa\n19. setosa\n20. setosa\n21. setosa\n22. setosa\n23. setosa\n24. setosa\n25. setosa\n26. setosa\n27. setosa\n28. setosa\n29. setosa\n30. setosa\n31. setosa\n32. setosa\n33. setosa\n34. setosa\n35. setosa\n36. setosa\n37. setosa\n38. setosa\n39. setosa\n40. setosa\n41. setosa\n42. setosa\n43. setosa\n44. setosa\n45. setosa\n46. setosa\n47. setosa\n48. setosa\n49. setosa\n50. setosa\n51. versicolor\n52. versicolor\n53. versicolor\n54. versicolor\n55. versicolor\n56. versicolor\n57. versicolor\n58. versicolor\n59. versicolor\n60. versicolor\n61. versicolor\n62. versicolor\n63. versicolor\n64. versicolor\n65. versicolor\n66. versicolor\n67. versicolor\n68. versicolor\n69. versicolor\n70. versicolor\n71. versicolor\n72. versicolor\n73. versicolor\n74. versicolor\n75. versicolor\n76. versicolor\n77. versicolor\n78. versicolor\n79. versicolor\n80. versicolor\n81. versicolor\n82. versicolor\n83. versicolor\n84. versicolor\n85. versicolor\n86. versicolor\n87. versicolor\n88. versicolor\n89. versicolor\n90. versicolor\n91. versicolor\n92. versicolor\n93. versicolor\n94. versicolor\n95. versicolor\n96. versicolor\n97. versicolor\n98. versicolor\n99. versicolor\n100. versicolor\n101. virginica\n102. virginica\n103. virginica\n104. virginica\n105. virginica\n106. virginica\n107. virginica\n108. virginica\n109. virginica\n110. virginica\n111. virginica\n112. virginica\n113. virginica\n114. virginica\n115. virginica\n116. virginica\n117. virginica\n118. virginica\n119. virginica\n120. virginica\n121. virginica\n122. virginica\n123. virginica\n124. virginica\n125. virginica\n126. virginica\n127. virginica\n128. virginica\n129. virginica\n130. virginica\n131. virginica\n132. virginica\n133. virginica\n134. virginica\n135. virginica\n136. virginica\n137. virginica\n138. virginica\n139. virginica\n140. virginica\n141. virginica\n142. virginica\n143. virginica\n144. virginica\n145. virginica\n146. virginica\n147. virginica\n148. virginica\n149. virginica\n150. virginica\n\n\n\n**Levels**: 1. 'setosa'\n2. 'versicolor'\n3. 'virginica'\n\n\n",
            "text/html": [
              "<style>\n",
              ".list-inline {list-style: none; margin:0; padding: 0}\n",
              ".list-inline>li {display: inline-block}\n",
              ".list-inline>li:not(:last-child)::after {content: \"\\00b7\"; padding: 0 .5ex}\n",
              "</style>\n",
              "<ol class=list-inline><li>setosa</li><li>setosa</li><li>setosa</li><li>setosa</li><li>setosa</li><li>setosa</li><li>setosa</li><li>setosa</li><li>setosa</li><li>setosa</li><li>setosa</li><li>setosa</li><li>setosa</li><li>setosa</li><li>setosa</li><li>setosa</li><li>setosa</li><li>setosa</li><li>setosa</li><li>setosa</li><li>setosa</li><li>setosa</li><li>setosa</li><li>setosa</li><li>setosa</li><li>setosa</li><li>setosa</li><li>setosa</li><li>setosa</li><li>setosa</li><li>setosa</li><li>setosa</li><li>setosa</li><li>setosa</li><li>setosa</li><li>setosa</li><li>setosa</li><li>setosa</li><li>setosa</li><li>setosa</li><li>setosa</li><li>setosa</li><li>setosa</li><li>setosa</li><li>setosa</li><li>setosa</li><li>setosa</li><li>setosa</li><li>setosa</li><li>setosa</li><li>versicolor</li><li>versicolor</li><li>versicolor</li><li>versicolor</li><li>versicolor</li><li>versicolor</li><li>versicolor</li><li>versicolor</li><li>versicolor</li><li>versicolor</li><li>versicolor</li><li>versicolor</li><li>versicolor</li><li>versicolor</li><li>versicolor</li><li>versicolor</li><li>versicolor</li><li>versicolor</li><li>versicolor</li><li>versicolor</li><li>versicolor</li><li>versicolor</li><li>versicolor</li><li>versicolor</li><li>versicolor</li><li>versicolor</li><li>versicolor</li><li>versicolor</li><li>versicolor</li><li>versicolor</li><li>versicolor</li><li>versicolor</li><li>versicolor</li><li>versicolor</li><li>versicolor</li><li>versicolor</li><li>versicolor</li><li>versicolor</li><li>versicolor</li><li>versicolor</li><li>versicolor</li><li>versicolor</li><li>versicolor</li><li>versicolor</li><li>versicolor</li><li>versicolor</li><li>versicolor</li><li>versicolor</li><li>versicolor</li><li>versicolor</li><li>virginica</li><li>virginica</li><li>virginica</li><li>virginica</li><li>virginica</li><li>virginica</li><li>virginica</li><li>virginica</li><li>virginica</li><li>virginica</li><li>virginica</li><li>virginica</li><li>virginica</li><li>virginica</li><li>virginica</li><li>virginica</li><li>virginica</li><li>virginica</li><li>virginica</li><li>virginica</li><li>virginica</li><li>virginica</li><li>virginica</li><li>virginica</li><li>virginica</li><li>virginica</li><li>virginica</li><li>virginica</li><li>virginica</li><li>virginica</li><li>virginica</li><li>virginica</li><li>virginica</li><li>virginica</li><li>virginica</li><li>virginica</li><li>virginica</li><li>virginica</li><li>virginica</li><li>virginica</li><li>virginica</li><li>virginica</li><li>virginica</li><li>virginica</li><li>virginica</li><li>virginica</li><li>virginica</li><li>virginica</li><li>virginica</li><li>virginica</li></ol>\n",
              "\n",
              "<details>\n",
              "\t<summary style=display:list-item;cursor:pointer>\n",
              "\t\t<strong>Levels</strong>:\n",
              "\t</summary>\n",
              "\t<style>\n",
              "\t.list-inline {list-style: none; margin:0; padding: 0}\n",
              "\t.list-inline>li {display: inline-block}\n",
              "\t.list-inline>li:not(:last-child)::after {content: \"\\00b7\"; padding: 0 .5ex}\n",
              "\t</style>\n",
              "\t<ol class=list-inline><li>'setosa'</li><li>'versicolor'</li><li>'virginica'</li></ol>\n",
              "</details>"
            ]
          },
          "metadata": {}
        }
      ]
    },
    {
      "cell_type": "markdown",
      "metadata": {
        "id": "RxFL8w-pu7pf"
      },
      "source": [
        "### Frequencia de valores"
      ]
    },
    {
      "cell_type": "code",
      "metadata": {
        "colab": {
          "base_uri": "https://localhost:8080/",
          "height": 68
        },
        "id": "hHzP6mjWu6fR",
        "outputId": "212da7cc-abe2-4e10-d2da-d0ab49fc6bf4"
      },
      "source": [
        "table( iris$Species )"
      ],
      "execution_count": 13,
      "outputs": [
        {
          "output_type": "display_data",
          "data": {
            "text/plain": [
              "\n",
              "    setosa versicolor  virginica \n",
              "        50         50         50 "
            ]
          },
          "metadata": {}
        }
      ]
    },
    {
      "cell_type": "markdown",
      "metadata": {
        "id": "aDPbsCk-vJYl"
      },
      "source": [
        "# Seleções dos Dados\n",
        "\n",
        "`df[ <linhas> ,  <colunas> ]`\n",
        "\n",
        "## Seleção de Colunas"
      ]
    },
    {
      "cell_type": "code",
      "metadata": {
        "colab": {
          "base_uri": "https://localhost:8080/",
          "height": 1000
        },
        "id": "NNXcorsnvcVT",
        "outputId": "1a23eade-3098-48d5-cbd9-cad5cc0c0505"
      },
      "source": [
        "# iris[ , c(2,5)]\n",
        "iris[ , c('Sepal.Width', 'Species')]"
      ],
      "execution_count": 15,
      "outputs": [
        {
          "output_type": "display_data",
          "data": {
            "text/plain": [
              "    Sepal.Width Species  \n",
              "1   3.5         setosa   \n",
              "2   3.0         setosa   \n",
              "3   3.2         setosa   \n",
              "4   3.1         setosa   \n",
              "5   3.6         setosa   \n",
              "6   3.9         setosa   \n",
              "7   3.4         setosa   \n",
              "8   3.4         setosa   \n",
              "9   2.9         setosa   \n",
              "10  3.1         setosa   \n",
              "11  3.7         setosa   \n",
              "12  3.4         setosa   \n",
              "13  3.0         setosa   \n",
              "14  3.0         setosa   \n",
              "15  4.0         setosa   \n",
              "16  4.4         setosa   \n",
              "17  3.9         setosa   \n",
              "18  3.5         setosa   \n",
              "19  3.8         setosa   \n",
              "20  3.8         setosa   \n",
              "21  3.4         setosa   \n",
              "22  3.7         setosa   \n",
              "23  3.6         setosa   \n",
              "24  3.3         setosa   \n",
              "25  3.4         setosa   \n",
              "26  3.0         setosa   \n",
              "27  3.4         setosa   \n",
              "28  3.5         setosa   \n",
              "29  3.4         setosa   \n",
              "30  3.2         setosa   \n",
              "⋮   ⋮           ⋮        \n",
              "121 3.2         virginica\n",
              "122 2.8         virginica\n",
              "123 2.8         virginica\n",
              "124 2.7         virginica\n",
              "125 3.3         virginica\n",
              "126 3.2         virginica\n",
              "127 2.8         virginica\n",
              "128 3.0         virginica\n",
              "129 2.8         virginica\n",
              "130 3.0         virginica\n",
              "131 2.8         virginica\n",
              "132 3.8         virginica\n",
              "133 2.8         virginica\n",
              "134 2.8         virginica\n",
              "135 2.6         virginica\n",
              "136 3.0         virginica\n",
              "137 3.4         virginica\n",
              "138 3.1         virginica\n",
              "139 3.0         virginica\n",
              "140 3.1         virginica\n",
              "141 3.1         virginica\n",
              "142 3.1         virginica\n",
              "143 2.7         virginica\n",
              "144 3.2         virginica\n",
              "145 3.3         virginica\n",
              "146 3.0         virginica\n",
              "147 2.5         virginica\n",
              "148 3.0         virginica\n",
              "149 3.4         virginica\n",
              "150 3.0         virginica"
            ],
            "text/latex": "A data.frame: 150 × 2\n\\begin{tabular}{ll}\n Sepal.Width & Species\\\\\n <dbl> & <fct>\\\\\n\\hline\n\t 3.5 & setosa\\\\\n\t 3.0 & setosa\\\\\n\t 3.2 & setosa\\\\\n\t 3.1 & setosa\\\\\n\t 3.6 & setosa\\\\\n\t 3.9 & setosa\\\\\n\t 3.4 & setosa\\\\\n\t 3.4 & setosa\\\\\n\t 2.9 & setosa\\\\\n\t 3.1 & setosa\\\\\n\t 3.7 & setosa\\\\\n\t 3.4 & setosa\\\\\n\t 3.0 & setosa\\\\\n\t 3.0 & setosa\\\\\n\t 4.0 & setosa\\\\\n\t 4.4 & setosa\\\\\n\t 3.9 & setosa\\\\\n\t 3.5 & setosa\\\\\n\t 3.8 & setosa\\\\\n\t 3.8 & setosa\\\\\n\t 3.4 & setosa\\\\\n\t 3.7 & setosa\\\\\n\t 3.6 & setosa\\\\\n\t 3.3 & setosa\\\\\n\t 3.4 & setosa\\\\\n\t 3.0 & setosa\\\\\n\t 3.4 & setosa\\\\\n\t 3.5 & setosa\\\\\n\t 3.4 & setosa\\\\\n\t 3.2 & setosa\\\\\n\t ⋮ & ⋮\\\\\n\t 3.2 & virginica\\\\\n\t 2.8 & virginica\\\\\n\t 2.8 & virginica\\\\\n\t 2.7 & virginica\\\\\n\t 3.3 & virginica\\\\\n\t 3.2 & virginica\\\\\n\t 2.8 & virginica\\\\\n\t 3.0 & virginica\\\\\n\t 2.8 & virginica\\\\\n\t 3.0 & virginica\\\\\n\t 2.8 & virginica\\\\\n\t 3.8 & virginica\\\\\n\t 2.8 & virginica\\\\\n\t 2.8 & virginica\\\\\n\t 2.6 & virginica\\\\\n\t 3.0 & virginica\\\\\n\t 3.4 & virginica\\\\\n\t 3.1 & virginica\\\\\n\t 3.0 & virginica\\\\\n\t 3.1 & virginica\\\\\n\t 3.1 & virginica\\\\\n\t 3.1 & virginica\\\\\n\t 2.7 & virginica\\\\\n\t 3.2 & virginica\\\\\n\t 3.3 & virginica\\\\\n\t 3.0 & virginica\\\\\n\t 2.5 & virginica\\\\\n\t 3.0 & virginica\\\\\n\t 3.4 & virginica\\\\\n\t 3.0 & virginica\\\\\n\\end{tabular}\n",
            "text/markdown": "\nA data.frame: 150 × 2\n\n| Sepal.Width &lt;dbl&gt; | Species &lt;fct&gt; |\n|---|---|\n| 3.5 | setosa |\n| 3.0 | setosa |\n| 3.2 | setosa |\n| 3.1 | setosa |\n| 3.6 | setosa |\n| 3.9 | setosa |\n| 3.4 | setosa |\n| 3.4 | setosa |\n| 2.9 | setosa |\n| 3.1 | setosa |\n| 3.7 | setosa |\n| 3.4 | setosa |\n| 3.0 | setosa |\n| 3.0 | setosa |\n| 4.0 | setosa |\n| 4.4 | setosa |\n| 3.9 | setosa |\n| 3.5 | setosa |\n| 3.8 | setosa |\n| 3.8 | setosa |\n| 3.4 | setosa |\n| 3.7 | setosa |\n| 3.6 | setosa |\n| 3.3 | setosa |\n| 3.4 | setosa |\n| 3.0 | setosa |\n| 3.4 | setosa |\n| 3.5 | setosa |\n| 3.4 | setosa |\n| 3.2 | setosa |\n| ⋮ | ⋮ |\n| 3.2 | virginica |\n| 2.8 | virginica |\n| 2.8 | virginica |\n| 2.7 | virginica |\n| 3.3 | virginica |\n| 3.2 | virginica |\n| 2.8 | virginica |\n| 3.0 | virginica |\n| 2.8 | virginica |\n| 3.0 | virginica |\n| 2.8 | virginica |\n| 3.8 | virginica |\n| 2.8 | virginica |\n| 2.8 | virginica |\n| 2.6 | virginica |\n| 3.0 | virginica |\n| 3.4 | virginica |\n| 3.1 | virginica |\n| 3.0 | virginica |\n| 3.1 | virginica |\n| 3.1 | virginica |\n| 3.1 | virginica |\n| 2.7 | virginica |\n| 3.2 | virginica |\n| 3.3 | virginica |\n| 3.0 | virginica |\n| 2.5 | virginica |\n| 3.0 | virginica |\n| 3.4 | virginica |\n| 3.0 | virginica |\n\n",
            "text/html": [
              "<table class=\"dataframe\">\n",
              "<caption>A data.frame: 150 × 2</caption>\n",
              "<thead>\n",
              "\t<tr><th scope=col>Sepal.Width</th><th scope=col>Species</th></tr>\n",
              "\t<tr><th scope=col>&lt;dbl&gt;</th><th scope=col>&lt;fct&gt;</th></tr>\n",
              "</thead>\n",
              "<tbody>\n",
              "\t<tr><td>3.5</td><td>setosa</td></tr>\n",
              "\t<tr><td>3.0</td><td>setosa</td></tr>\n",
              "\t<tr><td>3.2</td><td>setosa</td></tr>\n",
              "\t<tr><td>3.1</td><td>setosa</td></tr>\n",
              "\t<tr><td>3.6</td><td>setosa</td></tr>\n",
              "\t<tr><td>3.9</td><td>setosa</td></tr>\n",
              "\t<tr><td>3.4</td><td>setosa</td></tr>\n",
              "\t<tr><td>3.4</td><td>setosa</td></tr>\n",
              "\t<tr><td>2.9</td><td>setosa</td></tr>\n",
              "\t<tr><td>3.1</td><td>setosa</td></tr>\n",
              "\t<tr><td>3.7</td><td>setosa</td></tr>\n",
              "\t<tr><td>3.4</td><td>setosa</td></tr>\n",
              "\t<tr><td>3.0</td><td>setosa</td></tr>\n",
              "\t<tr><td>3.0</td><td>setosa</td></tr>\n",
              "\t<tr><td>4.0</td><td>setosa</td></tr>\n",
              "\t<tr><td>4.4</td><td>setosa</td></tr>\n",
              "\t<tr><td>3.9</td><td>setosa</td></tr>\n",
              "\t<tr><td>3.5</td><td>setosa</td></tr>\n",
              "\t<tr><td>3.8</td><td>setosa</td></tr>\n",
              "\t<tr><td>3.8</td><td>setosa</td></tr>\n",
              "\t<tr><td>3.4</td><td>setosa</td></tr>\n",
              "\t<tr><td>3.7</td><td>setosa</td></tr>\n",
              "\t<tr><td>3.6</td><td>setosa</td></tr>\n",
              "\t<tr><td>3.3</td><td>setosa</td></tr>\n",
              "\t<tr><td>3.4</td><td>setosa</td></tr>\n",
              "\t<tr><td>3.0</td><td>setosa</td></tr>\n",
              "\t<tr><td>3.4</td><td>setosa</td></tr>\n",
              "\t<tr><td>3.5</td><td>setosa</td></tr>\n",
              "\t<tr><td>3.4</td><td>setosa</td></tr>\n",
              "\t<tr><td>3.2</td><td>setosa</td></tr>\n",
              "\t<tr><td>⋮</td><td>⋮</td></tr>\n",
              "\t<tr><td>3.2</td><td>virginica</td></tr>\n",
              "\t<tr><td>2.8</td><td>virginica</td></tr>\n",
              "\t<tr><td>2.8</td><td>virginica</td></tr>\n",
              "\t<tr><td>2.7</td><td>virginica</td></tr>\n",
              "\t<tr><td>3.3</td><td>virginica</td></tr>\n",
              "\t<tr><td>3.2</td><td>virginica</td></tr>\n",
              "\t<tr><td>2.8</td><td>virginica</td></tr>\n",
              "\t<tr><td>3.0</td><td>virginica</td></tr>\n",
              "\t<tr><td>2.8</td><td>virginica</td></tr>\n",
              "\t<tr><td>3.0</td><td>virginica</td></tr>\n",
              "\t<tr><td>2.8</td><td>virginica</td></tr>\n",
              "\t<tr><td>3.8</td><td>virginica</td></tr>\n",
              "\t<tr><td>2.8</td><td>virginica</td></tr>\n",
              "\t<tr><td>2.8</td><td>virginica</td></tr>\n",
              "\t<tr><td>2.6</td><td>virginica</td></tr>\n",
              "\t<tr><td>3.0</td><td>virginica</td></tr>\n",
              "\t<tr><td>3.4</td><td>virginica</td></tr>\n",
              "\t<tr><td>3.1</td><td>virginica</td></tr>\n",
              "\t<tr><td>3.0</td><td>virginica</td></tr>\n",
              "\t<tr><td>3.1</td><td>virginica</td></tr>\n",
              "\t<tr><td>3.1</td><td>virginica</td></tr>\n",
              "\t<tr><td>3.1</td><td>virginica</td></tr>\n",
              "\t<tr><td>2.7</td><td>virginica</td></tr>\n",
              "\t<tr><td>3.2</td><td>virginica</td></tr>\n",
              "\t<tr><td>3.3</td><td>virginica</td></tr>\n",
              "\t<tr><td>3.0</td><td>virginica</td></tr>\n",
              "\t<tr><td>2.5</td><td>virginica</td></tr>\n",
              "\t<tr><td>3.0</td><td>virginica</td></tr>\n",
              "\t<tr><td>3.4</td><td>virginica</td></tr>\n",
              "\t<tr><td>3.0</td><td>virginica</td></tr>\n",
              "</tbody>\n",
              "</table>\n"
            ]
          },
          "metadata": {}
        }
      ]
    },
    {
      "cell_type": "code",
      "metadata": {
        "colab": {
          "base_uri": "https://localhost:8080/",
          "height": 283
        },
        "id": "A_G0bbumv0A_",
        "outputId": "09f6fc20-01e1-4b4c-ab91-28c6d390fb9d"
      },
      "source": [
        "df = iris[ , c('Sepal.Width', 'Species')]\n",
        "head(df)"
      ],
      "execution_count": 18,
      "outputs": [
        {
          "output_type": "display_data",
          "data": {
            "text/plain": [
              "  Sepal.Width Species\n",
              "1 3.5         setosa \n",
              "2 3.0         setosa \n",
              "3 3.2         setosa \n",
              "4 3.1         setosa \n",
              "5 3.6         setosa \n",
              "6 3.9         setosa "
            ],
            "text/latex": "A data.frame: 6 × 2\n\\begin{tabular}{r|ll}\n  & Sepal.Width & Species\\\\\n  & <dbl> & <fct>\\\\\n\\hline\n\t1 & 3.5 & setosa\\\\\n\t2 & 3.0 & setosa\\\\\n\t3 & 3.2 & setosa\\\\\n\t4 & 3.1 & setosa\\\\\n\t5 & 3.6 & setosa\\\\\n\t6 & 3.9 & setosa\\\\\n\\end{tabular}\n",
            "text/markdown": "\nA data.frame: 6 × 2\n\n| <!--/--> | Sepal.Width &lt;dbl&gt; | Species &lt;fct&gt; |\n|---|---|---|\n| 1 | 3.5 | setosa |\n| 2 | 3.0 | setosa |\n| 3 | 3.2 | setosa |\n| 4 | 3.1 | setosa |\n| 5 | 3.6 | setosa |\n| 6 | 3.9 | setosa |\n\n",
            "text/html": [
              "<table class=\"dataframe\">\n",
              "<caption>A data.frame: 6 × 2</caption>\n",
              "<thead>\n",
              "\t<tr><th></th><th scope=col>Sepal.Width</th><th scope=col>Species</th></tr>\n",
              "\t<tr><th></th><th scope=col>&lt;dbl&gt;</th><th scope=col>&lt;fct&gt;</th></tr>\n",
              "</thead>\n",
              "<tbody>\n",
              "\t<tr><th scope=row>1</th><td>3.5</td><td>setosa</td></tr>\n",
              "\t<tr><th scope=row>2</th><td>3.0</td><td>setosa</td></tr>\n",
              "\t<tr><th scope=row>3</th><td>3.2</td><td>setosa</td></tr>\n",
              "\t<tr><th scope=row>4</th><td>3.1</td><td>setosa</td></tr>\n",
              "\t<tr><th scope=row>5</th><td>3.6</td><td>setosa</td></tr>\n",
              "\t<tr><th scope=row>6</th><td>3.9</td><td>setosa</td></tr>\n",
              "</tbody>\n",
              "</table>\n"
            ]
          },
          "metadata": {}
        }
      ]
    },
    {
      "cell_type": "code",
      "metadata": {
        "colab": {
          "base_uri": "https://localhost:8080/",
          "height": 34
        },
        "id": "BKkICJBKv5bu",
        "outputId": "e999bd98-6761-42be-e899-f0c44454469f"
      },
      "source": [
        "nrow(df)"
      ],
      "execution_count": 19,
      "outputs": [
        {
          "output_type": "display_data",
          "data": {
            "text/plain": [
              "[1] 150"
            ],
            "text/latex": "150",
            "text/markdown": "150",
            "text/html": [
              "150"
            ]
          },
          "metadata": {}
        }
      ]
    },
    {
      "cell_type": "markdown",
      "metadata": {
        "id": "CnI_O9-nwGag"
      },
      "source": [
        "## Seleção de Linhas"
      ]
    },
    {
      "cell_type": "code",
      "metadata": {
        "colab": {
          "base_uri": "https://localhost:8080/",
          "height": 1000
        },
        "id": "7Y29qZf7wJkL",
        "outputId": "711749ff-e67c-4a26-9bea-ed6d74402854"
      },
      "source": [
        "iris[ iris$Species == 'virginica' , ]"
      ],
      "execution_count": 21,
      "outputs": [
        {
          "output_type": "display_data",
          "data": {
            "text/plain": [
              "    Sepal.Length Sepal.Width Petal.Length Petal.Width Species  \n",
              "101 6.3          3.3         6.0          2.5         virginica\n",
              "102 5.8          2.7         5.1          1.9         virginica\n",
              "103 7.1          3.0         5.9          2.1         virginica\n",
              "104 6.3          2.9         5.6          1.8         virginica\n",
              "105 6.5          3.0         5.8          2.2         virginica\n",
              "106 7.6          3.0         6.6          2.1         virginica\n",
              "107 4.9          2.5         4.5          1.7         virginica\n",
              "108 7.3          2.9         6.3          1.8         virginica\n",
              "109 6.7          2.5         5.8          1.8         virginica\n",
              "110 7.2          3.6         6.1          2.5         virginica\n",
              "111 6.5          3.2         5.1          2.0         virginica\n",
              "112 6.4          2.7         5.3          1.9         virginica\n",
              "113 6.8          3.0         5.5          2.1         virginica\n",
              "114 5.7          2.5         5.0          2.0         virginica\n",
              "115 5.8          2.8         5.1          2.4         virginica\n",
              "116 6.4          3.2         5.3          2.3         virginica\n",
              "117 6.5          3.0         5.5          1.8         virginica\n",
              "118 7.7          3.8         6.7          2.2         virginica\n",
              "119 7.7          2.6         6.9          2.3         virginica\n",
              "120 6.0          2.2         5.0          1.5         virginica\n",
              "121 6.9          3.2         5.7          2.3         virginica\n",
              "122 5.6          2.8         4.9          2.0         virginica\n",
              "123 7.7          2.8         6.7          2.0         virginica\n",
              "124 6.3          2.7         4.9          1.8         virginica\n",
              "125 6.7          3.3         5.7          2.1         virginica\n",
              "126 7.2          3.2         6.0          1.8         virginica\n",
              "127 6.2          2.8         4.8          1.8         virginica\n",
              "128 6.1          3.0         4.9          1.8         virginica\n",
              "129 6.4          2.8         5.6          2.1         virginica\n",
              "130 7.2          3.0         5.8          1.6         virginica\n",
              "131 7.4          2.8         6.1          1.9         virginica\n",
              "132 7.9          3.8         6.4          2.0         virginica\n",
              "133 6.4          2.8         5.6          2.2         virginica\n",
              "134 6.3          2.8         5.1          1.5         virginica\n",
              "135 6.1          2.6         5.6          1.4         virginica\n",
              "136 7.7          3.0         6.1          2.3         virginica\n",
              "137 6.3          3.4         5.6          2.4         virginica\n",
              "138 6.4          3.1         5.5          1.8         virginica\n",
              "139 6.0          3.0         4.8          1.8         virginica\n",
              "140 6.9          3.1         5.4          2.1         virginica\n",
              "141 6.7          3.1         5.6          2.4         virginica\n",
              "142 6.9          3.1         5.1          2.3         virginica\n",
              "143 5.8          2.7         5.1          1.9         virginica\n",
              "144 6.8          3.2         5.9          2.3         virginica\n",
              "145 6.7          3.3         5.7          2.5         virginica\n",
              "146 6.7          3.0         5.2          2.3         virginica\n",
              "147 6.3          2.5         5.0          1.9         virginica\n",
              "148 6.5          3.0         5.2          2.0         virginica\n",
              "149 6.2          3.4         5.4          2.3         virginica\n",
              "150 5.9          3.0         5.1          1.8         virginica"
            ],
            "text/latex": "A data.frame: 50 × 5\n\\begin{tabular}{r|lllll}\n  & Sepal.Length & Sepal.Width & Petal.Length & Petal.Width & Species\\\\\n  & <dbl> & <dbl> & <dbl> & <dbl> & <fct>\\\\\n\\hline\n\t101 & 6.3 & 3.3 & 6.0 & 2.5 & virginica\\\\\n\t102 & 5.8 & 2.7 & 5.1 & 1.9 & virginica\\\\\n\t103 & 7.1 & 3.0 & 5.9 & 2.1 & virginica\\\\\n\t104 & 6.3 & 2.9 & 5.6 & 1.8 & virginica\\\\\n\t105 & 6.5 & 3.0 & 5.8 & 2.2 & virginica\\\\\n\t106 & 7.6 & 3.0 & 6.6 & 2.1 & virginica\\\\\n\t107 & 4.9 & 2.5 & 4.5 & 1.7 & virginica\\\\\n\t108 & 7.3 & 2.9 & 6.3 & 1.8 & virginica\\\\\n\t109 & 6.7 & 2.5 & 5.8 & 1.8 & virginica\\\\\n\t110 & 7.2 & 3.6 & 6.1 & 2.5 & virginica\\\\\n\t111 & 6.5 & 3.2 & 5.1 & 2.0 & virginica\\\\\n\t112 & 6.4 & 2.7 & 5.3 & 1.9 & virginica\\\\\n\t113 & 6.8 & 3.0 & 5.5 & 2.1 & virginica\\\\\n\t114 & 5.7 & 2.5 & 5.0 & 2.0 & virginica\\\\\n\t115 & 5.8 & 2.8 & 5.1 & 2.4 & virginica\\\\\n\t116 & 6.4 & 3.2 & 5.3 & 2.3 & virginica\\\\\n\t117 & 6.5 & 3.0 & 5.5 & 1.8 & virginica\\\\\n\t118 & 7.7 & 3.8 & 6.7 & 2.2 & virginica\\\\\n\t119 & 7.7 & 2.6 & 6.9 & 2.3 & virginica\\\\\n\t120 & 6.0 & 2.2 & 5.0 & 1.5 & virginica\\\\\n\t121 & 6.9 & 3.2 & 5.7 & 2.3 & virginica\\\\\n\t122 & 5.6 & 2.8 & 4.9 & 2.0 & virginica\\\\\n\t123 & 7.7 & 2.8 & 6.7 & 2.0 & virginica\\\\\n\t124 & 6.3 & 2.7 & 4.9 & 1.8 & virginica\\\\\n\t125 & 6.7 & 3.3 & 5.7 & 2.1 & virginica\\\\\n\t126 & 7.2 & 3.2 & 6.0 & 1.8 & virginica\\\\\n\t127 & 6.2 & 2.8 & 4.8 & 1.8 & virginica\\\\\n\t128 & 6.1 & 3.0 & 4.9 & 1.8 & virginica\\\\\n\t129 & 6.4 & 2.8 & 5.6 & 2.1 & virginica\\\\\n\t130 & 7.2 & 3.0 & 5.8 & 1.6 & virginica\\\\\n\t131 & 7.4 & 2.8 & 6.1 & 1.9 & virginica\\\\\n\t132 & 7.9 & 3.8 & 6.4 & 2.0 & virginica\\\\\n\t133 & 6.4 & 2.8 & 5.6 & 2.2 & virginica\\\\\n\t134 & 6.3 & 2.8 & 5.1 & 1.5 & virginica\\\\\n\t135 & 6.1 & 2.6 & 5.6 & 1.4 & virginica\\\\\n\t136 & 7.7 & 3.0 & 6.1 & 2.3 & virginica\\\\\n\t137 & 6.3 & 3.4 & 5.6 & 2.4 & virginica\\\\\n\t138 & 6.4 & 3.1 & 5.5 & 1.8 & virginica\\\\\n\t139 & 6.0 & 3.0 & 4.8 & 1.8 & virginica\\\\\n\t140 & 6.9 & 3.1 & 5.4 & 2.1 & virginica\\\\\n\t141 & 6.7 & 3.1 & 5.6 & 2.4 & virginica\\\\\n\t142 & 6.9 & 3.1 & 5.1 & 2.3 & virginica\\\\\n\t143 & 5.8 & 2.7 & 5.1 & 1.9 & virginica\\\\\n\t144 & 6.8 & 3.2 & 5.9 & 2.3 & virginica\\\\\n\t145 & 6.7 & 3.3 & 5.7 & 2.5 & virginica\\\\\n\t146 & 6.7 & 3.0 & 5.2 & 2.3 & virginica\\\\\n\t147 & 6.3 & 2.5 & 5.0 & 1.9 & virginica\\\\\n\t148 & 6.5 & 3.0 & 5.2 & 2.0 & virginica\\\\\n\t149 & 6.2 & 3.4 & 5.4 & 2.3 & virginica\\\\\n\t150 & 5.9 & 3.0 & 5.1 & 1.8 & virginica\\\\\n\\end{tabular}\n",
            "text/markdown": "\nA data.frame: 50 × 5\n\n| <!--/--> | Sepal.Length &lt;dbl&gt; | Sepal.Width &lt;dbl&gt; | Petal.Length &lt;dbl&gt; | Petal.Width &lt;dbl&gt; | Species &lt;fct&gt; |\n|---|---|---|---|---|---|\n| 101 | 6.3 | 3.3 | 6.0 | 2.5 | virginica |\n| 102 | 5.8 | 2.7 | 5.1 | 1.9 | virginica |\n| 103 | 7.1 | 3.0 | 5.9 | 2.1 | virginica |\n| 104 | 6.3 | 2.9 | 5.6 | 1.8 | virginica |\n| 105 | 6.5 | 3.0 | 5.8 | 2.2 | virginica |\n| 106 | 7.6 | 3.0 | 6.6 | 2.1 | virginica |\n| 107 | 4.9 | 2.5 | 4.5 | 1.7 | virginica |\n| 108 | 7.3 | 2.9 | 6.3 | 1.8 | virginica |\n| 109 | 6.7 | 2.5 | 5.8 | 1.8 | virginica |\n| 110 | 7.2 | 3.6 | 6.1 | 2.5 | virginica |\n| 111 | 6.5 | 3.2 | 5.1 | 2.0 | virginica |\n| 112 | 6.4 | 2.7 | 5.3 | 1.9 | virginica |\n| 113 | 6.8 | 3.0 | 5.5 | 2.1 | virginica |\n| 114 | 5.7 | 2.5 | 5.0 | 2.0 | virginica |\n| 115 | 5.8 | 2.8 | 5.1 | 2.4 | virginica |\n| 116 | 6.4 | 3.2 | 5.3 | 2.3 | virginica |\n| 117 | 6.5 | 3.0 | 5.5 | 1.8 | virginica |\n| 118 | 7.7 | 3.8 | 6.7 | 2.2 | virginica |\n| 119 | 7.7 | 2.6 | 6.9 | 2.3 | virginica |\n| 120 | 6.0 | 2.2 | 5.0 | 1.5 | virginica |\n| 121 | 6.9 | 3.2 | 5.7 | 2.3 | virginica |\n| 122 | 5.6 | 2.8 | 4.9 | 2.0 | virginica |\n| 123 | 7.7 | 2.8 | 6.7 | 2.0 | virginica |\n| 124 | 6.3 | 2.7 | 4.9 | 1.8 | virginica |\n| 125 | 6.7 | 3.3 | 5.7 | 2.1 | virginica |\n| 126 | 7.2 | 3.2 | 6.0 | 1.8 | virginica |\n| 127 | 6.2 | 2.8 | 4.8 | 1.8 | virginica |\n| 128 | 6.1 | 3.0 | 4.9 | 1.8 | virginica |\n| 129 | 6.4 | 2.8 | 5.6 | 2.1 | virginica |\n| 130 | 7.2 | 3.0 | 5.8 | 1.6 | virginica |\n| 131 | 7.4 | 2.8 | 6.1 | 1.9 | virginica |\n| 132 | 7.9 | 3.8 | 6.4 | 2.0 | virginica |\n| 133 | 6.4 | 2.8 | 5.6 | 2.2 | virginica |\n| 134 | 6.3 | 2.8 | 5.1 | 1.5 | virginica |\n| 135 | 6.1 | 2.6 | 5.6 | 1.4 | virginica |\n| 136 | 7.7 | 3.0 | 6.1 | 2.3 | virginica |\n| 137 | 6.3 | 3.4 | 5.6 | 2.4 | virginica |\n| 138 | 6.4 | 3.1 | 5.5 | 1.8 | virginica |\n| 139 | 6.0 | 3.0 | 4.8 | 1.8 | virginica |\n| 140 | 6.9 | 3.1 | 5.4 | 2.1 | virginica |\n| 141 | 6.7 | 3.1 | 5.6 | 2.4 | virginica |\n| 142 | 6.9 | 3.1 | 5.1 | 2.3 | virginica |\n| 143 | 5.8 | 2.7 | 5.1 | 1.9 | virginica |\n| 144 | 6.8 | 3.2 | 5.9 | 2.3 | virginica |\n| 145 | 6.7 | 3.3 | 5.7 | 2.5 | virginica |\n| 146 | 6.7 | 3.0 | 5.2 | 2.3 | virginica |\n| 147 | 6.3 | 2.5 | 5.0 | 1.9 | virginica |\n| 148 | 6.5 | 3.0 | 5.2 | 2.0 | virginica |\n| 149 | 6.2 | 3.4 | 5.4 | 2.3 | virginica |\n| 150 | 5.9 | 3.0 | 5.1 | 1.8 | virginica |\n\n",
            "text/html": [
              "<table class=\"dataframe\">\n",
              "<caption>A data.frame: 50 × 5</caption>\n",
              "<thead>\n",
              "\t<tr><th></th><th scope=col>Sepal.Length</th><th scope=col>Sepal.Width</th><th scope=col>Petal.Length</th><th scope=col>Petal.Width</th><th scope=col>Species</th></tr>\n",
              "\t<tr><th></th><th scope=col>&lt;dbl&gt;</th><th scope=col>&lt;dbl&gt;</th><th scope=col>&lt;dbl&gt;</th><th scope=col>&lt;dbl&gt;</th><th scope=col>&lt;fct&gt;</th></tr>\n",
              "</thead>\n",
              "<tbody>\n",
              "\t<tr><th scope=row>101</th><td>6.3</td><td>3.3</td><td>6.0</td><td>2.5</td><td>virginica</td></tr>\n",
              "\t<tr><th scope=row>102</th><td>5.8</td><td>2.7</td><td>5.1</td><td>1.9</td><td>virginica</td></tr>\n",
              "\t<tr><th scope=row>103</th><td>7.1</td><td>3.0</td><td>5.9</td><td>2.1</td><td>virginica</td></tr>\n",
              "\t<tr><th scope=row>104</th><td>6.3</td><td>2.9</td><td>5.6</td><td>1.8</td><td>virginica</td></tr>\n",
              "\t<tr><th scope=row>105</th><td>6.5</td><td>3.0</td><td>5.8</td><td>2.2</td><td>virginica</td></tr>\n",
              "\t<tr><th scope=row>106</th><td>7.6</td><td>3.0</td><td>6.6</td><td>2.1</td><td>virginica</td></tr>\n",
              "\t<tr><th scope=row>107</th><td>4.9</td><td>2.5</td><td>4.5</td><td>1.7</td><td>virginica</td></tr>\n",
              "\t<tr><th scope=row>108</th><td>7.3</td><td>2.9</td><td>6.3</td><td>1.8</td><td>virginica</td></tr>\n",
              "\t<tr><th scope=row>109</th><td>6.7</td><td>2.5</td><td>5.8</td><td>1.8</td><td>virginica</td></tr>\n",
              "\t<tr><th scope=row>110</th><td>7.2</td><td>3.6</td><td>6.1</td><td>2.5</td><td>virginica</td></tr>\n",
              "\t<tr><th scope=row>111</th><td>6.5</td><td>3.2</td><td>5.1</td><td>2.0</td><td>virginica</td></tr>\n",
              "\t<tr><th scope=row>112</th><td>6.4</td><td>2.7</td><td>5.3</td><td>1.9</td><td>virginica</td></tr>\n",
              "\t<tr><th scope=row>113</th><td>6.8</td><td>3.0</td><td>5.5</td><td>2.1</td><td>virginica</td></tr>\n",
              "\t<tr><th scope=row>114</th><td>5.7</td><td>2.5</td><td>5.0</td><td>2.0</td><td>virginica</td></tr>\n",
              "\t<tr><th scope=row>115</th><td>5.8</td><td>2.8</td><td>5.1</td><td>2.4</td><td>virginica</td></tr>\n",
              "\t<tr><th scope=row>116</th><td>6.4</td><td>3.2</td><td>5.3</td><td>2.3</td><td>virginica</td></tr>\n",
              "\t<tr><th scope=row>117</th><td>6.5</td><td>3.0</td><td>5.5</td><td>1.8</td><td>virginica</td></tr>\n",
              "\t<tr><th scope=row>118</th><td>7.7</td><td>3.8</td><td>6.7</td><td>2.2</td><td>virginica</td></tr>\n",
              "\t<tr><th scope=row>119</th><td>7.7</td><td>2.6</td><td>6.9</td><td>2.3</td><td>virginica</td></tr>\n",
              "\t<tr><th scope=row>120</th><td>6.0</td><td>2.2</td><td>5.0</td><td>1.5</td><td>virginica</td></tr>\n",
              "\t<tr><th scope=row>121</th><td>6.9</td><td>3.2</td><td>5.7</td><td>2.3</td><td>virginica</td></tr>\n",
              "\t<tr><th scope=row>122</th><td>5.6</td><td>2.8</td><td>4.9</td><td>2.0</td><td>virginica</td></tr>\n",
              "\t<tr><th scope=row>123</th><td>7.7</td><td>2.8</td><td>6.7</td><td>2.0</td><td>virginica</td></tr>\n",
              "\t<tr><th scope=row>124</th><td>6.3</td><td>2.7</td><td>4.9</td><td>1.8</td><td>virginica</td></tr>\n",
              "\t<tr><th scope=row>125</th><td>6.7</td><td>3.3</td><td>5.7</td><td>2.1</td><td>virginica</td></tr>\n",
              "\t<tr><th scope=row>126</th><td>7.2</td><td>3.2</td><td>6.0</td><td>1.8</td><td>virginica</td></tr>\n",
              "\t<tr><th scope=row>127</th><td>6.2</td><td>2.8</td><td>4.8</td><td>1.8</td><td>virginica</td></tr>\n",
              "\t<tr><th scope=row>128</th><td>6.1</td><td>3.0</td><td>4.9</td><td>1.8</td><td>virginica</td></tr>\n",
              "\t<tr><th scope=row>129</th><td>6.4</td><td>2.8</td><td>5.6</td><td>2.1</td><td>virginica</td></tr>\n",
              "\t<tr><th scope=row>130</th><td>7.2</td><td>3.0</td><td>5.8</td><td>1.6</td><td>virginica</td></tr>\n",
              "\t<tr><th scope=row>131</th><td>7.4</td><td>2.8</td><td>6.1</td><td>1.9</td><td>virginica</td></tr>\n",
              "\t<tr><th scope=row>132</th><td>7.9</td><td>3.8</td><td>6.4</td><td>2.0</td><td>virginica</td></tr>\n",
              "\t<tr><th scope=row>133</th><td>6.4</td><td>2.8</td><td>5.6</td><td>2.2</td><td>virginica</td></tr>\n",
              "\t<tr><th scope=row>134</th><td>6.3</td><td>2.8</td><td>5.1</td><td>1.5</td><td>virginica</td></tr>\n",
              "\t<tr><th scope=row>135</th><td>6.1</td><td>2.6</td><td>5.6</td><td>1.4</td><td>virginica</td></tr>\n",
              "\t<tr><th scope=row>136</th><td>7.7</td><td>3.0</td><td>6.1</td><td>2.3</td><td>virginica</td></tr>\n",
              "\t<tr><th scope=row>137</th><td>6.3</td><td>3.4</td><td>5.6</td><td>2.4</td><td>virginica</td></tr>\n",
              "\t<tr><th scope=row>138</th><td>6.4</td><td>3.1</td><td>5.5</td><td>1.8</td><td>virginica</td></tr>\n",
              "\t<tr><th scope=row>139</th><td>6.0</td><td>3.0</td><td>4.8</td><td>1.8</td><td>virginica</td></tr>\n",
              "\t<tr><th scope=row>140</th><td>6.9</td><td>3.1</td><td>5.4</td><td>2.1</td><td>virginica</td></tr>\n",
              "\t<tr><th scope=row>141</th><td>6.7</td><td>3.1</td><td>5.6</td><td>2.4</td><td>virginica</td></tr>\n",
              "\t<tr><th scope=row>142</th><td>6.9</td><td>3.1</td><td>5.1</td><td>2.3</td><td>virginica</td></tr>\n",
              "\t<tr><th scope=row>143</th><td>5.8</td><td>2.7</td><td>5.1</td><td>1.9</td><td>virginica</td></tr>\n",
              "\t<tr><th scope=row>144</th><td>6.8</td><td>3.2</td><td>5.9</td><td>2.3</td><td>virginica</td></tr>\n",
              "\t<tr><th scope=row>145</th><td>6.7</td><td>3.3</td><td>5.7</td><td>2.5</td><td>virginica</td></tr>\n",
              "\t<tr><th scope=row>146</th><td>6.7</td><td>3.0</td><td>5.2</td><td>2.3</td><td>virginica</td></tr>\n",
              "\t<tr><th scope=row>147</th><td>6.3</td><td>2.5</td><td>5.0</td><td>1.9</td><td>virginica</td></tr>\n",
              "\t<tr><th scope=row>148</th><td>6.5</td><td>3.0</td><td>5.2</td><td>2.0</td><td>virginica</td></tr>\n",
              "\t<tr><th scope=row>149</th><td>6.2</td><td>3.4</td><td>5.4</td><td>2.3</td><td>virginica</td></tr>\n",
              "\t<tr><th scope=row>150</th><td>5.9</td><td>3.0</td><td>5.1</td><td>1.8</td><td>virginica</td></tr>\n",
              "</tbody>\n",
              "</table>\n"
            ]
          },
          "metadata": {}
        }
      ]
    },
    {
      "cell_type": "code",
      "metadata": {
        "colab": {
          "base_uri": "https://localhost:8080/",
          "height": 283
        },
        "id": "YMEw7zCowZxV",
        "outputId": "7e8de708-c677-438e-b92f-9b97e8c016bb"
      },
      "source": [
        "df = iris[ iris$Species == 'virginica' , ]\n",
        "head(df)"
      ],
      "execution_count": 22,
      "outputs": [
        {
          "output_type": "display_data",
          "data": {
            "text/plain": [
              "    Sepal.Length Sepal.Width Petal.Length Petal.Width Species  \n",
              "101 6.3          3.3         6.0          2.5         virginica\n",
              "102 5.8          2.7         5.1          1.9         virginica\n",
              "103 7.1          3.0         5.9          2.1         virginica\n",
              "104 6.3          2.9         5.6          1.8         virginica\n",
              "105 6.5          3.0         5.8          2.2         virginica\n",
              "106 7.6          3.0         6.6          2.1         virginica"
            ],
            "text/latex": "A data.frame: 6 × 5\n\\begin{tabular}{r|lllll}\n  & Sepal.Length & Sepal.Width & Petal.Length & Petal.Width & Species\\\\\n  & <dbl> & <dbl> & <dbl> & <dbl> & <fct>\\\\\n\\hline\n\t101 & 6.3 & 3.3 & 6.0 & 2.5 & virginica\\\\\n\t102 & 5.8 & 2.7 & 5.1 & 1.9 & virginica\\\\\n\t103 & 7.1 & 3.0 & 5.9 & 2.1 & virginica\\\\\n\t104 & 6.3 & 2.9 & 5.6 & 1.8 & virginica\\\\\n\t105 & 6.5 & 3.0 & 5.8 & 2.2 & virginica\\\\\n\t106 & 7.6 & 3.0 & 6.6 & 2.1 & virginica\\\\\n\\end{tabular}\n",
            "text/markdown": "\nA data.frame: 6 × 5\n\n| <!--/--> | Sepal.Length &lt;dbl&gt; | Sepal.Width &lt;dbl&gt; | Petal.Length &lt;dbl&gt; | Petal.Width &lt;dbl&gt; | Species &lt;fct&gt; |\n|---|---|---|---|---|---|\n| 101 | 6.3 | 3.3 | 6.0 | 2.5 | virginica |\n| 102 | 5.8 | 2.7 | 5.1 | 1.9 | virginica |\n| 103 | 7.1 | 3.0 | 5.9 | 2.1 | virginica |\n| 104 | 6.3 | 2.9 | 5.6 | 1.8 | virginica |\n| 105 | 6.5 | 3.0 | 5.8 | 2.2 | virginica |\n| 106 | 7.6 | 3.0 | 6.6 | 2.1 | virginica |\n\n",
            "text/html": [
              "<table class=\"dataframe\">\n",
              "<caption>A data.frame: 6 × 5</caption>\n",
              "<thead>\n",
              "\t<tr><th></th><th scope=col>Sepal.Length</th><th scope=col>Sepal.Width</th><th scope=col>Petal.Length</th><th scope=col>Petal.Width</th><th scope=col>Species</th></tr>\n",
              "\t<tr><th></th><th scope=col>&lt;dbl&gt;</th><th scope=col>&lt;dbl&gt;</th><th scope=col>&lt;dbl&gt;</th><th scope=col>&lt;dbl&gt;</th><th scope=col>&lt;fct&gt;</th></tr>\n",
              "</thead>\n",
              "<tbody>\n",
              "\t<tr><th scope=row>101</th><td>6.3</td><td>3.3</td><td>6.0</td><td>2.5</td><td>virginica</td></tr>\n",
              "\t<tr><th scope=row>102</th><td>5.8</td><td>2.7</td><td>5.1</td><td>1.9</td><td>virginica</td></tr>\n",
              "\t<tr><th scope=row>103</th><td>7.1</td><td>3.0</td><td>5.9</td><td>2.1</td><td>virginica</td></tr>\n",
              "\t<tr><th scope=row>104</th><td>6.3</td><td>2.9</td><td>5.6</td><td>1.8</td><td>virginica</td></tr>\n",
              "\t<tr><th scope=row>105</th><td>6.5</td><td>3.0</td><td>5.8</td><td>2.2</td><td>virginica</td></tr>\n",
              "\t<tr><th scope=row>106</th><td>7.6</td><td>3.0</td><td>6.6</td><td>2.1</td><td>virginica</td></tr>\n",
              "</tbody>\n",
              "</table>\n"
            ]
          },
          "metadata": {}
        }
      ]
    },
    {
      "cell_type": "code",
      "metadata": {
        "colab": {
          "base_uri": "https://localhost:8080/",
          "height": 34
        },
        "id": "woYL4Uw7weOy",
        "outputId": "ee1bf82e-b557-4cc1-9171-d08ea02fc2a4"
      },
      "source": [
        "nrow(df)"
      ],
      "execution_count": 23,
      "outputs": [
        {
          "output_type": "display_data",
          "data": {
            "text/plain": [
              "[1] 50"
            ],
            "text/latex": "50",
            "text/markdown": "50",
            "text/html": [
              "50"
            ]
          },
          "metadata": {}
        }
      ]
    },
    {
      "cell_type": "markdown",
      "metadata": {
        "id": "Zv4ybeopwmEx"
      },
      "source": [
        "## Proporções"
      ]
    },
    {
      "cell_type": "code",
      "metadata": {
        "colab": {
          "base_uri": "https://localhost:8080/",
          "height": 1000
        },
        "id": "mZzz99UjwqjY",
        "outputId": "be7cb663-fb95-4cd8-b468-87526b255e52"
      },
      "source": [
        "iris[ iris$Petal.Length  >  mean(iris$Petal.Length) , ]\n"
      ],
      "execution_count": 24,
      "outputs": [
        {
          "output_type": "display_data",
          "data": {
            "text/plain": [
              "    Sepal.Length Sepal.Width Petal.Length Petal.Width Species   \n",
              "51  7.0          3.2         4.7          1.4         versicolor\n",
              "52  6.4          3.2         4.5          1.5         versicolor\n",
              "53  6.9          3.1         4.9          1.5         versicolor\n",
              "54  5.5          2.3         4.0          1.3         versicolor\n",
              "55  6.5          2.8         4.6          1.5         versicolor\n",
              "56  5.7          2.8         4.5          1.3         versicolor\n",
              "57  6.3          3.3         4.7          1.6         versicolor\n",
              "59  6.6          2.9         4.6          1.3         versicolor\n",
              "60  5.2          2.7         3.9          1.4         versicolor\n",
              "62  5.9          3.0         4.2          1.5         versicolor\n",
              "63  6.0          2.2         4.0          1.0         versicolor\n",
              "64  6.1          2.9         4.7          1.4         versicolor\n",
              "66  6.7          3.1         4.4          1.4         versicolor\n",
              "67  5.6          3.0         4.5          1.5         versicolor\n",
              "68  5.8          2.7         4.1          1.0         versicolor\n",
              "69  6.2          2.2         4.5          1.5         versicolor\n",
              "70  5.6          2.5         3.9          1.1         versicolor\n",
              "71  5.9          3.2         4.8          1.8         versicolor\n",
              "72  6.1          2.8         4.0          1.3         versicolor\n",
              "73  6.3          2.5         4.9          1.5         versicolor\n",
              "74  6.1          2.8         4.7          1.2         versicolor\n",
              "75  6.4          2.9         4.3          1.3         versicolor\n",
              "76  6.6          3.0         4.4          1.4         versicolor\n",
              "77  6.8          2.8         4.8          1.4         versicolor\n",
              "78  6.7          3.0         5.0          1.7         versicolor\n",
              "79  6.0          2.9         4.5          1.5         versicolor\n",
              "81  5.5          2.4         3.8          1.1         versicolor\n",
              "83  5.8          2.7         3.9          1.2         versicolor\n",
              "84  6.0          2.7         5.1          1.6         versicolor\n",
              "85  5.4          3.0         4.5          1.5         versicolor\n",
              "⋮   ⋮            ⋮           ⋮            ⋮           ⋮         \n",
              "121 6.9          3.2         5.7          2.3         virginica \n",
              "122 5.6          2.8         4.9          2.0         virginica \n",
              "123 7.7          2.8         6.7          2.0         virginica \n",
              "124 6.3          2.7         4.9          1.8         virginica \n",
              "125 6.7          3.3         5.7          2.1         virginica \n",
              "126 7.2          3.2         6.0          1.8         virginica \n",
              "127 6.2          2.8         4.8          1.8         virginica \n",
              "128 6.1          3.0         4.9          1.8         virginica \n",
              "129 6.4          2.8         5.6          2.1         virginica \n",
              "130 7.2          3.0         5.8          1.6         virginica \n",
              "131 7.4          2.8         6.1          1.9         virginica \n",
              "132 7.9          3.8         6.4          2.0         virginica \n",
              "133 6.4          2.8         5.6          2.2         virginica \n",
              "134 6.3          2.8         5.1          1.5         virginica \n",
              "135 6.1          2.6         5.6          1.4         virginica \n",
              "136 7.7          3.0         6.1          2.3         virginica \n",
              "137 6.3          3.4         5.6          2.4         virginica \n",
              "138 6.4          3.1         5.5          1.8         virginica \n",
              "139 6.0          3.0         4.8          1.8         virginica \n",
              "140 6.9          3.1         5.4          2.1         virginica \n",
              "141 6.7          3.1         5.6          2.4         virginica \n",
              "142 6.9          3.1         5.1          2.3         virginica \n",
              "143 5.8          2.7         5.1          1.9         virginica \n",
              "144 6.8          3.2         5.9          2.3         virginica \n",
              "145 6.7          3.3         5.7          2.5         virginica \n",
              "146 6.7          3.0         5.2          2.3         virginica \n",
              "147 6.3          2.5         5.0          1.9         virginica \n",
              "148 6.5          3.0         5.2          2.0         virginica \n",
              "149 6.2          3.4         5.4          2.3         virginica \n",
              "150 5.9          3.0         5.1          1.8         virginica "
            ],
            "text/latex": "A data.frame: 93 × 5\n\\begin{tabular}{r|lllll}\n  & Sepal.Length & Sepal.Width & Petal.Length & Petal.Width & Species\\\\\n  & <dbl> & <dbl> & <dbl> & <dbl> & <fct>\\\\\n\\hline\n\t51 & 7.0 & 3.2 & 4.7 & 1.4 & versicolor\\\\\n\t52 & 6.4 & 3.2 & 4.5 & 1.5 & versicolor\\\\\n\t53 & 6.9 & 3.1 & 4.9 & 1.5 & versicolor\\\\\n\t54 & 5.5 & 2.3 & 4.0 & 1.3 & versicolor\\\\\n\t55 & 6.5 & 2.8 & 4.6 & 1.5 & versicolor\\\\\n\t56 & 5.7 & 2.8 & 4.5 & 1.3 & versicolor\\\\\n\t57 & 6.3 & 3.3 & 4.7 & 1.6 & versicolor\\\\\n\t59 & 6.6 & 2.9 & 4.6 & 1.3 & versicolor\\\\\n\t60 & 5.2 & 2.7 & 3.9 & 1.4 & versicolor\\\\\n\t62 & 5.9 & 3.0 & 4.2 & 1.5 & versicolor\\\\\n\t63 & 6.0 & 2.2 & 4.0 & 1.0 & versicolor\\\\\n\t64 & 6.1 & 2.9 & 4.7 & 1.4 & versicolor\\\\\n\t66 & 6.7 & 3.1 & 4.4 & 1.4 & versicolor\\\\\n\t67 & 5.6 & 3.0 & 4.5 & 1.5 & versicolor\\\\\n\t68 & 5.8 & 2.7 & 4.1 & 1.0 & versicolor\\\\\n\t69 & 6.2 & 2.2 & 4.5 & 1.5 & versicolor\\\\\n\t70 & 5.6 & 2.5 & 3.9 & 1.1 & versicolor\\\\\n\t71 & 5.9 & 3.2 & 4.8 & 1.8 & versicolor\\\\\n\t72 & 6.1 & 2.8 & 4.0 & 1.3 & versicolor\\\\\n\t73 & 6.3 & 2.5 & 4.9 & 1.5 & versicolor\\\\\n\t74 & 6.1 & 2.8 & 4.7 & 1.2 & versicolor\\\\\n\t75 & 6.4 & 2.9 & 4.3 & 1.3 & versicolor\\\\\n\t76 & 6.6 & 3.0 & 4.4 & 1.4 & versicolor\\\\\n\t77 & 6.8 & 2.8 & 4.8 & 1.4 & versicolor\\\\\n\t78 & 6.7 & 3.0 & 5.0 & 1.7 & versicolor\\\\\n\t79 & 6.0 & 2.9 & 4.5 & 1.5 & versicolor\\\\\n\t81 & 5.5 & 2.4 & 3.8 & 1.1 & versicolor\\\\\n\t83 & 5.8 & 2.7 & 3.9 & 1.2 & versicolor\\\\\n\t84 & 6.0 & 2.7 & 5.1 & 1.6 & versicolor\\\\\n\t85 & 5.4 & 3.0 & 4.5 & 1.5 & versicolor\\\\\n\t⋮ & ⋮ & ⋮ & ⋮ & ⋮ & ⋮\\\\\n\t121 & 6.9 & 3.2 & 5.7 & 2.3 & virginica\\\\\n\t122 & 5.6 & 2.8 & 4.9 & 2.0 & virginica\\\\\n\t123 & 7.7 & 2.8 & 6.7 & 2.0 & virginica\\\\\n\t124 & 6.3 & 2.7 & 4.9 & 1.8 & virginica\\\\\n\t125 & 6.7 & 3.3 & 5.7 & 2.1 & virginica\\\\\n\t126 & 7.2 & 3.2 & 6.0 & 1.8 & virginica\\\\\n\t127 & 6.2 & 2.8 & 4.8 & 1.8 & virginica\\\\\n\t128 & 6.1 & 3.0 & 4.9 & 1.8 & virginica\\\\\n\t129 & 6.4 & 2.8 & 5.6 & 2.1 & virginica\\\\\n\t130 & 7.2 & 3.0 & 5.8 & 1.6 & virginica\\\\\n\t131 & 7.4 & 2.8 & 6.1 & 1.9 & virginica\\\\\n\t132 & 7.9 & 3.8 & 6.4 & 2.0 & virginica\\\\\n\t133 & 6.4 & 2.8 & 5.6 & 2.2 & virginica\\\\\n\t134 & 6.3 & 2.8 & 5.1 & 1.5 & virginica\\\\\n\t135 & 6.1 & 2.6 & 5.6 & 1.4 & virginica\\\\\n\t136 & 7.7 & 3.0 & 6.1 & 2.3 & virginica\\\\\n\t137 & 6.3 & 3.4 & 5.6 & 2.4 & virginica\\\\\n\t138 & 6.4 & 3.1 & 5.5 & 1.8 & virginica\\\\\n\t139 & 6.0 & 3.0 & 4.8 & 1.8 & virginica\\\\\n\t140 & 6.9 & 3.1 & 5.4 & 2.1 & virginica\\\\\n\t141 & 6.7 & 3.1 & 5.6 & 2.4 & virginica\\\\\n\t142 & 6.9 & 3.1 & 5.1 & 2.3 & virginica\\\\\n\t143 & 5.8 & 2.7 & 5.1 & 1.9 & virginica\\\\\n\t144 & 6.8 & 3.2 & 5.9 & 2.3 & virginica\\\\\n\t145 & 6.7 & 3.3 & 5.7 & 2.5 & virginica\\\\\n\t146 & 6.7 & 3.0 & 5.2 & 2.3 & virginica\\\\\n\t147 & 6.3 & 2.5 & 5.0 & 1.9 & virginica\\\\\n\t148 & 6.5 & 3.0 & 5.2 & 2.0 & virginica\\\\\n\t149 & 6.2 & 3.4 & 5.4 & 2.3 & virginica\\\\\n\t150 & 5.9 & 3.0 & 5.1 & 1.8 & virginica\\\\\n\\end{tabular}\n",
            "text/markdown": "\nA data.frame: 93 × 5\n\n| <!--/--> | Sepal.Length &lt;dbl&gt; | Sepal.Width &lt;dbl&gt; | Petal.Length &lt;dbl&gt; | Petal.Width &lt;dbl&gt; | Species &lt;fct&gt; |\n|---|---|---|---|---|---|\n| 51 | 7.0 | 3.2 | 4.7 | 1.4 | versicolor |\n| 52 | 6.4 | 3.2 | 4.5 | 1.5 | versicolor |\n| 53 | 6.9 | 3.1 | 4.9 | 1.5 | versicolor |\n| 54 | 5.5 | 2.3 | 4.0 | 1.3 | versicolor |\n| 55 | 6.5 | 2.8 | 4.6 | 1.5 | versicolor |\n| 56 | 5.7 | 2.8 | 4.5 | 1.3 | versicolor |\n| 57 | 6.3 | 3.3 | 4.7 | 1.6 | versicolor |\n| 59 | 6.6 | 2.9 | 4.6 | 1.3 | versicolor |\n| 60 | 5.2 | 2.7 | 3.9 | 1.4 | versicolor |\n| 62 | 5.9 | 3.0 | 4.2 | 1.5 | versicolor |\n| 63 | 6.0 | 2.2 | 4.0 | 1.0 | versicolor |\n| 64 | 6.1 | 2.9 | 4.7 | 1.4 | versicolor |\n| 66 | 6.7 | 3.1 | 4.4 | 1.4 | versicolor |\n| 67 | 5.6 | 3.0 | 4.5 | 1.5 | versicolor |\n| 68 | 5.8 | 2.7 | 4.1 | 1.0 | versicolor |\n| 69 | 6.2 | 2.2 | 4.5 | 1.5 | versicolor |\n| 70 | 5.6 | 2.5 | 3.9 | 1.1 | versicolor |\n| 71 | 5.9 | 3.2 | 4.8 | 1.8 | versicolor |\n| 72 | 6.1 | 2.8 | 4.0 | 1.3 | versicolor |\n| 73 | 6.3 | 2.5 | 4.9 | 1.5 | versicolor |\n| 74 | 6.1 | 2.8 | 4.7 | 1.2 | versicolor |\n| 75 | 6.4 | 2.9 | 4.3 | 1.3 | versicolor |\n| 76 | 6.6 | 3.0 | 4.4 | 1.4 | versicolor |\n| 77 | 6.8 | 2.8 | 4.8 | 1.4 | versicolor |\n| 78 | 6.7 | 3.0 | 5.0 | 1.7 | versicolor |\n| 79 | 6.0 | 2.9 | 4.5 | 1.5 | versicolor |\n| 81 | 5.5 | 2.4 | 3.8 | 1.1 | versicolor |\n| 83 | 5.8 | 2.7 | 3.9 | 1.2 | versicolor |\n| 84 | 6.0 | 2.7 | 5.1 | 1.6 | versicolor |\n| 85 | 5.4 | 3.0 | 4.5 | 1.5 | versicolor |\n| ⋮ | ⋮ | ⋮ | ⋮ | ⋮ | ⋮ |\n| 121 | 6.9 | 3.2 | 5.7 | 2.3 | virginica |\n| 122 | 5.6 | 2.8 | 4.9 | 2.0 | virginica |\n| 123 | 7.7 | 2.8 | 6.7 | 2.0 | virginica |\n| 124 | 6.3 | 2.7 | 4.9 | 1.8 | virginica |\n| 125 | 6.7 | 3.3 | 5.7 | 2.1 | virginica |\n| 126 | 7.2 | 3.2 | 6.0 | 1.8 | virginica |\n| 127 | 6.2 | 2.8 | 4.8 | 1.8 | virginica |\n| 128 | 6.1 | 3.0 | 4.9 | 1.8 | virginica |\n| 129 | 6.4 | 2.8 | 5.6 | 2.1 | virginica |\n| 130 | 7.2 | 3.0 | 5.8 | 1.6 | virginica |\n| 131 | 7.4 | 2.8 | 6.1 | 1.9 | virginica |\n| 132 | 7.9 | 3.8 | 6.4 | 2.0 | virginica |\n| 133 | 6.4 | 2.8 | 5.6 | 2.2 | virginica |\n| 134 | 6.3 | 2.8 | 5.1 | 1.5 | virginica |\n| 135 | 6.1 | 2.6 | 5.6 | 1.4 | virginica |\n| 136 | 7.7 | 3.0 | 6.1 | 2.3 | virginica |\n| 137 | 6.3 | 3.4 | 5.6 | 2.4 | virginica |\n| 138 | 6.4 | 3.1 | 5.5 | 1.8 | virginica |\n| 139 | 6.0 | 3.0 | 4.8 | 1.8 | virginica |\n| 140 | 6.9 | 3.1 | 5.4 | 2.1 | virginica |\n| 141 | 6.7 | 3.1 | 5.6 | 2.4 | virginica |\n| 142 | 6.9 | 3.1 | 5.1 | 2.3 | virginica |\n| 143 | 5.8 | 2.7 | 5.1 | 1.9 | virginica |\n| 144 | 6.8 | 3.2 | 5.9 | 2.3 | virginica |\n| 145 | 6.7 | 3.3 | 5.7 | 2.5 | virginica |\n| 146 | 6.7 | 3.0 | 5.2 | 2.3 | virginica |\n| 147 | 6.3 | 2.5 | 5.0 | 1.9 | virginica |\n| 148 | 6.5 | 3.0 | 5.2 | 2.0 | virginica |\n| 149 | 6.2 | 3.4 | 5.4 | 2.3 | virginica |\n| 150 | 5.9 | 3.0 | 5.1 | 1.8 | virginica |\n\n",
            "text/html": [
              "<table class=\"dataframe\">\n",
              "<caption>A data.frame: 93 × 5</caption>\n",
              "<thead>\n",
              "\t<tr><th></th><th scope=col>Sepal.Length</th><th scope=col>Sepal.Width</th><th scope=col>Petal.Length</th><th scope=col>Petal.Width</th><th scope=col>Species</th></tr>\n",
              "\t<tr><th></th><th scope=col>&lt;dbl&gt;</th><th scope=col>&lt;dbl&gt;</th><th scope=col>&lt;dbl&gt;</th><th scope=col>&lt;dbl&gt;</th><th scope=col>&lt;fct&gt;</th></tr>\n",
              "</thead>\n",
              "<tbody>\n",
              "\t<tr><th scope=row>51</th><td>7.0</td><td>3.2</td><td>4.7</td><td>1.4</td><td>versicolor</td></tr>\n",
              "\t<tr><th scope=row>52</th><td>6.4</td><td>3.2</td><td>4.5</td><td>1.5</td><td>versicolor</td></tr>\n",
              "\t<tr><th scope=row>53</th><td>6.9</td><td>3.1</td><td>4.9</td><td>1.5</td><td>versicolor</td></tr>\n",
              "\t<tr><th scope=row>54</th><td>5.5</td><td>2.3</td><td>4.0</td><td>1.3</td><td>versicolor</td></tr>\n",
              "\t<tr><th scope=row>55</th><td>6.5</td><td>2.8</td><td>4.6</td><td>1.5</td><td>versicolor</td></tr>\n",
              "\t<tr><th scope=row>56</th><td>5.7</td><td>2.8</td><td>4.5</td><td>1.3</td><td>versicolor</td></tr>\n",
              "\t<tr><th scope=row>57</th><td>6.3</td><td>3.3</td><td>4.7</td><td>1.6</td><td>versicolor</td></tr>\n",
              "\t<tr><th scope=row>59</th><td>6.6</td><td>2.9</td><td>4.6</td><td>1.3</td><td>versicolor</td></tr>\n",
              "\t<tr><th scope=row>60</th><td>5.2</td><td>2.7</td><td>3.9</td><td>1.4</td><td>versicolor</td></tr>\n",
              "\t<tr><th scope=row>62</th><td>5.9</td><td>3.0</td><td>4.2</td><td>1.5</td><td>versicolor</td></tr>\n",
              "\t<tr><th scope=row>63</th><td>6.0</td><td>2.2</td><td>4.0</td><td>1.0</td><td>versicolor</td></tr>\n",
              "\t<tr><th scope=row>64</th><td>6.1</td><td>2.9</td><td>4.7</td><td>1.4</td><td>versicolor</td></tr>\n",
              "\t<tr><th scope=row>66</th><td>6.7</td><td>3.1</td><td>4.4</td><td>1.4</td><td>versicolor</td></tr>\n",
              "\t<tr><th scope=row>67</th><td>5.6</td><td>3.0</td><td>4.5</td><td>1.5</td><td>versicolor</td></tr>\n",
              "\t<tr><th scope=row>68</th><td>5.8</td><td>2.7</td><td>4.1</td><td>1.0</td><td>versicolor</td></tr>\n",
              "\t<tr><th scope=row>69</th><td>6.2</td><td>2.2</td><td>4.5</td><td>1.5</td><td>versicolor</td></tr>\n",
              "\t<tr><th scope=row>70</th><td>5.6</td><td>2.5</td><td>3.9</td><td>1.1</td><td>versicolor</td></tr>\n",
              "\t<tr><th scope=row>71</th><td>5.9</td><td>3.2</td><td>4.8</td><td>1.8</td><td>versicolor</td></tr>\n",
              "\t<tr><th scope=row>72</th><td>6.1</td><td>2.8</td><td>4.0</td><td>1.3</td><td>versicolor</td></tr>\n",
              "\t<tr><th scope=row>73</th><td>6.3</td><td>2.5</td><td>4.9</td><td>1.5</td><td>versicolor</td></tr>\n",
              "\t<tr><th scope=row>74</th><td>6.1</td><td>2.8</td><td>4.7</td><td>1.2</td><td>versicolor</td></tr>\n",
              "\t<tr><th scope=row>75</th><td>6.4</td><td>2.9</td><td>4.3</td><td>1.3</td><td>versicolor</td></tr>\n",
              "\t<tr><th scope=row>76</th><td>6.6</td><td>3.0</td><td>4.4</td><td>1.4</td><td>versicolor</td></tr>\n",
              "\t<tr><th scope=row>77</th><td>6.8</td><td>2.8</td><td>4.8</td><td>1.4</td><td>versicolor</td></tr>\n",
              "\t<tr><th scope=row>78</th><td>6.7</td><td>3.0</td><td>5.0</td><td>1.7</td><td>versicolor</td></tr>\n",
              "\t<tr><th scope=row>79</th><td>6.0</td><td>2.9</td><td>4.5</td><td>1.5</td><td>versicolor</td></tr>\n",
              "\t<tr><th scope=row>81</th><td>5.5</td><td>2.4</td><td>3.8</td><td>1.1</td><td>versicolor</td></tr>\n",
              "\t<tr><th scope=row>83</th><td>5.8</td><td>2.7</td><td>3.9</td><td>1.2</td><td>versicolor</td></tr>\n",
              "\t<tr><th scope=row>84</th><td>6.0</td><td>2.7</td><td>5.1</td><td>1.6</td><td>versicolor</td></tr>\n",
              "\t<tr><th scope=row>85</th><td>5.4</td><td>3.0</td><td>4.5</td><td>1.5</td><td>versicolor</td></tr>\n",
              "\t<tr><th scope=row>⋮</th><td>⋮</td><td>⋮</td><td>⋮</td><td>⋮</td><td>⋮</td></tr>\n",
              "\t<tr><th scope=row>121</th><td>6.9</td><td>3.2</td><td>5.7</td><td>2.3</td><td>virginica</td></tr>\n",
              "\t<tr><th scope=row>122</th><td>5.6</td><td>2.8</td><td>4.9</td><td>2.0</td><td>virginica</td></tr>\n",
              "\t<tr><th scope=row>123</th><td>7.7</td><td>2.8</td><td>6.7</td><td>2.0</td><td>virginica</td></tr>\n",
              "\t<tr><th scope=row>124</th><td>6.3</td><td>2.7</td><td>4.9</td><td>1.8</td><td>virginica</td></tr>\n",
              "\t<tr><th scope=row>125</th><td>6.7</td><td>3.3</td><td>5.7</td><td>2.1</td><td>virginica</td></tr>\n",
              "\t<tr><th scope=row>126</th><td>7.2</td><td>3.2</td><td>6.0</td><td>1.8</td><td>virginica</td></tr>\n",
              "\t<tr><th scope=row>127</th><td>6.2</td><td>2.8</td><td>4.8</td><td>1.8</td><td>virginica</td></tr>\n",
              "\t<tr><th scope=row>128</th><td>6.1</td><td>3.0</td><td>4.9</td><td>1.8</td><td>virginica</td></tr>\n",
              "\t<tr><th scope=row>129</th><td>6.4</td><td>2.8</td><td>5.6</td><td>2.1</td><td>virginica</td></tr>\n",
              "\t<tr><th scope=row>130</th><td>7.2</td><td>3.0</td><td>5.8</td><td>1.6</td><td>virginica</td></tr>\n",
              "\t<tr><th scope=row>131</th><td>7.4</td><td>2.8</td><td>6.1</td><td>1.9</td><td>virginica</td></tr>\n",
              "\t<tr><th scope=row>132</th><td>7.9</td><td>3.8</td><td>6.4</td><td>2.0</td><td>virginica</td></tr>\n",
              "\t<tr><th scope=row>133</th><td>6.4</td><td>2.8</td><td>5.6</td><td>2.2</td><td>virginica</td></tr>\n",
              "\t<tr><th scope=row>134</th><td>6.3</td><td>2.8</td><td>5.1</td><td>1.5</td><td>virginica</td></tr>\n",
              "\t<tr><th scope=row>135</th><td>6.1</td><td>2.6</td><td>5.6</td><td>1.4</td><td>virginica</td></tr>\n",
              "\t<tr><th scope=row>136</th><td>7.7</td><td>3.0</td><td>6.1</td><td>2.3</td><td>virginica</td></tr>\n",
              "\t<tr><th scope=row>137</th><td>6.3</td><td>3.4</td><td>5.6</td><td>2.4</td><td>virginica</td></tr>\n",
              "\t<tr><th scope=row>138</th><td>6.4</td><td>3.1</td><td>5.5</td><td>1.8</td><td>virginica</td></tr>\n",
              "\t<tr><th scope=row>139</th><td>6.0</td><td>3.0</td><td>4.8</td><td>1.8</td><td>virginica</td></tr>\n",
              "\t<tr><th scope=row>140</th><td>6.9</td><td>3.1</td><td>5.4</td><td>2.1</td><td>virginica</td></tr>\n",
              "\t<tr><th scope=row>141</th><td>6.7</td><td>3.1</td><td>5.6</td><td>2.4</td><td>virginica</td></tr>\n",
              "\t<tr><th scope=row>142</th><td>6.9</td><td>3.1</td><td>5.1</td><td>2.3</td><td>virginica</td></tr>\n",
              "\t<tr><th scope=row>143</th><td>5.8</td><td>2.7</td><td>5.1</td><td>1.9</td><td>virginica</td></tr>\n",
              "\t<tr><th scope=row>144</th><td>6.8</td><td>3.2</td><td>5.9</td><td>2.3</td><td>virginica</td></tr>\n",
              "\t<tr><th scope=row>145</th><td>6.7</td><td>3.3</td><td>5.7</td><td>2.5</td><td>virginica</td></tr>\n",
              "\t<tr><th scope=row>146</th><td>6.7</td><td>3.0</td><td>5.2</td><td>2.3</td><td>virginica</td></tr>\n",
              "\t<tr><th scope=row>147</th><td>6.3</td><td>2.5</td><td>5.0</td><td>1.9</td><td>virginica</td></tr>\n",
              "\t<tr><th scope=row>148</th><td>6.5</td><td>3.0</td><td>5.2</td><td>2.0</td><td>virginica</td></tr>\n",
              "\t<tr><th scope=row>149</th><td>6.2</td><td>3.4</td><td>5.4</td><td>2.3</td><td>virginica</td></tr>\n",
              "\t<tr><th scope=row>150</th><td>5.9</td><td>3.0</td><td>5.1</td><td>1.8</td><td>virginica</td></tr>\n",
              "</tbody>\n",
              "</table>\n"
            ]
          },
          "metadata": {}
        }
      ]
    },
    {
      "cell_type": "code",
      "metadata": {
        "colab": {
          "base_uri": "https://localhost:8080/",
          "height": 34
        },
        "id": "zs_luPyYxFXp",
        "outputId": "43498f66-bad0-412b-ca4d-2801c892f796"
      },
      "source": [
        "nrow( iris[ iris$Petal.Length  >  mean(iris$Petal.Length) , ] )"
      ],
      "execution_count": 25,
      "outputs": [
        {
          "output_type": "display_data",
          "data": {
            "text/plain": [
              "[1] 93"
            ],
            "text/latex": "93",
            "text/markdown": "93",
            "text/html": [
              "93"
            ]
          },
          "metadata": {}
        }
      ]
    },
    {
      "cell_type": "code",
      "metadata": {
        "colab": {
          "base_uri": "https://localhost:8080/",
          "height": 34
        },
        "id": "kOee6gYoxU3K",
        "outputId": "9d10468f-103b-4da0-cdbc-30c5a072e2c2"
      },
      "source": [
        "nrow( iris )"
      ],
      "execution_count": 26,
      "outputs": [
        {
          "output_type": "display_data",
          "data": {
            "text/plain": [
              "[1] 150"
            ],
            "text/latex": "150",
            "text/markdown": "150",
            "text/html": [
              "150"
            ]
          },
          "metadata": {}
        }
      ]
    },
    {
      "cell_type": "code",
      "metadata": {
        "colab": {
          "base_uri": "https://localhost:8080/",
          "height": 34
        },
        "id": "d0zC3c7VxYkP",
        "outputId": "7e7105aa-b8b4-4b2f-beeb-dde7bb97ec71"
      },
      "source": [
        "nrow( iris[ iris$Petal.Length  >  mean(iris$Petal.Length) , ] )  /  nrow( iris )"
      ],
      "execution_count": 27,
      "outputs": [
        {
          "output_type": "display_data",
          "data": {
            "text/plain": [
              "[1] 0.62"
            ],
            "text/latex": "0.62",
            "text/markdown": "0.62",
            "text/html": [
              "0.62"
            ]
          },
          "metadata": {}
        }
      ]
    },
    {
      "cell_type": "markdown",
      "metadata": {
        "id": "R-rFIgDXxj3H"
      },
      "source": [
        "## Seleção de Linhas e Colunas"
      ]
    },
    {
      "cell_type": "code",
      "metadata": {
        "colab": {
          "base_uri": "https://localhost:8080/",
          "height": 85
        },
        "id": "BEXhsZPRxoeq",
        "outputId": "cee66705-139d-4f06-a6cf-ad8ce04a1f7f"
      },
      "source": [
        "iris[ iris$Petal.Length  >  mean(iris$Petal.Length) , c('Sepal.Length') ]"
      ],
      "execution_count": 28,
      "outputs": [
        {
          "output_type": "display_data",
          "data": {
            "text/plain": [
              " [1] 7.0 6.4 6.9 5.5 6.5 5.7 6.3 6.6 5.2 5.9 6.0 6.1 6.7 5.6 5.8 6.2 5.6 5.9 6.1\n",
              "[20] 6.3 6.1 6.4 6.6 6.8 6.7 6.0 5.5 5.8 6.0 5.4 6.0 6.7 6.3 5.6 5.5 5.5 6.1 5.8\n",
              "[39] 5.6 5.7 5.7 6.2 5.7 6.3 5.8 7.1 6.3 6.5 7.6 4.9 7.3 6.7 7.2 6.5 6.4 6.8 5.7\n",
              "[58] 5.8 6.4 6.5 7.7 7.7 6.0 6.9 5.6 7.7 6.3 6.7 7.2 6.2 6.1 6.4 7.2 7.4 7.9 6.4\n",
              "[77] 6.3 6.1 7.7 6.3 6.4 6.0 6.9 6.7 6.9 5.8 6.8 6.7 6.7 6.3 6.5 6.2 5.9"
            ],
            "text/latex": "\\begin{enumerate*}\n\\item 7\n\\item 6.4\n\\item 6.9\n\\item 5.5\n\\item 6.5\n\\item 5.7\n\\item 6.3\n\\item 6.6\n\\item 5.2\n\\item 5.9\n\\item 6\n\\item 6.1\n\\item 6.7\n\\item 5.6\n\\item 5.8\n\\item 6.2\n\\item 5.6\n\\item 5.9\n\\item 6.1\n\\item 6.3\n\\item 6.1\n\\item 6.4\n\\item 6.6\n\\item 6.8\n\\item 6.7\n\\item 6\n\\item 5.5\n\\item 5.8\n\\item 6\n\\item 5.4\n\\item 6\n\\item 6.7\n\\item 6.3\n\\item 5.6\n\\item 5.5\n\\item 5.5\n\\item 6.1\n\\item 5.8\n\\item 5.6\n\\item 5.7\n\\item 5.7\n\\item 6.2\n\\item 5.7\n\\item 6.3\n\\item 5.8\n\\item 7.1\n\\item 6.3\n\\item 6.5\n\\item 7.6\n\\item 4.9\n\\item 7.3\n\\item 6.7\n\\item 7.2\n\\item 6.5\n\\item 6.4\n\\item 6.8\n\\item 5.7\n\\item 5.8\n\\item 6.4\n\\item 6.5\n\\item 7.7\n\\item 7.7\n\\item 6\n\\item 6.9\n\\item 5.6\n\\item 7.7\n\\item 6.3\n\\item 6.7\n\\item 7.2\n\\item 6.2\n\\item 6.1\n\\item 6.4\n\\item 7.2\n\\item 7.4\n\\item 7.9\n\\item 6.4\n\\item 6.3\n\\item 6.1\n\\item 7.7\n\\item 6.3\n\\item 6.4\n\\item 6\n\\item 6.9\n\\item 6.7\n\\item 6.9\n\\item 5.8\n\\item 6.8\n\\item 6.7\n\\item 6.7\n\\item 6.3\n\\item 6.5\n\\item 6.2\n\\item 5.9\n\\end{enumerate*}\n",
            "text/markdown": "1. 7\n2. 6.4\n3. 6.9\n4. 5.5\n5. 6.5\n6. 5.7\n7. 6.3\n8. 6.6\n9. 5.2\n10. 5.9\n11. 6\n12. 6.1\n13. 6.7\n14. 5.6\n15. 5.8\n16. 6.2\n17. 5.6\n18. 5.9\n19. 6.1\n20. 6.3\n21. 6.1\n22. 6.4\n23. 6.6\n24. 6.8\n25. 6.7\n26. 6\n27. 5.5\n28. 5.8\n29. 6\n30. 5.4\n31. 6\n32. 6.7\n33. 6.3\n34. 5.6\n35. 5.5\n36. 5.5\n37. 6.1\n38. 5.8\n39. 5.6\n40. 5.7\n41. 5.7\n42. 6.2\n43. 5.7\n44. 6.3\n45. 5.8\n46. 7.1\n47. 6.3\n48. 6.5\n49. 7.6\n50. 4.9\n51. 7.3\n52. 6.7\n53. 7.2\n54. 6.5\n55. 6.4\n56. 6.8\n57. 5.7\n58. 5.8\n59. 6.4\n60. 6.5\n61. 7.7\n62. 7.7\n63. 6\n64. 6.9\n65. 5.6\n66. 7.7\n67. 6.3\n68. 6.7\n69. 7.2\n70. 6.2\n71. 6.1\n72. 6.4\n73. 7.2\n74. 7.4\n75. 7.9\n76. 6.4\n77. 6.3\n78. 6.1\n79. 7.7\n80. 6.3\n81. 6.4\n82. 6\n83. 6.9\n84. 6.7\n85. 6.9\n86. 5.8\n87. 6.8\n88. 6.7\n89. 6.7\n90. 6.3\n91. 6.5\n92. 6.2\n93. 5.9\n\n\n",
            "text/html": [
              "<style>\n",
              ".list-inline {list-style: none; margin:0; padding: 0}\n",
              ".list-inline>li {display: inline-block}\n",
              ".list-inline>li:not(:last-child)::after {content: \"\\00b7\"; padding: 0 .5ex}\n",
              "</style>\n",
              "<ol class=list-inline><li>7</li><li>6.4</li><li>6.9</li><li>5.5</li><li>6.5</li><li>5.7</li><li>6.3</li><li>6.6</li><li>5.2</li><li>5.9</li><li>6</li><li>6.1</li><li>6.7</li><li>5.6</li><li>5.8</li><li>6.2</li><li>5.6</li><li>5.9</li><li>6.1</li><li>6.3</li><li>6.1</li><li>6.4</li><li>6.6</li><li>6.8</li><li>6.7</li><li>6</li><li>5.5</li><li>5.8</li><li>6</li><li>5.4</li><li>6</li><li>6.7</li><li>6.3</li><li>5.6</li><li>5.5</li><li>5.5</li><li>6.1</li><li>5.8</li><li>5.6</li><li>5.7</li><li>5.7</li><li>6.2</li><li>5.7</li><li>6.3</li><li>5.8</li><li>7.1</li><li>6.3</li><li>6.5</li><li>7.6</li><li>4.9</li><li>7.3</li><li>6.7</li><li>7.2</li><li>6.5</li><li>6.4</li><li>6.8</li><li>5.7</li><li>5.8</li><li>6.4</li><li>6.5</li><li>7.7</li><li>7.7</li><li>6</li><li>6.9</li><li>5.6</li><li>7.7</li><li>6.3</li><li>6.7</li><li>7.2</li><li>6.2</li><li>6.1</li><li>6.4</li><li>7.2</li><li>7.4</li><li>7.9</li><li>6.4</li><li>6.3</li><li>6.1</li><li>7.7</li><li>6.3</li><li>6.4</li><li>6</li><li>6.9</li><li>6.7</li><li>6.9</li><li>5.8</li><li>6.8</li><li>6.7</li><li>6.7</li><li>6.3</li><li>6.5</li><li>6.2</li><li>5.9</li></ol>\n"
            ]
          },
          "metadata": {}
        }
      ]
    },
    {
      "cell_type": "code",
      "metadata": {
        "colab": {
          "base_uri": "https://localhost:8080/",
          "height": 1000
        },
        "id": "Wd5SlyYdxzla",
        "outputId": "585dc566-5fd2-48e2-9115-8ef1ca6a75f7"
      },
      "source": [
        "iris[ iris$Petal.Length  >  mean(iris$Petal.Length) , c('Sepal.Length','Species') ]"
      ],
      "execution_count": 29,
      "outputs": [
        {
          "output_type": "display_data",
          "data": {
            "text/plain": [
              "    Sepal.Length Species   \n",
              "51  7.0          versicolor\n",
              "52  6.4          versicolor\n",
              "53  6.9          versicolor\n",
              "54  5.5          versicolor\n",
              "55  6.5          versicolor\n",
              "56  5.7          versicolor\n",
              "57  6.3          versicolor\n",
              "59  6.6          versicolor\n",
              "60  5.2          versicolor\n",
              "62  5.9          versicolor\n",
              "63  6.0          versicolor\n",
              "64  6.1          versicolor\n",
              "66  6.7          versicolor\n",
              "67  5.6          versicolor\n",
              "68  5.8          versicolor\n",
              "69  6.2          versicolor\n",
              "70  5.6          versicolor\n",
              "71  5.9          versicolor\n",
              "72  6.1          versicolor\n",
              "73  6.3          versicolor\n",
              "74  6.1          versicolor\n",
              "75  6.4          versicolor\n",
              "76  6.6          versicolor\n",
              "77  6.8          versicolor\n",
              "78  6.7          versicolor\n",
              "79  6.0          versicolor\n",
              "81  5.5          versicolor\n",
              "83  5.8          versicolor\n",
              "84  6.0          versicolor\n",
              "85  5.4          versicolor\n",
              "⋮   ⋮            ⋮         \n",
              "121 6.9          virginica \n",
              "122 5.6          virginica \n",
              "123 7.7          virginica \n",
              "124 6.3          virginica \n",
              "125 6.7          virginica \n",
              "126 7.2          virginica \n",
              "127 6.2          virginica \n",
              "128 6.1          virginica \n",
              "129 6.4          virginica \n",
              "130 7.2          virginica \n",
              "131 7.4          virginica \n",
              "132 7.9          virginica \n",
              "133 6.4          virginica \n",
              "134 6.3          virginica \n",
              "135 6.1          virginica \n",
              "136 7.7          virginica \n",
              "137 6.3          virginica \n",
              "138 6.4          virginica \n",
              "139 6.0          virginica \n",
              "140 6.9          virginica \n",
              "141 6.7          virginica \n",
              "142 6.9          virginica \n",
              "143 5.8          virginica \n",
              "144 6.8          virginica \n",
              "145 6.7          virginica \n",
              "146 6.7          virginica \n",
              "147 6.3          virginica \n",
              "148 6.5          virginica \n",
              "149 6.2          virginica \n",
              "150 5.9          virginica "
            ],
            "text/latex": "A data.frame: 93 × 2\n\\begin{tabular}{r|ll}\n  & Sepal.Length & Species\\\\\n  & <dbl> & <fct>\\\\\n\\hline\n\t51 & 7.0 & versicolor\\\\\n\t52 & 6.4 & versicolor\\\\\n\t53 & 6.9 & versicolor\\\\\n\t54 & 5.5 & versicolor\\\\\n\t55 & 6.5 & versicolor\\\\\n\t56 & 5.7 & versicolor\\\\\n\t57 & 6.3 & versicolor\\\\\n\t59 & 6.6 & versicolor\\\\\n\t60 & 5.2 & versicolor\\\\\n\t62 & 5.9 & versicolor\\\\\n\t63 & 6.0 & versicolor\\\\\n\t64 & 6.1 & versicolor\\\\\n\t66 & 6.7 & versicolor\\\\\n\t67 & 5.6 & versicolor\\\\\n\t68 & 5.8 & versicolor\\\\\n\t69 & 6.2 & versicolor\\\\\n\t70 & 5.6 & versicolor\\\\\n\t71 & 5.9 & versicolor\\\\\n\t72 & 6.1 & versicolor\\\\\n\t73 & 6.3 & versicolor\\\\\n\t74 & 6.1 & versicolor\\\\\n\t75 & 6.4 & versicolor\\\\\n\t76 & 6.6 & versicolor\\\\\n\t77 & 6.8 & versicolor\\\\\n\t78 & 6.7 & versicolor\\\\\n\t79 & 6.0 & versicolor\\\\\n\t81 & 5.5 & versicolor\\\\\n\t83 & 5.8 & versicolor\\\\\n\t84 & 6.0 & versicolor\\\\\n\t85 & 5.4 & versicolor\\\\\n\t⋮ & ⋮ & ⋮\\\\\n\t121 & 6.9 & virginica\\\\\n\t122 & 5.6 & virginica\\\\\n\t123 & 7.7 & virginica\\\\\n\t124 & 6.3 & virginica\\\\\n\t125 & 6.7 & virginica\\\\\n\t126 & 7.2 & virginica\\\\\n\t127 & 6.2 & virginica\\\\\n\t128 & 6.1 & virginica\\\\\n\t129 & 6.4 & virginica\\\\\n\t130 & 7.2 & virginica\\\\\n\t131 & 7.4 & virginica\\\\\n\t132 & 7.9 & virginica\\\\\n\t133 & 6.4 & virginica\\\\\n\t134 & 6.3 & virginica\\\\\n\t135 & 6.1 & virginica\\\\\n\t136 & 7.7 & virginica\\\\\n\t137 & 6.3 & virginica\\\\\n\t138 & 6.4 & virginica\\\\\n\t139 & 6.0 & virginica\\\\\n\t140 & 6.9 & virginica\\\\\n\t141 & 6.7 & virginica\\\\\n\t142 & 6.9 & virginica\\\\\n\t143 & 5.8 & virginica\\\\\n\t144 & 6.8 & virginica\\\\\n\t145 & 6.7 & virginica\\\\\n\t146 & 6.7 & virginica\\\\\n\t147 & 6.3 & virginica\\\\\n\t148 & 6.5 & virginica\\\\\n\t149 & 6.2 & virginica\\\\\n\t150 & 5.9 & virginica\\\\\n\\end{tabular}\n",
            "text/markdown": "\nA data.frame: 93 × 2\n\n| <!--/--> | Sepal.Length &lt;dbl&gt; | Species &lt;fct&gt; |\n|---|---|---|\n| 51 | 7.0 | versicolor |\n| 52 | 6.4 | versicolor |\n| 53 | 6.9 | versicolor |\n| 54 | 5.5 | versicolor |\n| 55 | 6.5 | versicolor |\n| 56 | 5.7 | versicolor |\n| 57 | 6.3 | versicolor |\n| 59 | 6.6 | versicolor |\n| 60 | 5.2 | versicolor |\n| 62 | 5.9 | versicolor |\n| 63 | 6.0 | versicolor |\n| 64 | 6.1 | versicolor |\n| 66 | 6.7 | versicolor |\n| 67 | 5.6 | versicolor |\n| 68 | 5.8 | versicolor |\n| 69 | 6.2 | versicolor |\n| 70 | 5.6 | versicolor |\n| 71 | 5.9 | versicolor |\n| 72 | 6.1 | versicolor |\n| 73 | 6.3 | versicolor |\n| 74 | 6.1 | versicolor |\n| 75 | 6.4 | versicolor |\n| 76 | 6.6 | versicolor |\n| 77 | 6.8 | versicolor |\n| 78 | 6.7 | versicolor |\n| 79 | 6.0 | versicolor |\n| 81 | 5.5 | versicolor |\n| 83 | 5.8 | versicolor |\n| 84 | 6.0 | versicolor |\n| 85 | 5.4 | versicolor |\n| ⋮ | ⋮ | ⋮ |\n| 121 | 6.9 | virginica |\n| 122 | 5.6 | virginica |\n| 123 | 7.7 | virginica |\n| 124 | 6.3 | virginica |\n| 125 | 6.7 | virginica |\n| 126 | 7.2 | virginica |\n| 127 | 6.2 | virginica |\n| 128 | 6.1 | virginica |\n| 129 | 6.4 | virginica |\n| 130 | 7.2 | virginica |\n| 131 | 7.4 | virginica |\n| 132 | 7.9 | virginica |\n| 133 | 6.4 | virginica |\n| 134 | 6.3 | virginica |\n| 135 | 6.1 | virginica |\n| 136 | 7.7 | virginica |\n| 137 | 6.3 | virginica |\n| 138 | 6.4 | virginica |\n| 139 | 6.0 | virginica |\n| 140 | 6.9 | virginica |\n| 141 | 6.7 | virginica |\n| 142 | 6.9 | virginica |\n| 143 | 5.8 | virginica |\n| 144 | 6.8 | virginica |\n| 145 | 6.7 | virginica |\n| 146 | 6.7 | virginica |\n| 147 | 6.3 | virginica |\n| 148 | 6.5 | virginica |\n| 149 | 6.2 | virginica |\n| 150 | 5.9 | virginica |\n\n",
            "text/html": [
              "<table class=\"dataframe\">\n",
              "<caption>A data.frame: 93 × 2</caption>\n",
              "<thead>\n",
              "\t<tr><th></th><th scope=col>Sepal.Length</th><th scope=col>Species</th></tr>\n",
              "\t<tr><th></th><th scope=col>&lt;dbl&gt;</th><th scope=col>&lt;fct&gt;</th></tr>\n",
              "</thead>\n",
              "<tbody>\n",
              "\t<tr><th scope=row>51</th><td>7.0</td><td>versicolor</td></tr>\n",
              "\t<tr><th scope=row>52</th><td>6.4</td><td>versicolor</td></tr>\n",
              "\t<tr><th scope=row>53</th><td>6.9</td><td>versicolor</td></tr>\n",
              "\t<tr><th scope=row>54</th><td>5.5</td><td>versicolor</td></tr>\n",
              "\t<tr><th scope=row>55</th><td>6.5</td><td>versicolor</td></tr>\n",
              "\t<tr><th scope=row>56</th><td>5.7</td><td>versicolor</td></tr>\n",
              "\t<tr><th scope=row>57</th><td>6.3</td><td>versicolor</td></tr>\n",
              "\t<tr><th scope=row>59</th><td>6.6</td><td>versicolor</td></tr>\n",
              "\t<tr><th scope=row>60</th><td>5.2</td><td>versicolor</td></tr>\n",
              "\t<tr><th scope=row>62</th><td>5.9</td><td>versicolor</td></tr>\n",
              "\t<tr><th scope=row>63</th><td>6.0</td><td>versicolor</td></tr>\n",
              "\t<tr><th scope=row>64</th><td>6.1</td><td>versicolor</td></tr>\n",
              "\t<tr><th scope=row>66</th><td>6.7</td><td>versicolor</td></tr>\n",
              "\t<tr><th scope=row>67</th><td>5.6</td><td>versicolor</td></tr>\n",
              "\t<tr><th scope=row>68</th><td>5.8</td><td>versicolor</td></tr>\n",
              "\t<tr><th scope=row>69</th><td>6.2</td><td>versicolor</td></tr>\n",
              "\t<tr><th scope=row>70</th><td>5.6</td><td>versicolor</td></tr>\n",
              "\t<tr><th scope=row>71</th><td>5.9</td><td>versicolor</td></tr>\n",
              "\t<tr><th scope=row>72</th><td>6.1</td><td>versicolor</td></tr>\n",
              "\t<tr><th scope=row>73</th><td>6.3</td><td>versicolor</td></tr>\n",
              "\t<tr><th scope=row>74</th><td>6.1</td><td>versicolor</td></tr>\n",
              "\t<tr><th scope=row>75</th><td>6.4</td><td>versicolor</td></tr>\n",
              "\t<tr><th scope=row>76</th><td>6.6</td><td>versicolor</td></tr>\n",
              "\t<tr><th scope=row>77</th><td>6.8</td><td>versicolor</td></tr>\n",
              "\t<tr><th scope=row>78</th><td>6.7</td><td>versicolor</td></tr>\n",
              "\t<tr><th scope=row>79</th><td>6.0</td><td>versicolor</td></tr>\n",
              "\t<tr><th scope=row>81</th><td>5.5</td><td>versicolor</td></tr>\n",
              "\t<tr><th scope=row>83</th><td>5.8</td><td>versicolor</td></tr>\n",
              "\t<tr><th scope=row>84</th><td>6.0</td><td>versicolor</td></tr>\n",
              "\t<tr><th scope=row>85</th><td>5.4</td><td>versicolor</td></tr>\n",
              "\t<tr><th scope=row>⋮</th><td>⋮</td><td>⋮</td></tr>\n",
              "\t<tr><th scope=row>121</th><td>6.9</td><td>virginica</td></tr>\n",
              "\t<tr><th scope=row>122</th><td>5.6</td><td>virginica</td></tr>\n",
              "\t<tr><th scope=row>123</th><td>7.7</td><td>virginica</td></tr>\n",
              "\t<tr><th scope=row>124</th><td>6.3</td><td>virginica</td></tr>\n",
              "\t<tr><th scope=row>125</th><td>6.7</td><td>virginica</td></tr>\n",
              "\t<tr><th scope=row>126</th><td>7.2</td><td>virginica</td></tr>\n",
              "\t<tr><th scope=row>127</th><td>6.2</td><td>virginica</td></tr>\n",
              "\t<tr><th scope=row>128</th><td>6.1</td><td>virginica</td></tr>\n",
              "\t<tr><th scope=row>129</th><td>6.4</td><td>virginica</td></tr>\n",
              "\t<tr><th scope=row>130</th><td>7.2</td><td>virginica</td></tr>\n",
              "\t<tr><th scope=row>131</th><td>7.4</td><td>virginica</td></tr>\n",
              "\t<tr><th scope=row>132</th><td>7.9</td><td>virginica</td></tr>\n",
              "\t<tr><th scope=row>133</th><td>6.4</td><td>virginica</td></tr>\n",
              "\t<tr><th scope=row>134</th><td>6.3</td><td>virginica</td></tr>\n",
              "\t<tr><th scope=row>135</th><td>6.1</td><td>virginica</td></tr>\n",
              "\t<tr><th scope=row>136</th><td>7.7</td><td>virginica</td></tr>\n",
              "\t<tr><th scope=row>137</th><td>6.3</td><td>virginica</td></tr>\n",
              "\t<tr><th scope=row>138</th><td>6.4</td><td>virginica</td></tr>\n",
              "\t<tr><th scope=row>139</th><td>6.0</td><td>virginica</td></tr>\n",
              "\t<tr><th scope=row>140</th><td>6.9</td><td>virginica</td></tr>\n",
              "\t<tr><th scope=row>141</th><td>6.7</td><td>virginica</td></tr>\n",
              "\t<tr><th scope=row>142</th><td>6.9</td><td>virginica</td></tr>\n",
              "\t<tr><th scope=row>143</th><td>5.8</td><td>virginica</td></tr>\n",
              "\t<tr><th scope=row>144</th><td>6.8</td><td>virginica</td></tr>\n",
              "\t<tr><th scope=row>145</th><td>6.7</td><td>virginica</td></tr>\n",
              "\t<tr><th scope=row>146</th><td>6.7</td><td>virginica</td></tr>\n",
              "\t<tr><th scope=row>147</th><td>6.3</td><td>virginica</td></tr>\n",
              "\t<tr><th scope=row>148</th><td>6.5</td><td>virginica</td></tr>\n",
              "\t<tr><th scope=row>149</th><td>6.2</td><td>virginica</td></tr>\n",
              "\t<tr><th scope=row>150</th><td>5.9</td><td>virginica</td></tr>\n",
              "</tbody>\n",
              "</table>\n"
            ]
          },
          "metadata": {}
        }
      ]
    },
    {
      "cell_type": "code",
      "metadata": {
        "colab": {
          "base_uri": "https://localhost:8080/",
          "height": 34
        },
        "id": "POH-Qpxix7xE",
        "outputId": "8bf41b83-9352-4c1c-dc7e-fd91c6035eb3"
      },
      "source": [
        "mean( iris[ iris$Petal.Length  >  mean(iris$Petal.Length) , ]$Sepal.Length )"
      ],
      "execution_count": 31,
      "outputs": [
        {
          "output_type": "display_data",
          "data": {
            "text/plain": [
              "[1] 6.337634"
            ],
            "text/latex": "6.33763440860215",
            "text/markdown": "6.33763440860215",
            "text/html": [
              "6.33763440860215"
            ]
          },
          "metadata": {}
        }
      ]
    },
    {
      "cell_type": "code",
      "metadata": {
        "colab": {
          "base_uri": "https://localhost:8080/",
          "height": 68
        },
        "id": "s9Z3HFs0yI7G",
        "outputId": "460cde53-d8dd-43e5-e785-9664a7b5cb74"
      },
      "source": [
        "table( iris[ iris$Petal.Length  >  mean(iris$Petal.Length) , ]$Species )"
      ],
      "execution_count": 32,
      "outputs": [
        {
          "output_type": "display_data",
          "data": {
            "text/plain": [
              "\n",
              "    setosa versicolor  virginica \n",
              "         0         43         50 "
            ]
          },
          "metadata": {}
        }
      ]
    },
    {
      "cell_type": "markdown",
      "metadata": {
        "id": "WTMnbv4gyfKM"
      },
      "source": [
        "# Base externa"
      ]
    },
    {
      "cell_type": "code",
      "metadata": {
        "colab": {
          "base_uri": "https://localhost:8080/",
          "height": 283
        },
        "id": "gX0b8rIjyd9y",
        "outputId": "fb45641a-1d98-40cd-8bd4-a37dcbff528b"
      },
      "source": [
        "df = read.csv('http://meusite.mackenzie.br/rogerio/data_load/insurance.csv')\n",
        "head(df)"
      ],
      "execution_count": 35,
      "outputs": [
        {
          "output_type": "display_data",
          "data": {
            "text/plain": [
              "  age sex    bmi    children smoker region    charges  \n",
              "1 19  female 27.900 0        yes    southwest 16884.924\n",
              "2 18  male   33.770 1        no     southeast  1725.552\n",
              "3 28  male   33.000 3        no     southeast  4449.462\n",
              "4 33  male   22.705 0        no     northwest 21984.471\n",
              "5 32  male   28.880 0        no     northwest  3866.855\n",
              "6 31  female 25.740 0        no     southeast  3756.622"
            ],
            "text/latex": "A data.frame: 6 × 7\n\\begin{tabular}{r|lllllll}\n  & age & sex & bmi & children & smoker & region & charges\\\\\n  & <int> & <chr> & <dbl> & <int> & <chr> & <chr> & <dbl>\\\\\n\\hline\n\t1 & 19 & female & 27.900 & 0 & yes & southwest & 16884.924\\\\\n\t2 & 18 & male   & 33.770 & 1 & no  & southeast &  1725.552\\\\\n\t3 & 28 & male   & 33.000 & 3 & no  & southeast &  4449.462\\\\\n\t4 & 33 & male   & 22.705 & 0 & no  & northwest & 21984.471\\\\\n\t5 & 32 & male   & 28.880 & 0 & no  & northwest &  3866.855\\\\\n\t6 & 31 & female & 25.740 & 0 & no  & southeast &  3756.622\\\\\n\\end{tabular}\n",
            "text/markdown": "\nA data.frame: 6 × 7\n\n| <!--/--> | age &lt;int&gt; | sex &lt;chr&gt; | bmi &lt;dbl&gt; | children &lt;int&gt; | smoker &lt;chr&gt; | region &lt;chr&gt; | charges &lt;dbl&gt; |\n|---|---|---|---|---|---|---|---|\n| 1 | 19 | female | 27.900 | 0 | yes | southwest | 16884.924 |\n| 2 | 18 | male   | 33.770 | 1 | no  | southeast |  1725.552 |\n| 3 | 28 | male   | 33.000 | 3 | no  | southeast |  4449.462 |\n| 4 | 33 | male   | 22.705 | 0 | no  | northwest | 21984.471 |\n| 5 | 32 | male   | 28.880 | 0 | no  | northwest |  3866.855 |\n| 6 | 31 | female | 25.740 | 0 | no  | southeast |  3756.622 |\n\n",
            "text/html": [
              "<table class=\"dataframe\">\n",
              "<caption>A data.frame: 6 × 7</caption>\n",
              "<thead>\n",
              "\t<tr><th></th><th scope=col>age</th><th scope=col>sex</th><th scope=col>bmi</th><th scope=col>children</th><th scope=col>smoker</th><th scope=col>region</th><th scope=col>charges</th></tr>\n",
              "\t<tr><th></th><th scope=col>&lt;int&gt;</th><th scope=col>&lt;chr&gt;</th><th scope=col>&lt;dbl&gt;</th><th scope=col>&lt;int&gt;</th><th scope=col>&lt;chr&gt;</th><th scope=col>&lt;chr&gt;</th><th scope=col>&lt;dbl&gt;</th></tr>\n",
              "</thead>\n",
              "<tbody>\n",
              "\t<tr><th scope=row>1</th><td>19</td><td>female</td><td>27.900</td><td>0</td><td>yes</td><td>southwest</td><td>16884.924</td></tr>\n",
              "\t<tr><th scope=row>2</th><td>18</td><td>male  </td><td>33.770</td><td>1</td><td>no </td><td>southeast</td><td> 1725.552</td></tr>\n",
              "\t<tr><th scope=row>3</th><td>28</td><td>male  </td><td>33.000</td><td>3</td><td>no </td><td>southeast</td><td> 4449.462</td></tr>\n",
              "\t<tr><th scope=row>4</th><td>33</td><td>male  </td><td>22.705</td><td>0</td><td>no </td><td>northwest</td><td>21984.471</td></tr>\n",
              "\t<tr><th scope=row>5</th><td>32</td><td>male  </td><td>28.880</td><td>0</td><td>no </td><td>northwest</td><td> 3866.855</td></tr>\n",
              "\t<tr><th scope=row>6</th><td>31</td><td>female</td><td>25.740</td><td>0</td><td>no </td><td>southeast</td><td> 3756.622</td></tr>\n",
              "</tbody>\n",
              "</table>\n"
            ]
          },
          "metadata": {}
        }
      ]
    },
    {
      "cell_type": "code",
      "metadata": {
        "colab": {
          "base_uri": "https://localhost:8080/",
          "height": 34
        },
        "id": "4vPc5U0JzO59",
        "outputId": "f69a6414-45fb-4af9-ad03-2eaf602cab5b"
      },
      "source": [
        "nrow(df)"
      ],
      "execution_count": 37,
      "outputs": [
        {
          "output_type": "display_data",
          "data": {
            "text/plain": [
              "[1] 1338"
            ],
            "text/latex": "1338",
            "text/markdown": "1338",
            "text/html": [
              "1338"
            ]
          },
          "metadata": {}
        }
      ]
    },
    {
      "cell_type": "code",
      "metadata": {
        "id": "Q5Ksr4wXzD6w"
      },
      "source": [
        "df[ df$smoker == 'yes' , ]"
      ],
      "execution_count": null,
      "outputs": []
    },
    {
      "cell_type": "code",
      "metadata": {
        "colab": {
          "base_uri": "https://localhost:8080/",
          "height": 34
        },
        "id": "XkSYXE1NzTzR",
        "outputId": "284b0ed1-4f87-4478-973f-996b84864c66"
      },
      "source": [
        "nrow( df[ df$smoker == 'yes' , ] ) / nrow(df)"
      ],
      "execution_count": 38,
      "outputs": [
        {
          "output_type": "display_data",
          "data": {
            "text/plain": [
              "[1] 0.2047833"
            ],
            "text/latex": "0.204783258594918",
            "text/markdown": "0.204783258594918",
            "text/html": [
              "0.204783258594918"
            ]
          },
          "metadata": {}
        }
      ]
    },
    {
      "cell_type": "code",
      "metadata": {
        "colab": {
          "base_uri": "https://localhost:8080/",
          "height": 437
        },
        "id": "BXVOY62tzoP0",
        "outputId": "64ce174d-77e4-45bb-ddbd-fc88f11860b4"
      },
      "source": [
        "plot( df$bmi , df$charges )"
      ],
      "execution_count": 39,
      "outputs": [
        {
          "output_type": "display_data",
          "data": {
            "image/png": "[encoded data removed]",
            "text/plain": [
              "plot without title"
            ]
          },
          "metadata": {
            "image/png": {
              "width": 420,
              "height": 420
            }
          }
        }
      ]
    },
    {
      "cell_type": "code",
      "metadata": {
        "colab": {
          "base_uri": "https://localhost:8080/",
          "height": 437
        },
        "id": "TliIcer3z3fR",
        "outputId": "c3afaab4-c985-403b-a005-99d7f1a557dc"
      },
      "source": [
        "hist( df$children )"
      ],
      "execution_count": 40,
      "outputs": [
        {
          "output_type": "display_data",
          "data": {
            "image/png": "[encoded data removed]",
            "text/plain": [
              "Plot with title “Histogram of df$children”"
            ]
          },
          "metadata": {
            "image/png": {
              "width": 420,
              "height": 420
            }
          }
        }
      ]
    },
    {
      "cell_type": "code",
      "metadata": {
        "colab": {
          "base_uri": "https://localhost:8080/",
          "height": 68
        },
        "id": "iZQfSSud0BSP",
        "outputId": "af844c21-706f-4715-a2f6-83f3b0f0dc5e"
      },
      "source": [
        "table( df$children )"
      ],
      "execution_count": 41,
      "outputs": [
        {
          "output_type": "display_data",
          "data": {
            "text/plain": [
              "\n",
              "  0   1   2   3   4   5 \n",
              "574 324 240 157  25  18 "
            ]
          },
          "metadata": {}
        }
      ]
    },
    {
      "cell_type": "markdown",
      "metadata": {
        "id": "wr2Jy5PR0Vk3"
      },
      "source": [
        "# Aprendizado Supervisionado\n",
        "\n",
        "<img src=\"https://github.com/Rogerio-mack/Ciencia-de-Dados-e-Aprendizado-de-Maquina/blob/main/figuras/linearregressionlogitbreast1.PNG?raw=true\" width=1200, align=\"right\"> "
      ]
    },
    {
      "cell_type": "markdown",
      "metadata": {
        "id": "dc4CHFpf0ZBM"
      },
      "source": [
        "# **Predição de Quantidades ou Valores**: Regressão Linear"
      ]
    },
    {
      "cell_type": "code",
      "metadata": {
        "colab": {
          "base_uri": "https://localhost:8080/",
          "height": 283
        },
        "id": "sgQayvI-2OHD",
        "outputId": "e8d85fa9-41af-4008-c745-07420c8be124"
      },
      "source": [
        "head(iris)"
      ],
      "execution_count": 44,
      "outputs": [
        {
          "output_type": "display_data",
          "data": {
            "text/plain": [
              "  Sepal.Length Sepal.Width Petal.Length Petal.Width Species\n",
              "1 5.1          3.5         1.4          0.2         setosa \n",
              "2 4.9          3.0         1.4          0.2         setosa \n",
              "3 4.7          3.2         1.3          0.2         setosa \n",
              "4 4.6          3.1         1.5          0.2         setosa \n",
              "5 5.0          3.6         1.4          0.2         setosa \n",
              "6 5.4          3.9         1.7          0.4         setosa "
            ],
            "text/latex": "A data.frame: 6 × 5\n\\begin{tabular}{r|lllll}\n  & Sepal.Length & Sepal.Width & Petal.Length & Petal.Width & Species\\\\\n  & <dbl> & <dbl> & <dbl> & <dbl> & <fct>\\\\\n\\hline\n\t1 & 5.1 & 3.5 & 1.4 & 0.2 & setosa\\\\\n\t2 & 4.9 & 3.0 & 1.4 & 0.2 & setosa\\\\\n\t3 & 4.7 & 3.2 & 1.3 & 0.2 & setosa\\\\\n\t4 & 4.6 & 3.1 & 1.5 & 0.2 & setosa\\\\\n\t5 & 5.0 & 3.6 & 1.4 & 0.2 & setosa\\\\\n\t6 & 5.4 & 3.9 & 1.7 & 0.4 & setosa\\\\\n\\end{tabular}\n",
            "text/markdown": "\nA data.frame: 6 × 5\n\n| <!--/--> | Sepal.Length &lt;dbl&gt; | Sepal.Width &lt;dbl&gt; | Petal.Length &lt;dbl&gt; | Petal.Width &lt;dbl&gt; | Species &lt;fct&gt; |\n|---|---|---|---|---|---|\n| 1 | 5.1 | 3.5 | 1.4 | 0.2 | setosa |\n| 2 | 4.9 | 3.0 | 1.4 | 0.2 | setosa |\n| 3 | 4.7 | 3.2 | 1.3 | 0.2 | setosa |\n| 4 | 4.6 | 3.1 | 1.5 | 0.2 | setosa |\n| 5 | 5.0 | 3.6 | 1.4 | 0.2 | setosa |\n| 6 | 5.4 | 3.9 | 1.7 | 0.4 | setosa |\n\n",
            "text/html": [
              "<table class=\"dataframe\">\n",
              "<caption>A data.frame: 6 × 5</caption>\n",
              "<thead>\n",
              "\t<tr><th></th><th scope=col>Sepal.Length</th><th scope=col>Sepal.Width</th><th scope=col>Petal.Length</th><th scope=col>Petal.Width</th><th scope=col>Species</th></tr>\n",
              "\t<tr><th></th><th scope=col>&lt;dbl&gt;</th><th scope=col>&lt;dbl&gt;</th><th scope=col>&lt;dbl&gt;</th><th scope=col>&lt;dbl&gt;</th><th scope=col>&lt;fct&gt;</th></tr>\n",
              "</thead>\n",
              "<tbody>\n",
              "\t<tr><th scope=row>1</th><td>5.1</td><td>3.5</td><td>1.4</td><td>0.2</td><td>setosa</td></tr>\n",
              "\t<tr><th scope=row>2</th><td>4.9</td><td>3.0</td><td>1.4</td><td>0.2</td><td>setosa</td></tr>\n",
              "\t<tr><th scope=row>3</th><td>4.7</td><td>3.2</td><td>1.3</td><td>0.2</td><td>setosa</td></tr>\n",
              "\t<tr><th scope=row>4</th><td>4.6</td><td>3.1</td><td>1.5</td><td>0.2</td><td>setosa</td></tr>\n",
              "\t<tr><th scope=row>5</th><td>5.0</td><td>3.6</td><td>1.4</td><td>0.2</td><td>setosa</td></tr>\n",
              "\t<tr><th scope=row>6</th><td>5.4</td><td>3.9</td><td>1.7</td><td>0.4</td><td>setosa</td></tr>\n",
              "</tbody>\n",
              "</table>\n"
            ]
          },
          "metadata": {}
        }
      ]
    },
    {
      "cell_type": "markdown",
      "metadata": {
        "id": "iFzNcGT22hHl"
      },
      "source": [
        "## Estimar o comprimento de pétala com base em um modelo linear "
      ]
    },
    {
      "cell_type": "markdown",
      "metadata": {
        "id": "-38mg_AW2v0_"
      },
      "source": [
        "### Regressão Simples"
      ]
    },
    {
      "cell_type": "code",
      "metadata": {
        "colab": {
          "base_uri": "https://localhost:8080/",
          "height": 437
        },
        "id": "lru7oHYZ2tGv",
        "outputId": "2dbedc98-d194-4b6b-8f99-5eb173b39245"
      },
      "source": [
        "plot(iris$Petal.Width , iris$Petal.Length)\n",
        "abline(lm(iris$Petal.Length ~ iris$Petal.Width), col='red')"
      ],
      "execution_count": 47,
      "outputs": [
        {
          "output_type": "display_data",
          "data": {
            "image/png": "[encoded data removed]",
            "text/plain": [
              "plot without title"
            ]
          },
          "metadata": {
            "image/png": {
              "width": 420,
              "height": 420
            }
          }
        }
      ]
    },
    {
      "cell_type": "code",
      "metadata": {
        "colab": {
          "base_uri": "https://localhost:8080/"
        },
        "id": "jXlefyoQ3Uv6",
        "outputId": "922305fb-7244-4e88-e01f-97ba535edd54"
      },
      "source": [
        "fit = lm( iris$Petal.Length ~ iris$Petal.Width )\n",
        "print(fit)"
      ],
      "execution_count": 49,
      "outputs": [
        {
          "output_type": "stream",
          "name": "stdout",
          "text": [
            "\n",
            "Call:\n",
            "lm(formula = iris$Petal.Length ~ iris$Petal.Width)\n",
            "\n",
            "Coefficients:\n",
            "     (Intercept)  iris$Petal.Width  \n",
            "           1.084             2.230  \n",
            "\n"
          ]
        }
      ]
    },
    {
      "cell_type": "markdown",
      "metadata": {
        "id": "WOYc7M9i3jdP"
      },
      "source": [
        "$$ \\text{iris.Petal.Length} = 2.23 * \\text{iris.Petal.Width} + 1.084$$"
      ]
    },
    {
      "cell_type": "code",
      "metadata": {
        "colab": {
          "base_uri": "https://localhost:8080/",
          "height": 323
        },
        "id": "KB8w25TX4ED6",
        "outputId": "a495cce4-5fc3-4017-b15a-8c2bb12fbd72"
      },
      "source": [
        "summary(fit)"
      ],
      "execution_count": 50,
      "outputs": [
        {
          "output_type": "display_data",
          "data": {
            "text/plain": [
              "\n",
              "Call:\n",
              "lm(formula = iris$Petal.Length ~ iris$Petal.Width)\n",
              "\n",
              "Residuals:\n",
              "     Min       1Q   Median       3Q      Max \n",
              "-1.33542 -0.30347 -0.02955  0.25776  1.39453 \n",
              "\n",
              "Coefficients:\n",
              "                 Estimate Std. Error t value Pr(>|t|)    \n",
              "(Intercept)       1.08356    0.07297   14.85   <2e-16 ***\n",
              "iris$Petal.Width  2.22994    0.05140   43.39   <2e-16 ***\n",
              "---\n",
              "Signif. codes:  0 ‘***’ 0.001 ‘**’ 0.01 ‘*’ 0.05 ‘.’ 0.1 ‘ ’ 1\n",
              "\n",
              "Residual standard error: 0.4782 on 148 degrees of freedom\n",
              "Multiple R-squared:  0.9271,\tAdjusted R-squared:  0.9266 \n",
              "F-statistic:  1882 on 1 and 148 DF,  p-value: < 2.2e-16\n"
            ]
          },
          "metadata": {}
        }
      ]
    },
    {
      "cell_type": "code",
      "metadata": {
        "colab": {
          "base_uri": "https://localhost:8080/",
          "height": 340
        },
        "id": "HECUlCrE4d5o",
        "outputId": "b0811c3c-6884-46cf-bca0-70d68043fb4a"
      },
      "source": [
        "fit = lm( iris$Petal.Length ~ iris$Petal.Width + iris$Sepal.Width )\n",
        "summary(fit)"
      ],
      "execution_count": 52,
      "outputs": [
        {
          "output_type": "display_data",
          "data": {
            "text/plain": [
              "\n",
              "Call:\n",
              "lm(formula = iris$Petal.Length ~ iris$Petal.Width + iris$Sepal.Width)\n",
              "\n",
              "Residuals:\n",
              "     Min       1Q   Median       3Q      Max \n",
              "-1.33753 -0.29251 -0.00989  0.21447  1.24707 \n",
              "\n",
              "Coefficients:\n",
              "                 Estimate Std. Error t value Pr(>|t|)    \n",
              "(Intercept)       2.25816    0.31352   7.203 2.84e-11 ***\n",
              "iris$Petal.Width  2.15561    0.05283  40.804  < 2e-16 ***\n",
              "iris$Sepal.Width -0.35503    0.09239  -3.843  0.00018 ***\n",
              "---\n",
              "Signif. codes:  0 ‘***’ 0.001 ‘**’ 0.01 ‘*’ 0.05 ‘.’ 0.1 ‘ ’ 1\n",
              "\n",
              "Residual standard error: 0.4574 on 147 degrees of freedom\n",
              "Multiple R-squared:  0.9338,\tAdjusted R-squared:  0.9329 \n",
              "F-statistic:  1036 on 2 and 147 DF,  p-value: < 2.2e-16\n"
            ]
          },
          "metadata": {}
        }
      ]
    },
    {
      "cell_type": "markdown",
      "metadata": {
        "id": "-UpP8IBV4u0p"
      },
      "source": [
        "$$ \\text{iris.Petal.Length} = 2.15 * \\text{iris.Petal.Width} + -0.35 * \\text{iris.Sepal.Width} + 2.25$$\n",
        "\n",
        "Coeficiente de determinação:\n",
        "$$ R2 = 0.9329 $$ "
      ]
    },
    {
      "cell_type": "markdown",
      "metadata": {
        "id": "TGkBj7WD1Bx_"
      },
      "source": [
        "# **Predição de Classes**: Regressão Logística, Knn, Árvores de Decisão"
      ]
    },
    {
      "cell_type": "markdown",
      "metadata": {
        "id": "k4l5m7sj5rp9"
      },
      "source": [
        "<img src=\"https://github.com/Rogerio-mack/Ciencia-de-Dados-e-Aprendizado-de-Maquina/blob/main/figuras/linearregressionlogitbreast2.PNG?raw=true\" width=1200, align=\"right\"> "
      ]
    },
    {
      "cell_type": "code",
      "metadata": {
        "colab": {
          "base_uri": "https://localhost:8080/"
        },
        "id": "qV5z8o3w0Uyy",
        "outputId": "f24dfdd3-472d-41b1-d0db-c7798043f690"
      },
      "source": [
        "library(rpart)\n",
        "\n",
        "#\n",
        "# set random generation\n",
        "#--------------------------------------------------------------------------\n",
        "RNGversion(3.5)\n",
        "set.seed(1984)\n",
        "\n",
        "#\n",
        "# build train and test sets\n",
        "#--------------------------------------------------------------------------\n",
        "L= sample(1:nrow(iris),round(nrow(iris)/3))\n",
        "test = iris[L, ]      \n",
        "train = iris[-L, ]\n",
        "\n",
        "#\n",
        "# model train\n",
        "#--------------------------------------------------------------------------\n",
        "# sintaxe:\n",
        "# fit = rpart( <formula>, data=<data> )\n",
        "# formula: <output1> ~ <input1> + <input2> + ... + <inputn>\n",
        "\n",
        "fit = rpart(Species ~ Sepal.Length + Sepal.Width + Petal.Length + Petal.Width, data = iris )\n",
        "print(fit)\n",
        "\n",
        "#\n",
        "# predict values\n",
        "#--------------------------------------------------------------------------\n",
        "\n",
        "pred = predict(fit,test,type='class')\n",
        "print(pred)\n",
        "\n",
        "#\n",
        "# confusion matrix\n",
        "#--------------------------------------------------------------------------\n",
        "c_matrix = table(test$Species, pred)\n",
        "print(c_matrix)\n",
        "\n",
        "cat(\"Acuracidade = \" , 100 * sum(diag(c_matrix))/sum(c_matrix), \" % \")"
      ],
      "execution_count": 59,
      "outputs": [
        {
          "output_type": "stream",
          "name": "stderr",
          "text": [
            "Warning message in RNGkind(\"Mersenne-Twister\", \"Inversion\", \"Rounding\"):\n",
            "“non-uniform 'Rounding' sampler used”\n"
          ]
        },
        {
          "output_type": "stream",
          "name": "stdout",
          "text": [
            "n= 150 \n",
            "\n",
            "node), split, n, loss, yval, (yprob)\n",
            "      * denotes terminal node\n",
            "\n",
            "1) root 150 100 setosa (0.33333333 0.33333333 0.33333333)  \n",
            "  2) Petal.Length< 2.45 50   0 setosa (1.00000000 0.00000000 0.00000000) *\n",
            "  3) Petal.Length>=2.45 100  50 versicolor (0.00000000 0.50000000 0.50000000)  \n",
            "    6) Petal.Width< 1.75 54   5 versicolor (0.00000000 0.90740741 0.09259259) *\n",
            "    7) Petal.Width>=1.75 46   1 virginica (0.00000000 0.02173913 0.97826087) *\n",
            "        99         66         56         49        108        126          5 \n",
            "versicolor versicolor versicolor     setosa  virginica  virginica     setosa \n",
            "        65        118         31        124          2         98        150 \n",
            "versicolor  virginica     setosa  virginica     setosa versicolor  virginica \n",
            "        28          4         41         89        122         27         80 \n",
            "    setosa     setosa     setosa versicolor  virginica     setosa versicolor \n",
            "         1         79        110        101         20        106         72 \n",
            "    setosa versicolor  virginica  virginica     setosa  virginica versicolor \n",
            "        62         68        115         46        143         92        144 \n",
            "versicolor versicolor  virginica     setosa  virginica versicolor  virginica \n",
            "       147         63         35        116         26        137        141 \n",
            " virginica versicolor     setosa  virginica     setosa  virginica  virginica \n",
            "       123        134        136         71         85        119         51 \n",
            " virginica versicolor  virginica  virginica versicolor  virginica versicolor \n",
            "       142 \n",
            " virginica \n",
            "Levels: setosa versicolor virginica\n",
            "            pred\n",
            "             setosa versicolor virginica\n",
            "  setosa         13          0         0\n",
            "  versicolor      0         15         1\n",
            "  virginica       0          1        20\n",
            "Acuracidade =  96  % "
          ]
        }
      ]
    }
  ]
}