{
  "nbformat": 4,
  "nbformat_minor": 0,
  "metadata": {
    "colab": {
      "name": "CDA_A2.ipynb",
      "provenance": [],
      "include_colab_link": true
    },
    "kernelspec": {
      "name": "python3",
      "display_name": "Python 3"
    }
  },
  "cells": [
    {
      "cell_type": "markdown",
      "metadata": {
        "id": "view-in-github",
        "colab_type": "text"
      },
      "source": [
        "<a href=\"https://colab.research.google.com/github/Rogerio-mack/CDA_2021_2S/blob/main/CDA_A2.ipynb\" target=\"_parent\"><img src=\"https://colab.research.google.com/assets/colab-badge.svg\" alt=\"Open In Colab\"/></a>"
      ]
    },
    {
      "cell_type": "markdown",
      "metadata": {
        "id": "gglUriLmo1sR"
      },
      "source": [
        "<head>\n",
        "  <meta name=\"author\" content=\"Rogério de Oliveira\">\n",
        "  <meta institution=\"author\" content=\"Universidade Presbiteriana Mackenzie\">\n",
        "</head>\n",
        "\n",
        "<img src=\"http://meusite.mackenzie.br/rogerio/mackenzie_logo/UPM.2_horizontal_vermelho.jpg\" width=300, align=\"right\">\n",
        "<!-- <h1 align=left><font size = 6, style=\"color:rgb(200,0,0)\"> optional title </font></h1> -->"
      ]
    },
    {
      "cell_type": "markdown",
      "metadata": {
        "id": "TipeCaueKugr"
      },
      "source": [
        "# Exercícios \n",
        "\n",
        "Desenvolva os códigos em R para obter as respostas às perguntas sobre os dados e em seguida responda ao questionário correspondente no Moodle."
      ]
    },
    {
      "cell_type": "markdown",
      "metadata": {
        "id": "uR4S5KFKKzBc"
      },
      "source": [
        "# Exercício 1. **CASE** Seguros\n",
        "\n",
        "Considere a seguinte base de dados:\n",
        "\n",
        "http://meusite.mackenzie.br/rogerio/data_load/insurance.csv\n",
        "\n",
        "e responda as perguntas a seguir."
      ]
    },
    {
      "cell_type": "markdown",
      "metadata": {
        "id": "hpiml7poMZuL"
      },
      "source": [
        "# 1. Qual região apresenta maior número de segurados?"
      ]
    },
    {
      "cell_type": "markdown",
      "metadata": {
        "id": "VzICBOqsMkVz"
      },
      "source": [
        "# 2. Qual o percentual de segurados fumantes?"
      ]
    },
    {
      "cell_type": "markdown",
      "metadata": {
        "id": "N8gD3lO4MrLb"
      },
      "source": [
        "# 3. Qual o percentual de segurados fumantes do sexo feminino?"
      ]
    },
    {
      "cell_type": "markdown",
      "metadata": {
        "id": "5Lg3OlzUMzO6"
      },
      "source": [
        "# 4. Qual a média de despesas dos segurados com menos de 21 anos?"
      ]
    },
    {
      "cell_type": "markdown",
      "metadata": {
        "id": "2ayBWgi9NSL8"
      },
      "source": [
        "# 5. Qual o percentual de despesas (com relação ao total da base) para seguradas com idade < 25 anos? "
      ]
    },
    {
      "cell_type": "markdown",
      "metadata": {
        "id": "KWknHTxMO2q_"
      },
      "source": [
        "# Exercício 2. **CASE** Penguins\n",
        "\n",
        "Considere a seguinte base de dados:\n",
        "\n",
        "http://meusite.mackenzie.br/rogerio/data_load/penguins.csv\n",
        "\n",
        "e responda as perguntas a seguir."
      ]
    },
    {
      "cell_type": "markdown",
      "metadata": {
        "id": "UxFXlEE_PM7L"
      },
      "source": [
        "# 1. Qual o percentual da espécie de pinguins mais frequente?\n",
        "\n",
        "**Dica**: Faça por etapas, você não precisa fazer em um único comando"
      ]
    },
    {
      "cell_type": "markdown",
      "metadata": {
        "id": "6vXNhPNqPDas"
      },
      "source": [
        "# 2. Verifique a média de peso (`body_mass_g`) dos pinguins Gentoo por sexo. Qual a média de peso para o sexo Feminino?\n",
        "\n",
        "**Dica**: Faça por etapas, você não precisa fazer em um único comando"
      ]
    },
    {
      "cell_type": "markdown",
      "metadata": {
        "id": "ojbrWlXrRv87"
      },
      "source": [
        "# 3. Qual o percentual de pinguins com peso (`body_mass_g`) acima da média? "
      ]
    },
    {
      "cell_type": "markdown",
      "metadata": {
        "id": "_5G3BrLnvA6M"
      },
      "source": [
        "# 4. Qual a altura (`bill_length_mm`) média dos pinguins Gentoo com peso acima da média da mesma espécie?\n",
        "\n",
        "**Dica**: Faça por etapas, você não precisa fazer em um único comando"
      ]
    },
    {
      "cell_type": "markdown",
      "metadata": {
        "id": "yfySs_bwWMzE"
      },
      "source": [
        "# 5. Qual o peso (`body_mass_g`) médio dos pinguins dentre os 90% mais pesados?\n",
        "\n",
        "**Dica**: Empregue `>= quantile()`  "
      ]
    },
    {
      "cell_type": "markdown",
      "metadata": {
        "id": "7OvPX2mVTL6E"
      },
      "source": [
        "# Exercício 3. **CASE** Police Shootings\n",
        "\n",
        "Considere a seguinte base de dados:\n",
        "\n",
        "http://meusite.mackenzie.br/rogerio/data_load/fatal-police-shootings-data.csv\n",
        "\n",
        "e responda as perguntas a seguir."
      ]
    },
    {
      "cell_type": "markdown",
      "metadata": {
        "id": "JaDYZ2wsdjs8"
      },
      "source": [
        "# 1. Qual o percentual de casos filmados (com `body_camera`)?"
      ]
    },
    {
      "cell_type": "markdown",
      "metadata": {
        "id": "9u06Wp4IeHzk"
      },
      "source": [
        "# 2. Quais são (em média) as vítimas mais jovens, Mulheres Brancas ou Homens Negros?\n",
        "\n",
        "**Dica**: Faça por etapas, você não precisa fazer em um único comando. Verifique antes os valores de `race` que vai querer empregar."
      ]
    },
    {
      "cell_type": "markdown",
      "metadata": {
        "id": "-81jyOCfevKv"
      },
      "source": [
        "# 3. Qual o total de envolvidos nos casos de violencia com Jovens de menos que 21 anos?\n",
        "\n",
        "**Dica**: Empregue o `sum()`"
      ]
    },
    {
      "cell_type": "markdown",
      "metadata": {
        "id": "zaN5VdZ4fn_1"
      },
      "source": [
        "# 4. O valor anterior é que percentual do total de envolvidos em todos os casos?"
      ]
    },
    {
      "cell_type": "markdown",
      "metadata": {
        "id": "uYm40L9rVwxP"
      },
      "source": [
        "# 5. Qual o percentual de vítimas Negras e Brancas?"
      ]
    }
  ]
}